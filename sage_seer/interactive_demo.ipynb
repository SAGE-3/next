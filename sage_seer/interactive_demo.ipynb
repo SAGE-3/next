{
 "cells": [
  {
   "cell_type": "code",
   "execution_count": null,
   "id": "65d4da88-fd95-43c0-adbd-a79770f0fe3c",
   "metadata": {},
   "outputs": [],
   "source": [
    "# TODO: test taht ps3.get_pdf_text(asset_url) is working as expected.\n"
   ]
  },
  {
   "cell_type": "code",
   "execution_count": null,
   "id": "a8b99c2b-dad1-43e8-835a-36a1700bbeb0",
   "metadata": {},
   "outputs": [],
   "source": [
    "# !pip uninstall -y foresight\n",
    "#!pip install git+https://github.com/SAGE-3/next.git@dev#subdirectory=foresight"
   ]
  },
  {
   "cell_type": "code",
   "execution_count": null,
   "id": "9e9cbbcd-1b29-45a1-b02f-6991fc15a094",
   "metadata": {},
   "outputs": [],
   "source": [
    "# !pip install langchain_openai\n",
    "# !pip install langchain"
   ]
  },
  {
   "cell_type": "code",
   "execution_count": null,
   "id": "624f6feb-9cc4-4ecf-8863-b64745f26298",
   "metadata": {},
   "outputs": [],
   "source": [
    "PROMPTS_DIR = \"src/prompts/\"\n"
   ]
  },
  {
   "cell_type": "code",
   "execution_count": 1,
   "id": "4b047d01-15c8-494c-b676-52fe4e0cf6be",
   "metadata": {},
   "outputs": [],
   "source": [
    "import copy\n",
    "keys_to_remove = ['_id', '_createdAt', '_createdBy', '_updatedAt', '_updatedBy',\n",
    "    'touched', 'executeInfo', 'path', 'raised', \n",
    "    'title', 'roomId', 'boardId', 'lock', 'dragging', 'pinned', 'rotation'\n",
    "]\n",
    "def remove_keys_from_dict(app_dict, keys_to_remove):\n",
    "    def _remove_keys_from_dict(d, keys_to_remove):\n",
    "        if isinstance(d, dict):\n",
    "            for key in list(d.keys()):  # Use list() to avoid 'dictionary changed size during iteration' error\n",
    "                if key in keys_to_remove:\n",
    "                    del d[key]\n",
    "                else:\n",
    "                    _remove_keys_from_dict(d[key], keys_to_remove)\n",
    "        elif isinstance(d, list):\n",
    "            for item in d:\n",
    "                _remove_keys_from_dict(item, keys_to_remove)\n",
    "\n",
    "    # Create a deep copy of the input dictionary\n",
    "    app_dict_copy = copy.deepcopy(app_dict)\n",
    "    # Remove keys from the copied dictionary\n",
    "    _remove_keys_from_dict(app_dict_copy, keys_to_remove)\n",
    "    return app_dict_copy\n"
   ]
  },
  {
   "cell_type": "code",
   "execution_count": 2,
   "id": "06c1f2c4-f930-4b1a-a721-0d02f9cb295f",
   "metadata": {},
   "outputs": [],
   "source": [
    "import sys\n",
    "sys.path.append(\"/Users/mahdi/Documents/GitHub/next/foresight/\")\n",
    "# from src.config import config as conf, prod_type\n",
    "from foresight.Sage3Sugar.pysage3 import PySage3\n",
    "from src.prompts.prompt_loader import PromptLoader \n",
    "from langchain_openai import ChatOpenAI\n"
   ]
  },
  {
   "cell_type": "code",
   "execution_count": 6,
   "id": "0f3e7926-eeba-4698-88e8-20203d3c2556",
   "metadata": {},
   "outputs": [],
   "source": [
    "prod_type= 'local'\n",
    "conf = {'local': {'seer_server': 'http://127.0.0.1:5002',\n",
    "  'jupyter_server': 'http://localhost:8888',\n",
    "  'redis_server': 'localhost',\n",
    "  'web_server': 'http://localhost:3333',\n",
    "  'ws_server': 'ws://localhost:3333'}}\n",
    "room_id = 'd6640933-7b9f-4536-a263-02a514ff092a'\n",
    "board_id = '02fc98df-b4f1-470c-8516-7221c3095de7'\n",
    "# app_id = '4a29b8bf-9e72-4366-8946-d808e2e3d465'"
   ]
  },
  {
   "cell_type": "code",
   "execution_count": 4,
   "id": "36ebeed7-3d20-4453-aade-d2e15e6fe9d8",
   "metadata": {},
   "outputs": [
    {
     "name": "stdout",
     "output_type": "stream",
     "text": [
      "Configuring ps3 client ... \n",
      "I am here and app_info is {'_id': 'b18bd2d2-0840-40c9-bfc8-5970e5558c6c', '_createdAt': 1716848041212, '_createdBy': 'a70dd455-b081-4212-844b-5f3b509e42ee', '_updatedAt': 1716848068082, '_updatedBy': 'a70dd455-b081-4212-844b-5f3b509e42ee', 'data': {'title': 'Mahdi Bel-caid', 'roomId': 'd6640933-7b9f-4536-a263-02a514ff092a', 'boardId': '02fc98df-b4f1-470c-8516-7221c3095de7', 'position': {'x': 1500286, 'y': 1500222, 'z': 0}, 'size': {'width': 400, 'height': 420, 'depth': 0}, 'rotation': {'x': 0, 'y': 0, 'z': 0}, 'type': 'Stickie', 'state': {'text': 'test yellow', 'fontSize': 36, 'color': 'yellow', 'lock': False, 'executeInfo': {'executeFunc': '', 'params': {}}}, 'raised': False, 'dragging': False, 'pinned': False}}\n",
      "I am here and app_info is {'_id': '96fa5557-16ee-4597-8708-bca17c6c7c02', '_createdAt': 1716848067418, '_createdBy': 'a70dd455-b081-4212-844b-5f3b509e42ee', '_updatedAt': 1716848082391, '_updatedBy': 'a70dd455-b081-4212-844b-5f3b509e42ee', 'data': {'title': 'Mahdi Bel-caid', 'roomId': 'd6640933-7b9f-4536-a263-02a514ff092a', 'boardId': '02fc98df-b4f1-470c-8516-7221c3095de7', 'position': {'x': 1500761, 'y': 1500217, 'z': 0}, 'size': {'width': 400, 'height': 420, 'depth': 0}, 'rotation': {'x': 0, 'y': 0, 'z': 0}, 'type': 'Stickie', 'state': {'text': 'test red', 'fontSize': 36, 'color': 'red', 'lock': False, 'executeInfo': {'executeFunc': '', 'params': {}}}, 'raised': True, 'dragging': False, 'pinned': False}}\n",
      "Completed configuring Sage3 Client\n"
     ]
    }
   ],
   "source": [
    "ps3 = PySage3(conf, prod_type)\n",
    "cb = ps3.rooms['d6640933-7b9f-4536-a263-02a514ff092a'].boards['02fc98df-b4f1-470c-8516-7221c3095de7']"
   ]
  },
  {
   "cell_type": "code",
   "execution_count": null,
   "id": "c1977f6f-0d24-4f31-bee2-d5fa001e30c6",
   "metadata": {},
   "outputs": [],
   "source": [
    "llm_4o = ChatOpenAI(temperature=0.1, model=\"gpt-4o\")\n",
    "#llm_4o.invoke(\"hello\")"
   ]
  },
  {
   "cell_type": "code",
   "execution_count": 9,
   "id": "aa48b9e5-b17e-4e47-bd83-25c583f49807",
   "metadata": {},
   "outputs": [
    {
     "data": {
      "text/plain": [
       "[{'_id': 'b18bd2d2-0840-40c9-bfc8-5970e5558c6c',\n",
       "  '_createdAt': 1716848041212,\n",
       "  '_createdBy': 'a70dd455-b081-4212-844b-5f3b509e42ee',\n",
       "  '_updatedAt': 1716848068082,\n",
       "  '_updatedBy': 'a70dd455-b081-4212-844b-5f3b509e42ee',\n",
       "  'data': {'title': 'Mahdi Bel-caid',\n",
       "   'roomId': 'd6640933-7b9f-4536-a263-02a514ff092a',\n",
       "   'boardId': '02fc98df-b4f1-470c-8516-7221c3095de7',\n",
       "   'position': {'x': 1500286, 'y': 1500222, 'z': 0},\n",
       "   'size': {'width': 400, 'height': 420, 'depth': 0},\n",
       "   'rotation': {'x': 0, 'y': 0, 'z': 0},\n",
       "   'type': 'Stickie',\n",
       "   'state': {'text': 'test yellow',\n",
       "    'fontSize': 36,\n",
       "    'color': 'yellow',\n",
       "    'lock': False,\n",
       "    'executeInfo': {'executeFunc': '', 'params': {}}},\n",
       "   'raised': False,\n",
       "   'dragging': False,\n",
       "   'pinned': False}},\n",
       " {'_id': '96fa5557-16ee-4597-8708-bca17c6c7c02',\n",
       "  '_createdAt': 1716848067418,\n",
       "  '_createdBy': 'a70dd455-b081-4212-844b-5f3b509e42ee',\n",
       "  '_updatedAt': 1716848082391,\n",
       "  '_updatedBy': 'a70dd455-b081-4212-844b-5f3b509e42ee',\n",
       "  'data': {'title': 'Mahdi Bel-caid',\n",
       "   'roomId': 'd6640933-7b9f-4536-a263-02a514ff092a',\n",
       "   'boardId': '02fc98df-b4f1-470c-8516-7221c3095de7',\n",
       "   'position': {'x': 1500761, 'y': 1500217, 'z': 0},\n",
       "   'size': {'width': 400, 'height': 420, 'depth': 0},\n",
       "   'rotation': {'x': 0, 'y': 0, 'z': 0},\n",
       "   'type': 'Stickie',\n",
       "   'state': {'text': 'test red',\n",
       "    'fontSize': 36,\n",
       "    'color': 'red',\n",
       "    'lock': False,\n",
       "    'executeInfo': {'executeFunc': '', 'params': {}}},\n",
       "   'raised': True,\n",
       "   'dragging': False,\n",
       "   'pinned': False}}]"
      ]
     },
     "execution_count": 9,
     "metadata": {},
     "output_type": "execute_result"
    }
   ],
   "source": [
    "ps3.get_apps(room_id, board_id)"
   ]
  },
  {
   "cell_type": "code",
   "execution_count": null,
   "id": "f275771d-36dd-479c-abe2-53b34b43c776",
   "metadata": {},
   "outputs": [],
   "source": [
    "example_prompt = PromptLoader.create_prompt(PROMPTS_DIR, \"few_shot\", \"reframe_select_apps\")\n",
    "q = 'Can you delete all the red stickies with a greeting or hello'\n",
    "# prompt_text = example_prompt.format(query=q)\n",
    "(example_prompt | llm_4o).invoke({\"query\":q})"
   ]
  },
  {
   "cell_type": "code",
   "execution_count": null,
   "id": "bdc427d2-58fb-4d95-a06f-c03b91851972",
   "metadata": {},
   "outputs": [],
   "source": [
    "all_apps = [remove_keys_from_dict(x, keys_to_remove) for x in ps3.get_apps()]\n",
    "all_apps"
   ]
  },
  {
   "cell_type": "code",
   "execution_count": null,
   "id": "66027896-b8a6-45ba-b2ad-da8c6ab62146",
   "metadata": {},
   "outputs": [],
   "source": [
    "example_prompt = PromptLoader.create_prompt(PROMPTS_DIR, \"few_shot\", \"select_apps\")\n",
    "q = 'Can you delete all the red stickies with a greeting or hello'\n",
    "prompt_text = example_prompt.format(originalItems=all_apps, query=q)\n",
    "print(prompt_text)\n"
   ]
  }
 ],
 "metadata": {
  "kernelspec": {
   "display_name": "Python 3 (ipykernel)",
   "language": "python",
   "name": "python3"
  },
  "language_info": {
   "codemirror_mode": {
    "name": "ipython",
    "version": 3
   },
   "file_extension": ".py",
   "mimetype": "text/x-python",
   "name": "python",
   "nbconvert_exporter": "python",
   "pygments_lexer": "ipython3",
   "version": "3.10.14"
  }
 },
 "nbformat": 4,
 "nbformat_minor": 5
}
