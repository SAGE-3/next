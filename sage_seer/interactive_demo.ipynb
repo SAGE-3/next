{
 "cells": [
  {
   "cell_type": "code",
   "execution_count": null,
   "id": "a8b99c2b-dad1-43e8-835a-36a1700bbeb0",
   "metadata": {},
   "outputs": [],
   "source": [
    "# !pip uninstall -y foresight\n",
    "#!pip install git+https://github.com/SAGE-3/next.git@dev#subdirectory=foresight"
   ]
  },
  {
   "cell_type": "code",
   "execution_count": null,
   "id": "9e9cbbcd-1b29-45a1-b02f-6991fc15a094",
   "metadata": {},
   "outputs": [],
   "source": [
    "# !pip install langchain_openai\n",
    "# !pip install langchain"
   ]
  },
  {
   "cell_type": "code",
   "execution_count": 2,
   "id": "06c1f2c4-f930-4b1a-a721-0d02f9cb295f",
   "metadata": {},
   "outputs": [],
   "source": [
    "import sys\n",
    "sys.path.append(\"/Users/mahdi/Documents/GitHub/next/foresight/\")\n",
    "# from src.config import config as conf, prod_type\n",
    "from foresight.Sage3Sugar.pysage3 import PySage3\n",
    "from src.prompts.prompt_loader import PromptLoader \n",
    "from langchain_openai import ChatOpenAI\n"
   ]
  },
  {
   "cell_type": "code",
   "execution_count": null,
   "id": "0f3e7926-eeba-4698-88e8-20203d3c2556",
   "metadata": {},
   "outputs": [],
   "source": [
    "prod_type= 'local'\n",
    "conf = {'local': {'seer_server': 'http://127.0.0.1:5002',\n",
    "  'jupyter_server': 'http://localhost:8888',\n",
    "  'redis_server': 'localhost',\n",
    "  'web_server': 'http://localhost:3333',\n",
    "  'ws_server': 'ws://localhost:3333'}}\n",
    "# room_id = '09073d6d-6d79-4c98-bbea-4dd82106c098'\n",
    "# board_id = '68993aeb-0ee6-4f95-b461-0f918fc7d969'\n",
    "# app_id = '4a29b8bf-9e72-4366-8946-d808e2e3d465'"
   ]
  },
  {
   "cell_type": "code",
   "execution_count": null,
   "id": "36ebeed7-3d20-4453-aade-d2e15e6fe9d8",
   "metadata": {},
   "outputs": [],
   "source": [
    "ps3 = PySage3(conf, prod_type)\n",
    "cb = ps3.rooms['e3233abf-a47b-4c16-81ec-c6e985c67a5a'].boards['479d5114-a017-4b6e-973d-8933c46b8837']"
   ]
  },
  {
   "cell_type": "code",
   "execution_count": 8,
   "id": "c1977f6f-0d24-4f31-bee2-d5fa001e30c6",
   "metadata": {},
   "outputs": [],
   "source": [
    "llm_4o = ChatOpenAI(temperature=0.1, model=\"gpt-4o\")\n",
    "#llm_4o.invoke(\"hello\")"
   ]
  },
  {
   "cell_type": "code",
   "execution_count": null,
   "id": "11d6c7d9-6e6c-4c5a-8b0f-abb5ef4b4aa5",
   "metadata": {},
   "outputs": [],
   "source": []
  },
  {
   "cell_type": "code",
   "execution_count": null,
   "id": "2a5f5179-f37a-49de-b8e5-ad60a9de0eb5",
   "metadata": {},
   "outputs": [],
   "source": []
  },
  {
   "cell_type": "code",
   "execution_count": null,
   "id": "546cc3af-430a-4dbb-a467-c085eaac7f0a",
   "metadata": {},
   "outputs": [],
   "source": []
  },
  {
   "cell_type": "code",
   "execution_count": null,
   "id": "130a0a38-485a-4d27-890c-fab1aa1f5bbf",
   "metadata": {},
   "outputs": [],
   "source": []
  },
  {
   "cell_type": "code",
   "execution_count": null,
   "id": "c3172ed0-c147-4cfc-bd90-e736e6fa17ab",
   "metadata": {},
   "outputs": [],
   "source": []
  },
  {
   "cell_type": "code",
   "execution_count": null,
   "id": "3c9cca15-caed-4cd1-bf32-77e180f7d421",
   "metadata": {},
   "outputs": [],
   "source": []
  },
  {
   "cell_type": "code",
   "execution_count": null,
   "id": "fe6a0639-d53c-45ea-a934-8b0f72d088f4",
   "metadata": {},
   "outputs": [],
   "source": []
  },
  {
   "cell_type": "code",
   "execution_count": null,
   "id": "15a8ae3e-fa6f-404c-b513-53f4cd9965d8",
   "metadata": {},
   "outputs": [],
   "source": []
  },
  {
   "cell_type": "code",
   "execution_count": null,
   "id": "aa48b9e5-b17e-4e47-bd83-25c583f49807",
   "metadata": {},
   "outputs": [],
   "source": []
  },
  {
   "cell_type": "code",
   "execution_count": 5,
   "id": "f275771d-36dd-479c-abe2-53b34b43c776",
   "metadata": {},
   "outputs": [
    {
     "data": {
      "text/plain": [
       "FewShotPromptTemplate(input_variables=['query'], partial_variables={'format_instructions': 'The output should be formatted as a JSON instance that conforms to the JSON schema below.\\n\\nAs an example, for the schema {\"properties\": {\"foo\": {\"title\": \"Foo\", \"description\": \"a list of strings\", \"type\": \"array\", \"items\": {\"type\": \"string\"}}}, \"required\": [\"foo\"]}\\nthe object {\"foo\": [\"bar\", \"baz\"]} is a well-formatted instance of the schema. The object {\"properties\": {\"foo\": [\"bar\", \"baz\"]}} is not well-formatted.\\n\\nHere is the output schema:\\n```\\n{\"properties\": {\"updated_query\": {\"title\": \"Updated Query\", \"description\": \"The new reframed query str describing the items referenced in this query\", \"type\": \"string\"}}, \"required\": [\"updated_query\"]}\\n```'}, examples=[{'example_query': 'Can you summarize all the red stickies', 'example_updated_query': 'Select the red stickies'}, {'example_query': 'Can you delete all the pdf files', 'example_updated_query': 'Select the pdf files'}, {'example_query': 'Can you change the color of purple stickies to red', 'example_updated_query': 'select purple stickies'}], example_prompt=PromptTemplate(input_variables=['example_query', 'example_updated_query'], template='query: {example_query}\\nupdated_query: {example_updated_query}\\n'), suffix='query: {query}\\n', example_separator='\\n', prefix='You are a meta-agent that needs to instruct a specialized agent to select the items to which a\\nquery applies in a new updated_query. The new_updated query serves to identify the items which are first loaded.\\nA second agent then completes the desired action.\\n\\n{format_instructions}\\n\\nExamples:')"
      ]
     },
     "execution_count": 5,
     "metadata": {},
     "output_type": "execute_result"
    }
   ],
   "source": [
    "example_prompt = PromptLoader.create_prompt(\"src/prompts/\", \"few_shot\", \"reframe_select_apps\")\n",
    "example_prompt"
   ]
  },
  {
   "cell_type": "code",
   "execution_count": 14,
   "id": "84a644bc-6328-4c65-a5d7-6587d032ee4d",
   "metadata": {},
   "outputs": [
    {
     "name": "stdout",
     "output_type": "stream",
     "text": [
      "You are a meta-agent that needs to instruct a specialized agent to select the items to which a\n",
      "query applies in a new updated_query. The new_updated query serves to identify the items which are first loaded.\n",
      "A second agent then completes the desired action.\n",
      "\n",
      "The output should be formatted as a JSON instance that conforms to the JSON schema below.\n",
      "\n",
      "As an example, for the schema {\"properties\": {\"foo\": {\"title\": \"Foo\", \"description\": \"a list of strings\", \"type\": \"array\", \"items\": {\"type\": \"string\"}}}, \"required\": [\"foo\"]}\n",
      "the object {\"foo\": [\"bar\", \"baz\"]} is a well-formatted instance of the schema. The object {\"properties\": {\"foo\": [\"bar\", \"baz\"]}} is not well-formatted.\n",
      "\n",
      "Here is the output schema:\n",
      "```\n",
      "{\"properties\": {\"updated_query\": {\"title\": \"Updated Query\", \"description\": \"The new reframed query str describing the items referenced in this query\", \"type\": \"string\"}}, \"required\": [\"updated_query\"]}\n",
      "```\n",
      "\n",
      "Examples:\n",
      "query: Can you summarize all the red stickies\n",
      "updated_query: Select the red stickies\n",
      "\n",
      "query: Can you delete all the pdf files\n",
      "updated_query: Select the pdf files\n",
      "\n",
      "query: Can you change the color of purple stickies to red\n",
      "updated_query: select purple stickies\n",
      "\n",
      "query: Can you delete all the red stickies with a greeting or hello\n",
      "\n"
     ]
    }
   ],
   "source": [
    "q = 'Can you delete all the red stickies with a greeting or hello'\n",
    "prompt_text = example_prompt.format(query=q)\n",
    "print(prompt_text)"
   ]
  },
  {
   "cell_type": "code",
   "execution_count": 15,
   "id": "7f805a54-aad9-4ba3-a5cc-4f3460705217",
   "metadata": {},
   "outputs": [
    {
     "data": {
      "text/plain": [
       "AIMessage(content='```json\\n{\\n  \"updated_query\": \"Select the red stickies with a greeting or hello\"\\n}\\n```', response_metadata={'token_usage': {'completion_tokens': 23, 'prompt_tokens': 302, 'total_tokens': 325}, 'model_name': 'gpt-4o', 'system_fingerprint': 'fp_43dfabdef1', 'finish_reason': 'stop', 'logprobs': None}, id='run-708ac5d4-efd0-418c-8307-bbe7d1b6725c-0')"
      ]
     },
     "execution_count": 15,
     "metadata": {},
     "output_type": "execute_result"
    }
   ],
   "source": [
    "(example_prompt | llm_4o).invoke({\"query\":q})"
   ]
  },
  {
   "cell_type": "code",
   "execution_count": null,
   "id": "c90f0cbb-21f5-4b2a-9bac-d8e39a20e336",
   "metadata": {},
   "outputs": [],
   "source": []
  }
 ],
 "metadata": {
  "kernelspec": {
   "display_name": "Python 3 (ipykernel)",
   "language": "python",
   "name": "python3"
  },
  "language_info": {
   "codemirror_mode": {
    "name": "ipython",
    "version": 3
   },
   "file_extension": ".py",
   "mimetype": "text/x-python",
   "name": "python",
   "nbconvert_exporter": "python",
   "pygments_lexer": "ipython3",
   "version": "3.8.11"
  }
 },
 "nbformat": 4,
 "nbformat_minor": 5
}
