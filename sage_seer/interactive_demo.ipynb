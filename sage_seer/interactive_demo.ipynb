{
 "cells": [
  {
   "cell_type": "code",
   "execution_count": 28,
   "id": "3ef4ce3b-a88a-4a53-914f-9bbc55b4862e",
   "metadata": {},
   "outputs": [],
   "source": [
    "# ls /Users/mahdi/Documents/GitHub/next/foresight/foresight/Sage3Sugar\n"
   ]
  },
  {
   "cell_type": "code",
   "execution_count": 27,
   "id": "bce11910-3dba-4e04-b96a-b94aa0e0d75e",
   "metadata": {},
   "outputs": [],
   "source": [
    "# pip install /Users/mahdi/Documents/GitHub/next/foresight/ -U"
   ]
  },
  {
   "cell_type": "code",
   "execution_count": 1,
   "id": "9e9cbbcd-1b29-45a1-b02f-6991fc15a094",
   "metadata": {},
   "outputs": [],
   "source": [
    "# !pip install langchain_openai\n",
    "# !pip install langchain"
   ]
  },
  {
   "cell_type": "code",
   "execution_count": 29,
   "id": "06c1f2c4-f930-4b1a-a721-0d02f9cb295f",
   "metadata": {},
   "outputs": [],
   "source": [
    "from src.config import config as conf, prod_type\n",
    "from foresight.Sage3Sugar.pysage3 import PySage3\n",
    "\n",
    "from langchain_openai import ChatOpenAI"
   ]
  },
  {
   "cell_type": "code",
   "execution_count": null,
   "id": "0f3e7926-eeba-4698-88e8-20203d3c2556",
   "metadata": {},
   "outputs": [],
   "source": [
    "prod_type= 'local'\n",
    "conf = {'local': {'seer_server': 'http://127.0.0.1:5002',\n",
    "  'jupyter_server': 'http://localhost:8888',\n",
    "  'redis_server': 'localhost',\n",
    "  'web_server': 'http://localhost:3333',\n",
    "  'ws_server': 'ws://localhost:3333'}}\n",
    "# room_id = '09073d6d-6d79-4c98-bbea-4dd82106c098'\n",
    "# board_id = '68993aeb-0ee6-4f95-b461-0f918fc7d969'\n",
    "# app_id = '4a29b8bf-9e72-4366-8946-d808e2e3d465'"
   ]
  },
  {
   "cell_type": "code",
   "execution_count": 30,
   "id": "36ebeed7-3d20-4453-aade-d2e15e6fe9d8",
   "metadata": {},
   "outputs": [
    {
     "name": "stdout",
     "output_type": "stream",
     "text": [
      "Configuring ps3 client ... \n"
     ]
    },
    {
     "ename": "KeyError",
     "evalue": "'state'",
     "output_type": "error",
     "traceback": [
      "\u001b[0;31m---------------------------------------------------------------------------\u001b[0m",
      "\u001b[0;31mKeyError\u001b[0m                                  Traceback (most recent call last)",
      "Cell \u001b[0;32mIn[30], line 1\u001b[0m\n\u001b[0;32m----> 1\u001b[0m ps3 \u001b[38;5;241m=\u001b[39m \u001b[43mPySage3\u001b[49m\u001b[43m(\u001b[49m\u001b[43mconf\u001b[49m\u001b[43m,\u001b[49m\u001b[43m \u001b[49m\u001b[43mprod_type\u001b[49m\u001b[43m)\u001b[49m\n\u001b[1;32m      2\u001b[0m cb \u001b[38;5;241m=\u001b[39m ps3\u001b[38;5;241m.\u001b[39mrooms[\u001b[38;5;124m'\u001b[39m\u001b[38;5;124m09073d6d-6d79-4c98-bbea-4dd82106c098\u001b[39m\u001b[38;5;124m'\u001b[39m]\u001b[38;5;241m.\u001b[39mboards[\u001b[38;5;124m'\u001b[39m\u001b[38;5;124m68993aeb-0ee6-4f95-b461-0f918fc7d969\u001b[39m\u001b[38;5;124m'\u001b[39m]\n\u001b[1;32m      3\u001b[0m \u001b[38;5;28mlist\u001b[39m(cb\u001b[38;5;241m.\u001b[39msmartbits)\n",
      "File \u001b[0;32m~/miniconda3/lib/python3.8/site-packages/foresight/Sage3Sugar/pysage3.py:49\u001b[0m, in \u001b[0;36mPySage3.__init__\u001b[0;34m(self, conf, prod_type)\u001b[0m\n\u001b[1;32m     47\u001b[0m \u001b[38;5;28mself\u001b[39m\u001b[38;5;241m.\u001b[39msocket\u001b[38;5;241m.\u001b[39msubscribe([\u001b[38;5;124m\"\u001b[39m\u001b[38;5;124m/api/apps\u001b[39m\u001b[38;5;124m\"\u001b[39m, \u001b[38;5;124m\"\u001b[39m\u001b[38;5;124m/api/rooms\u001b[39m\u001b[38;5;124m\"\u001b[39m, \u001b[38;5;124m\"\u001b[39m\u001b[38;5;124m/api/boards\u001b[39m\u001b[38;5;124m\"\u001b[39m])\n\u001b[1;32m     48\u001b[0m \u001b[38;5;66;03m# Grab and load info already on the board\u001b[39;00m\n\u001b[0;32m---> 49\u001b[0m \u001b[38;5;28;43mself\u001b[39;49m\u001b[38;5;241;43m.\u001b[39;49m\u001b[43m__populate_existing\u001b[49m\u001b[43m(\u001b[49m\u001b[43m)\u001b[49m\n\u001b[1;32m     50\u001b[0m \u001b[38;5;28mself\u001b[39m\u001b[38;5;241m.\u001b[39mroom \u001b[38;5;241m=\u001b[39m \u001b[38;5;28;01mNone\u001b[39;00m\n\u001b[1;32m     51\u001b[0m \u001b[38;5;28mself\u001b[39m\u001b[38;5;241m.\u001b[39mboard \u001b[38;5;241m=\u001b[39m \u001b[38;5;28;01mNone\u001b[39;00m\n",
      "File \u001b[0;32m~/miniconda3/lib/python3.8/site-packages/foresight/Sage3Sugar/pysage3.py:66\u001b[0m, in \u001b[0;36mPySage3.__populate_existing\u001b[0;34m(self)\u001b[0m\n\u001b[1;32m     64\u001b[0m apps_info \u001b[38;5;241m=\u001b[39m \u001b[38;5;28mself\u001b[39m\u001b[38;5;241m.\u001b[39ms3_comm\u001b[38;5;241m.\u001b[39mget_apps()\n\u001b[1;32m     65\u001b[0m \u001b[38;5;28;01mfor\u001b[39;00m app_info \u001b[38;5;129;01min\u001b[39;00m apps_info:\n\u001b[0;32m---> 66\u001b[0m     \u001b[38;5;28;43mself\u001b[39;49m\u001b[38;5;241;43m.\u001b[39;49m\u001b[43m__handle_create\u001b[49m\u001b[43m(\u001b[49m\u001b[38;5;124;43m\"\u001b[39;49m\u001b[38;5;124;43mAPPS\u001b[39;49m\u001b[38;5;124;43m\"\u001b[39;49m\u001b[43m,\u001b[49m\u001b[43m \u001b[49m\u001b[43mapp_info\u001b[49m\u001b[43m)\u001b[49m\n",
      "File \u001b[0;32m~/miniconda3/lib/python3.8/site-packages/foresight/Sage3Sugar/pysage3.py:159\u001b[0m, in \u001b[0;36mPySage3.__handle_create\u001b[0;34m(self, collection, doc)\u001b[0m\n\u001b[1;32m    157\u001b[0m         \u001b[38;5;28mself\u001b[39m\u001b[38;5;241m.\u001b[39mrooms[new_board\u001b[38;5;241m.\u001b[39mroomId]\u001b[38;5;241m.\u001b[39mboards[new_board\u001b[38;5;241m.\u001b[39mid] \u001b[38;5;241m=\u001b[39m new_board\n\u001b[1;32m    158\u001b[0m \u001b[38;5;28;01melif\u001b[39;00m collection \u001b[38;5;241m==\u001b[39m \u001b[38;5;124m\"\u001b[39m\u001b[38;5;124mAPPS\u001b[39m\u001b[38;5;124m\"\u001b[39m:\n\u001b[0;32m--> 159\u001b[0m     doc[\u001b[38;5;124m\"\u001b[39m\u001b[38;5;124mstate\u001b[39m\u001b[38;5;124m\"\u001b[39m] \u001b[38;5;241m=\u001b[39m \u001b[43mdoc\u001b[49m\u001b[43m[\u001b[49m\u001b[38;5;124;43m\"\u001b[39;49m\u001b[38;5;124;43mdata\u001b[39;49m\u001b[38;5;124;43m\"\u001b[39;49m\u001b[43m]\u001b[49m\u001b[43m[\u001b[49m\u001b[38;5;124;43m\"\u001b[39;49m\u001b[38;5;124;43mstate\u001b[39;49m\u001b[38;5;124;43m\"\u001b[39;49m\u001b[43m]\u001b[49m\n\u001b[1;32m    160\u001b[0m     \u001b[38;5;28;01mdel\u001b[39;00m doc[\u001b[38;5;124m\"\u001b[39m\u001b[38;5;124mdata\u001b[39m\u001b[38;5;124m\"\u001b[39m][\u001b[38;5;124m\"\u001b[39m\u001b[38;5;124mstate\u001b[39m\u001b[38;5;124m\"\u001b[39m]\n\u001b[1;32m    161\u001b[0m     smartbit \u001b[38;5;241m=\u001b[39m SmartBitFactory\u001b[38;5;241m.\u001b[39mcreate_smartbit(doc)\n",
      "\u001b[0;31mKeyError\u001b[0m: 'state'"
     ]
    }
   ],
   "source": [
    "ps3 = PySage3(conf, prod_type)\n",
    "cb = ps3.rooms['09073d6d-6d79-4c98-bbea-4dd82106c098'].boards['68993aeb-0ee6-4f95-b461-0f918fc7d969']\n",
    "list(cb.smartbits)"
   ]
  },
  {
   "cell_type": "code",
   "execution_count": 3,
   "id": "c1977f6f-0d24-4f31-bee2-d5fa001e30c6",
   "metadata": {},
   "outputs": [
    {
     "data": {
      "text/plain": [
       "AIMessage(content='Hello! How can I assist you today?', response_metadata={'token_usage': {'completion_tokens': 9, 'prompt_tokens': 8, 'total_tokens': 17}, 'model_name': 'gpt-4o', 'system_fingerprint': 'fp_43dfabdef1', 'finish_reason': 'stop', 'logprobs': None}, id='run-09b4a70c-4b90-4d73-ac6f-0c0a3bf128f9-0')"
      ]
     },
     "execution_count": 3,
     "metadata": {},
     "output_type": "execute_result"
    }
   ],
   "source": [
    "llm_4o = ChatOpenAI(temperature=0.1, model=\"gpt-4o\")\n",
    "llm_4o.invoke(\"hello\")"
   ]
  },
  {
   "cell_type": "code",
   "execution_count": 4,
   "id": "cb504836-d9c2-4253-a0f8-85a26b751918",
   "metadata": {},
   "outputs": [
    {
     "data": {
      "text/plain": [
       "ChatOpenAI(client=<openai.resources.chat.completions.Completions object at 0x123086b50>, async_client=<openai.resources.chat.completions.AsyncCompletions object at 0x1230993d0>, model_name='gpt-4o', temperature=0.1, openai_api_key=SecretStr('**********'), openai_proxy='')"
      ]
     },
     "execution_count": 4,
     "metadata": {},
     "output_type": "execute_result"
    }
   ],
   "source": [
    "# conf = {'local': {'seer_server': 'http://127.0.0.1:5002',\n",
    "#   'jupyter_server': 'http://localhost:8888',\n",
    "#   'redis_server': 'localhost',\n",
    "#   'web_server': 'http://localhost:3333',\n",
    "#   'ws_server': 'ws://localhost:3333'}}\n",
    "# room_id = '09073d6d-6d79-4c98-bbea-4dd82106c098'\n",
    "# board_id = '68993aeb-0ee6-4f95-b461-0f918fc7d969'\n",
    "# app_id = '4a29b8bf-9e72-4366-8946-d808e2e3d465'\n"
   ]
  },
  {
   "cell_type": "code",
   "execution_count": 13,
   "id": "11d6c7d9-6e6c-4c5a-8b0f-abb5ef4b4aa5",
   "metadata": {},
   "outputs": [],
   "source": []
  },
  {
   "cell_type": "code",
   "execution_count": 17,
   "id": "220ec309-83bc-41bf-bffc-d985c3086486",
   "metadata": {},
   "outputs": [
    {
     "data": {
      "text/plain": [
       "{'seer_server': 'http://127.0.0.1:5002',\n",
       " 'jupyter_server': 'http://localhost:8888',\n",
       " 'jupyter_ws': 'ws://localhost:8888',\n",
       " 'redis_server': 'localhost',\n",
       " 'web_server': 'http://localhost:3333',\n",
       " 'ws_server': 'ws://localhost:3333'}"
      ]
     },
     "execution_count": 17,
     "metadata": {},
     "output_type": "execute_result"
    }
   ],
   "source": [
    "conf[prod_type]"
   ]
  },
  {
   "cell_type": "code",
   "execution_count": null,
   "id": "c044abe4-4c1a-4a48-8d56-a923cd62afcf",
   "metadata": {},
   "outputs": [],
   "source": []
  }
 ],
 "metadata": {
  "kernelspec": {
   "display_name": "Python 3 (ipykernel)",
   "language": "python",
   "name": "python3"
  },
  "language_info": {
   "codemirror_mode": {
    "name": "ipython",
    "version": 3
   },
   "file_extension": ".py",
   "mimetype": "text/x-python",
   "name": "python",
   "nbconvert_exporter": "python",
   "pygments_lexer": "ipython3",
   "version": "3.8.11"
  }
 },
 "nbformat": 4,
 "nbformat_minor": 5
}
