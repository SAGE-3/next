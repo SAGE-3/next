{
 "cells": [
  {
   "cell_type": "code",
   "execution_count": null,
   "id": "a8b99c2b-dad1-43e8-835a-36a1700bbeb0",
   "metadata": {},
   "outputs": [],
   "source": [
    "# !pip uninstall -y foresight\n",
    "#!pip install git+https://github.com/SAGE-3/next.git@dev#subdirectory=foresight"
   ]
  },
  {
   "cell_type": "code",
   "execution_count": null,
   "id": "9e9cbbcd-1b29-45a1-b02f-6991fc15a094",
   "metadata": {},
   "outputs": [],
   "source": [
    "# !pip install langchain_openai\n",
    "# !pip install langchain"
   ]
  },
  {
   "cell_type": "code",
   "execution_count": 1,
   "id": "06c1f2c4-f930-4b1a-a721-0d02f9cb295f",
   "metadata": {},
   "outputs": [],
   "source": [
    "import sys\n",
    "sys.path.append(\"/Users/mahdi/Documents/GitHub/next/foresight/\")\n",
    "# from src.config import config as conf, prod_type\n",
    "from foresight.Sage3Sugar.pysage3 import PySage3\n",
    "from langchain_openai import ChatOpenAI"
   ]
  },
  {
   "cell_type": "code",
   "execution_count": 2,
   "id": "0f3e7926-eeba-4698-88e8-20203d3c2556",
   "metadata": {},
   "outputs": [],
   "source": [
    "prod_type= 'local'\n",
    "conf = {'local': {'seer_server': 'http://127.0.0.1:5002',\n",
    "  'jupyter_server': 'http://localhost:8888',\n",
    "  'redis_server': 'localhost',\n",
    "  'web_server': 'http://localhost:3333',\n",
    "  'ws_server': 'ws://localhost:3333'}}\n",
    "# room_id = '09073d6d-6d79-4c98-bbea-4dd82106c098'\n",
    "# board_id = '68993aeb-0ee6-4f95-b461-0f918fc7d969'\n",
    "# app_id = '4a29b8bf-9e72-4366-8946-d808e2e3d465'"
   ]
  },
  {
   "cell_type": "code",
   "execution_count": 8,
   "id": "36ebeed7-3d20-4453-aade-d2e15e6fe9d8",
   "metadata": {},
   "outputs": [],
   "source": [
    "ps3 = PySage3(conf, prod_type)\n",
    "cb = ps3.rooms['e3233abf-a47b-4c16-81ec-c6e985c67a5a'].boards['479d5114-a017-4b6e-973d-8933c46b8837']"
   ]
  },
  {
   "cell_type": "code",
   "execution_count": null,
   "id": "c1977f6f-0d24-4f31-bee2-d5fa001e30c6",
   "metadata": {},
   "outputs": [],
   "source": [
    "llm_4o = ChatOpenAI(temperature=0.1, model=\"gpt-4o\")\n",
    "llm_4o.invoke(\"hello\")"
   ]
  },
  {
   "cell_type": "code",
   "execution_count": null,
   "id": "11d6c7d9-6e6c-4c5a-8b0f-abb5ef4b4aa5",
   "metadata": {},
   "outputs": [],
   "source": []
  },
  {
   "cell_type": "code",
   "execution_count": null,
   "id": "2a5f5179-f37a-49de-b8e5-ad60a9de0eb5",
   "metadata": {},
   "outputs": [],
   "source": []
  },
  {
   "cell_type": "code",
   "execution_count": null,
   "id": "546cc3af-430a-4dbb-a467-c085eaac7f0a",
   "metadata": {},
   "outputs": [],
   "source": []
  },
  {
   "cell_type": "code",
   "execution_count": null,
   "id": "130a0a38-485a-4d27-890c-fab1aa1f5bbf",
   "metadata": {},
   "outputs": [],
   "source": []
  },
  {
   "cell_type": "code",
   "execution_count": null,
   "id": "c3172ed0-c147-4cfc-bd90-e736e6fa17ab",
   "metadata": {},
   "outputs": [],
   "source": []
  },
  {
   "cell_type": "code",
   "execution_count": null,
   "id": "3c9cca15-caed-4cd1-bf32-77e180f7d421",
   "metadata": {},
   "outputs": [],
   "source": []
  },
  {
   "cell_type": "code",
   "execution_count": null,
   "id": "fe6a0639-d53c-45ea-a934-8b0f72d088f4",
   "metadata": {},
   "outputs": [],
   "source": []
  },
  {
   "cell_type": "code",
   "execution_count": 9,
   "id": "15a8ae3e-fa6f-404c-b513-53f4cd9965d8",
   "metadata": {},
   "outputs": [
    {
     "name": "stdout",
     "output_type": "stream",
     "text": [
      "Untitled.ipynb         _env.sh~               \u001b[1m\u001b[36msrc\u001b[m\u001b[m\n",
      "__init__.py            interactive_demo.ipynb\n",
      "_env.sh                requirements.txt\n"
     ]
    }
   ],
   "source": []
  },
  {
   "cell_type": "code",
   "execution_count": 37,
   "id": "27b6ef21-d5dc-47a6-a930-1298672bbec1",
   "metadata": {},
   "outputs": [
    {
     "data": {
      "text/plain": [
       "'TestOutputParser'"
      ]
     },
     "execution_count": 37,
     "metadata": {},
     "output_type": "execute_result"
    }
   ],
   "source": [
    "parser_cls = \"test_output_parser\"\n",
    "\"\".join(\" \".join(parser_cls.split(\"_\")).title().split())"
   ]
  },
  {
   "cell_type": "code",
   "execution_count": 66,
   "id": "aa48b9e5-b17e-4e47-bd83-25c583f49807",
   "metadata": {},
   "outputs": [],
   "source": [
    "import os\n",
    "import json\n",
    "import importlib\n",
    "from langchain.output_parsers import PydanticOutputParser\n",
    "from langchain.prompts import PromptTemplate, FewShotPromptTemplate\n",
    "\n",
    "class PromptLoader:\n",
    "    def __init__(self, base_dir=\"prompts\"):\n",
    "        self.base_dir = base_dir\n",
    "\n",
    "    def _load_prompt_data(self, prompt_type, prompt_name):\n",
    "        prompt_def_file_path = os.path.join(self.base_dir, prompt_type, f\"{prompt_name}.json\")\n",
    "        with open(prompt_def_file_path, 'r') as file:\n",
    "            prompt_data = json.load(file)\n",
    "        return prompt_data\n",
    "\n",
    "    def _generate_few_shot_prompt(self, prompt_data):\n",
    "        kwargs = {\n",
    "            \n",
    "            \"prefix\": prompt_data['prefix'],\n",
    "            \n",
    "            \"input_variables\": prompt_data['input_variables'],\n",
    "            \"partial_variables\": prompt_data.get('partial_variables', {}),\n",
    "            \"examples\": prompt_data.get('examples_info', {}).get(\"examples_data\", []),\n",
    "            \"example_prompt\": prompt_data.get('examples_info', {}).get(\"examples_template\", \"\"),\n",
    "            \"prefix\": prompt_data.get('prefix', \"\"),\n",
    "            \"suffix\": prompt_data.get('suffix', \"\"),\n",
    "            \"example_separator\": prompt_data.get('examples_info', {}).get('example_separator', \"\\n\")\n",
    "        }\n",
    "\n",
    "        if \"format_instructions\" in kwargs[\"partial_variables\"]:\n",
    "            parser_module_name = prompt_data['parser']\n",
    "            module = importlib.import_module(f\"src.prompts.parsers.{parser_module_name}\")\n",
    "            parser_cls_name = \"\".join(\" \".join(parser_module_name.split(\"_\")).title().split())\n",
    "            ParserCls = getattr(module, parser_cls_name)\n",
    "            output_parser = PydanticOutputParser(pydantic_object=ParserCls)\n",
    "            kwargs[\"partial_variables\"][\"format_instructions\"] = output_parser.get_format_instructions()\n",
    "        examples = prompt_data.get('examples_info', {}).get(\"examples_data\", [])\n",
    "        example_prompt =  prompt_data.get('examples_info', {}).get(\"examples_template\", \"\")\n",
    "        examples_input_variables = prompt_data.get('examples_info', {}).get(\"examples_input_variables\", [])\n",
    "        if examples and example_prompt:\n",
    "            examples_prompt = PromptTemplate(\n",
    "                    input_variables=examples_input_variables,\n",
    "                    template=example_prompt,\n",
    "                )\n",
    "            kwargs['examples'] = examples\n",
    "            kwargs['example_prompt'] = examples_prompt\n",
    "                    \n",
    "        return FewShotPromptTemplate(**kwargs)\n",
    "\n",
    "    def _generate_zero_shot_prompt(self, prompt_data):\n",
    "        # Assuming zero-shot prompts require fewer parameters, adjust accordingly\n",
    "        return FewShotPromptTemplate(\n",
    "            input_variables=prompt_data['input_variables'],\n",
    "            prefix=prompt_data.get('prefix', \"\"),\n",
    "            suffix=prompt_data.get('suffix', \"\")\n",
    "        )\n",
    "\n",
    "    @staticmethod\n",
    "    def create_prompt(base_dir, prompt_type, prompt_name):\n",
    "        loader = PromptLoader(base_dir)\n",
    "        data = loader._load_prompt_data(prompt_type, prompt_name)\n",
    "        if prompt_type == \"few_shot\":\n",
    "            return loader._generate_few_shot_prompt(data)\n",
    "        elif prompt_type == \"zero_shot\":\n",
    "            return loader._generate_zero_shot_prompt(data)\n",
    "        else:\n",
    "            raise ValueError(f\"Invalid prompt type: {prompt_type}\")"
   ]
  },
  {
   "cell_type": "code",
   "execution_count": 85,
   "id": "f275771d-36dd-479c-abe2-53b34b43c776",
   "metadata": {},
   "outputs": [
    {
     "name": "stdout",
     "output_type": "stream",
     "text": [
      "originalItems: {originalItems}\n",
      "\n",
      "query: {query}\n",
      "\n",
      "```json\n"
     ]
    },
    {
     "data": {
      "text/plain": [
       "FewShotPromptTemplate(input_variables=['originalItems', 'query'], partial_variables={'format_instructions': 'The output should be formatted as a JSON instance that conforms to the JSON schema below.\\n\\nAs an example, for the schema {\"properties\": {\"foo\": {\"title\": \"Foo\", \"description\": \"a list of strings\", \"type\": \"array\", \"items\": {\"type\": \"string\"}}}, \"required\": [\"foo\"]}\\nthe object {\"foo\": [\"bar\", \"baz\"]} is a well-formatted instance of the schema. The object {\"properties\": {\"foo\": [\"bar\", \"baz\"]}} is not well-formatted.\\n\\nHere is the output schema:\\n```\\n{\"properties\": {\"uuids\": {\"title\": \"Uuids\", \"description\": \"A valid Python list of UUIDs selected\", \"type\": \"array\", \"items\": {\"type\": \"string\", \"format\": \"uuid\"}}}, \"required\": [\"uuids\"]}\\n```'}, examples=[{'originalItems': '[{\"app_id\": \"ba88e0df-d885-4ce3-ad74-006fbba69b43\", \"data\": {\"position\": {\"x\": 1502426, \"y\": 1500697, \"z\": 0}, \"size\": {\"width\": 400, \"height\": 517, \"depth\": 0}, \"rotation\": {\"x\": 0, \"y\": 0, \"z\": 0}, \"type\": \"PDFViewer\"}, \"state\": {\"assetid\": \"4d2acd83-8fa2-4c7d-8e91-8e2e8cf45179\", \"currentPage\": 0, \"numPages\": 8, \"displayPages\": 1, \"analyzed\": \"\", \"client\": \"\"}}, {\"app_id\": \"0fbbc02b-6f62-4bbe-8bfb-b6698b7da401\", \"data\": {\"position\": {\"x\": 1502778, \"y\": 1500423, \"z\": 0}, \"size\": {\"width\": 400, \"height\": 420, \"depth\": 0}, \"rotation\": {\"x\": 0, \"y\": 0, \"z\": 0}, \"type\": \"Stickie\"}, \"state\": {\"text\": \"Philosophy\", \"fontSize\": 36, \"color\": \"yellow\"}}, {\"app_id\": \"9ae9a2eb-d901-44c8-83e3-5b447043fd67\", \"data\": {\"position\": {\"x\": 1503749, \"y\": 1500342, \"z\": 0}, \"size\": {\"width\": 400, \"height\": 420, \"depth\": 0}, \"rotation\": {\"x\": 0, \"y\": 0, \"z\": 0}, \"type\": \"Stickie\"}, \"state\": {\"text\": \"Tech and AI\", \"fontSize\": 36, \"color\": \"red\"}}]', 'query': 'Which stickies are red', 'matchedItems': '[\"9ae9a2eb-d901-44c8-83e3-5b447043fd67\"]'}], example_prompt=PromptTemplate(input_variables=['matchedItems', 'originalItems', 'query'], template='originalItems: {originalItems}\\n\\nquery: {query}\\n\\n```\\njson\\n{{{{\\n  \"uuids\": {matchedItems}\\n}}}}\\n```'), suffix='originalItems: {originalItems}\\n\\nquery: {query}\\n\\n```json', example_separator='\\n', prefix=\"Given the list of items below, identify the app_ids (UUID4) of the items that match the user's query defined below. If none of the items match the query, return an empty list.\\n\\n{format_instructions}\\n\\nExample:\")"
      ]
     },
     "execution_count": 85,
     "metadata": {},
     "output_type": "execute_result"
    }
   ],
   "source": [
    "example_prompt = PromptLoader.create_prompt(\"src/prompts/\", \"few_shot\", \"select_apps\")\n",
    "example_prompt"
   ]
  },
  {
   "cell_type": "code",
   "execution_count": 82,
   "id": "84a644bc-6328-4c65-a5d7-6587d032ee4d",
   "metadata": {},
   "outputs": [
    {
     "data": {
      "text/plain": [
       "True"
      ]
     },
     "execution_count": 82,
     "metadata": {},
     "output_type": "execute_result"
    }
   ],
   "source": [
    "output_end = ': Yo, my name is Jason\\n```json'\n",
    "example_prompt.format(greeting=\"Yo, my name is Jason\")[-len(output_end):] == \": Yo, my name is Jason\\n```json\""
   ]
  },
  {
   "cell_type": "code",
   "execution_count": 76,
   "id": "45e24ff3-09e3-451c-b599-117f6014864b",
   "metadata": {},
   "outputs": [],
   "source": [
    "x = {'input_variables': ['originalItems', 'query'], 'partial_variables': {'format_instructions': 'The output should be formatted as a JSON instance that conforms to the JSON schema below.\\n\\nAs an example, for the schema {\"properties\": {\"foo\": {\"title\": \"Foo\", \"description\": \"a list of strings\", \"type\": \"array\", \"items\": {\"type\": \"string\"}}}, \"required\": [\"foo\"]}\\nthe object {\"foo\": [\"bar\", \"baz\"]} is a well-formatted instance of the schema. The object {\"properties\": {\"foo\": [\"bar\", \"baz\"]}} is not well-formatted.\\n\\nHere is the output schema:\\n```\\n{\"properties\": {\"uuids\": {\"title\": \"Uuids\", \"description\": \"A valid Python list of UUIDs selected\", \"type\": \"array\", \"items\": {\"type\": \"string\", \"format\": \"uuid\"}}}, \"required\": [\"uuids\"]}\\n```'}, 'examples': [{'originalItems': '[{\"app_id\": \"ba88e0df-d885-4ce3-ad74-006fbba69b43\", \"data\": {\"position\": {\"x\": 1502426, \"y\": 1500697, \"z\": 0}, \"size\": {\"width\": 400, \"height\": 517, \"depth\": 0}, \"rotation\": {\"x\": 0, \"y\": 0, \"z\": 0}, \"type\": \"PDFViewer\"}, \"state\": {\"assetid\": \"4d2acd83-8fa2-4c7d-8e91-8e2e8cf45179\", \"currentPage\": 0, \"numPages\": 8, \"displayPages\": 1, \"analyzed\": \"\", \"client\": \"\"}}, {\"app_id\": \"0fbbc02b-6f62-4bbe-8bfb-b6698b7da401\", \"data\": {\"position\": {\"x\": 1502778, \"y\": 1500423, \"z\": 0}, \"size\": {\"width\": 400, \"height\": 420, \"depth\": 0}, \"rotation\": {\"x\": 0, \"y\": 0, \"z\": 0}, \"type\": \"Stickie\"}, \"state\": {\"text\": \"Philosophy\", \"fontSize\": 36, \"color\": \"yellow\"}}, {\"app_id\": \"9ae9a2eb-d901-44c8-83e3-5b447043fd67\", \"data\": {\"position\": {\"x\": 1503749, \"y\": 1500342, \"z\": 0}, \"size\": {\"width\": 400, \"height\": 420, \"depth\": 0}, \"rotation\": {\"x\": 0, \"y\": 0, \"z\": 0}, \"type\": \"Stickie\"}, \"state\": {\"text\": \"Tech and AI\", \"fontSize\": 36, \"color\": \"red\"}}]', 'query': 'Which stickies are red', 'matchedItems': '[\"9ae9a2eb-d901-44c8-83e3-5b447043fd67\"]'}], 'example_prompt': 'originalItems: {originalItems}\\n\\nquery: {query}\\n\\n```\\njson\\n{{{{\\n  \"uuids\": {matchedItems}\\n}}}}\\n```', 'prefix': '', 'suffix': 'originalItems: {originalItems}\\n\\nquery: {query}\\n\\n```json', 'example_separator': '\\n'}"
   ]
  },
  {
   "cell_type": "code",
   "execution_count": 73,
   "id": "2fb894c1-d1de-4f3d-bd98-1d2809918b12",
   "metadata": {},
   "outputs": [
    {
     "data": {
      "text/plain": [
       "'originalItems: {originalItems}\\n\\nquery: {query}\\n\\n```\\njson\\n{{{{\\n  \"uuids\": {matchedItems}\\n}}}}\\n```'"
      ]
     },
     "execution_count": 73,
     "metadata": {},
     "output_type": "execute_result"
    }
   ],
   "source": [
    "x[\"example_prompt\"]"
   ]
  },
  {
   "cell_type": "code",
   "execution_count": null,
   "id": "5a9a7ee9-a4cb-4103-81bb-0159eef8173c",
   "metadata": {},
   "outputs": [],
   "source": [
    "x[]"
   ]
  }
 ],
 "metadata": {
  "kernelspec": {
   "display_name": "Python 3 (ipykernel)",
   "language": "python",
   "name": "python3"
  },
  "language_info": {
   "codemirror_mode": {
    "name": "ipython",
    "version": 3
   },
   "file_extension": ".py",
   "mimetype": "text/x-python",
   "name": "python",
   "nbconvert_exporter": "python",
   "pygments_lexer": "ipython3",
   "version": "3.8.11"
  }
 },
 "nbformat": 4,
 "nbformat_minor": 5
}
