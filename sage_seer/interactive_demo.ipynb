{
 "cells": [
  {
   "cell_type": "code",
   "execution_count": null,
   "id": "65d4da88-fd95-43c0-adbd-a79770f0fe3c",
   "metadata": {},
   "outputs": [],
   "source": [
    "# TODO: test taht ps3.get_pdf_text(asset_url) is working as expected.\n"
   ]
  },
  {
   "cell_type": "code",
   "execution_count": null,
   "id": "a8b99c2b-dad1-43e8-835a-36a1700bbeb0",
   "metadata": {},
   "outputs": [],
   "source": [
    "# !pip uninstall -y foresight\n",
    "#!pip install git+https://github.com/SAGE-3/next.git@dev#subdirectory=foresight"
   ]
  },
  {
   "cell_type": "code",
   "execution_count": null,
   "id": "9e9cbbcd-1b29-45a1-b02f-6991fc15a094",
   "metadata": {},
   "outputs": [],
   "source": [
    "# !pip install langchain_openai\n",
    "# !pip install langchain"
   ]
  },
  {
   "cell_type": "code",
   "execution_count": 1,
   "id": "624f6feb-9cc4-4ecf-8863-b64745f26298",
   "metadata": {},
   "outputs": [],
   "source": [
    "PROMPTS_DIR = \"src/prompts/\"\n"
   ]
  },
  {
   "cell_type": "code",
   "execution_count": null,
   "id": "4b047d01-15c8-494c-b676-52fe4e0cf6be",
   "metadata": {},
   "outputs": [],
   "source": [
    "# def remove_keys_from_dict(app_dict, keys_to_remove):\n",
    "#     def _remove_keys_from_dict(d, keys_to_remove):\n",
    "#         if isinstance(d, dict):\n",
    "#             for key in list(d.keys()):  # Use list() to avoid 'dictionary changed size during iteration' error\n",
    "#                 if key in keys_to_remove:\n",
    "#                     del d[key]\n",
    "#                 else:\n",
    "#                     _remove_keys_from_dict(d[key], keys_to_remove)\n",
    "#         elif isinstance(d, list):\n",
    "#             for item in d:\n",
    "#                 _remove_keys_from_dict(item, keys_to_remove)\n",
    "\n",
    "#     # Create a deep copy of the input dictionary\n",
    "#     app_dict_copy = copy.deepcopy(app_dict)\n",
    "#     # Remove keys from the copied dictionary\n",
    "#     _remove_keys_from_dict(app_dict_copy, keys_to_remove)\n",
    "#     return app_dict_copy\n"
   ]
  },
  {
   "cell_type": "code",
   "execution_count": 2,
   "id": "06c1f2c4-f930-4b1a-a721-0d02f9cb295f",
   "metadata": {},
   "outputs": [],
   "source": [
    "import sys\n",
    "sys.path.append(\"/Users/mahdi/Documents/GitHub/next/foresight/\")\n",
    "# from src.config import config as conf, prod_type\n",
    "import copy\n",
    "from foresight.Sage3Sugar.pysage3 import PySage3\n",
    "from src.prompts.prompt_loader import PromptLoader \n",
    "from langchain_openai import ChatOpenAI\n",
    "keys_to_remove = ['_id', '_createdAt', '_createdBy', '_updatedAt', '_updatedBy',\n",
    "    'touched', 'executeInfo', 'path', 'raised', \n",
    "    'title', 'roomId', 'boardId', 'lock', 'dragging', 'pinned', 'rotation'\n",
    "]\n"
   ]
  },
  {
   "cell_type": "code",
   "execution_count": 3,
   "id": "0f3e7926-eeba-4698-88e8-20203d3c2556",
   "metadata": {},
   "outputs": [],
   "source": [
    "prod_type= 'local'\n",
    "conf = {'local': {'seer_server': 'http://127.0.0.1:5002',\n",
    "  'jupyter_server': 'http://localhost:8888',\n",
    "  'redis_server': 'localhost',\n",
    "  'web_server': 'http://localhost:3333',\n",
    "  'ws_server': 'ws://localhost:3333'}}\n",
    "room_id = 'd6640933-7b9f-4536-a263-02a514ff092a'\n",
    "board_id = '02fc98df-b4f1-470c-8516-7221c3095de7'\n",
    "# app_id = '4a29b8bf-9e72-4366-8946-d808e2e3d465'"
   ]
  },
  {
   "cell_type": "code",
   "execution_count": 4,
   "id": "36ebeed7-3d20-4453-aade-d2e15e6fe9d8",
   "metadata": {},
   "outputs": [
    {
     "name": "stdout",
     "output_type": "stream",
     "text": [
      "Configuring ps3 client ... \n",
      "Completed configuring Sage3 Client\n"
     ]
    }
   ],
   "source": [
    "ps3 = PySage3(conf, prod_type)\n",
    "cb = ps3.rooms['d6640933-7b9f-4536-a263-02a514ff092a'].boards['02fc98df-b4f1-470c-8516-7221c3095de7']"
   ]
  },
  {
   "cell_type": "code",
   "execution_count": 5,
   "id": "63455f0b-907f-476c-b251-b03fa6bbf9e4",
   "metadata": {},
   "outputs": [
    {
     "data": {
      "text/plain": [
       "{'b18bd2d2-0840-40c9-bfc8-5970e5558c6c': {'data': {'position': {'x': 1500286,\n",
       "    'y': 1500222,\n",
       "    'z': 0},\n",
       "   'size': {'width': 400, 'height': 420, 'depth': 0},\n",
       "   'type': 'Stickie',\n",
       "   'state': {'text': 'test yellow', 'fontSize': 36, 'color': 'yellow'}},\n",
       "  'tags': ['first', 'yellow']},\n",
       " '96fa5557-16ee-4597-8708-bca17c6c7c02': {'data': {'position': {'x': 1500761,\n",
       "    'y': 1500217,\n",
       "    'z': 0},\n",
       "   'size': {'width': 400, 'height': 420, 'depth': 0},\n",
       "   'type': 'Stickie',\n",
       "   'state': {'text': 'test red', 'fontSize': 36, 'color': 'red'}},\n",
       "  'tags': ['red']}}"
      ]
     },
     "execution_count": 5,
     "metadata": {},
     "output_type": "execute_result"
    }
   ],
   "source": [
    "ps3.get_apps(room_id, board_id, add_tags=True, filter_tags= keys_to_remove)"
   ]
  },
  {
   "cell_type": "code",
   "execution_count": 6,
   "id": "c1977f6f-0d24-4f31-bee2-d5fa001e30c6",
   "metadata": {},
   "outputs": [],
   "source": [
    "llm_4o = ChatOpenAI(temperature=0.1, model=\"gpt-4o\")\n",
    "#llm_4o.invoke(\"hello\")"
   ]
  },
  {
   "cell_type": "code",
   "execution_count": null,
   "id": "aa48b9e5-b17e-4e47-bd83-25c583f49807",
   "metadata": {},
   "outputs": [],
   "source": []
  },
  {
   "cell_type": "code",
   "execution_count": 7,
   "id": "f275771d-36dd-479c-abe2-53b34b43c776",
   "metadata": {},
   "outputs": [
    {
     "data": {
      "text/plain": [
       "AIMessage(content='```json\\n{\\n  \"updated_query\": \"Select the red stickies with a greeting or hello\"\\n}\\n```', response_metadata={'token_usage': {'completion_tokens': 23, 'prompt_tokens': 302, 'total_tokens': 325}, 'model_name': 'gpt-4o', 'system_fingerprint': 'fp_43dfabdef1', 'finish_reason': 'stop', 'logprobs': None}, id='run-1060e0b0-3c61-4232-884b-a625e8e08f0c-0')"
      ]
     },
     "execution_count": 7,
     "metadata": {},
     "output_type": "execute_result"
    }
   ],
   "source": [
    "example_prompt = PromptLoader.create_prompt(PROMPTS_DIR, \"few_shot\", \"reframe_select_apps\")\n",
    "q = 'Can you delete all the red stickies with a greeting or hello'\n",
    "# prompt_text = example_prompt.format(query=q)\n",
    "(example_prompt | llm_4o).invoke({\"query\":q})"
   ]
  },
  {
   "cell_type": "code",
   "execution_count": 11,
   "id": "66027896-b8a6-45ba-b2ad-da8c6ab62146",
   "metadata": {},
   "outputs": [
    {
     "name": "stdout",
     "output_type": "stream",
     "text": [
      "Given the list of items below, identify the app_ids (UUID4) of the items that match the user's query defined below. If none of the items match the query, return an empty list.\n",
      "\n",
      "The output should be formatted as a JSON instance that conforms to the JSON schema below.\n",
      "\n",
      "As an example, for the schema {\"properties\": {\"foo\": {\"title\": \"Foo\", \"description\": \"a list of strings\", \"type\": \"array\", \"items\": {\"type\": \"string\"}}}, \"required\": [\"foo\"]}\n",
      "the object {\"foo\": [\"bar\", \"baz\"]} is a well-formatted instance of the schema. The object {\"properties\": {\"foo\": [\"bar\", \"baz\"]}} is not well-formatted.\n",
      "\n",
      "Here is the output schema:\n",
      "```\n",
      "{\"properties\": {\"uuids\": {\"description\": \"A valid Python list of UUIDs selected\", \"items\": {\"format\": \"uuid\", \"type\": \"string\"}, \"title\": \"Uuids\", \"type\": \"array\"}}, \"required\": [\"uuids\"]}\n",
      "```\n",
      "\n",
      "Example:\n",
      "originalItems: [{'app_id': 'ba88e0df-d885-4ce3-ad74-006fbba69b43',\n",
      "  'data': {'position': {'x': 1502426, 'y': 1500697, 'z': 0},\n",
      "   'size': {'width': 400, 'height': 517, 'depth': 0},\n",
      "   'rotation': {'x': 0, 'y': 0, 'z': 0},\n",
      "   'type': 'PDFViewer'},\n",
      "  'state': {'assetid': '4d2acd83-8fa2-4c7d-8e91-8e2e8cf45179',\n",
      "   'currentPage': 0,\n",
      "   'numPages': 8,\n",
      "   'displayPages': 1,\n",
      "   'analyzed': '',\n",
      "   'client': ''},\n",
      " {'app_id': '0fbbc02b-6f62-4bbe-8bfb-b6698b7da401',\n",
      "  'data': {'position': {'x': 1502778, 'y': 1500423, 'z': 0},\n",
      "   'size': {'width': 400, 'height': 420, 'depth': 0},\n",
      "   'rotation': {'x': 0, 'y': 0, 'z': 0},\n",
      "   'type': 'Stickie'},\n",
      "  'state': {'text': 'Philosophy', 'fontSize': 36, 'color': 'yellow'},\n",
      " {'app_id': '9ae9a2eb-d901-44c8-83e3-5b447043fd67',\n",
      "  'data': {'position': {'x': 1503749, 'y': 1500342, 'z': 0},\n",
      "   'size': {'width': 400, 'height': 420, 'depth': 0},\n",
      "   'rotation': {'x': 0, 'y': 0, 'z': 0},\n",
      "   'type': 'Stickie'},\n",
      "  'state': {'text': 'Tech and AI', 'fontSize': 36, 'color': 'red'}\n",
      "]\n",
      "\n",
      "query: Which stickies are red\n",
      "```\n",
      "json\n",
      "{\n",
      "  \"uuids\": [\"9ae9a2eb-d901-44c8-83e3-5b447043fd67\"]\n",
      "}\n",
      "```\n",
      "originalItems: {'b18bd2d2-0840-40c9-bfc8-5970e5558c6c': {'data': {'position': {'x': 1500286, 'y': 1500222, 'z': 0}, 'size': {'width': 400, 'height': 420, 'depth': 0}, 'type': 'Stickie', 'state': {'text': 'test yellow', 'fontSize': 36, 'color': 'yellow'}}, 'tags': ['first', 'yellow']}, 'c640f473-6c79-404f-8c01-a72c7a1ae645': {'data': {'position': {'x': 1501181, 'y': 1500217, 'z': 0}, 'size': {'width': 400, 'height': 420, 'depth': 0}, 'type': 'Stickie', 'state': {'text': 'test-stickie', 'fontSize': 36, 'color': 'red'}}, 'tags': []}, '96fa5557-16ee-4597-8708-bca17c6c7c02': {'data': {'position': {'x': 1500761, 'y': 1500217, 'z': 0}, 'size': {'width': 400, 'height': 420, 'depth': 0}, 'type': 'Stickie', 'state': {'text': 'Hello', 'fontSize': 36, 'color': 'red'}}, 'tags': ['red']}}\n",
      "query: Can you delete all the red stickies with a greeting\n",
      "\n"
     ]
    }
   ],
   "source": [
    "example_prompt = PromptLoader.create_prompt(PROMPTS_DIR, \"few_shot\", \"select_apps\")\n",
    "\n",
    "q = 'Can you delete all the red stickies with a greeting'\n",
    "all_apps = ps3.get_apps(room_id, board_id, add_tags=True, filter_tags= keys_to_remove)\n",
    "prompt_text = example_prompt.format(originalItems=all_apps, query=q)\n",
    "print(prompt_text)\n"
   ]
  },
  {
   "cell_type": "code",
   "execution_count": 13,
   "id": "75c90a45-bb84-4866-80e1-466e0d5fb5cc",
   "metadata": {},
   "outputs": [
    {
     "data": {
      "text/plain": [
       "AIMessage(content='```json\\n{\\n  \"uuids\": [\"96fa5557-16ee-4597-8708-bca17c6c7c02\"]\\n}\\n```', response_metadata={'token_usage': {'completion_tokens': 35, 'prompt_tokens': 1080, 'total_tokens': 1115}, 'model_name': 'gpt-4o', 'system_fingerprint': 'fp_43dfabdef1', 'finish_reason': 'stop', 'logprobs': None}, id='run-8a021f0f-16ab-483b-a104-d34b39121e83-0')"
      ]
     },
     "execution_count": 13,
     "metadata": {},
     "output_type": "execute_result"
    }
   ],
   "source": [
    "(example_prompt | llm_4o).invoke({\"originalItems\":all_apps, \"query\":q})"
   ]
  },
  {
   "cell_type": "code",
   "execution_count": null,
   "id": "aa631ebb-3db3-4a09-aac4-758a3b1a3b42",
   "metadata": {},
   "outputs": [],
   "source": []
  }
 ],
 "metadata": {
  "kernelspec": {
   "display_name": "Python 3 (ipykernel)",
   "language": "python",
   "name": "python3"
  },
  "language_info": {
   "codemirror_mode": {
    "name": "ipython",
    "version": 3
   },
   "file_extension": ".py",
   "mimetype": "text/x-python",
   "name": "python",
   "nbconvert_exporter": "python",
   "pygments_lexer": "ipython3",
   "version": "3.10.14"
  }
 },
 "nbformat": 4,
 "nbformat_minor": 5
}
