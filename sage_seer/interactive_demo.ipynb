{
 "cells": [
  {
   "cell_type": "code",
   "execution_count": 1,
   "id": "9e9cbbcd-1b29-45a1-b02f-6991fc15a094",
   "metadata": {},
   "outputs": [],
   "source": [
    "# !pip install langchain_openai\n",
    "# !pip install langchain"
   ]
  },
  {
   "cell_type": "code",
   "execution_count": 2,
   "id": "06c1f2c4-f930-4b1a-a721-0d02f9cb295f",
   "metadata": {},
   "outputs": [],
   "source": [
    "from langchain_openai import ChatOpenAI"
   ]
  },
  {
   "cell_type": "code",
   "execution_count": 3,
   "id": "c1977f6f-0d24-4f31-bee2-d5fa001e30c6",
   "metadata": {},
   "outputs": [
    {
     "data": {
      "text/plain": [
       "AIMessage(content='Hello! How can I assist you today?', response_metadata={'token_usage': {'completion_tokens': 9, 'prompt_tokens': 8, 'total_tokens': 17}, 'model_name': 'gpt-4o', 'system_fingerprint': 'fp_43dfabdef1', 'finish_reason': 'stop', 'logprobs': None}, id='run-09b4a70c-4b90-4d73-ac6f-0c0a3bf128f9-0')"
      ]
     },
     "execution_count": 3,
     "metadata": {},
     "output_type": "execute_result"
    }
   ],
   "source": [
    "llm_4o = ChatOpenAI(temperature=0.1, model=\"gpt-4o\")\n",
    "llm_4o.invoke(\"hello\")"
   ]
  },
  {
   "cell_type": "code",
   "execution_count": 4,
   "id": "cb504836-d9c2-4253-a0f8-85a26b751918",
   "metadata": {},
   "outputs": [
    {
     "data": {
      "text/plain": [
       "ChatOpenAI(client=<openai.resources.chat.completions.Completions object at 0x123086b50>, async_client=<openai.resources.chat.completions.AsyncCompletions object at 0x1230993d0>, model_name='gpt-4o', temperature=0.1, openai_api_key=SecretStr('**********'), openai_proxy='')"
      ]
     },
     "execution_count": 4,
     "metadata": {},
     "output_type": "execute_result"
    }
   ],
   "source": [
    "# room_id = '09073d6d-6d79-4c98-bbea-4dd82106c098'\n",
    "# board_id = '68993aeb-0ee6-4f95-b461-0f918fc7d969'\n",
    "# app_id = '4a29b8bf-9e72-4366-8946-d808e2e3d465'\n"
   ]
  },
  {
   "cell_type": "code",
   "execution_count": 13,
   "id": "11d6c7d9-6e6c-4c5a-8b0f-abb5ef4b4aa5",
   "metadata": {},
   "outputs": [],
   "source": [
    "from src.config import config as conf, prod_type"
   ]
  },
  {
   "cell_type": "code",
   "execution_count": 17,
   "id": "220ec309-83bc-41bf-bffc-d985c3086486",
   "metadata": {},
   "outputs": [
    {
     "data": {
      "text/plain": [
       "{'seer_server': 'http://127.0.0.1:5002',\n",
       " 'jupyter_server': 'http://localhost:8888',\n",
       " 'jupyter_ws': 'ws://localhost:8888',\n",
       " 'redis_server': 'localhost',\n",
       " 'web_server': 'http://localhost:3333',\n",
       " 'ws_server': 'ws://localhost:3333'}"
      ]
     },
     "execution_count": 17,
     "metadata": {},
     "output_type": "execute_result"
    }
   ],
   "source": [
    "conf[prod_type]"
   ]
  },
  {
   "cell_type": "code",
   "execution_count": null,
   "id": "c044abe4-4c1a-4a48-8d56-a923cd62afcf",
   "metadata": {},
   "outputs": [],
   "source": [
    "conf = {'local': {'seer_server': 'http://127.0.0.1:5002',\n",
    "  'jupyter_server': 'http://localhost:8888',\n",
    "  'redis_server': 'localhost',\n",
    "  'web_server': 'http://localhost:3333',\n",
    "  'ws_server': 'ws://localhost:3333'}}"
   ]
  }
 ],
 "metadata": {
  "kernelspec": {
   "display_name": "Python 3 (ipykernel)",
   "language": "python",
   "name": "python3"
  },
  "language_info": {
   "codemirror_mode": {
    "name": "ipython",
    "version": 3
   },
   "file_extension": ".py",
   "mimetype": "text/x-python",
   "name": "python",
   "nbconvert_exporter": "python",
   "pygments_lexer": "ipython3",
   "version": "3.8.11"
  }
 },
 "nbformat": 4,
 "nbformat_minor": 5
}
