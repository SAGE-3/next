{
 "cells": [
  {
   "cell_type": "markdown",
   "id": "ac3af566-818d-440e-84a8-47bf01f5485d",
   "metadata": {},
   "source": [
    "Not really nodes. You need to understand that they are exec nodes, can modify messages and decision nodes can only return a decision on where to go.\n",
    "Make it unnecessarily slow since you need to hop from one state to another."
   ]
  },
  {
   "cell_type": "code",
   "execution_count": null,
   "id": "65d4da88-fd95-43c0-adbd-a79770f0fe3c",
   "metadata": {},
   "outputs": [],
   "source": [
    "# TODO: test that ps3.get_pdf_text(asset_url) is working as expected.\n"
   ]
  },
  {
   "cell_type": "code",
   "execution_count": null,
   "id": "a8b99c2b-dad1-43e8-835a-36a1700bbeb0",
   "metadata": {},
   "outputs": [],
   "source": [
    "# !pip uninstall -y foresight\n",
    "# !pip install git+https://github.com/SAGE-3/next.git@dev#subdirectory=foresight\n",
    "# !pip install langchain_openai\n",
    "# !pip install langchain"
   ]
  },
  {
   "cell_type": "code",
   "execution_count": null,
   "id": "7e0e0833-9235-464b-90be-3a8f42474795",
   "metadata": {},
   "outputs": [],
   "source": [
    "from langchain.globals import set_debug\n",
    "set_debug(True)\n"
   ]
  },
  {
   "cell_type": "code",
   "execution_count": null,
   "id": "9e9cbbcd-1b29-45a1-b02f-6991fc15a094",
   "metadata": {},
   "outputs": [],
   "source": [
    "from langgraph.prebuilt import tools_condition"
   ]
  },
  {
   "cell_type": "code",
   "execution_count": null,
   "id": "06c1f2c4-f930-4b1a-a721-0d02f9cb295f",
   "metadata": {},
   "outputs": [],
   "source": [
    "from langchain_core.output_parsers import StrOutputParser\n",
    "from langchain_core.prompts import ChatPromptTemplate\n",
    "from langgraph.prebuilt import ToolNode\n",
    "\n",
    "import sys\n",
    "sys.path.append(\"/Users/mahdi/Documents/GitHub/next/foresight/\")\n",
    "# from src.config import config as conf, prod_type\n",
    "import copy\n",
    "from foresight.Sage3Sugar.pysage3 import PySage3\n",
    "from src.prompts.prompt_loader import PromptLoader \n",
    "from langchain_openai import ChatOpenAI\n",
    "keys_to_remove = ['_id', '_createdAt', '_createdBy', '_updatedAt', '_updatedBy',\n",
    "    'touched', 'executeInfo', 'path', 'raised', \n",
    "     'roomId', 'boardId', 'lock', 'dragging', 'pinned', 'rotation'\n",
    "]\n",
    "\n",
    "PROMPTS_DIR = \"src/prompts/\""
   ]
  },
  {
   "cell_type": "code",
   "execution_count": null,
   "id": "0f3e7926-eeba-4698-88e8-20203d3c2556",
   "metadata": {},
   "outputs": [],
   "source": [
    "\n",
    "# app_id = '4a29b8bf-9e72-4366-8946-d808e2e3d465'"
   ]
  },
  {
   "cell_type": "code",
   "execution_count": null,
   "id": "36ebeed7-3d20-4453-aade-d2e15e6fe9d8",
   "metadata": {},
   "outputs": [],
   "source": [
    "prod_type= 'local'\n",
    "conf = {'local': {'seer_server': 'http://127.0.0.1:5002',\n",
    "  'jupyter_server': 'http://localhost:8888',\n",
    "  'redis_server': 'localhost',\n",
    "  'web_server': 'http://localhost:3333',\n",
    "  'ws_server': 'ws://localhost:3333'}}\n",
    "\n",
    "# app_id = '4a29b8bf-9e72-4366-8946-d808e2e3d465'\n",
    "ps3 = PySage3(conf, prod_type)\n",
    "# cb = ps3.rooms[room_id].boards[board_id]"
   ]
  },
  {
   "cell_type": "code",
   "execution_count": null,
   "id": "62c48cb1-a052-4db3-8e35-f1185b20ad6b",
   "metadata": {},
   "outputs": [],
   "source": [
    "ps3.get_apps(room_id, board_id, add_tags=True)"
   ]
  },
  {
   "cell_type": "code",
   "execution_count": null,
   "id": "63455f0b-907f-476c-b251-b03fa6bbf9e4",
   "metadata": {},
   "outputs": [],
   "source": [
    "ps3.get_apps(room_id, board_id, add_tags=True, filter_tags= keys_to_remove)"
   ]
  },
  {
   "cell_type": "code",
   "execution_count": null,
   "id": "c1977f6f-0d24-4f31-bee2-d5fa001e30c6",
   "metadata": {},
   "outputs": [],
   "source": [
    "llm_4o = ChatOpenAI(temperature=0.1, model=\"gpt-4o\")\n",
    "# llm_4o.invoke(\"hello\")"
   ]
  },
  {
   "cell_type": "code",
   "execution_count": null,
   "id": "aa48b9e5-b17e-4e47-bd83-25c583f49807",
   "metadata": {},
   "outputs": [],
   "source": []
  },
  {
   "cell_type": "code",
   "execution_count": null,
   "id": "f275771d-36dd-479c-abe2-53b34b43c776",
   "metadata": {},
   "outputs": [],
   "source": [
    "# example_prompt = PromptLoader.create_prompt(PROMPTS_DIR, \"few_shot\", \"reframe_select_apps\")\n",
    "# q = 'Can you delete all the red stickies with a greeting or hello'\n",
    "# reframe_select_chain =  example_prompt | llm_4o\n",
    "# reframe_select_chain.invoke({\"query\":q})"
   ]
  },
  {
   "cell_type": "code",
   "execution_count": null,
   "id": "66027896-b8a6-45ba-b2ad-da8c6ab62146",
   "metadata": {},
   "outputs": [],
   "source": [
    "# example_prompt = PromptLoader.create_prompt(PROMPTS_DIR, \"few_shot\", \"select_apps\")\n",
    "\n",
    "# q = 'Can you delete all the red stickies with a greeting'\n",
    "# all_apps = ps3.get_apps(room_id, board_id, add_tags=True, filter_tags= keys_to_remove)\n",
    "# prompt_text = example_prompt.format(originalItems=all_apps, query=q)\n",
    "# prompt_text [0:100]+ \" ....\"\n"
   ]
  },
  {
   "cell_type": "code",
   "execution_count": null,
   "id": "75c90a45-bb84-4866-80e1-466e0d5fb5cc",
   "metadata": {},
   "outputs": [],
   "source": [
    "# (example_prompt | llm_4o).invoke({\"originalItems\":all_apps, \"query\":q})"
   ]
  },
  {
   "cell_type": "code",
   "execution_count": null,
   "id": "a447e093-abcf-4b91-8cbe-f3264e958abd",
   "metadata": {},
   "outputs": [],
   "source": [
    "pwd"
   ]
  },
  {
   "cell_type": "code",
   "execution_count": null,
   "id": "aa631ebb-3db3-4a09-aac4-758a3b1a3b42",
   "metadata": {},
   "outputs": [],
   "source": [
    "# create_app_prompt = PromptLoader.create_prompt(PROMPTS_DIR, \"zero_shot\", \"create_app\")\n",
    "\n",
    "# q = 'Can you create a new Stickie that says \"here you go\"'\n",
    "# all_apps = ps3.get_apps(room_id, board_id, add_tags=True, filter_tags= keys_to_remove)\n",
    "# prompt_text = create_app_prompt.format(originalItems=all_apps, query=q)\n",
    "# print(prompt_text [0:100]+ \" ....\")\n"
   ]
  },
  {
   "cell_type": "code",
   "execution_count": null,
   "id": "59257422-0d24-4a0d-9a4a-8bca56bc107c",
   "metadata": {},
   "outputs": [],
   "source": [
    "from src.tools.wall_tools import CreateAppTool\n",
    "tools = {\"CreateAppTool\": CreateAppTool(ps3)}\n",
    "llm_chain = llm_4o.bind_tools([tools[\"CreateAppTool\"]])"
   ]
  },
  {
   "cell_type": "code",
   "execution_count": null,
   "id": "7649164a-039d-4ef7-a42e-b2e3dc7920f9",
   "metadata": {},
   "outputs": [],
   "source": [
    "resp = llm_chain.invoke(\"create a blue stickie with the text Hello in French\")\n",
    "resp"
   ]
  },
  {
   "cell_type": "code",
   "execution_count": null,
   "id": "c4f2b07a-69f3-48d5-979c-97ffe5429135",
   "metadata": {},
   "outputs": [],
   "source": [
    "resp.tool_calls"
   ]
  },
  {
   "cell_type": "code",
   "execution_count": null,
   "id": "215e6e2e-3d82-43df-b811-e454701a7b20",
   "metadata": {},
   "outputs": [],
   "source": [
    "resp.tool_calls[0]['args']['smartbit']"
   ]
  },
  {
   "cell_type": "code",
   "execution_count": null,
   "id": "562be9bb-3644-474e-a51f-a38fdefe2781",
   "metadata": {},
   "outputs": [],
   "source": [
    "from src.smartbits import SmartBit\n",
    "sb = SmartBit(**resp.tool_calls[0]['args']['smartbit'])\n",
    "sb\n"
   ]
  },
  {
   "cell_type": "code",
   "execution_count": null,
   "id": "cfb416f6-c84e-40e2-839c-45e66d6110de",
   "metadata": {},
   "outputs": [],
   "source": [
    "data = resp.tool_calls[0]['args']['smartbit']['data']\n",
    "state = resp.tool_calls[0]['args']['smartbit']['state']\n",
    "#SmartBit(data=data, state=state)"
   ]
  },
  {
   "cell_type": "code",
   "execution_count": null,
   "id": "a56b2347-ded6-45c2-8f80-5fa141980ee1",
   "metadata": {},
   "outputs": [],
   "source": [
    "tool_name = resp.tool_calls[0][\"name\"]\n",
    "tool = tools[tool_name]\n",
    "tool.invoke({\"smartbit\":  sb})"
   ]
  },
  {
   "cell_type": "code",
   "execution_count": null,
   "id": "ce690c5d-ffad-4a4d-83fe-d46ff38acc3a",
   "metadata": {},
   "outputs": [],
   "source": []
  },
  {
   "cell_type": "code",
   "execution_count": null,
   "id": "cbd48139-38f3-477f-99e3-39479306a7dd",
   "metadata": {},
   "outputs": [],
   "source": [
    "from src.tools.wall_tools import DeleteAppTool\n",
    "tools = {\"DeleteAppTool\": DeleteAppTool(ps3)}\n",
    "llm = llm_4o.bind_tools([tools[\"DeleteAppTool\"]])"
   ]
  },
  {
   "cell_type": "code",
   "execution_count": null,
   "id": "27eeece8-7e09-4def-9435-1c62a1652ba9",
   "metadata": {},
   "outputs": [],
   "source": [
    "current_apps = ps3.get_apps(room_id, board_id, add_tags=True, filter_tags= keys_to_remove)\n",
    "current_apps"
   ]
  },
  {
   "cell_type": "code",
   "execution_count": null,
   "id": "bdde88ba-e190-4963-8636-dbbf73163e05",
   "metadata": {},
   "outputs": [],
   "source": [
    "delete_prompt = PromptLoader.create_prompt(PROMPTS_DIR, \"zero_shot\", \"delete_app\")\n",
    "delete_prompt"
   ]
  },
  {
   "cell_type": "code",
   "execution_count": null,
   "id": "99f70b3b-e087-4971-946e-fa83f02fe85c",
   "metadata": {},
   "outputs": [],
   "source": [
    "query = \"Delete all the stickies with the text hellow world\"\n",
    "resp  = (delete_prompt | llm).invoke({\"originalItems\":current_apps, \"query\": query})\n",
    "resp"
   ]
  },
  {
   "cell_type": "code",
   "execution_count": null,
   "id": "28099631-b310-40e6-b1a3-3fae6ea85acf",
   "metadata": {},
   "outputs": [],
   "source": [
    "resp.tool_calls"
   ]
  },
  {
   "cell_type": "code",
   "execution_count": null,
   "id": "602d785e-391c-4321-be4d-a9e25d2f65ce",
   "metadata": {},
   "outputs": [],
   "source": [
    "tool_name = resp.tool_calls[0]['name']\n",
    "app_id = resp.tool_calls[0]['args']['app_id']"
   ]
  },
  {
   "cell_type": "code",
   "execution_count": null,
   "id": "e892f824-d723-4f2b-ad03-8b5ef6fb3446",
   "metadata": {},
   "outputs": [],
   "source": [
    "tools[tool_name].invoke({\"app_id\": app_id})"
   ]
  },
  {
   "cell_type": "code",
   "execution_count": null,
   "id": "24f41806-454d-4e88-be03-7233729599fe",
   "metadata": {},
   "outputs": [],
   "source": [
    "ps3.get_apps(add_tags=True)"
   ]
  },
  {
   "cell_type": "code",
   "execution_count": null,
   "id": "881d1ddb-792c-4e99-baa2-1fcf35cf4621",
   "metadata": {},
   "outputs": [],
   "source": [
    "current_apps = ps3.get_apps(room_id, board_id, add_tags=True, filter_tags= keys_to_remove)\n",
    "current_apps"
   ]
  },
  {
   "cell_type": "code",
   "execution_count": null,
   "id": "53530976-ec9e-43b3-a2bc-09cb675a670d",
   "metadata": {},
   "outputs": [],
   "source": [
    "query = \"Delete all the mccormick recsys pdf file\"\n",
    "resp  = (delete_prompt | llm).invoke({\"originalItems\":current_apps, \"query\": query})\n",
    "resp"
   ]
  },
  {
   "cell_type": "code",
   "execution_count": null,
   "id": "97257b11-9e5e-4e7f-81c4-6c2419a5244e",
   "metadata": {},
   "outputs": [],
   "source": [
    "resp.tool_calls"
   ]
  },
  {
   "cell_type": "code",
   "execution_count": null,
   "id": "2f0a3a96-062e-444b-93da-ecfecb9d22ac",
   "metadata": {},
   "outputs": [],
   "source": [
    "ps3.get_apps(filter_tags= keys_to_remove_2)"
   ]
  },
  {
   "cell_type": "code",
   "execution_count": null,
   "id": "bd7a5d8b-8b3d-4075-9503-7b5aaee000a2",
   "metadata": {},
   "outputs": [],
   "source": [
    "all_apps = ps3.get_apps(room_id, board_id, add_tags=True, filter_tags= keys_to_remove)\n",
    "all_apps\n"
   ]
  },
  {
   "cell_type": "code",
   "execution_count": null,
   "id": "5d8efa05-6754-4e6d-938d-2daef527e2bd",
   "metadata": {},
   "outputs": [],
   "source": [
    "ps3.get_apps_text(all_apps)"
   ]
  },
  {
   "cell_type": "code",
   "execution_count": null,
   "id": "9dc1ea22-70f7-4dca-ac52-26d69d7629b7",
   "metadata": {},
   "outputs": [],
   "source": [
    "all_apps"
   ]
  },
  {
   "cell_type": "code",
   "execution_count": null,
   "id": "eae83882-6bf4-4e9c-b9fb-bee58c9bdb93",
   "metadata": {},
   "outputs": [],
   "source": [
    "app = all_apps['ca50b398-86d2-4518-8b67-6a426907d61a']\n",
    "app"
   ]
  },
  {
   "cell_type": "code",
   "execution_count": null,
   "id": "c0291ba4-55b8-4219-af15-35384df3d0f6",
   "metadata": {},
   "outputs": [],
   "source": [
    "app_type = app.get('data', {}).get('type', None)\n",
    "app_type"
   ]
  },
  {
   "cell_type": "code",
   "execution_count": null,
   "id": "81536952-6d87-4aee-ac64-d233fc1a4ba6",
   "metadata": {},
   "outputs": [],
   "source": [
    "text = \"\"\n",
    "text += app.get('data', {}).get('state', {}).get('text', \"\")+\"\\n\"\n",
    "text"
   ]
  },
  {
   "cell_type": "code",
   "execution_count": null,
   "id": "62595a2d-eb36-4c69-b762-6b1b91c936da",
   "metadata": {},
   "outputs": [],
   "source": [
    "app"
   ]
  },
  {
   "cell_type": "code",
   "execution_count": null,
   "id": "0420ccc2-81f9-42a5-9203-e7954ddc670b",
   "metadata": {},
   "outputs": [],
   "source": [
    "asset_id = app.get('data', {}).get('state', {}).get('assetid')\n",
    "asset_id"
   ]
  },
  {
   "cell_type": "code",
   "execution_count": null,
   "id": "efe2335d-540b-4ee8-a9f7-d61a1532eec6",
   "metadata": {},
   "outputs": [],
   "source": [
    "ps3.list_assets(asset_id=asset_id)"
   ]
  },
  {
   "cell_type": "code",
   "execution_count": null,
   "id": "755fb1d0-2cfa-4755-b06e-a96a5cb4faea",
   "metadata": {},
   "outputs": [],
   "source": [
    "ps3.get_app('ec8abf06-eff0-42de-93f5-e8251bbce301')"
   ]
  },
  {
   "cell_type": "code",
   "execution_count": null,
   "id": "8045a69e-28ac-4fc9-bb77-fb74ff78bba9",
   "metadata": {},
   "outputs": [],
   "source": [
    "ps3.list_assets(asset_id='a202367e-75f2-4cb7-be20-d008c9c77aa3')"
   ]
  },
  {
   "cell_type": "code",
   "execution_count": null,
   "id": "c27df8f1-9dd6-4160-9232-31d618c12710",
   "metadata": {},
   "outputs": [],
   "source": [
    "ps3.s3_comm.get_pdf_text('dist/apps/homebase/assets/a51fb128-4832-465a-a959-d5ac7c56a578.pdf', pages=[0])"
   ]
  },
  {
   "cell_type": "code",
   "execution_count": null,
   "id": "52ed6f43-8aae-4792-a470-2f1336a4ddbb",
   "metadata": {},
   "outputs": [],
   "source": [
    "ls src/chains/"
   ]
  },
  {
   "cell_type": "code",
   "execution_count": null,
   "id": "2ce450a8-6394-4c29-9462-c996bf71ce44",
   "metadata": {},
   "outputs": [],
   "source": [
    "import importlib\n",
    "import src\n",
    "# importlib.reload(src.chains.chain_factory)\n",
    "# importlib.reload(src.tools.wall_tools)\n",
    "from src.chains.chain_factory import ChainFactory\n",
    "from langchain_core.output_parsers import StrOutputParser"
   ]
  },
  {
   "cell_type": "code",
   "execution_count": null,
   "id": "4275fb8a-17fe-493d-b655-7a89bff97562",
   "metadata": {},
   "outputs": [],
   "source": [
    "# cf = ChainFactory()\n",
    "# joke_chain = cf.create_chain(\"sumarize\", \"zero_shot/joke\", llm_4o, StrOutputParser)\n",
    "# joke_chain.invoke({\"topic\": \"ice cream\"})"
   ]
  },
  {
   "cell_type": "code",
   "execution_count": null,
   "id": "8887b475-5bcb-498d-aafe-7ea88691be6d",
   "metadata": {},
   "outputs": [],
   "source": [
    "cf.create_chain(\"summarize_text\", \"zero_shot/summarize_text\", llm_4o, StrOutputParser)"
   ]
  },
  {
   "cell_type": "code",
   "execution_count": null,
   "id": "736d873d-f78e-4509-8b43-9e311e1feb15",
   "metadata": {},
   "outputs": [],
   "source": [
    "text = ps3.s3_comm.get_pdf_text('dist/apps/homebase/assets/92d09434-3607-4dd8-9978-9111190b1873.pdf', pages=[0])\n",
    "cf.chains['summarize_text'].invoke({\"query\": text})"
   ]
  },
  {
   "cell_type": "code",
   "execution_count": null,
   "id": "b629db87-8ed8-458b-8163-a7de0bf17ab1",
   "metadata": {},
   "outputs": [],
   "source": []
  },
  {
   "cell_type": "code",
   "execution_count": null,
   "id": "97ddbcff-e075-4894-a1f1-a860e5493230",
   "metadata": {},
   "outputs": [],
   "source": []
  },
  {
   "cell_type": "code",
   "execution_count": null,
   "id": "a719ad03-7ddd-4285-8f9d-ec5898dcf580",
   "metadata": {},
   "outputs": [],
   "source": []
  },
  {
   "cell_type": "code",
   "execution_count": null,
   "id": "26a8f69c-7425-4ee6-8f77-26f3012b055a",
   "metadata": {},
   "outputs": [],
   "source": [
    "from src.prompts.prompt_loader import PromptLoader\n",
    "wall_agent_prompt = PromptLoader.create_prompt(\"src/prompts/\", \"zero_shot\", \"wall_agent\")\n"
   ]
  },
  {
   "cell_type": "code",
   "execution_count": null,
   "id": "f265a217-4e35-4c1e-9353-825a4450be72",
   "metadata": {},
   "outputs": [],
   "source": []
  },
  {
   "cell_type": "code",
   "execution_count": null,
   "id": "4804e048-ffde-46e5-86b9-f76cb463d25c",
   "metadata": {},
   "outputs": [],
   "source": []
  },
  {
   "cell_type": "code",
   "execution_count": null,
   "id": "4204ceb8-2de0-4bd3-91c0-84ac5717201e",
   "metadata": {},
   "outputs": [],
   "source": [
    "from src.tools.wall_tools import CreateAppTool, DeleteAppTool, SummarizeAppsTool, CompleteOrEscalate\n",
    "wall_agent_safe_tools = [CreateAppTool(ps3), SummarizeAppsTool(ps3)]\n",
    "wall_agent_sensitive_tools = [DeleteAppTool(ps3)]\n",
    "wall_agent_tools = wall_agent_safe_tools + wall_agent_sensitive_tools\n",
    "wall_agent_runnable = wall_agent_prompt | llm_4o.bind_tools(\n",
    "    wall_agent_tools + [CompleteOrEscalate]\n",
    ")"
   ]
  },
  {
   "cell_type": "code",
   "execution_count": null,
   "id": "913591e2-a57b-4891-ae5a-0408e70a4671",
   "metadata": {},
   "outputs": [],
   "source": [
    "from langchain.globals import set_debug\n",
    "set_debug(False)\n",
    "\n",
    "# wall_agent_runnable.invoke({\"current_apps\" :\"abc\", \"messages\": [(\"human\", \"Query: create a stickie with the text hello world\")]})"
   ]
  },
  {
   "cell_type": "code",
   "execution_count": null,
   "id": "d10523f4-bfc6-48e9-a3c4-c99906b3fe65",
   "metadata": {},
   "outputs": [],
   "source": [
    "# handle_tool_error is now in utils\n",
    "# create_tool_node_with_fallback is now in utils\n",
    "# Assistant is now oin Utils\n",
    "\n",
    "\n",
    "def wall_agent_routes(\n",
    "    state: State,\n",
    ") -> Literal[\n",
    "    \"wall_agent_safe_tools\",\n",
    "    \"wall_agent_sensitive_tools\",\n",
    "    # \"complete_or_escalate\",\n",
    "    \"__end__\",\n",
    "]:\n",
    "    last_msg = state[\"messages\"][-1]\n",
    "    if not last_msg.tool_calls:\n",
    "        return \"__end__\"\n",
    "\n",
    "    tool_calls = state[\"messages\"][-1].tool_calls\n",
    "    # did_cancel = any(tc[\"name\"] == CompleteOrEscalate.__name__ for tc in tool_calls)\n",
    "    # if did_cancel:\n",
    "    #     return \"complete_or_escalate\"\n",
    "    \n",
    "    safe_toolnames = [t.name for t in wall_agent_safe_tools]\n",
    "    if all(tc[\"name\"] in safe_toolnames for tc in tool_calls):\n",
    "        return \"wall_agent_safe_tools\"\n",
    "    return \"wall_agent_sensitive_tools\"\n",
    "\n"
   ]
  },
  {
   "cell_type": "code",
   "execution_count": null,
   "id": "cbb96b8a-42ac-4fcc-9624-e7c30daac2b8",
   "metadata": {},
   "outputs": [],
   "source": [
    "from typing import Annotated, Optional, Literal, Dict\n",
    "from langchain.pydantic_v1 import BaseModel, Field, UUID4\n",
    "\n",
    "from typing_extensions import TypedDict\n",
    "\n",
    "from langgraph.graph import StateGraph, END\n",
    "from langgraph.graph.message import add_messages\n",
    "from langchain_core.runnables import Runnable, RunnableConfig\n",
    "\n",
    "\n",
    "\n",
    "\n"
   ]
  },
  {
   "cell_type": "code",
   "execution_count": null,
   "id": "14ccd6a9-127f-436f-bc65-1476d552fd75",
   "metadata": {},
   "outputs": [],
   "source": [
    "from langgraph.checkpoint.sqlite import SqliteSaver\n",
    "import uuid\n",
    "graph_builder.add_node(\"wall_agent\", Assistant(wall_agent_runnable))\n",
    "graph_builder.add_node(\"wall_agent_safe_tools\", create_tool_node_with_fallback(wall_agent_safe_tools))\n",
    "graph_builder.add_node(\"wall_agent_sensitive_tools\", create_tool_node_with_fallback(wall_agent_sensitive_tools))\n",
    "\n",
    "graph_builder.add_conditional_edges(\"wall_agent\", wall_agent_routes)\n",
    "graph_builder.add_edge(\"wall_agent_safe_tools\", \"wall_agent\")\n",
    "graph_builder.add_edge(\"wall_agent_sensitive_tools\", \"wall_agent\")\n",
    "\n",
    "graph_builder.set_entry_point(\"wall_agent\")\n"
   ]
  },
  {
   "cell_type": "code",
   "execution_count": null,
   "id": "fec23cd4-52d5-498b-acf8-43a2f38542c9",
   "metadata": {},
   "outputs": [],
   "source": [
    "graph.invoke({\"messages\": [(\"human\", \"Create a red stickie with the text hellow world\")]}, config)"
   ]
  },
  {
   "cell_type": "code",
   "execution_count": null,
   "id": "15f220a1-125c-45f3-bec4-cc48eeaa0585",
   "metadata": {},
   "outputs": [],
   "source": [
    "# resp = graph.nodes['wall_agent'].invoke({\"messages\": [(\"human\", \"Create a red stickie with the text hellow world\")], 'current_apps':'abc'})\n",
    "# resp"
   ]
  },
  {
   "cell_type": "code",
   "execution_count": null,
   "id": "e3319c50-5393-4df5-91f1-b5a766adfbf0",
   "metadata": {},
   "outputs": [],
   "source": [
    "from src.tools.wall_tools import CreateAppTool, DeleteAppTool\n",
    "resp = llm_4o.bind_tools([CreateAppTool(ps3), DeleteAppTool(ps3)]).invoke(\"Create three red stickies with the text hellow world and delete all the yellow the stickies on the wall\")\n",
    "\n"
   ]
  },
  {
   "cell_type": "code",
   "execution_count": null,
   "id": "821c5cbb-ccc3-4923-8978-380f62466ada",
   "metadata": {},
   "outputs": [],
   "source": [
    "resp.tool_calls"
   ]
  },
  {
   "cell_type": "code",
   "execution_count": null,
   "id": "a91d360f-4b2b-4fa4-b078-ffa1a949f120",
   "metadata": {},
   "outputs": [],
   "source": [
    "tn = ToolNode([CreateAppTool(ps3)])"
   ]
  },
  {
   "cell_type": "code",
   "execution_count": null,
   "id": "ea795104-5ddb-4e4b-b516-869bf5be280e",
   "metadata": {},
   "outputs": [],
   "source": [
    "tn.invoke({\"messages\": [resp]})"
   ]
  },
  {
   "cell_type": "code",
   "execution_count": null,
   "id": "b845efc3-ff4a-4482-90b3-9893fa27e6f4",
   "metadata": {},
   "outputs": [],
   "source": []
  },
  {
   "cell_type": "code",
   "execution_count": null,
   "id": "2a99eca6-4ac1-485e-a8c2-68b705a57a07",
   "metadata": {},
   "outputs": [],
   "source": []
  },
  {
   "cell_type": "code",
   "execution_count": null,
   "id": "ae07339f-e805-4612-8ff7-4eb67f369bef",
   "metadata": {},
   "outputs": [],
   "source": []
  },
  {
   "cell_type": "code",
   "execution_count": null,
   "id": "6093c236-784c-41db-85ad-0ef6f08f789f",
   "metadata": {},
   "outputs": [],
   "source": [
    "!pip install langgraph"
   ]
  },
  {
   "cell_type": "code",
   "execution_count": null,
   "id": "2d186ab4-78a8-4713-ae40-908c86888fb0",
   "metadata": {},
   "outputs": [],
   "source": []
  },
  {
   "cell_type": "code",
   "execution_count": null,
   "id": "6fda44cd-0a1d-4996-80ea-5a23b4d571bd",
   "metadata": {},
   "outputs": [],
   "source": [
    "from typing import Annotated, Optional, Literal, Dict\n",
    "from langchain.pydantic_v1 import BaseModel, Field, UUID4\n",
    "\n",
    "from typing_extensions import TypedDict\n",
    "\n",
    "from langgraph.graph import StateGraph\n",
    "from langgraph.graph.message import add_messages\n",
    "\n",
    "\n",
    "class State(TypedDict):\n",
    "    # Messages have the type \"list\". The `add_messages` function\n",
    "    # in the annotation defines how this state key should be updated\n",
    "    # (in this case, it appends messages to the list, rather than overwriting them)\n",
    "    messages: Annotated[list, add_messages]\n",
    "    user_id: Optional[UUID4]\n",
    "    current_apps: Dict\n",
    "\n",
    "\n",
    "graph_builder = StateGraph(State)\n",
    "\n",
    "def node_1(state: State):\n",
    "    return {\"messages\": [(\"human\", \"node_1 input\")]}\n",
    "\n",
    "# def node_2(state: State):\n",
    "#     return {\"messages\": [(\"human\", \"how are you\")]}\n",
    "\n",
    "node_2_p = ChatPromptTemplate.from_messages(\n",
    "    [   (\"human\", \"node_2 before messages\"),  \n",
    "        (\"placeholder\", \"{messages}\"),\n",
    "     (\"human\", \"node_2 after messages\"),  \n",
    "     \n",
    "    ]\n",
    ").partial()\n",
    "\n",
    "node_2_runnable = node_2_p | llm_4o\n",
    "\n",
    "graph_builder.add_node(\"node_1\", node_1)\n",
    "graph_builder.add_node(\"node_2\", Assistant(node_2_runnable))\n",
    "graph_builder.add_edge(\"node_1\", \"node_2\")\n",
    "\n",
    "graph_builder.set_entry_point(\"node_1\")\n",
    "graph_builder.set_finish_point(\"node_2\")\n",
    "graph = graph_builder.compile()"
   ]
  },
  {
   "cell_type": "code",
   "execution_count": null,
   "id": "292eef81-d398-477c-8a5c-490fa405d3ee",
   "metadata": {},
   "outputs": [],
   "source": [
    "# from IPython.display import Image, display\n",
    "\n",
    "# try:\n",
    "#     display(Image(graph.get_graph().draw_mermaid_png()))\n",
    "# except:\n",
    "#     # This requires some extra dependencies and is optional\n",
    "#     pass"
   ]
  },
  {
   "cell_type": "code",
   "execution_count": null,
   "id": "185f1bfc-b76a-4806-bc8f-dfaabac55596",
   "metadata": {},
   "outputs": [],
   "source": [
    "from langchain_core.messages.human import HumanMessage"
   ]
  },
  {
   "cell_type": "code",
   "execution_count": null,
   "id": "6c1598f8-0821-4e8b-bc0d-a2c72aa85a90",
   "metadata": {},
   "outputs": [],
   "source": [
    "s = {'messages': [HumanMessage(content='Hello Input', id='cba94913-770e-4a33-877b-b4ad0e533550'), HumanMessage(content='node_1 input', id='3b7df344-7495-491d-b358-eb6013dd09b3')]}"
   ]
  },
  {
   "cell_type": "code",
   "execution_count": null,
   "id": "29dbbff0-36dc-43bb-80f2-3889f0268bbf",
   "metadata": {},
   "outputs": [],
   "source": [
    "s_2 = node_2_runnable.first.invoke(s)"
   ]
  },
  {
   "cell_type": "code",
   "execution_count": null,
   "id": "70058185-f75f-4ace-92ca-af8f9ebec2da",
   "metadata": {},
   "outputs": [],
   "source": [
    "node_2_runnable.last.invoke(s_2)"
   ]
  },
  {
   "cell_type": "code",
   "execution_count": null,
   "id": "1a0842ca-a194-4844-910d-61ca97162e45",
   "metadata": {},
   "outputs": [],
   "source": [
    "from langchain_core.messages.ai import AIMessage\n",
    "result = AIMessage(content=\"It seems like you're trying to outline a sequence or structure involving nodes and messages. However, the context is a bit unclear. Could you please provide more details or clarify what you're trying to achieve? Are you working on a specific project or problem involving nodes and messages?\", response_metadata={'token_usage': {'completion_tokens': 53, 'prompt_tokens': 35, 'total_tokens': 88}, 'model_name': 'gpt-4o', 'system_fingerprint': 'fp_319be4768e', 'finish_reason': 'stop', 'logprobs': None}, id='run-69c51c62-7b79-45dd-b017-0ca38bc20363-0')"
   ]
  },
  {
   "cell_type": "code",
   "execution_count": null,
   "id": "da4816ea-32fc-4400-91f9-27986c8e7630",
   "metadata": {},
   "outputs": [],
   "source": [
    "isinstance(result.content, list)"
   ]
  },
  {
   "cell_type": "code",
   "execution_count": null,
   "id": "b8b02b38-4c13-425b-81eb-9b89cb0647f6",
   "metadata": {},
   "outputs": [],
   "source": [
    "tools_condition({\"messages\": [resp]})"
   ]
  },
  {
   "cell_type": "code",
   "execution_count": null,
   "id": "30a4e90e-bda5-4d7c-9797-c5833fa39cb3",
   "metadata": {},
   "outputs": [],
   "source": [
    "resp.tool_calls"
   ]
  },
  {
   "cell_type": "code",
   "execution_count": null,
   "id": "ee61bb85-4975-4651-827e-3d275796eafd",
   "metadata": {},
   "outputs": [],
   "source": []
  },
  {
   "cell_type": "code",
   "execution_count": null,
   "id": "259d14bc-b825-4703-9ad9-2f58d18d14b3",
   "metadata": {},
   "outputs": [],
   "source": []
  },
  {
   "cell_type": "code",
   "execution_count": null,
   "id": "ebe58aef-a618-4ac4-95b8-e7605bcb42b8",
   "metadata": {},
   "outputs": [],
   "source": []
  },
  {
   "cell_type": "code",
   "execution_count": null,
   "id": "f398320e-7058-4a2b-a90c-2ba2d2e94238",
   "metadata": {},
   "outputs": [],
   "source": [
    "####"
   ]
  },
  {
   "cell_type": "code",
   "execution_count": null,
   "id": "2f730e48-db89-4791-9574-91777c8fcf69",
   "metadata": {},
   "outputs": [],
   "source": [
    "from src.tools.wall_tools import CreateAppTool, DeleteAppTool, SummarizeAppsTool, CompleteOrEscalate, CreateAppTool\n",
    "import sys\n",
    "sys.path.append(\"/Users/mahdi/Documents/GitHub/next/foresight/\")\n",
    "from foresight.Sage3Sugar.pysage3 import PySage3\n",
    "from src.prompts.prompt_loader import PromptLoader\n",
    "from langgraph.graph import StateGraph\n",
    "from langgraph.checkpoint.sqlite import SqliteSaver\n",
    "from src.utils.utils import Assistant, State, create_tool_node_with_fallback\n",
    "from langchain_openai import ChatOpenAI\n",
    "\n",
    "\n",
    "import uuid\n",
    "\n",
    "keys_to_remove = ['_id', '_createdAt', '_createdBy', '_updatedAt', '_updatedBy',\n",
    "    'touched', 'executeInfo', 'path', 'raised', \n",
    "     'roomId', 'boardId', 'lock', 'dragging', 'pinned', 'rotation'\n",
    "]\n",
    "\n",
    "\n",
    "### TODO: Check with luc if we have this is config?\n",
    "def get_config(prod_type='local'):\n",
    "    conf = {\n",
    "        'local': {\n",
    "            'seer_server': 'http://127.0.0.1:5002',\n",
    "            'jupyter_server': 'http://localhost:8888',\n",
    "            'redis_server': 'localhost',\n",
    "            'web_server': 'http://localhost:3333',\n",
    "            'ws_server': 'ws://localhost:3333'\n",
    "        }\n",
    "    }\n",
    "    return conf[prod_type]\n",
    "\n",
    "def get_app_config():\n",
    "    return {\n",
    "        \"configurable\": {\n",
    "            \"thread_id\": str(uuid.uuid4())\n",
    "        }\n",
    "    }"
   ]
  },
  {
   "cell_type": "code",
   "execution_count": null,
   "id": "4ddd9997-99c8-4f36-8623-39626090452e",
   "metadata": {},
   "outputs": [],
   "source": [
    "def initialize_tools(ps3):\n",
    "    wall_agent_safe_tools = [CreateAppTool(ps3), SummarizeAppsTool(ps3), CreateAppTool(ps3)]\n",
    "    wall_agent_sensitive_tools = [DeleteAppTool(ps3)]\n",
    "    wall_agent_tools = wall_agent_safe_tools + wall_agent_sensitive_tools\n",
    "    return wall_agent_safe_tools, wall_agent_sensitive_tools, wall_agent_tools\n",
    "\n",
    "# prompts.py\n",
    "\n",
    "def load_wall_agent_prompt():\n",
    "    return PromptLoader.create_prompt(\"src/prompts/\", \"zero_shot\", \"wall_agent\")"
   ]
  },
  {
   "cell_type": "code",
   "execution_count": null,
   "id": "1cd2193b-0c83-4ee6-a144-2fc3303e8045",
   "metadata": {},
   "outputs": [],
   "source": [
    "def wall_agent_routes(state: State, wall_agent_safe_tools):\n",
    "    last_msg = state[\"messages\"][-1]\n",
    "    if not last_msg.tool_calls:\n",
    "        return \"__end__\"\n",
    "\n",
    "    tool_calls = state[\"messages\"][-1].tool_calls\n",
    "    safe_toolnames = [t.name for t in wall_agent_safe_tools]\n",
    "    if all(tc[\"name\"] in safe_toolnames for tc in tool_calls):\n",
    "        return \"wall_agent_safe_tools\"\n",
    "    return \"wall_agent_sensitive_tools\""
   ]
  },
  {
   "cell_type": "code",
   "execution_count": null,
   "id": "ba330550-7235-4891-99fb-1199577ef8f5",
   "metadata": {},
   "outputs": [],
   "source": [
    "def build_graph(wall_agent_runnable, wall_agent_safe_tools, wall_agent_sensitive_tools):\n",
    "    graph_builder = StateGraph(State)\n",
    "\n",
    "    graph_builder.add_node(\"wall_agent\", Assistant(wall_agent_runnable))\n",
    "    graph_builder.add_node(\"wall_agent_safe_tools\", create_tool_node_with_fallback(wall_agent_safe_tools))\n",
    "    graph_builder.add_node(\"wall_agent_sensitive_tools\", create_tool_node_with_fallback(wall_agent_sensitive_tools))\n",
    "\n",
    "    graph_builder.add_conditional_edges(\"wall_agent\", lambda state: wall_agent_routes(state, wall_agent_safe_tools))\n",
    "    graph_builder.add_edge(\"wall_agent_safe_tools\", \"wall_agent\")\n",
    "    graph_builder.add_edge(\"wall_agent_sensitive_tools\", \"wall_agent\")\n",
    "\n",
    "    graph_builder.set_entry_point(\"wall_agent\")\n",
    "\n",
    "    memory = SqliteSaver.from_conn_string(\":memory:\")\n",
    "    return graph_builder.compile(checkpointer=memory)\n",
    "    "
   ]
  },
  {
   "cell_type": "code",
   "execution_count": null,
   "id": "7d55723e-67e5-4d10-85f1-e1074ac1a975",
   "metadata": {},
   "outputs": [],
   "source": [
    "# Initialize PySage3\n",
    "from foresight.Sage3Sugar.pysage3 import PySage3\n",
    "\n",
    "prod_type= 'local'\n",
    "conf = {'local': {'seer_server': 'http://127.0.0.1:5002',\n",
    "  'jupyter_server': 'http://localhost:8888',\n",
    "  'redis_server': 'localhost',\n",
    "  'web_server': 'http://localhost:3333',\n",
    "  'ws_server': 'ws://localhost:3333'}}\n",
    "\n",
    "room_id = \"d6640933-7b9f-4536-a263-02a514ff092a\"\n",
    "board_id = \"02fc98df-b4f1-470c-8516-7221c3095de7\"\n",
    "\n",
    "\n",
    "# app_id = '4a29b8bf-9e72-4366-8946-d808e2e3d465'\n",
    "ps3 = PySage3(conf, prod_type)\n"
   ]
  },
  {
   "cell_type": "code",
   "execution_count": null,
   "id": "f16ba5b1-dd09-4b09-9512-bc3576e7591a",
   "metadata": {},
   "outputs": [],
   "source": [
    "wall_agent_safe_tools, wall_agent_sensitive_tools, wall_agent_tools = initialize_tools(ps3)\n",
    "wall_agent_safe_tools, wall_agent_sensitive_tools, wall_agent_tools\n"
   ]
  },
  {
   "cell_type": "code",
   "execution_count": null,
   "id": "b66df2e2-284f-40c8-9107-2245323cfba2",
   "metadata": {},
   "outputs": [],
   "source": [
    "wall_agent_prompt = load_wall_agent_prompt()\n",
    "llm_4o = ChatOpenAI(temperature=0.2, model=\"gpt-4o\")"
   ]
  },
  {
   "cell_type": "code",
   "execution_count": null,
   "id": "74ec66a9-1999-4b70-bafc-c4db2a8e33c3",
   "metadata": {},
   "outputs": [],
   "source": [
    "wall_agent_runnable = wall_agent_prompt | llm_4o.bind_tools(\n",
    "    wall_agent_tools + [CompleteOrEscalate], ) \n",
    "\n",
    "config = get_app_config()\n",
    "# Build graph\n",
    "graph = build_graph(wall_agent_runnable, wall_agent_safe_tools, wall_agent_sensitive_tools)"
   ]
  },
  {
   "cell_type": "code",
   "execution_count": null,
   "id": "4c6a1101-a4b7-4f08-8d29-6711b70059cb",
   "metadata": {},
   "outputs": [],
   "source": [
    "config = get_app_config()\n",
    "current_apps = ps3.get_apps(room_id, board_id, add_tags=True, filter_tags= keys_to_remove)\n",
    "current_assets = ps3.list_assets()\n",
    "# graph.invoke({\"messages\": [(\"human\", \"open a the pdf file\")], 'current_apps':current_apps, 'current_assets':current_assets}, config)"
   ]
  },
  {
   "cell_type": "code",
   "execution_count": null,
   "id": "62ea4350-4a0f-4dd5-862c-c12926fb507a",
   "metadata": {},
   "outputs": [],
   "source": [
    "resp = graph.nodes[\"wall_agent\"].invoke({\"messages\": [(\"human\", \"Summarize all the stickies on the wall\")], 'current_apps':current_apps, 'current_assets':current_assets}, config)"
   ]
  },
  {
   "cell_type": "code",
   "execution_count": null,
   "id": "e56ee779-e5f1-4707-ab25-ea8963e2b1e9",
   "metadata": {},
   "outputs": [],
   "source": [
    "resp[\"messages\"].tool_calls"
   ]
  },
  {
   "cell_type": "code",
   "execution_count": null,
   "id": "f1dc38ab-ff79-4b78-832c-f5268dabaf5a",
   "metadata": {},
   "outputs": [],
   "source": [
    "import sqlite3\n",
    "db = sqlite3.connect(\"file::memory:\")"
   ]
  },
  {
   "cell_type": "code",
   "execution_count": null,
   "id": "3fc7fa80-3467-4019-aece-75cc98f54f83",
   "metadata": {},
   "outputs": [],
   "source": [
    "dir(graph.checkpointer)"
   ]
  },
  {
   "cell_type": "code",
   "execution_count": null,
   "id": "35f2fd6a-081e-4766-80f7-ee5ee0f681cd",
   "metadata": {},
   "outputs": [],
   "source": [
    "conn = graph.checkpointer.conn"
   ]
  },
  {
   "cell_type": "code",
   "execution_count": null,
   "id": "8f5bd3e6-1bf5-4202-9e10-c9d5ef213ec3",
   "metadata": {},
   "outputs": [],
   "source": [
    "query = \"SELECT name FROM sqlite_master WHERE type='table';\""
   ]
  },
  {
   "cell_type": "code",
   "execution_count": null,
   "id": "db4c405d-8af8-4f4c-bfd9-3c5324b34e5d",
   "metadata": {},
   "outputs": [],
   "source": [
    "tables = conn.execute(query).fetchall()\n",
    "print(\"Tables in the database:\", tables)"
   ]
  },
  {
   "cell_type": "code",
   "execution_count": null,
   "id": "befed34d-d447-4bc0-b666-c977fb43c839",
   "metadata": {},
   "outputs": [],
   "source": [
    "x = conn.execute(\"select * from checkpoints\").fetchall()\n",
    "len(x)"
   ]
  },
  {
   "cell_type": "code",
   "execution_count": null,
   "id": "eeac35d6-bbf8-4a2b-8fc6-4416fd0d8c20",
   "metadata": {},
   "outputs": [],
   "source": [
    "json.loads(x[0][4].decode('utf-8'))"
   ]
  },
  {
   "cell_type": "code",
   "execution_count": null,
   "id": "ed753a46-9427-421d-a8a2-ab176c8aaa4f",
   "metadata": {},
   "outputs": [],
   "source": [
    "ps3.list_assets()"
   ]
  },
  {
   "cell_type": "code",
   "execution_count": null,
   "id": "e4358d17-642b-4d15-81e8-e7e68cb1ec74",
   "metadata": {},
   "outputs": [],
   "source": []
  },
  {
   "cell_type": "code",
   "execution_count": null,
   "id": "83822c84-1777-4e2d-acdb-4af1add50d2f",
   "metadata": {},
   "outputs": [],
   "source": []
  },
  {
   "cell_type": "code",
   "execution_count": null,
   "id": "c65cfe66-33c3-49c0-96eb-735a921eddd2",
   "metadata": {},
   "outputs": [],
   "source": []
  },
  {
   "cell_type": "code",
   "execution_count": null,
   "id": "d7bc9902-00f6-485e-b2e6-9f2818f4186f",
   "metadata": {},
   "outputs": [],
   "source": []
  },
  {
   "cell_type": "code",
   "execution_count": null,
   "id": "1f82f822-1264-4bd8-939e-e4062ef3f278",
   "metadata": {},
   "outputs": [],
   "source": []
  },
  {
   "cell_type": "code",
   "execution_count": null,
   "id": "c53ac1bf-62c0-4f56-858e-d6b7fcebf8d7",
   "metadata": {},
   "outputs": [],
   "source": [
    "import sys\n",
    "sys.path.append(\"/Users/mahdi/Documents/GitHub/next/foresight/\")\n",
    "\n",
    "from foresight.Sage3Sugar.pysage3 import PySage3\n",
    "\n",
    "prod_type= 'local'\n",
    "conf = {'local': {'seer_server': 'http://127.0.0.1:5002',\n",
    "  'jupyter_server': 'http://localhost:8888',\n",
    "  'redis_server': 'localhost',\n",
    "  'web_server': 'http://localhost:3333',\n",
    "  'ws_server': 'ws://localhost:3333'}}\n",
    "\n",
    "room_id = \"d6640933-7b9f-4536-a263-02a514ff092a\"\n",
    "board_id = \"02fc98df-b4f1-470c-8516-7221c3095de7\"\n",
    "\n",
    "\n",
    "# app_id = '4a29b8bf-9e72-4366-8946-d808e2e3d465'\n",
    "ps3 = PySage3(conf, prod_type)\n",
    "\n",
    "current_assets = ps3.list_assets()\n",
    "current_apps = ps3.get_apps(room_id, board_id, add_tags=True, filter_tags= keys_to_remove) \n",
    "current_apps = ps3.list_assets()"
   ]
  },
  {
   "cell_type": "code",
   "execution_count": null,
   "id": "9360ba99-1576-4b77-a42b-a56be1600eab",
   "metadata": {},
   "outputs": [],
   "source": [
    "current_assets\n"
   ]
  },
  {
   "cell_type": "code",
   "execution_count": null,
   "id": "411682e9-861b-493c-9e1b-7cc06150b25b",
   "metadata": {},
   "outputs": [],
   "source": [
    "from src.prompts.prompt_loader import PromptLoader\n",
    "from src.tools.wall_tools import CreateAppTool, DeleteAppTool, OpenAssetTool, CompleteOrEscalate\n",
    "from langchain_openai import ChatOpenAI\n",
    "llm_4o = ChatOpenAI(temperature=0, model=\"gpt-4o\")\n",
    "llm = llm_4o.bind_tools([CreateAppTool(ps3), CompleteOrEscalate])\n",
    "create_app_prompt = PromptLoader.create_prompt(PROMPTS_DIR, \"zero_shot\", \"create_app\")\n",
    "resp  = (create_app_prompt | llm).invoke({\"current_apps\": current_apps, \"query\": \"Create a red stickie with text of Yo\"})\n"
   ]
  },
  {
   "cell_type": "code",
   "execution_count": null,
   "id": "b1ccc2e5-c259-4eae-a5cc-198947aefa93",
   "metadata": {},
   "outputs": [],
   "source": []
  },
  {
   "cell_type": "code",
   "execution_count": null,
   "id": "1eba9bf9-3a78-454c-9a4b-3252296e0eb0",
   "metadata": {},
   "outputs": [],
   "source": [
    "from langgraph.prebuilt import ToolNode"
   ]
  },
  {
   "cell_type": "code",
   "execution_count": null,
   "id": "d1f814b9-7233-4280-bacd-51e6160aa32d",
   "metadata": {},
   "outputs": [],
   "source": [
    "ToolNode"
   ]
  },
  {
   "cell_type": "code",
   "execution_count": null,
   "id": "d12dd688-079d-4ec6-bec4-6246c43c2524",
   "metadata": {},
   "outputs": [],
   "source": []
  },
  {
   "cell_type": "code",
   "execution_count": null,
   "id": "36aec181-5023-4996-861d-9cee2738f96a",
   "metadata": {},
   "outputs": [],
   "source": []
  },
  {
   "cell_type": "code",
   "execution_count": null,
   "id": "2ba9bfe1-693f-4a16-8249-230aa926e26d",
   "metadata": {},
   "outputs": [],
   "source": [
    "### Final Version"
   ]
  },
  {
   "cell_type": "code",
   "execution_count": null,
   "id": "a83dcb04-70bf-4bf4-a949-97c6d60ebaa0",
   "metadata": {},
   "outputs": [],
   "source": [
    "from langchain.pydantic_v1 import BaseModel\n",
    "from langchain_openai import ChatOpenAI\n",
    "\n",
    "llm_4o = ChatOpenAI(temperature=0.1, model=\"gpt-4o\")\n",
    "\n",
    "class PythonDataScience(BaseModel):\n",
    "    \"\"\" \n",
    "    A tool that is able transform a natural query into Python code for data science. The tools knows how to access local files and  and Pandas \n",
    "    to execute data science queries. The tools returns the reason it belives this is a data science query.\n",
    "    \"\"\"\n",
    "\n",
    "    reason: str \n",
    "\n",
    "    class Config:\n",
    "        schema_extra = {\n",
    "            \"example\": {\n",
    "                \"prompt\": \"Can you compute the average user's age?\",\n",
    "                \"reason\": \"The user age is a column in the db. I can use pandas to compute the average of that column\",\n",
    "            }\n",
    "        }\n",
    "\n",
    "class SAGE3Wall(BaseModel):\n",
    "    \"\"\" \n",
    "    A tool that is able transform a natural query into an action on the SAGE3 wall, a sort of large infinite canvas desktop. \n",
    "    The Sage3Wall can be used to create and move Stickie, Counter, PDFViewer and ImageViewer and other apps. \n",
    "    This tool can also allw the user to interact with text contained in the apps on the wall to answer questions or provide summaries.\n",
    "    \"\"\"\n",
    "\n",
    "    reason: str \n",
    "\n",
    "    class Config:\n",
    "        schema_extra = {\n",
    "            \"example\": {\n",
    "                \"prompt\": \"Can you create a stickie on the wall?\",\n",
    "                \"reason\": \"I am a tool that can maipulare valid apps such as stickies, therefore, I can create stickies on the wall\",\n",
    "            }\n",
    "        }\n",
    "\n",
    "class OtherRequest(BaseModel):\n",
    "    \"\"\" \n",
    "        A tools is called if the query or prompt form the user is anything but Sage3 or Analytics related\n",
    "    \"\"\"\n",
    "\n",
    "    reason: str \n",
    "\n",
    "    class Config:\n",
    "        schema_extra = {\n",
    "            \"example\": {\n",
    "                \"prompt\": \"What time is it?\",\n",
    "                \"reason\": \"Time is neither a data science of an SAGE3 wall agent taks. So I need to call OtherREquest\",\n",
    "            }\n",
    "        }\n",
    "\n"
   ]
  },
  {
   "cell_type": "code",
   "execution_count": null,
   "id": "e539800f-6b9c-41af-8116-7441adc05996",
   "metadata": {},
   "outputs": [],
   "source": []
  },
  {
   "cell_type": "code",
   "execution_count": null,
   "id": "a47c1b1b-85d5-4278-804f-eb1bff67ce5e",
   "metadata": {},
   "outputs": [],
   "source": []
  },
  {
   "cell_type": "code",
   "execution_count": null,
   "id": "08aaa472-bb65-4295-9e86-7529f35b176b",
   "metadata": {},
   "outputs": [],
   "source": []
  },
  {
   "cell_type": "code",
   "execution_count": null,
   "id": "dfc13555-b124-42cd-ab6d-5cea9f5bb6bc",
   "metadata": {},
   "outputs": [],
   "source": []
  },
  {
   "cell_type": "code",
   "execution_count": null,
   "id": "53bdbd52-11d0-4319-bc81-987e96db397c",
   "metadata": {},
   "outputs": [],
   "source": []
  },
  {
   "cell_type": "code",
   "execution_count": null,
   "id": "cbb3d611-ecea-4c63-8641-437926bc8f60",
   "metadata": {},
   "outputs": [],
   "source": []
  },
  {
   "cell_type": "code",
   "execution_count": null,
   "id": "a3c1c568-8ca5-4e65-a169-d6a1648931fc",
   "metadata": {},
   "outputs": [],
   "source": []
  },
  {
   "cell_type": "code",
   "execution_count": null,
   "id": "641ec02f-c95d-455a-baeb-ffed74d53fdd",
   "metadata": {},
   "outputs": [],
   "source": []
  },
  {
   "cell_type": "code",
   "execution_count": 1,
   "id": "a4faac4c-c359-4ac1-b301-bac162edf5b6",
   "metadata": {},
   "outputs": [
    {
     "name": "stdout",
     "output_type": "stream",
     "text": [
      "Configuring ps3 client ... \n",
      "Completed configuring Sage3 Client\n"
     ]
    }
   ],
   "source": [
    "from langchain.globals import set_debug\n",
    "set_debug(True)\n",
    "\n",
    "import sys\n",
    "sys.path.append(\"/Users/mahdi/Documents/GitHub/next/foresight/\")\n",
    "\n",
    "from foresight.Sage3Sugar.pysage3 import PySage3\n",
    "\n",
    "prod_type= 'local'\n",
    "conf = {'local': {'seer_server': 'http://127.0.0.1:5002',\n",
    "  'jupyter_server': 'http://localhost:8888',\n",
    "  'redis_server': 'localhost',\n",
    "  'web_server': 'http://localhost:3333',\n",
    "  'ws_server': 'ws://localhost:3333'}}\n",
    "\n",
    "room_id = \"d6640933-7b9f-4536-a263-02a514ff092a\"\n",
    "board_id = \"02fc98df-b4f1-470c-8516-7221c3095de7\"\n",
    "\n",
    "keys_to_remove = ['_id', '_createdAt', '_createdBy', '_updatedAt', '_updatedBy',\n",
    "    'touched', 'executeInfo', 'path', 'raised', \n",
    "     'roomId', 'boardId', 'lock', 'dragging', 'pinned', 'rotation'\n",
    "]\n",
    "\n",
    "\n",
    "# app_id = '4a29b8bf-9e72-4366-8946-d808e2e3d465'\n",
    "ps3 = PySage3(conf, prod_type)\n"
   ]
  },
  {
   "cell_type": "code",
   "execution_count": 4,
   "id": "7db4851a-9e52-4113-a7e3-530c66095b44",
   "metadata": {},
   "outputs": [
    {
     "data": {
      "text/plain": [
       "[('61535d5f-fd81-43c7-9c56-27f80b60df02',\n",
       "  Stickie(path='', touched=set(), app_id='61535d5f-fd81-43c7-9c56-27f80b60df02', data=Data(path='.data', touched=set(), position=Position(path='.data.position', touched=set(), x=1500589, y=1500262, z=0), size=Size(path='.data.size', touched=set(), width=400, height=420, depth=0), rotation=Rotation(path='.data.rotation', touched=set(), x=0, y=0, z=0), type='Stickie', raised=True, title='Mahdi Bel-caid', roomId='d6640933-7b9f-4536-a263-02a514ff092a', boardId='02fc98df-b4f1-470c-8516-7221c3095de7', dragging=False, pinned=False), state=StickieState(path='.state', touched=set(), text='test 1', fontSize=36, color='yellow', lock=False, executeInfo=ExecuteInfo(path='.state.executeInfo', touched=set(), executeFunc='', params={}))))]"
      ]
     },
     "execution_count": 4,
     "metadata": {},
     "output_type": "execute_result"
    }
   ],
   "source": [
    "list(ps3.rooms['d6640933-7b9f-4536-a263-02a514ff092a'].boards['02fc98df-b4f1-470c-8516-7221c3095de7'].smartbits)"
   ]
  },
  {
   "cell_type": "code",
   "execution_count": 2,
   "id": "a228d1e1-747e-4aaf-8009-43dcabb79778",
   "metadata": {},
   "outputs": [],
   "source": [
    "current_apps = ps3.get_apps(room_id, board_id, add_tags=True, filter_tags= keys_to_remove)\n",
    "current_assets = ps3.list_assets()\n"
   ]
  },
  {
   "cell_type": "code",
   "execution_count": null,
   "id": "a1bfb5c2-347d-49be-8b21-e0123f1aa1d0",
   "metadata": {},
   "outputs": [],
   "source": [
    "from src.graph import build_graph, initialize_tools, load_wall_agent_prompt, get_app_config"
   ]
  },
  {
   "cell_type": "code",
   "execution_count": null,
   "id": "01e59ec2-671d-4ca5-9037-ef67890e04cf",
   "metadata": {},
   "outputs": [],
   "source": [
    "wall_agent_safe_tools, wall_agent_sensitive_tools, wall_agent_tools = initialize_tools(ps3)\n",
    "wall_agent_prompt = load_wall_agent_prompt()\n"
   ]
  },
  {
   "cell_type": "code",
   "execution_count": null,
   "id": "9b56de12-15ec-49bd-95e0-01221ae6b64f",
   "metadata": {},
   "outputs": [],
   "source": [
    "from langchain_openai import ChatOpenAI\n",
    "llm_4o = ChatOpenAI(temperature=0.1, model=\"gpt-4o\")\n",
    "wall_agent_runnable = wall_agent_prompt | llm_4o.bind_tools(wall_agent_tools, tool_choice=\"any\") "
   ]
  },
  {
   "cell_type": "code",
   "execution_count": null,
   "id": "07f399de-82c0-4e45-96a3-7cb43a18a538",
   "metadata": {},
   "outputs": [],
   "source": [
    "config = get_app_config()\n",
    "\n",
    "graph = build_graph(wall_agent_runnable, wall_agent_safe_tools, wall_agent_sensitive_tools)"
   ]
  },
  {
   "cell_type": "code",
   "execution_count": null,
   "id": "76db36ae-bc3c-404d-bb82-16b24641d495",
   "metadata": {},
   "outputs": [],
   "source": [
    "current_apps = ps3.get_apps(room_id, board_id, add_tags=True, filter_tags= keys_to_remove)\n",
    "current_assets = ps3.list_assets()\n",
    "\n",
    "graph.invoke({\"messages\": [(\"human\", \"Create a stickie that says Ciao\")], 'current_apps':current_apps, 'current_assets':current_assets}, config)"
   ]
  },
  {
   "cell_type": "code",
   "execution_count": null,
   "id": "40c091f5-0ffa-4639-b2e0-e12db6906adf",
   "metadata": {},
   "outputs": [],
   "source": []
  },
  {
   "cell_type": "code",
   "execution_count": null,
   "id": "98c9a25a-db91-4924-a977-772c911b4d17",
   "metadata": {},
   "outputs": [],
   "source": []
  },
  {
   "cell_type": "code",
   "execution_count": null,
   "id": "71bc5fa9-9650-4612-b5e8-d121613a8f8a",
   "metadata": {},
   "outputs": [],
   "source": []
  },
  {
   "cell_type": "code",
   "execution_count": null,
   "id": "1a5d8ca6-716a-443b-ab54-8c97bb92fce7",
   "metadata": {},
   "outputs": [],
   "source": []
  },
  {
   "cell_type": "code",
   "execution_count": null,
   "id": "5c685c90-3c15-4a4a-a4c1-f5bbacedaa68",
   "metadata": {},
   "outputs": [],
   "source": []
  },
  {
   "cell_type": "code",
   "execution_count": null,
   "id": "0759420b-ae86-4120-bf19-74420769e0fd",
   "metadata": {},
   "outputs": [],
   "source": []
  },
  {
   "cell_type": "code",
   "execution_count": null,
   "id": "1e6e4ed5-f1e4-4c71-95f8-413180ac95e6",
   "metadata": {},
   "outputs": [],
   "source": [
    "graph.get_state(config).values['messages']"
   ]
  },
  {
   "cell_type": "code",
   "execution_count": null,
   "id": "649b628b-c8bd-4d07-8831-62b558bc939d",
   "metadata": {},
   "outputs": [],
   "source": [
    "resp = graph.nodes['wall_agent'].invoke({\"messages\": [(\"human\", \"Create a new stickie that says Bonjour Mundo\")], 'current_apps':current_apps, 'current_assets':current_assets}, config)\n",
    "resp"
   ]
  },
  {
   "cell_type": "code",
   "execution_count": null,
   "id": "c7bcc4ae-5c68-4669-accb-74932ed0c2c5",
   "metadata": {},
   "outputs": [],
   "source": [
    "resp['messages'].tool_calls"
   ]
  },
  {
   "cell_type": "code",
   "execution_count": null,
   "id": "157a3b2f-dd48-4202-b461-e8db8a0b3b3e",
   "metadata": {},
   "outputs": [],
   "source": [
    "graph.get_state(config)"
   ]
  },
  {
   "cell_type": "code",
   "execution_count": null,
   "id": "d9a202d9-c936-4e10-92cd-9d578c4131dd",
   "metadata": {},
   "outputs": [],
   "source": [
    "graph.update_state(config, resp, as_node=\"wall_agent\")\n",
    "current_info = {'current_apps':current_apps, 'current_assets':current_assets}\n",
    "graph.update_state(config, current_info, as_node=\"wall_agent\")"
   ]
  },
  {
   "cell_type": "code",
   "execution_count": null,
   "id": "2b18a69f-ed27-4e38-8744-aef0c7599617",
   "metadata": {},
   "outputs": [],
   "source": [
    "graph.get_state(config).values"
   ]
  },
  {
   "cell_type": "code",
   "execution_count": null,
   "id": "d3603145-1a19-4309-be29-927964ab84b7",
   "metadata": {},
   "outputs": [],
   "source": [
    "graph.get_state(config).next"
   ]
  },
  {
   "cell_type": "code",
   "execution_count": null,
   "id": "baf09cd1-2052-4f80-82a4-2c2f2fbc82bc",
   "metadata": {},
   "outputs": [],
   "source": [
    "resp = graph.nodes['wall_agent_safe_tools'].invoke(graph.get_state(config).values, config)\n",
    "resp"
   ]
  },
  {
   "cell_type": "code",
   "execution_count": null,
   "id": "28857f91-8b2d-4efe-abda-923675ae1513",
   "metadata": {},
   "outputs": [],
   "source": [
    "resp[\"messages\"][-1]"
   ]
  },
  {
   "cell_type": "code",
   "execution_count": null,
   "id": "5cf5bfb8-d51c-4ca0-bfa0-38414dc8635d",
   "metadata": {},
   "outputs": [],
   "source": [
    "graph.update_state(config, resp, as_node=\"wall_agent_safe_tools\")"
   ]
  },
  {
   "cell_type": "code",
   "execution_count": null,
   "id": "deed3881-0fb6-458c-89ec-c165d53afe15",
   "metadata": {},
   "outputs": [],
   "source": [
    "graph.get_state(config).values['messages']"
   ]
  },
  {
   "cell_type": "code",
   "execution_count": null,
   "id": "3aed4b4b-9790-4b80-9d9b-92755167ec09",
   "metadata": {},
   "outputs": [],
   "source": [
    "graph.get_state(config).next"
   ]
  },
  {
   "cell_type": "code",
   "execution_count": null,
   "id": "d0c339a5-eb5b-408e-8e76-87be4143d3dd",
   "metadata": {},
   "outputs": [],
   "source": [
    "resp = graph.nodes['wall_agent'].invoke(graph.get_state(config).values, config)\n",
    "resp"
   ]
  },
  {
   "cell_type": "code",
   "execution_count": null,
   "id": "8c0d6f78-8a72-4e16-90ad-43d55a330c05",
   "metadata": {},
   "outputs": [],
   "source": [
    "resp['messages'].tool_calls"
   ]
  },
  {
   "cell_type": "code",
   "execution_count": null,
   "id": "f4ce0abb-c90b-4844-ba11-378e44f3c2a4",
   "metadata": {},
   "outputs": [],
   "source": [
    "graph.update_state(config, resp, as_node=\"wall_agent\")"
   ]
  },
  {
   "cell_type": "code",
   "execution_count": null,
   "id": "4a4f0f0a-7865-4bca-866d-8695887a376c",
   "metadata": {},
   "outputs": [],
   "source": [
    "graph.get_state(config).next"
   ]
  },
  {
   "cell_type": "code",
   "execution_count": null,
   "id": "f31403f9-5284-4acc-8906-06806302d3f7",
   "metadata": {},
   "outputs": [],
   "source": [
    "resp = graph.nodes['complete'].invoke(graph.get_state(config).values, config)\n",
    "resp"
   ]
  },
  {
   "cell_type": "code",
   "execution_count": null,
   "id": "eaae08ea-5e37-4340-9fec-d052fa1a22bf",
   "metadata": {},
   "outputs": [],
   "source": [
    "graph.update_state(config, resp, as_node=\"complete\")"
   ]
  },
  {
   "cell_type": "code",
   "execution_count": null,
   "id": "a281bf2a-2719-44bd-b79c-c5a73e6c0b37",
   "metadata": {},
   "outputs": [],
   "source": [
    "graph.get_state(config).next"
   ]
  },
  {
   "cell_type": "code",
   "execution_count": null,
   "id": "bb043a61-4986-4b22-a41d-30d6e62f8795",
   "metadata": {},
   "outputs": [],
   "source": [
    "# s = graph.get_state(config).values\n",
    "# last_message = s[\"messages\"][-1]\n",
    "# last_message"
   ]
  },
  {
   "cell_type": "code",
   "execution_count": null,
   "id": "32ba00fd-45dd-4d6e-829e-c25294b70fbc",
   "metadata": {},
   "outputs": [],
   "source": [
    "# from langchain_core.messages import ToolMessage"
   ]
  },
  {
   "cell_type": "code",
   "execution_count": null,
   "id": "496dfe50-5c7b-4edc-9cb5-6e95419cc556",
   "metadata": {},
   "outputs": [],
   "source": [
    "        # ToolMessage(\n",
    "        #     content=last_message.tool_calls[0][\"args\"][\"reason\"],\n",
    "        #     tool_call_id=last_message.tool_calls[0][\"id\"],\n",
    "        # )"
   ]
  },
  {
   "cell_type": "code",
   "execution_count": null,
   "id": "c1e50dec-24d4-4d2d-a06c-00c46eb12518",
   "metadata": {},
   "outputs": [],
   "source": [
    "graph.invoke({\"messages\": [(\"human\", \"Create a stickie on the wall\")], 'current_apps':current_apps, 'current_assets':current_assets}, config)"
   ]
  },
  {
   "cell_type": "code",
   "execution_count": null,
   "id": "6a385aa5-db4d-42c6-9c5f-e90a6c94499d",
   "metadata": {},
   "outputs": [],
   "source": []
  },
  {
   "cell_type": "code",
   "execution_count": null,
   "id": "493f0f0a-c92c-45aa-9368-11cd2b57c1e8",
   "metadata": {},
   "outputs": [],
   "source": []
  },
  {
   "cell_type": "code",
   "execution_count": null,
   "id": "fde9f728-8c01-4516-8a2c-e64c1911a1f5",
   "metadata": {},
   "outputs": [],
   "source": [
    "resp = graph.nodes['wall_agent'].invoke({\"messages\": [(\"human\", \"Create 5 stickies that say Bonjour in different languages\")], 'current_apps':current_apps, 'current_assets':current_assets}, config)\n",
    "resp"
   ]
  },
  {
   "cell_type": "code",
   "execution_count": null,
   "id": "d1a4f0d7-1bc6-43cd-8a1f-49c62d523f4d",
   "metadata": {},
   "outputs": [],
   "source": [
    "resp['messages'].tool_calls"
   ]
  },
  {
   "cell_type": "code",
   "execution_count": 8,
   "id": "96a69f09-fc14-4bf9-8cd4-6291a99da07b",
   "metadata": {},
   "outputs": [],
   "source": [
    "s_bits = [x[1] for x in list(ps3.get_smartbits(room_id, board_id))]"
   ]
  },
  {
   "cell_type": "code",
   "execution_count": 9,
   "id": "29edfb9b-da4a-42a3-8479-e8fb637e1907",
   "metadata": {},
   "outputs": [
    {
     "data": {
      "text/plain": [
       "[Stickie(path='', touched=set(), app_id='61535d5f-fd81-43c7-9c56-27f80b60df02', data=Data(path='.data', touched=set(), position=Position(path='.data.position', touched=set(), x=1500589, y=1500262, z=0), size=Size(path='.data.size', touched=set(), width=400, height=420, depth=0), rotation=Rotation(path='.data.rotation', touched=set(), x=0, y=0, z=0), type='Stickie', raised=False, title='Mahdi Bel-caid', roomId='d6640933-7b9f-4536-a263-02a514ff092a', boardId='02fc98df-b4f1-470c-8516-7221c3095de7', dragging=False, pinned=False), state=StickieState(path='.state', touched=set(), text='test 1', fontSize=36, color='yellow', lock=False, executeInfo=ExecuteInfo(path='.state.executeInfo', touched=set(), executeFunc='', params={}))),\n",
       " Stickie(path='', touched=set(), app_id='1cd94bc5-1d2f-4002-9d1a-16a95a3eadf4', data=Data(path='.data', touched=set(), position=Position(path='.data.position', touched=set(), x=1501077, y=1500130, z=0), size=Size(path='.data.size', touched=set(), width=400, height=420, depth=0), rotation=Rotation(path='.data.rotation', touched=set(), x=0, y=0, z=0), type='Stickie', raised=False, title='Mahdi Bel-caid', roomId='d6640933-7b9f-4536-a263-02a514ff092a', boardId='02fc98df-b4f1-470c-8516-7221c3095de7', dragging=False, pinned=False), state=StickieState(path='.state', touched=set(), text='test 2', fontSize=36, color='yellow', lock=False, executeInfo=ExecuteInfo(path='.state.executeInfo', touched=set(), executeFunc='', params={}))),\n",
       " Stickie(path='', touched=set(), app_id='ff899e70-74cb-47b9-96ea-5c13e790bf07', data=Data(path='.data', touched=set(), position=Position(path='.data.position', touched=set(), x=1500961, y=1500723, z=0), size=Size(path='.data.size', touched=set(), width=400, height=420, depth=0), rotation=Rotation(path='.data.rotation', touched=set(), x=0, y=0, z=0), type='Stickie', raised=True, title='Mahdi Bel-caid', roomId='d6640933-7b9f-4536-a263-02a514ff092a', boardId='02fc98df-b4f1-470c-8516-7221c3095de7', dragging=False, pinned=False), state=StickieState(path='.state', touched=set(), text='test 3', fontSize=36, color='yellow', lock=False, executeInfo=ExecuteInfo(path='.state.executeInfo', touched=set(), executeFunc='', params={})))]"
      ]
     },
     "execution_count": 9,
     "metadata": {},
     "output_type": "execute_result"
    }
   ],
   "source": [
    "s_bits"
   ]
  },
  {
   "cell_type": "code",
   "execution_count": 11,
   "id": "504a1420-8451-422e-9c0e-1989fd5aeae8",
   "metadata": {},
   "outputs": [
    {
     "name": "stdout",
     "output_type": "stream",
     "text": [
      "Getting ready to adjust positions\n"
     ]
    }
   ],
   "source": [
    "ps3.align_selected_apps(s_bits, align=\"column\", by_dim=2)"
   ]
  },
  {
   "cell_type": "code",
   "execution_count": 17,
   "id": "8f33342e-942b-410d-9fc6-2d08ab87a3d5",
   "metadata": {},
   "outputs": [],
   "source": [
    "from src.tools.wall_tools import RearrangeAppTool"
   ]
  },
  {
   "cell_type": "code",
   "execution_count": 18,
   "id": "d5e03cc2-4e86-415c-a0eb-4a73b6eae3b6",
   "metadata": {},
   "outputs": [],
   "source": [
    "from langchain_openai import ChatOpenAI\n",
    "llm_4o = ChatOpenAI(temperature=0.1, model=\"gpt-4o\")\n",
    "llm = llm_4o.bind_tools([RearrangeAppTool()])"
   ]
  },
  {
   "cell_type": "code",
   "execution_count": 20,
   "id": "eede2647-b5f1-44c7-80ec-ef9472e671b0",
   "metadata": {},
   "outputs": [
    {
     "data": {
      "text/plain": [
       "ChatPromptTemplate(input_variables=['current_apps', 'current_assets'], input_types={'messages': typing.List[typing.Union[langchain_core.messages.ai.AIMessage, langchain_core.messages.human.HumanMessage, langchain_core.messages.chat.ChatMessage, langchain_core.messages.system.SystemMessage, langchain_core.messages.function.FunctionMessage, langchain_core.messages.tool.ToolMessage]]}, partial_variables={'messages': []}, messages=[SystemMessagePromptTemplate(prompt=PromptTemplate(input_variables=['current_apps', 'current_assets'], template='You are a basic SAGE3 sub-agent and you can create or delete supported apps (also called widgets) on the wall a sort of infinite canvas desktop. Supported widgets are Stickie, Counter, PDFViewer and ImageViewer. In addition to creating those widgets, you can also access and interact with the text contained in the apps on the wall to answer questions or provide summaries.\\nWhen opening an asset, select the asset_id that unambiguously matches the user\\'s query. Do not make assumptions about the assets\\nThe new widget should be positioned to avoid overlap with other apps listed in current_apps while minimizing empty space.\\n\\nCurrent apps on the wall:\\n{current_apps}\\n\\nCurrent assets on the wall:\\n{current_assets}\\n\\nExecute the code without prompting the user for more info. If none of your tools are appropriate for it, use the \"Complete\" tool. Do not waste the user\\'s time. Do not create fictitious tools or functions. If the app is not supported, say so and terminate.\\nMake sure not to include tags in the newly created apps unless specifically mentioned in the query.\\nIf the query requires creating more than 3 widgets, respond saying that only simple queries (less than 3 widgets) are currently supported.')), MessagesPlaceholder(variable_name='messages', optional=True)])"
      ]
     },
     "execution_count": 20,
     "metadata": {},
     "output_type": "execute_result"
    }
   ],
   "source": [
    "from src.prompts.prompt_loader import PromptLoader\n",
    "prompt = PromptLoader.create_prompt(\"src/prompts/\", \"zero_shot\", \"wall_agent\")\n",
    "prompt"
   ]
  },
  {
   "cell_type": "code",
   "execution_count": 34,
   "id": "4e0c15c1-6ea3-4ff9-aac1-f550918b5272",
   "metadata": {},
   "outputs": [
    {
     "name": "stdout",
     "output_type": "stream",
     "text": [
      "\u001b[32;1m\u001b[1;3m[chain/start]\u001b[0m \u001b[1m[chain:RunnableSequence] Entering Chain run with input:\n",
      "\u001b[0m{\n",
      "  \"messages\": [\n",
      "    [\n",
      "      \"human\",\n",
      "      \"rearrange the stickies with test 1 and 2 to the top\"\n",
      "    ]\n",
      "  ],\n",
      "  \"current_apps\": {\n",
      "    \"1cd94bc5-1d2f-4002-9d1a-16a95a3eadf4\": {\n",
      "      \"data\": {\n",
      "        \"title\": \"Mahdi Bel-caid\",\n",
      "        \"position\": {\n",
      "          \"x\": 1501077,\n",
      "          \"y\": 1500130,\n",
      "          \"z\": 0\n",
      "        },\n",
      "        \"size\": {\n",
      "          \"width\": 400,\n",
      "          \"height\": 420,\n",
      "          \"depth\": 0\n",
      "        },\n",
      "        \"type\": \"Stickie\",\n",
      "        \"state\": {\n",
      "          \"text\": \"test 2\",\n",
      "          \"fontSize\": 36,\n",
      "          \"color\": \"yellow\"\n",
      "        }\n",
      "      },\n",
      "      \"tags\": []\n",
      "    },\n",
      "    \"61535d5f-fd81-43c7-9c56-27f80b60df02\": {\n",
      "      \"data\": {\n",
      "        \"title\": \"Mahdi Bel-caid\",\n",
      "        \"position\": {\n",
      "          \"x\": 1500589,\n",
      "          \"y\": 1500262,\n",
      "          \"z\": 0\n",
      "        },\n",
      "        \"size\": {\n",
      "          \"width\": 400,\n",
      "          \"height\": 420,\n",
      "          \"depth\": 0\n",
      "        },\n",
      "        \"type\": \"Stickie\",\n",
      "        \"state\": {\n",
      "          \"text\": \"test 1\",\n",
      "          \"fontSize\": 36,\n",
      "          \"color\": \"yellow\"\n",
      "        }\n",
      "      },\n",
      "      \"tags\": []\n",
      "    },\n",
      "    \"ff899e70-74cb-47b9-96ea-5c13e790bf07\": {\n",
      "      \"data\": {\n",
      "        \"title\": \"Mahdi Bel-caid\",\n",
      "        \"position\": {\n",
      "          \"x\": 1500961,\n",
      "          \"y\": 1500723,\n",
      "          \"z\": 0\n",
      "        },\n",
      "        \"size\": {\n",
      "          \"width\": 400,\n",
      "          \"height\": 420,\n",
      "          \"depth\": 0\n",
      "        },\n",
      "        \"type\": \"Stickie\",\n",
      "        \"state\": {\n",
      "          \"text\": \"test 3\",\n",
      "          \"fontSize\": 36,\n",
      "          \"color\": \"yellow\"\n",
      "        }\n",
      "      },\n",
      "      \"tags\": []\n",
      "    }\n",
      "  },\n",
      "  \"current_assets\": [\n",
      "    {\n",
      "      \"_id\": \"665479d9-6564-4c28-bc9f-9c72224ac2c7\",\n",
      "      \"filename\": \"04-eval.pdf\",\n",
      "      \"mimetype\": \"application/pdf\",\n",
      "      \"size\": 670530,\n",
      "      \"path\": \"dist/apps/homebase/assets/5b626f7d-ec79-4131-8fec-011e164e95a3.pdf\"\n",
      "    },\n",
      "    {\n",
      "      \"_id\": \"543e40af-3ad2-4946-ae85-01cf931647c5\",\n",
      "      \"filename\": \"04-eval.pdf\",\n",
      "      \"mimetype\": \"application/pdf\",\n",
      "      \"size\": 670530,\n",
      "      \"path\": \"dist/apps/homebase/assets/8744b07b-d35e-4e50-bbb6-9fd286817f97.pdf\"\n",
      "    },\n",
      "    {\n",
      "      \"_id\": \"b4cb1a20-5c55-4e42-a216-447036c0ebc5\",\n",
      "      \"filename\": \"04-eval.pdf\",\n",
      "      \"mimetype\": \"application/pdf\",\n",
      "      \"size\": 670530,\n",
      "      \"path\": \"dist/apps/homebase/assets/66ab38f0-5dab-47cf-92f3-a950827105b3.pdf\"\n",
      "    }\n",
      "  ]\n",
      "}\n",
      "\u001b[32;1m\u001b[1;3m[chain/start]\u001b[0m \u001b[1m[chain:RunnableSequence > prompt:ChatPromptTemplate] Entering Prompt run with input:\n",
      "\u001b[0m{\n",
      "  \"messages\": [\n",
      "    [\n",
      "      \"human\",\n",
      "      \"rearrange the stickies with test 1 and 2 to the top\"\n",
      "    ]\n",
      "  ],\n",
      "  \"current_apps\": {\n",
      "    \"1cd94bc5-1d2f-4002-9d1a-16a95a3eadf4\": {\n",
      "      \"data\": {\n",
      "        \"title\": \"Mahdi Bel-caid\",\n",
      "        \"position\": {\n",
      "          \"x\": 1501077,\n",
      "          \"y\": 1500130,\n",
      "          \"z\": 0\n",
      "        },\n",
      "        \"size\": {\n",
      "          \"width\": 400,\n",
      "          \"height\": 420,\n",
      "          \"depth\": 0\n",
      "        },\n",
      "        \"type\": \"Stickie\",\n",
      "        \"state\": {\n",
      "          \"text\": \"test 2\",\n",
      "          \"fontSize\": 36,\n",
      "          \"color\": \"yellow\"\n",
      "        }\n",
      "      },\n",
      "      \"tags\": []\n",
      "    },\n",
      "    \"61535d5f-fd81-43c7-9c56-27f80b60df02\": {\n",
      "      \"data\": {\n",
      "        \"title\": \"Mahdi Bel-caid\",\n",
      "        \"position\": {\n",
      "          \"x\": 1500589,\n",
      "          \"y\": 1500262,\n",
      "          \"z\": 0\n",
      "        },\n",
      "        \"size\": {\n",
      "          \"width\": 400,\n",
      "          \"height\": 420,\n",
      "          \"depth\": 0\n",
      "        },\n",
      "        \"type\": \"Stickie\",\n",
      "        \"state\": {\n",
      "          \"text\": \"test 1\",\n",
      "          \"fontSize\": 36,\n",
      "          \"color\": \"yellow\"\n",
      "        }\n",
      "      },\n",
      "      \"tags\": []\n",
      "    },\n",
      "    \"ff899e70-74cb-47b9-96ea-5c13e790bf07\": {\n",
      "      \"data\": {\n",
      "        \"title\": \"Mahdi Bel-caid\",\n",
      "        \"position\": {\n",
      "          \"x\": 1500961,\n",
      "          \"y\": 1500723,\n",
      "          \"z\": 0\n",
      "        },\n",
      "        \"size\": {\n",
      "          \"width\": 400,\n",
      "          \"height\": 420,\n",
      "          \"depth\": 0\n",
      "        },\n",
      "        \"type\": \"Stickie\",\n",
      "        \"state\": {\n",
      "          \"text\": \"test 3\",\n",
      "          \"fontSize\": 36,\n",
      "          \"color\": \"yellow\"\n",
      "        }\n",
      "      },\n",
      "      \"tags\": []\n",
      "    }\n",
      "  },\n",
      "  \"current_assets\": [\n",
      "    {\n",
      "      \"_id\": \"665479d9-6564-4c28-bc9f-9c72224ac2c7\",\n",
      "      \"filename\": \"04-eval.pdf\",\n",
      "      \"mimetype\": \"application/pdf\",\n",
      "      \"size\": 670530,\n",
      "      \"path\": \"dist/apps/homebase/assets/5b626f7d-ec79-4131-8fec-011e164e95a3.pdf\"\n",
      "    },\n",
      "    {\n",
      "      \"_id\": \"543e40af-3ad2-4946-ae85-01cf931647c5\",\n",
      "      \"filename\": \"04-eval.pdf\",\n",
      "      \"mimetype\": \"application/pdf\",\n",
      "      \"size\": 670530,\n",
      "      \"path\": \"dist/apps/homebase/assets/8744b07b-d35e-4e50-bbb6-9fd286817f97.pdf\"\n",
      "    },\n",
      "    {\n",
      "      \"_id\": \"b4cb1a20-5c55-4e42-a216-447036c0ebc5\",\n",
      "      \"filename\": \"04-eval.pdf\",\n",
      "      \"mimetype\": \"application/pdf\",\n",
      "      \"size\": 670530,\n",
      "      \"path\": \"dist/apps/homebase/assets/66ab38f0-5dab-47cf-92f3-a950827105b3.pdf\"\n",
      "    }\n",
      "  ]\n",
      "}\n",
      "\u001b[36;1m\u001b[1;3m[chain/end]\u001b[0m \u001b[1m[chain:RunnableSequence > prompt:ChatPromptTemplate] [1ms] Exiting Prompt run with output:\n",
      "\u001b[0m[outputs]\n",
      "\u001b[32;1m\u001b[1;3m[llm/start]\u001b[0m \u001b[1m[chain:RunnableSequence > llm:ChatOpenAI] Entering LLM run with input:\n",
      "\u001b[0m{\n",
      "  \"prompts\": [\n",
      "    \"System: You are a basic SAGE3 sub-agent and you can create or delete supported apps (also called widgets) on the wall a sort of infinite canvas desktop. Supported widgets are Stickie, Counter, PDFViewer and ImageViewer. In addition to creating those widgets, you can also access and interact with the text contained in the apps on the wall to answer questions or provide summaries.\\nWhen opening an asset, select the asset_id that unambiguously matches the user's query. Do not make assumptions about the assets\\nThe new widget should be positioned to avoid overlap with other apps listed in current_apps while minimizing empty space.\\n\\nCurrent apps on the wall:\\n{'1cd94bc5-1d2f-4002-9d1a-16a95a3eadf4': {'data': {'title': 'Mahdi Bel-caid', 'position': {'x': 1501077, 'y': 1500130, 'z': 0}, 'size': {'width': 400, 'height': 420, 'depth': 0}, 'type': 'Stickie', 'state': {'text': 'test 2', 'fontSize': 36, 'color': 'yellow'}}, 'tags': []}, '61535d5f-fd81-43c7-9c56-27f80b60df02': {'data': {'title': 'Mahdi Bel-caid', 'position': {'x': 1500589, 'y': 1500262, 'z': 0}, 'size': {'width': 400, 'height': 420, 'depth': 0}, 'type': 'Stickie', 'state': {'text': 'test 1', 'fontSize': 36, 'color': 'yellow'}}, 'tags': []}, 'ff899e70-74cb-47b9-96ea-5c13e790bf07': {'data': {'title': 'Mahdi Bel-caid', 'position': {'x': 1500961, 'y': 1500723, 'z': 0}, 'size': {'width': 400, 'height': 420, 'depth': 0}, 'type': 'Stickie', 'state': {'text': 'test 3', 'fontSize': 36, 'color': 'yellow'}}, 'tags': []}}\\n\\nCurrent assets on the wall:\\n[{'_id': '665479d9-6564-4c28-bc9f-9c72224ac2c7', 'filename': '04-eval.pdf', 'mimetype': 'application/pdf', 'size': 670530, 'path': 'dist/apps/homebase/assets/5b626f7d-ec79-4131-8fec-011e164e95a3.pdf'}, {'_id': '543e40af-3ad2-4946-ae85-01cf931647c5', 'filename': '04-eval.pdf', 'mimetype': 'application/pdf', 'size': 670530, 'path': 'dist/apps/homebase/assets/8744b07b-d35e-4e50-bbb6-9fd286817f97.pdf'}, {'_id': 'b4cb1a20-5c55-4e42-a216-447036c0ebc5', 'filename': '04-eval.pdf', 'mimetype': 'application/pdf', 'size': 670530, 'path': 'dist/apps/homebase/assets/66ab38f0-5dab-47cf-92f3-a950827105b3.pdf'}]\\n\\nExecute the code without prompting the user for more info. If none of your tools are appropriate for it, use the \\\"Complete\\\" tool. Do not waste the user's time. Do not create fictitious tools or functions. If the app is not supported, say so and terminate.\\nMake sure not to include tags in the newly created apps unless specifically mentioned in the query.\\nIf the query requires creating more than 3 widgets, respond saying that only simple queries (less than 3 widgets) are currently supported.\\nHuman: rearrange the stickies with test 1 and 2 to the top\"\n",
      "  ]\n",
      "}\n",
      "\u001b[36;1m\u001b[1;3m[llm/end]\u001b[0m \u001b[1m[chain:RunnableSequence > llm:ChatOpenAI] [2.21s] Exiting LLM run with output:\n",
      "\u001b[0m{\n",
      "  \"generations\": [\n",
      "    [\n",
      "      {\n",
      "        \"text\": \"\",\n",
      "        \"generation_info\": {\n",
      "          \"finish_reason\": \"tool_calls\",\n",
      "          \"logprobs\": null\n",
      "        },\n",
      "        \"type\": \"ChatGeneration\",\n",
      "        \"message\": {\n",
      "          \"lc\": 1,\n",
      "          \"type\": \"constructor\",\n",
      "          \"id\": [\n",
      "            \"langchain\",\n",
      "            \"schema\",\n",
      "            \"messages\",\n",
      "            \"AIMessage\"\n",
      "          ],\n",
      "          \"kwargs\": {\n",
      "            \"content\": \"\",\n",
      "            \"additional_kwargs\": {\n",
      "              \"tool_calls\": [\n",
      "                {\n",
      "                  \"id\": \"call_qsQiczfNCHHQQa6SL5Av9GRu\",\n",
      "                  \"function\": {\n",
      "                    \"arguments\": \"{\\\"apps_ids\\\":[\\\"61535d5f-fd81-43c7-9c56-27f80b60df02\\\",\\\"1cd94bc5-1d2f-4002-9d1a-16a95a3eadf4\\\"],\\\"align\\\":\\\"top\\\"}\",\n",
      "                    \"name\": \"RearrangeAppTool\"\n",
      "                  },\n",
      "                  \"type\": \"function\"\n",
      "                }\n",
      "              ]\n",
      "            },\n",
      "            \"response_metadata\": {\n",
      "              \"token_usage\": {\n",
      "                \"completion_tokens\": 74,\n",
      "                \"prompt_tokens\": 1033,\n",
      "                \"total_tokens\": 1107\n",
      "              },\n",
      "              \"model_name\": \"gpt-4o\",\n",
      "              \"system_fingerprint\": \"fp_319be4768e\",\n",
      "              \"finish_reason\": \"tool_calls\",\n",
      "              \"logprobs\": null\n",
      "            },\n",
      "            \"type\": \"ai\",\n",
      "            \"id\": \"run-b7a5b474-332f-4a7f-bcee-809478dd8c07-0\",\n",
      "            \"tool_calls\": [\n",
      "              {\n",
      "                \"name\": \"RearrangeAppTool\",\n",
      "                \"args\": {\n",
      "                  \"apps_ids\": [\n",
      "                    \"61535d5f-fd81-43c7-9c56-27f80b60df02\",\n",
      "                    \"1cd94bc5-1d2f-4002-9d1a-16a95a3eadf4\"\n",
      "                  ],\n",
      "                  \"align\": \"top\"\n",
      "                },\n",
      "                \"id\": \"call_qsQiczfNCHHQQa6SL5Av9GRu\"\n",
      "              }\n",
      "            ],\n",
      "            \"invalid_tool_calls\": []\n",
      "          }\n",
      "        }\n",
      "      }\n",
      "    ]\n",
      "  ],\n",
      "  \"llm_output\": {\n",
      "    \"token_usage\": {\n",
      "      \"completion_tokens\": 74,\n",
      "      \"prompt_tokens\": 1033,\n",
      "      \"total_tokens\": 1107\n",
      "    },\n",
      "    \"model_name\": \"gpt-4o\",\n",
      "    \"system_fingerprint\": \"fp_319be4768e\"\n",
      "  },\n",
      "  \"run\": null\n",
      "}\n",
      "\u001b[36;1m\u001b[1;3m[chain/end]\u001b[0m \u001b[1m[chain:RunnableSequence] [2.22s] Exiting Chain run with output:\n",
      "\u001b[0m[outputs]\n"
     ]
    }
   ],
   "source": [
    "resp = ( prompt| llm ).invoke({\"messages\": [(\"human\", \"rearrange the stickies with test 1 and 2 to the top\")],\n",
    "                       \"current_apps\": current_apps, \"current_assets\":current_assets})"
   ]
  },
  {
   "cell_type": "code",
   "execution_count": 35,
   "id": "4044a468-555a-43dd-9ad0-b72e383cc662",
   "metadata": {},
   "outputs": [
    {
     "data": {
      "text/plain": [
       "[{'name': 'RearrangeAppTool',\n",
       "  'args': {'apps_ids': ['61535d5f-fd81-43c7-9c56-27f80b60df02',\n",
       "    '1cd94bc5-1d2f-4002-9d1a-16a95a3eadf4'],\n",
       "   'align': 'top'},\n",
       "  'id': 'call_qsQiczfNCHHQQa6SL5Av9GRu'}]"
      ]
     },
     "execution_count": 35,
     "metadata": {},
     "output_type": "execute_result"
    }
   ],
   "source": [
    "resp.tool_calls"
   ]
  },
  {
   "cell_type": "code",
   "execution_count": null,
   "id": "9d360f1a-3df7-47d8-a507-dcdfb3022fc8",
   "metadata": {},
   "outputs": [],
   "source": []
  }
 ],
 "metadata": {
  "kernelspec": {
   "display_name": "Python 3 (ipykernel)",
   "language": "python",
   "name": "python3"
  },
  "language_info": {
   "codemirror_mode": {
    "name": "ipython",
    "version": 3
   },
   "file_extension": ".py",
   "mimetype": "text/x-python",
   "name": "python",
   "nbconvert_exporter": "python",
   "pygments_lexer": "ipython3",
   "version": "3.10.14"
  }
 },
 "nbformat": 4,
 "nbformat_minor": 5
}
