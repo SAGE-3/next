{
 "cells": [
  {
   "cell_type": "code",
   "execution_count": null,
   "id": "65d4da88-fd95-43c0-adbd-a79770f0fe3c",
   "metadata": {},
   "outputs": [],
   "source": [
    "# TODO: test that ps3.get_pdf_text(asset_url) is working as expected.\n"
   ]
  },
  {
   "cell_type": "code",
   "execution_count": null,
   "id": "a8b99c2b-dad1-43e8-835a-36a1700bbeb0",
   "metadata": {},
   "outputs": [],
   "source": [
    "# !pip uninstall -y foresight\n",
    "# !pip install git+https://github.com/SAGE-3/next.git@dev#subdirectory=foresight\n",
    "# !pip install langchain_openai\n",
    "# !pip install langchain"
   ]
  },
  {
   "cell_type": "code",
   "execution_count": 1,
   "id": "7e0e0833-9235-464b-90be-3a8f42474795",
   "metadata": {},
   "outputs": [],
   "source": [
    "from langchain.globals import set_debug\n",
    "set_debug(True)\n"
   ]
  },
  {
   "cell_type": "code",
   "execution_count": 2,
   "id": "9e9cbbcd-1b29-45a1-b02f-6991fc15a094",
   "metadata": {},
   "outputs": [],
   "source": [
    "from langgraph.prebuilt import tools_condition"
   ]
  },
  {
   "cell_type": "code",
   "execution_count": 3,
   "id": "06c1f2c4-f930-4b1a-a721-0d02f9cb295f",
   "metadata": {},
   "outputs": [],
   "source": [
    "from langchain_core.output_parsers import StrOutputParser\n",
    "from langchain_core.prompts import ChatPromptTemplate\n",
    "from langgraph.prebuilt import ToolNode\n",
    "\n",
    "import sys\n",
    "sys.path.append(\"/Users/mahdi/Documents/GitHub/next/foresight/\")\n",
    "# from src.config import config as conf, prod_type\n",
    "import copy\n",
    "from foresight.Sage3Sugar.pysage3 import PySage3\n",
    "from src.prompts.prompt_loader import PromptLoader \n",
    "from langchain_openai import ChatOpenAI\n",
    "keys_to_remove = ['_id', '_createdAt', '_createdBy', '_updatedAt', '_updatedBy',\n",
    "    'touched', 'executeInfo', 'path', 'raised', \n",
    "     'roomId', 'boardId', 'lock', 'dragging', 'pinned', 'rotation'\n",
    "]\n",
    "\n",
    "PROMPTS_DIR = \"src/prompts/\""
   ]
  },
  {
   "cell_type": "code",
   "execution_count": 4,
   "id": "0f3e7926-eeba-4698-88e8-20203d3c2556",
   "metadata": {},
   "outputs": [],
   "source": [
    "prod_type= 'local'\n",
    "conf = {'local': {'seer_server': 'http://127.0.0.1:5002',\n",
    "  'jupyter_server': 'http://localhost:8888',\n",
    "  'redis_server': 'localhost',\n",
    "  'web_server': 'http://localhost:3333',\n",
    "  'ws_server': 'ws://localhost:3333'}}\n",
    "room_id = \"d6640933-7b9f-4536-a263-02a514ff092a\"\n",
    "board_id = \"02fc98df-b4f1-470c-8516-7221c3095de7\"\n",
    "\n",
    "# app_id = '4a29b8bf-9e72-4366-8946-d808e2e3d465'"
   ]
  },
  {
   "cell_type": "code",
   "execution_count": 5,
   "id": "36ebeed7-3d20-4453-aade-d2e15e6fe9d8",
   "metadata": {},
   "outputs": [
    {
     "name": "stdout",
     "output_type": "stream",
     "text": [
      "Configuring ps3 client ... \n",
      "Completed configuring Sage3 Client\n"
     ]
    }
   ],
   "source": [
    "ps3 = PySage3(conf, prod_type)\n",
    "cb = ps3.rooms[room_id].boards[board_id]"
   ]
  },
  {
   "cell_type": "code",
   "execution_count": 8,
   "id": "63455f0b-907f-476c-b251-b03fa6bbf9e4",
   "metadata": {},
   "outputs": [
    {
     "data": {
      "text/plain": [
       "{'7bb2d8d9-c937-4a8f-bf6f-d31cf34018cd': {'data': {'title': 'A title',\n",
       "   'position': {'x': 87, 'y': 243, 'z': 0},\n",
       "   'size': {'width': 200, 'height': 200, 'depth': 0},\n",
       "   'type': 'Stickie',\n",
       "   'state': {'text': 'hellow world', 'color': 'red', 'fontSize': 22}},\n",
       "  'tags': []},\n",
       " '01010d5c-0b4c-4281-8745-745f89cf7210': {'data': {'title': 'Mahdi Bel-caid',\n",
       "   'position': {'x': 646, 'y': 380, 'z': 0},\n",
       "   'size': {'width': 400, 'height': 420, 'depth': 0},\n",
       "   'type': 'Stickie',\n",
       "   'state': {'text': 'My Test Stickie', 'fontSize': 36, 'color': 'yellow'}},\n",
       "  'tags': []}}"
      ]
     },
     "execution_count": 8,
     "metadata": {},
     "output_type": "execute_result"
    }
   ],
   "source": [
    "ps3.get_apps(room_id, board_id, add_tags=True, filter_tags= keys_to_remove)"
   ]
  },
  {
   "cell_type": "code",
   "execution_count": 9,
   "id": "c1977f6f-0d24-4f31-bee2-d5fa001e30c6",
   "metadata": {},
   "outputs": [],
   "source": [
    "llm_4o = ChatOpenAI(temperature=0.1, model=\"gpt-4o\")\n",
    "# llm_4o.invoke(\"hello\")"
   ]
  },
  {
   "cell_type": "code",
   "execution_count": null,
   "id": "aa48b9e5-b17e-4e47-bd83-25c583f49807",
   "metadata": {},
   "outputs": [],
   "source": []
  },
  {
   "cell_type": "code",
   "execution_count": null,
   "id": "f275771d-36dd-479c-abe2-53b34b43c776",
   "metadata": {},
   "outputs": [],
   "source": [
    "# example_prompt = PromptLoader.create_prompt(PROMPTS_DIR, \"few_shot\", \"reframe_select_apps\")\n",
    "# q = 'Can you delete all the red stickies with a greeting or hello'\n",
    "# reframe_select_chain =  example_prompt | llm_4o\n",
    "# reframe_select_chain.invoke({\"query\":q})"
   ]
  },
  {
   "cell_type": "code",
   "execution_count": null,
   "id": "66027896-b8a6-45ba-b2ad-da8c6ab62146",
   "metadata": {},
   "outputs": [],
   "source": [
    "# example_prompt = PromptLoader.create_prompt(PROMPTS_DIR, \"few_shot\", \"select_apps\")\n",
    "\n",
    "# q = 'Can you delete all the red stickies with a greeting'\n",
    "# all_apps = ps3.get_apps(room_id, board_id, add_tags=True, filter_tags= keys_to_remove)\n",
    "# prompt_text = example_prompt.format(originalItems=all_apps, query=q)\n",
    "# prompt_text [0:100]+ \" ....\"\n"
   ]
  },
  {
   "cell_type": "code",
   "execution_count": null,
   "id": "75c90a45-bb84-4866-80e1-466e0d5fb5cc",
   "metadata": {},
   "outputs": [],
   "source": [
    "# (example_prompt | llm_4o).invoke({\"originalItems\":all_apps, \"query\":q})"
   ]
  },
  {
   "cell_type": "code",
   "execution_count": null,
   "id": "a447e093-abcf-4b91-8cbe-f3264e958abd",
   "metadata": {},
   "outputs": [],
   "source": [
    "pwd"
   ]
  },
  {
   "cell_type": "code",
   "execution_count": null,
   "id": "aa631ebb-3db3-4a09-aac4-758a3b1a3b42",
   "metadata": {},
   "outputs": [],
   "source": [
    "create_app_prompt = PromptLoader.create_prompt(PROMPTS_DIR, \"zero_shot\", \"create_app\")\n",
    "\n",
    "q = 'Can you create a new Stickie that says \"here you go\"'\n",
    "all_apps = ps3.get_apps(room_id, board_id, add_tags=True, filter_tags= keys_to_remove)\n",
    "prompt_text = create_app_prompt.format(originalItems=all_apps, query=q)\n",
    "print(prompt_text [0:100]+ \" ....\")\n"
   ]
  },
  {
   "cell_type": "code",
   "execution_count": null,
   "id": "59257422-0d24-4a0d-9a4a-8bca56bc107c",
   "metadata": {},
   "outputs": [],
   "source": [
    "from src.tools.wall_tools import CreateAppTool\n",
    "tools = {\"CreateAppTool\": CreateAppTool(ps3)}\n",
    "llm_chain = llm_4o.bind_tools([tools[\"CreateAppTool\"]])"
   ]
  },
  {
   "cell_type": "code",
   "execution_count": null,
   "id": "7649164a-039d-4ef7-a42e-b2e3dc7920f9",
   "metadata": {},
   "outputs": [],
   "source": [
    "resp = llm_chain.invoke(\"create a red stickie with the text hello world\")\n",
    "resp"
   ]
  },
  {
   "cell_type": "code",
   "execution_count": null,
   "id": "c4f2b07a-69f3-48d5-979c-97ffe5429135",
   "metadata": {},
   "outputs": [],
   "source": [
    "resp.tool_calls"
   ]
  },
  {
   "cell_type": "code",
   "execution_count": null,
   "id": "562be9bb-3644-474e-a51f-a38fdefe2781",
   "metadata": {},
   "outputs": [],
   "source": [
    "from src.smartbits import SmartBit\n",
    "sb = SmartBit(**resp.tool_calls[0]['args']['smartbit'])\n",
    "sb\n"
   ]
  },
  {
   "cell_type": "code",
   "execution_count": null,
   "id": "a56b2347-ded6-45c2-8f80-5fa141980ee1",
   "metadata": {},
   "outputs": [],
   "source": [
    "tool_name = resp.tool_calls[0][\"name\"]\n",
    "tool = tools[tool_name]\n",
    "tool.invoke({\"smartbit\":  sb})"
   ]
  },
  {
   "cell_type": "code",
   "execution_count": null,
   "id": "cbd48139-38f3-477f-99e3-39479306a7dd",
   "metadata": {},
   "outputs": [],
   "source": [
    "from src.tools.wall_tools import DeleteAppTool\n",
    "tools = {\"DeleteAppTool\": DeleteAppTool(ps3)}\n",
    "llm = llm_4o.bind_tools([tools[\"DeleteAppTool\"]])"
   ]
  },
  {
   "cell_type": "code",
   "execution_count": null,
   "id": "27eeece8-7e09-4def-9435-1c62a1652ba9",
   "metadata": {},
   "outputs": [],
   "source": [
    "current_apps = ps3.get_apps(room_id, board_id, add_tags=True, filter_tags= keys_to_remove)\n",
    "current_apps"
   ]
  },
  {
   "cell_type": "code",
   "execution_count": null,
   "id": "bdde88ba-e190-4963-8636-dbbf73163e05",
   "metadata": {},
   "outputs": [],
   "source": [
    "delete_prompt = PromptLoader.create_prompt(PROMPTS_DIR, \"zero_shot\", \"delete_app\")\n",
    "delete_prompt"
   ]
  },
  {
   "cell_type": "code",
   "execution_count": null,
   "id": "99f70b3b-e087-4971-946e-fa83f02fe85c",
   "metadata": {},
   "outputs": [],
   "source": [
    "query = \"Delete all the stickies with the text hellow world\"\n",
    "resp  = (delete_prompt | llm).invoke({\"originalItems\":current_apps, \"query\": query})\n",
    "resp"
   ]
  },
  {
   "cell_type": "code",
   "execution_count": null,
   "id": "28099631-b310-40e6-b1a3-3fae6ea85acf",
   "metadata": {},
   "outputs": [],
   "source": [
    "resp.tool_calls"
   ]
  },
  {
   "cell_type": "code",
   "execution_count": null,
   "id": "602d785e-391c-4321-be4d-a9e25d2f65ce",
   "metadata": {},
   "outputs": [],
   "source": [
    "tool_name = resp.tool_calls[0]['name']\n",
    "app_id = resp.tool_calls[0]['args']['app_id']"
   ]
  },
  {
   "cell_type": "code",
   "execution_count": null,
   "id": "e892f824-d723-4f2b-ad03-8b5ef6fb3446",
   "metadata": {},
   "outputs": [],
   "source": [
    "tools[tool_name].invoke({\"app_id\": app_id})"
   ]
  },
  {
   "cell_type": "code",
   "execution_count": null,
   "id": "24f41806-454d-4e88-be03-7233729599fe",
   "metadata": {},
   "outputs": [],
   "source": [
    "ps3.get_apps(add_tags=True)"
   ]
  },
  {
   "cell_type": "code",
   "execution_count": null,
   "id": "881d1ddb-792c-4e99-baa2-1fcf35cf4621",
   "metadata": {},
   "outputs": [],
   "source": [
    "current_apps = ps3.get_apps(room_id, board_id, add_tags=True, filter_tags= keys_to_remove)\n",
    "current_apps"
   ]
  },
  {
   "cell_type": "code",
   "execution_count": null,
   "id": "53530976-ec9e-43b3-a2bc-09cb675a670d",
   "metadata": {},
   "outputs": [],
   "source": [
    "query = \"Delete all the mccormick recsys pdf file\"\n",
    "resp  = (delete_prompt | llm).invoke({\"originalItems\":current_apps, \"query\": query})\n",
    "resp"
   ]
  },
  {
   "cell_type": "code",
   "execution_count": null,
   "id": "97257b11-9e5e-4e7f-81c4-6c2419a5244e",
   "metadata": {},
   "outputs": [],
   "source": [
    "resp.tool_calls"
   ]
  },
  {
   "cell_type": "code",
   "execution_count": null,
   "id": "2f0a3a96-062e-444b-93da-ecfecb9d22ac",
   "metadata": {},
   "outputs": [],
   "source": [
    "ps3.get_apps(filter_tags= keys_to_remove_2)"
   ]
  },
  {
   "cell_type": "code",
   "execution_count": null,
   "id": "bd7a5d8b-8b3d-4075-9503-7b5aaee000a2",
   "metadata": {},
   "outputs": [],
   "source": [
    "all_apps = ps3.get_apps(room_id, board_id, add_tags=True, filter_tags= keys_to_remove)\n",
    "all_apps\n"
   ]
  },
  {
   "cell_type": "code",
   "execution_count": null,
   "id": "5d8efa05-6754-4e6d-938d-2daef527e2bd",
   "metadata": {},
   "outputs": [],
   "source": [
    "ps3.get_apps_text(all_apps)"
   ]
  },
  {
   "cell_type": "code",
   "execution_count": null,
   "id": "9dc1ea22-70f7-4dca-ac52-26d69d7629b7",
   "metadata": {},
   "outputs": [],
   "source": [
    "all_apps"
   ]
  },
  {
   "cell_type": "code",
   "execution_count": null,
   "id": "eae83882-6bf4-4e9c-b9fb-bee58c9bdb93",
   "metadata": {},
   "outputs": [],
   "source": [
    "app = all_apps['ca50b398-86d2-4518-8b67-6a426907d61a']\n",
    "app"
   ]
  },
  {
   "cell_type": "code",
   "execution_count": null,
   "id": "c0291ba4-55b8-4219-af15-35384df3d0f6",
   "metadata": {},
   "outputs": [],
   "source": [
    "app_type = app.get('data', {}).get('type', None)\n",
    "app_type"
   ]
  },
  {
   "cell_type": "code",
   "execution_count": null,
   "id": "81536952-6d87-4aee-ac64-d233fc1a4ba6",
   "metadata": {},
   "outputs": [],
   "source": [
    "text = \"\"\n",
    "text += app.get('data', {}).get('state', {}).get('text', \"\")+\"\\n\"\n",
    "text"
   ]
  },
  {
   "cell_type": "code",
   "execution_count": null,
   "id": "62595a2d-eb36-4c69-b762-6b1b91c936da",
   "metadata": {},
   "outputs": [],
   "source": [
    "app"
   ]
  },
  {
   "cell_type": "code",
   "execution_count": null,
   "id": "0420ccc2-81f9-42a5-9203-e7954ddc670b",
   "metadata": {},
   "outputs": [],
   "source": [
    "asset_id = app.get('data', {}).get('state', {}).get('assetid')\n",
    "asset_id"
   ]
  },
  {
   "cell_type": "code",
   "execution_count": null,
   "id": "efe2335d-540b-4ee8-a9f7-d61a1532eec6",
   "metadata": {},
   "outputs": [],
   "source": [
    "ps3.list_assets(asset_id=asset_id)"
   ]
  },
  {
   "cell_type": "code",
   "execution_count": null,
   "id": "c27df8f1-9dd6-4160-9232-31d618c12710",
   "metadata": {},
   "outputs": [],
   "source": [
    "ps3.s3_comm.get_pdf_text('dist/apps/homebase/assets/92d09434-3607-4dd8-9978-9111190b1873.pdf', pages=[0])"
   ]
  },
  {
   "cell_type": "code",
   "execution_count": null,
   "id": "d3a82100-dcd7-4c5c-a6b5-9ec05fc06cb4",
   "metadata": {},
   "outputs": [],
   "source": []
  },
  {
   "cell_type": "code",
   "execution_count": null,
   "id": "71e655fa-09a3-4919-8933-da982e9058e5",
   "metadata": {},
   "outputs": [],
   "source": []
  },
  {
   "cell_type": "code",
   "execution_count": null,
   "id": "4696e3b5-4094-4a50-8b80-fb570754a06d",
   "metadata": {},
   "outputs": [],
   "source": []
  },
  {
   "cell_type": "code",
   "execution_count": null,
   "id": "be734958-14df-412d-b8c6-cb798dca0b2f",
   "metadata": {},
   "outputs": [],
   "source": []
  },
  {
   "cell_type": "code",
   "execution_count": null,
   "id": "a1e68fdc-1cb0-4af0-b2dd-7a9cea4ef690",
   "metadata": {},
   "outputs": [],
   "source": []
  },
  {
   "cell_type": "code",
   "execution_count": null,
   "id": "e865a138-8520-44bc-8598-c31cfda55450",
   "metadata": {},
   "outputs": [],
   "source": [
    "\n",
    "prompt = ChatPromptTemplate.from_template(\"tell me a short joke about {topic}\")\n",
    "output_parser = StrOutputParser()\n",
    "\n",
    "chain = prompt | llm_4o | output_parser\n",
    "\n",
    "chain.invoke({\"topic\": \"ice cream\"})"
   ]
  },
  {
   "cell_type": "code",
   "execution_count": null,
   "id": "52ed6f43-8aae-4792-a470-2f1336a4ddbb",
   "metadata": {},
   "outputs": [],
   "source": []
  },
  {
   "cell_type": "code",
   "execution_count": null,
   "id": "2ce450a8-6394-4c29-9462-c996bf71ce44",
   "metadata": {},
   "outputs": [],
   "source": [
    "import importlib\n",
    "import src\n",
    "importlib.reload(src.chains.chain_factory)\n",
    "importlib.reload(src.tools.wall_tools)\n",
    "from src.chains.chain_factory import ChainFactory\n",
    "from langchain_core.output_parsers import StrOutputParser"
   ]
  },
  {
   "cell_type": "code",
   "execution_count": null,
   "id": "4275fb8a-17fe-493d-b655-7a89bff97562",
   "metadata": {},
   "outputs": [],
   "source": [
    "cf = ChainFactory()\n",
    "joke_chain = cf.create_chain(\"sumarize\", \"zero_shot/joke\", llm_4o, StrOutputParser)\n",
    "joke_chain.invoke({\"topic\": \"ice cream\"})"
   ]
  },
  {
   "cell_type": "code",
   "execution_count": null,
   "id": "32a82c4b-afea-47de-926b-ccde37450310",
   "metadata": {},
   "outputs": [],
   "source": [
    "cf.chains['jokes'].invoke({\"topic\": \"ice cream\"})"
   ]
  },
  {
   "cell_type": "code",
   "execution_count": null,
   "id": "8887b475-5bcb-498d-aafe-7ea88691be6d",
   "metadata": {},
   "outputs": [],
   "source": [
    "cf.create_chain(\"summarize_text\", \"zero_shot/summarize_text\", llm_4o, StrOutputParser)"
   ]
  },
  {
   "cell_type": "code",
   "execution_count": null,
   "id": "736d873d-f78e-4509-8b43-9e311e1feb15",
   "metadata": {},
   "outputs": [],
   "source": [
    "text = ps3.s3_comm.get_pdf_text('dist/apps/homebase/assets/92d09434-3607-4dd8-9978-9111190b1873.pdf', pages=[0])\n",
    "cf.chains['summarize_text'].invoke({\"query\": text})"
   ]
  },
  {
   "cell_type": "code",
   "execution_count": 8,
   "id": "0c7a8069-eb8a-443d-9b94-2829594ccf3e",
   "metadata": {},
   "outputs": [],
   "source": [
    "wall_agent_prompt = ChatPromptTemplate.from_messages(\n",
    "    [  \n",
    "        (\n",
    "            \"system\",\n",
    "            \"You are a basic SAGE3 subagent and you can create or delete apps (also called widgets) on the wall, like Stickies, Counter or PDFViewers. \"\n",
    "            \"You can also access and interact with the text contained in the apps on the wall to answer questions of provide summary but \"\n",
    "\t\t\t\"you are not supposed to be interactive. Try to execute the code without prompting the user for more info.\\n\"\n",
    "\t\t\t\"\\nCurrent Apps on the wall: \\n{current_apps}\\n\\n\"\n",
    "            \"If none of your tools are appropriate for it, then \\\"CompleteOrEscalate\\\" the dialog to the host assistant. \"\n",
    "            \"Do not waste the user's time. Do not create fictitious tools or functions.\",\n",
    "        ),\n",
    "        (\"placeholder\", \"{messages}\"),\n",
    "    ]\n",
    ").partial()"
   ]
  },
  {
   "cell_type": "code",
   "execution_count": 9,
   "id": "26a37f84-1ec7-4802-b9e3-32d3751a4bec",
   "metadata": {},
   "outputs": [
    {
     "name": "stdout",
     "output_type": "stream",
     "text": [
      "\u001b[32;1m\u001b[1;3m[chain/start]\u001b[0m \u001b[1m[prompt:ChatPromptTemplate] Entering Prompt run with input:\n",
      "\u001b[0m{\n",
      "  \"current_apps\": \"abc\",\n",
      "  \"messages\": [\n",
      "    [\n",
      "      \"human\",\n",
      "      \"Query: create a stickie with the text hello world\"\n",
      "    ]\n",
      "  ]\n",
      "}\n",
      "\u001b[36;1m\u001b[1;3m[chain/end]\u001b[0m \u001b[1m[prompt:ChatPromptTemplate] [2ms] Exiting Prompt run with output:\n",
      "\u001b[0m[outputs]\n"
     ]
    },
    {
     "data": {
      "text/plain": [
       "[SystemMessage(content='You are a basic SAGE3 subagent and you can create or delete apps (also called widgets) on the wall, like Stickies, Counter or PDFViewers. You can also access and interact with the text contained in the apps on the wall to answer questions of provide summary but you are not supposed to be interactive. Try to execute the code without prompting the user for more info.\\n\\nCurrent Apps on the wall: \\nabc\\n\\nIf none of your tools are appropriate for it, then \"CompleteOrEscalate\" the dialog to the host assistant. Do not waste the user\\'s time. Do not create fictitious tools or functions.'),\n",
       " HumanMessage(content='Query: create a stickie with the text hello world')]"
      ]
     },
     "execution_count": 9,
     "metadata": {},
     "output_type": "execute_result"
    }
   ],
   "source": [
    "wall_agent_prompt.invoke({\"current_apps\":\"abc\", \"messages\":[(\"human\", \"Query: create a stickie with the text hello world\")]}).messages"
   ]
  },
  {
   "cell_type": "code",
   "execution_count": null,
   "id": "f265a217-4e35-4c1e-9353-825a4450be72",
   "metadata": {},
   "outputs": [],
   "source": []
  },
  {
   "cell_type": "code",
   "execution_count": null,
   "id": "4804e048-ffde-46e5-86b9-f76cb463d25c",
   "metadata": {},
   "outputs": [],
   "source": []
  },
  {
   "cell_type": "code",
   "execution_count": 21,
   "id": "4204ceb8-2de0-4bd3-91c0-84ac5717201e",
   "metadata": {},
   "outputs": [],
   "source": [
    "from src.tools.wall_tools import CreateAppTool, DeleteAppTool, SummarizeAppsTool, CompleteOrEscalate\n",
    "wall_agent_safe_tools = [CreateAppTool(ps3), SummarizeAppsTool(ps3)]\n",
    "wall_agent_sensitive_tools = [DeleteAppTool(ps3)]\n",
    "wall_agent_tools = wall_agent_safe_tools + wall_agent_sensitive_tools\n",
    "wall_agent_runnable = wall_agent_prompt | llm_4o.bind_tools(\n",
    "    wall_agent_tools + [CompleteOrEscalate]\n",
    ")"
   ]
  },
  {
   "cell_type": "code",
   "execution_count": 22,
   "id": "913591e2-a57b-4891-ae5a-0408e70a4671",
   "metadata": {},
   "outputs": [
    {
     "name": "stdout",
     "output_type": "stream",
     "text": [
      "\u001b[32;1m\u001b[1;3m[chain/start]\u001b[0m \u001b[1m[chain:RunnableSequence] Entering Chain run with input:\n",
      "\u001b[0m{\n",
      "  \"current_apps\": \"abc\",\n",
      "  \"messages\": [\n",
      "    [\n",
      "      \"human\",\n",
      "      \"Query: create a stickie with the text hello world\"\n",
      "    ]\n",
      "  ]\n",
      "}\n",
      "\u001b[32;1m\u001b[1;3m[chain/start]\u001b[0m \u001b[1m[chain:RunnableSequence > prompt:ChatPromptTemplate] Entering Prompt run with input:\n",
      "\u001b[0m{\n",
      "  \"current_apps\": \"abc\",\n",
      "  \"messages\": [\n",
      "    [\n",
      "      \"human\",\n",
      "      \"Query: create a stickie with the text hello world\"\n",
      "    ]\n",
      "  ]\n",
      "}\n",
      "\u001b[36;1m\u001b[1;3m[chain/end]\u001b[0m \u001b[1m[chain:RunnableSequence > prompt:ChatPromptTemplate] [1ms] Exiting Prompt run with output:\n",
      "\u001b[0m[outputs]\n",
      "\u001b[32;1m\u001b[1;3m[llm/start]\u001b[0m \u001b[1m[chain:RunnableSequence > llm:ChatOpenAI] Entering LLM run with input:\n",
      "\u001b[0m{\n",
      "  \"prompts\": [\n",
      "    \"System: You are a basic SAGE3 subagent and you can create or delete apps (also called widgets) on the wall, like Stickies, Counter or PDFViewers. You can also access and interact with the text contained in the apps on the wall to answer questions of provide summary but you are not supposed to be interactive. Try to execute the code without prompting the user for more info.\\n\\nCurrent Apps on the wall: \\nabc\\n\\nIf none of your tools are appropriate for it, then \\\"CompleteOrEscalate\\\" the dialog to the host assistant. Do not waste the user's time. Do not create fictitious tools or functions.\\nHuman: Query: create a stickie with the text hello world\"\n",
      "  ]\n",
      "}\n",
      "\u001b[36;1m\u001b[1;3m[llm/end]\u001b[0m \u001b[1m[chain:RunnableSequence > llm:ChatOpenAI] [1.85s] Exiting LLM run with output:\n",
      "\u001b[0m{\n",
      "  \"generations\": [\n",
      "    [\n",
      "      {\n",
      "        \"text\": \"\",\n",
      "        \"generation_info\": {\n",
      "          \"finish_reason\": \"tool_calls\",\n",
      "          \"logprobs\": null\n",
      "        },\n",
      "        \"type\": \"ChatGeneration\",\n",
      "        \"message\": {\n",
      "          \"lc\": 1,\n",
      "          \"type\": \"constructor\",\n",
      "          \"id\": [\n",
      "            \"langchain\",\n",
      "            \"schema\",\n",
      "            \"messages\",\n",
      "            \"AIMessage\"\n",
      "          ],\n",
      "          \"kwargs\": {\n",
      "            \"content\": \"\",\n",
      "            \"additional_kwargs\": {\n",
      "              \"tool_calls\": [\n",
      "                {\n",
      "                  \"id\": \"call_Ub9myh4huD6dQhfcwdjwrZ8K\",\n",
      "                  \"function\": {\n",
      "                    \"arguments\": \"{\\\"smartbit\\\":{\\\"data\\\":{\\\"position\\\":{\\\"x\\\":100,\\\"y\\\":100,\\\"z\\\":0},\\\"size\\\":{\\\"width\\\":200,\\\"height\\\":200,\\\"depth\\\":0},\\\"type\\\":\\\"Stickie\\\"},\\\"state\\\":{\\\"text\\\":\\\"hello world\\\",\\\"color\\\":\\\"yellow\\\",\\\"fontSize\\\":22}}}\",\n",
      "                    \"name\": \"CreateAppTool\"\n",
      "                  },\n",
      "                  \"type\": \"function\"\n",
      "                }\n",
      "              ]\n",
      "            },\n",
      "            \"response_metadata\": {\n",
      "              \"token_usage\": {\n",
      "                \"completion_tokens\": 67,\n",
      "                \"prompt_tokens\": 951,\n",
      "                \"total_tokens\": 1018\n",
      "              },\n",
      "              \"model_name\": \"gpt-4o\",\n",
      "              \"system_fingerprint\": \"fp_319be4768e\",\n",
      "              \"finish_reason\": \"tool_calls\",\n",
      "              \"logprobs\": null\n",
      "            },\n",
      "            \"type\": \"ai\",\n",
      "            \"id\": \"run-6e8d2430-8abd-4c4a-8c0e-3b8c2782ca0f-0\",\n",
      "            \"tool_calls\": [\n",
      "              {\n",
      "                \"name\": \"CreateAppTool\",\n",
      "                \"args\": {\n",
      "                  \"smartbit\": {\n",
      "                    \"data\": {\n",
      "                      \"position\": {\n",
      "                        \"x\": 100,\n",
      "                        \"y\": 100,\n",
      "                        \"z\": 0\n",
      "                      },\n",
      "                      \"size\": {\n",
      "                        \"width\": 200,\n",
      "                        \"height\": 200,\n",
      "                        \"depth\": 0\n",
      "                      },\n",
      "                      \"type\": \"Stickie\"\n",
      "                    },\n",
      "                    \"state\": {\n",
      "                      \"text\": \"hello world\",\n",
      "                      \"color\": \"yellow\",\n",
      "                      \"fontSize\": 22\n",
      "                    }\n",
      "                  }\n",
      "                },\n",
      "                \"id\": \"call_Ub9myh4huD6dQhfcwdjwrZ8K\"\n",
      "              }\n",
      "            ],\n",
      "            \"invalid_tool_calls\": []\n",
      "          }\n",
      "        }\n",
      "      }\n",
      "    ]\n",
      "  ],\n",
      "  \"llm_output\": {\n",
      "    \"token_usage\": {\n",
      "      \"completion_tokens\": 67,\n",
      "      \"prompt_tokens\": 951,\n",
      "      \"total_tokens\": 1018\n",
      "    },\n",
      "    \"model_name\": \"gpt-4o\",\n",
      "    \"system_fingerprint\": \"fp_319be4768e\"\n",
      "  },\n",
      "  \"run\": null\n",
      "}\n",
      "\u001b[36;1m\u001b[1;3m[chain/end]\u001b[0m \u001b[1m[chain:RunnableSequence] [1.85s] Exiting Chain run with output:\n",
      "\u001b[0m[outputs]\n"
     ]
    },
    {
     "data": {
      "text/plain": [
       "AIMessage(content='', additional_kwargs={'tool_calls': [{'id': 'call_Ub9myh4huD6dQhfcwdjwrZ8K', 'function': {'arguments': '{\"smartbit\":{\"data\":{\"position\":{\"x\":100,\"y\":100,\"z\":0},\"size\":{\"width\":200,\"height\":200,\"depth\":0},\"type\":\"Stickie\"},\"state\":{\"text\":\"hello world\",\"color\":\"yellow\",\"fontSize\":22}}}', 'name': 'CreateAppTool'}, 'type': 'function'}]}, response_metadata={'token_usage': {'completion_tokens': 67, 'prompt_tokens': 951, 'total_tokens': 1018}, 'model_name': 'gpt-4o', 'system_fingerprint': 'fp_319be4768e', 'finish_reason': 'tool_calls', 'logprobs': None}, id='run-6e8d2430-8abd-4c4a-8c0e-3b8c2782ca0f-0', tool_calls=[{'name': 'CreateAppTool', 'args': {'smartbit': {'data': {'position': {'x': 100, 'y': 100, 'z': 0}, 'size': {'width': 200, 'height': 200, 'depth': 0}, 'type': 'Stickie'}, 'state': {'text': 'hello world', 'color': 'yellow', 'fontSize': 22}}}, 'id': 'call_Ub9myh4huD6dQhfcwdjwrZ8K'}])"
      ]
     },
     "execution_count": 22,
     "metadata": {},
     "output_type": "execute_result"
    }
   ],
   "source": [
    "from langchain.globals import set_debug\n",
    "set_debug(True)\n",
    "\n",
    "wall_agent_runnable.invoke({\"current_apps\" :\"abc\", \"messages\": [(\"human\", \"Query: create a stickie with the text hello world\")]})"
   ]
  },
  {
   "cell_type": "code",
   "execution_count": 23,
   "id": "d10523f4-bfc6-48e9-a3c4-c99906b3fe65",
   "metadata": {},
   "outputs": [],
   "source": [
    "def handle_tool_error(state) -> dict:\n",
    "    error = state.get(\"error\")\n",
    "    tool_calls = state[\"messages\"][-1].tool_calls\n",
    "    return {\n",
    "        \"messages\": [\n",
    "            ToolMessage(\n",
    "                content=f\"Error: {repr(error)}\\n please fix your mistakes.\",\n",
    "                tool_call_id=tc[\"id\"],\n",
    "            )\n",
    "            for tc in tool_calls\n",
    "        ]\n",
    "    }\n",
    "\n",
    "def wall_agent_routes(\n",
    "    state: State,\n",
    ") -> Literal[\n",
    "    \"wall_agent_safe_tools\",\n",
    "    \"wall_agent_sensitive_tools\",\n",
    "    # \"complete_or_escalate\",\n",
    "    \"__end__\",\n",
    "]:\n",
    "    last_msg = state[\"messages\"][-1]\n",
    "    if not last_msg.tool_calls:\n",
    "        return \"__end__\"\n",
    "\n",
    "    tool_calls = state[\"messages\"][-1].tool_calls\n",
    "    # did_cancel = any(tc[\"name\"] == CompleteOrEscalate.__name__ for tc in tool_calls)\n",
    "    # if did_cancel:\n",
    "    #     return \"complete_or_escalate\"\n",
    "    \n",
    "    safe_toolnames = [t.name for t in wall_agent_safe_tools]\n",
    "    if all(tc[\"name\"] in safe_toolnames for tc in tool_calls):\n",
    "        return \"wall_agent_safe_tools\"\n",
    "    return \"wall_agent_sensitive_tools\"\n",
    "\n",
    "\n",
    "from langchain_core.runnables import RunnableLambda\n",
    "def create_tool_node_with_fallback(tools: list) -> dict:\n",
    "    return ToolNode(tools).with_fallbacks(\n",
    "        [RunnableLambda(handle_tool_error)], exception_key=\"error\"\n",
    "    )\n"
   ]
  },
  {
   "cell_type": "code",
   "execution_count": 87,
   "id": "cbb96b8a-42ac-4fcc-9624-e7c30daac2b8",
   "metadata": {},
   "outputs": [],
   "source": [
    "from typing import Annotated, Optional, Literal, Dict\n",
    "from langchain.pydantic_v1 import BaseModel, Field, UUID4\n",
    "\n",
    "from typing_extensions import TypedDict\n",
    "\n",
    "from langgraph.graph import StateGraph, END\n",
    "from langgraph.graph.message import add_messages\n",
    "from langchain_core.runnables import Runnable, RunnableConfig\n",
    "\n",
    "class State(TypedDict):\n",
    "    # Messages have the type \"list\". The `add_messages` function\n",
    "    # in the annotation defines how this state key should be updated\n",
    "    # (in this case, it appends messages to the list, rather than overwriting them)\n",
    "    messages: Annotated[list, add_messages]\n",
    "    user_id: Optional[UUID4]\n",
    "    current_apps: Optional[Dict]\n",
    "\n",
    "\n",
    "class Assistant:\n",
    "    def __init__(self, runnable: Runnable):\n",
    "        self.runnable = runnable\n",
    "\n",
    "    def __call__(self, state: State, config: RunnableConfig):\n",
    "        print(\"-----START State-----\")\n",
    "        print(state)\n",
    "        print(\"-----END State-----\")\n",
    "        print(\"-----START Model Invocation-----\")\n",
    "        result = self.runnable.invoke(state)\n",
    "        print(\"-----END Model Invocation-----\")\n",
    "        \n",
    "        return {\"messages\": result}\n",
    "        \n",
    "    \n",
    "graph_builder = StateGraph(State)\n",
    "\n"
   ]
  },
  {
   "cell_type": "code",
   "execution_count": 88,
   "id": "14ccd6a9-127f-436f-bc65-1476d552fd75",
   "metadata": {},
   "outputs": [],
   "source": [
    "from langgraph.checkpoint.sqlite import SqliteSaver\n",
    "import uuid\n",
    "graph_builder.add_node(\"wall_agent\", Assistant(wall_agent_runnable))\n",
    "graph_builder.add_node(\"wall_agent_safe_tools\", create_tool_node_with_fallback(wall_agent_safe_tools))\n",
    "graph_builder.add_node(\"wall_agent_sensitive_tools\", create_tool_node_with_fallback(wall_agent_sensitive_tools))\n",
    "\n",
    "graph_builder.add_conditional_edges(\"wall_agent\", wall_agent_routes)\n",
    "graph_builder.add_edge(\"wall_agent_safe_tools\", \"wall_agent\")\n",
    "graph_builder.add_edge(\"wall_agent_sensitive_tools\", \"wall_agent\")\n",
    "\n",
    "graph_builder.set_entry_point(\"wall_agent\")\n",
    "memory = SqliteSaver.from_conn_string(\":memory:\")\n",
    "graph = graph_builder.compile(checkpointer=memory)\n",
    "thread_id = str(uuid.uuid4())\n",
    "\n",
    "config = {\n",
    "    \"configurable\": {\n",
    "        # Checkpoints are accessed by thread_id\n",
    "        \"thread_id\": thread_id,\n",
    "    }\n",
    "}"
   ]
  },
  {
   "cell_type": "code",
   "execution_count": 66,
   "id": "fec23cd4-52d5-498b-acf8-43a2f38542c9",
   "metadata": {},
   "outputs": [
    {
     "name": "stdout",
     "output_type": "stream",
     "text": [
      "\u001b[32;1m\u001b[1;3m[chain/start]\u001b[0m \u001b[1m[chain:LangGraph] Entering Chain run with input:\n",
      "\u001b[0m{\n",
      "  \"messages\": [\n",
      "    [\n",
      "      \"human\",\n",
      "      \"Create a red stickie with the text hellow world\"\n",
      "    ]\n",
      "  ]\n",
      "}\n",
      "\u001b[32;1m\u001b[1;3m[chain/start]\u001b[0m \u001b[1m[chain:LangGraph > chain:__start__] Entering Chain run with input:\n",
      "\u001b[0m{\n",
      "  \"messages\": [\n",
      "    [\n",
      "      \"human\",\n",
      "      \"Create a red stickie with the text hellow world\"\n",
      "    ]\n",
      "  ]\n",
      "}\n",
      "\u001b[36;1m\u001b[1;3m[chain/end]\u001b[0m \u001b[1m[chain:LangGraph > chain:__start__] [1ms] Exiting Chain run with output:\n",
      "\u001b[0m{\n",
      "  \"messages\": [\n",
      "    [\n",
      "      \"human\",\n",
      "      \"Create a red stickie with the text hellow world\"\n",
      "    ]\n",
      "  ]\n",
      "}\n",
      "\u001b[32;1m\u001b[1;3m[chain/start]\u001b[0m \u001b[1m[chain:LangGraph > chain:wall_agent] Entering Chain run with input:\n",
      "\u001b[0m[inputs]\n",
      "-----START State-----\n",
      "{'messages': [HumanMessage(content='Create a red stickie with the text hellow world', id='668e1a97-67f8-4a00-a84b-c4a68d8871de')], 'user_id': None, 'current_apps': None}\n",
      "-----END State-----\n",
      "-----START Model Invocation-----\n",
      "\u001b[32;1m\u001b[1;3m[chain/start]\u001b[0m \u001b[1m[chain:LangGraph > chain:wall_agent > chain:RunnableSequence] Entering Chain run with input:\n",
      "\u001b[0m[inputs]\n",
      "\u001b[32;1m\u001b[1;3m[chain/start]\u001b[0m \u001b[1m[chain:LangGraph > chain:wall_agent > chain:RunnableSequence > prompt:ChatPromptTemplate] Entering Prompt run with input:\n",
      "\u001b[0m[inputs]\n",
      "\u001b[36;1m\u001b[1;3m[chain/end]\u001b[0m \u001b[1m[chain:LangGraph > chain:wall_agent > chain:RunnableSequence > prompt:ChatPromptTemplate] [0ms] Exiting Prompt run with output:\n",
      "\u001b[0m[outputs]\n",
      "\u001b[32;1m\u001b[1;3m[llm/start]\u001b[0m \u001b[1m[chain:LangGraph > chain:wall_agent > chain:RunnableSequence > llm:ChatOpenAI] Entering LLM run with input:\n",
      "\u001b[0m{\n",
      "  \"prompts\": [\n",
      "    \"System: You are a basic SAGE3 subagent and you can create or delete apps (also called widgets) on the wall, like Stickies, Counter or PDFViewers. You can also access and interact with the text contained in the apps on the wall to answer questions of provide summary but you are not supposed to be interactive. Try to execute the code without prompting the user for more info.\\n\\nCurrent Apps on the wall: \\nNone\\n\\nIf none of your tools are appropriate for it, then \\\"CompleteOrEscalate\\\" the dialog to the host assistant. Do not waste the user's time. Do not create fictitious tools or functions.\\nHuman: Create a red stickie with the text hellow world\"\n",
      "  ]\n",
      "}\n",
      "\u001b[36;1m\u001b[1;3m[llm/end]\u001b[0m \u001b[1m[chain:LangGraph > chain:wall_agent > chain:RunnableSequence > llm:ChatOpenAI] [1.46s] Exiting LLM run with output:\n",
      "\u001b[0m{\n",
      "  \"generations\": [\n",
      "    [\n",
      "      {\n",
      "        \"text\": \"\",\n",
      "        \"generation_info\": {\n",
      "          \"finish_reason\": \"tool_calls\",\n",
      "          \"logprobs\": null\n",
      "        },\n",
      "        \"type\": \"ChatGeneration\",\n",
      "        \"message\": {\n",
      "          \"lc\": 1,\n",
      "          \"type\": \"constructor\",\n",
      "          \"id\": [\n",
      "            \"langchain\",\n",
      "            \"schema\",\n",
      "            \"messages\",\n",
      "            \"AIMessage\"\n",
      "          ],\n",
      "          \"kwargs\": {\n",
      "            \"content\": \"\",\n",
      "            \"additional_kwargs\": {\n",
      "              \"tool_calls\": [\n",
      "                {\n",
      "                  \"id\": \"call_pa2uf32kfboyCkbXIVKhWSqD\",\n",
      "                  \"function\": {\n",
      "                    \"arguments\": \"{\\\"smartbit\\\":{\\\"data\\\":{\\\"position\\\":{\\\"x\\\":100,\\\"y\\\":100,\\\"z\\\":0},\\\"size\\\":{\\\"width\\\":200,\\\"height\\\":200,\\\"depth\\\":0},\\\"type\\\":\\\"Stickie\\\"},\\\"state\\\":{\\\"text\\\":\\\"hellow world\\\",\\\"color\\\":\\\"red\\\",\\\"fontSize\\\":22}}}\",\n",
      "                    \"name\": \"CreateAppTool\"\n",
      "                  },\n",
      "                  \"type\": \"function\"\n",
      "                }\n",
      "              ]\n",
      "            },\n",
      "            \"response_metadata\": {\n",
      "              \"token_usage\": {\n",
      "                \"completion_tokens\": 68,\n",
      "                \"prompt_tokens\": 951,\n",
      "                \"total_tokens\": 1019\n",
      "              },\n",
      "              \"model_name\": \"gpt-4o\",\n",
      "              \"system_fingerprint\": \"fp_319be4768e\",\n",
      "              \"finish_reason\": \"tool_calls\",\n",
      "              \"logprobs\": null\n",
      "            },\n",
      "            \"type\": \"ai\",\n",
      "            \"id\": \"run-61bdace7-a328-4bf2-b551-cff20a7334fc-0\",\n",
      "            \"tool_calls\": [\n",
      "              {\n",
      "                \"name\": \"CreateAppTool\",\n",
      "                \"args\": {\n",
      "                  \"smartbit\": {\n",
      "                    \"data\": {\n",
      "                      \"position\": {\n",
      "                        \"x\": 100,\n",
      "                        \"y\": 100,\n",
      "                        \"z\": 0\n",
      "                      },\n",
      "                      \"size\": {\n",
      "                        \"width\": 200,\n",
      "                        \"height\": 200,\n",
      "                        \"depth\": 0\n",
      "                      },\n",
      "                      \"type\": \"Stickie\"\n",
      "                    },\n",
      "                    \"state\": {\n",
      "                      \"text\": \"hellow world\",\n",
      "                      \"color\": \"red\",\n",
      "                      \"fontSize\": 22\n",
      "                    }\n",
      "                  }\n",
      "                },\n",
      "                \"id\": \"call_pa2uf32kfboyCkbXIVKhWSqD\"\n",
      "              }\n",
      "            ],\n",
      "            \"invalid_tool_calls\": []\n",
      "          }\n",
      "        }\n",
      "      }\n",
      "    ]\n",
      "  ],\n",
      "  \"llm_output\": {\n",
      "    \"token_usage\": {\n",
      "      \"completion_tokens\": 68,\n",
      "      \"prompt_tokens\": 951,\n",
      "      \"total_tokens\": 1019\n",
      "    },\n",
      "    \"model_name\": \"gpt-4o\",\n",
      "    \"system_fingerprint\": \"fp_319be4768e\"\n",
      "  },\n",
      "  \"run\": null\n",
      "}\n",
      "\u001b[36;1m\u001b[1;3m[chain/end]\u001b[0m \u001b[1m[chain:LangGraph > chain:wall_agent > chain:RunnableSequence] [1.46s] Exiting Chain run with output:\n",
      "\u001b[0m[outputs]\n",
      "-----END Model Invocation-----\n",
      "\u001b[32;1m\u001b[1;3m[chain/start]\u001b[0m \u001b[1m[chain:LangGraph > chain:wall_agent > chain:ChannelWrite<wall_agent,messages,user_id,current_apps>] Entering Chain run with input:\n",
      "\u001b[0m[inputs]\n",
      "\u001b[36;1m\u001b[1;3m[chain/end]\u001b[0m \u001b[1m[chain:LangGraph > chain:wall_agent > chain:ChannelWrite<wall_agent,messages,user_id,current_apps>] [1ms] Exiting Chain run with output:\n",
      "\u001b[0m[outputs]\n",
      "\u001b[32;1m\u001b[1;3m[chain/start]\u001b[0m \u001b[1m[chain:LangGraph > chain:wall_agent > chain:wall_agent_routes] Entering Chain run with input:\n",
      "\u001b[0m[inputs]\n",
      "\u001b[36;1m\u001b[1;3m[chain/end]\u001b[0m \u001b[1m[chain:LangGraph > chain:wall_agent > chain:wall_agent_routes] [0ms] Exiting Chain run with output:\n",
      "\u001b[0m{\n",
      "  \"output\": \"wall_agent_safe_tools\"\n",
      "}\n",
      "\u001b[32;1m\u001b[1;3m[chain/start]\u001b[0m \u001b[1m[chain:LangGraph > chain:wall_agent > chain:ChannelWrite<branch:wall_agent:wall_agent_routes:wall_agent_safe_tools>] Entering Chain run with input:\n",
      "\u001b[0m[inputs]\n",
      "\u001b[36;1m\u001b[1;3m[chain/end]\u001b[0m \u001b[1m[chain:LangGraph > chain:wall_agent > chain:ChannelWrite<branch:wall_agent:wall_agent_routes:wall_agent_safe_tools>] [0ms] Exiting Chain run with output:\n",
      "\u001b[0m[outputs]\n",
      "\u001b[36;1m\u001b[1;3m[chain/end]\u001b[0m \u001b[1m[chain:LangGraph > chain:wall_agent] [1.47s] Exiting Chain run with output:\n",
      "\u001b[0m[outputs]\n",
      "\u001b[32;1m\u001b[1;3m[chain/start]\u001b[0m \u001b[1m[chain:LangGraph > chain:wall_agent_safe_tools] Entering Chain run with input:\n",
      "\u001b[0m[inputs]\n",
      "\u001b[32;1m\u001b[1;3m[chain/start]\u001b[0m \u001b[1m[chain:LangGraph > chain:wall_agent_safe_tools > chain:RunnableWithFallbacks] Entering Chain run with input:\n",
      "\u001b[0m[inputs]\n",
      "\u001b[32;1m\u001b[1;3m[tool/start]\u001b[0m \u001b[1m[chain:LangGraph > chain:wall_agent_safe_tools > chain:RunnableWithFallbacks > tool:CreateAppTool] Entering Tool run with input:\n",
      "\u001b[0m\"{'smartbit': {'data': {'position': {'x': 100, 'y': 100, 'z': 0}, 'size': {'width': 200, 'height': 200, 'depth': 0}, 'type': 'Stickie'}, 'state': {'text': 'hellow world', 'color': 'red', 'fontSize': 22}}}\"\n",
      "Running Create app\n",
      "\u001b[36;1m\u001b[1;3m[tool/end]\u001b[0m \u001b[1m[chain:LangGraph > chain:wall_agent_safe_tools > chain:RunnableWithFallbacks > tool:CreateAppTool] [21ms] Exiting Tool run with output:\n",
      "\u001b[0m\"Done with CreateAppTool\"\n",
      "\u001b[36;1m\u001b[1;3m[chain/end]\u001b[0m \u001b[1m[chain:LangGraph > chain:wall_agent_safe_tools > chain:RunnableWithFallbacks] [23ms] Exiting Chain run with output:\n",
      "\u001b[0m[outputs]\n",
      "\u001b[32;1m\u001b[1;3m[chain/start]\u001b[0m \u001b[1m[chain:LangGraph > chain:wall_agent_safe_tools > chain:ChannelWrite<wall_agent_safe_tools,messages,user_id,current_apps>] Entering Chain run with input:\n",
      "\u001b[0m[inputs]\n",
      "\u001b[36;1m\u001b[1;3m[chain/end]\u001b[0m \u001b[1m[chain:LangGraph > chain:wall_agent_safe_tools > chain:ChannelWrite<wall_agent_safe_tools,messages,user_id,current_apps>] [0ms] Exiting Chain run with output:\n",
      "\u001b[0m[outputs]\n",
      "\u001b[36;1m\u001b[1;3m[chain/end]\u001b[0m \u001b[1m[chain:LangGraph > chain:wall_agent_safe_tools] [28ms] Exiting Chain run with output:\n",
      "\u001b[0m[outputs]\n",
      "\u001b[32;1m\u001b[1;3m[chain/start]\u001b[0m \u001b[1m[chain:LangGraph > chain:wall_agent] Entering Chain run with input:\n",
      "\u001b[0m[inputs]\n",
      "-----START State-----\n",
      "{'messages': [HumanMessage(content='Create a red stickie with the text hellow world', id='668e1a97-67f8-4a00-a84b-c4a68d8871de'), AIMessage(content='', additional_kwargs={'tool_calls': [{'id': 'call_pa2uf32kfboyCkbXIVKhWSqD', 'function': {'arguments': '{\"smartbit\":{\"data\":{\"position\":{\"x\":100,\"y\":100,\"z\":0},\"size\":{\"width\":200,\"height\":200,\"depth\":0},\"type\":\"Stickie\"},\"state\":{\"text\":\"hellow world\",\"color\":\"red\",\"fontSize\":22}}}', 'name': 'CreateAppTool'}, 'type': 'function'}]}, response_metadata={'token_usage': {'completion_tokens': 68, 'prompt_tokens': 951, 'total_tokens': 1019}, 'model_name': 'gpt-4o', 'system_fingerprint': 'fp_319be4768e', 'finish_reason': 'tool_calls', 'logprobs': None}, id='run-61bdace7-a328-4bf2-b551-cff20a7334fc-0', tool_calls=[{'name': 'CreateAppTool', 'args': {'smartbit': {'data': {'position': {'x': 100, 'y': 100, 'z': 0}, 'size': {'width': 200, 'height': 200, 'depth': 0}, 'type': 'Stickie'}, 'state': {'text': 'hellow world', 'color': 'red', 'fontSize': 22}}}, 'id': 'call_pa2uf32kfboyCkbXIVKhWSqD'}]), ToolMessage(content='Done with CreateAppTool', name='CreateAppTool', id='a80b2bf7-47b7-4141-9b98-141316787d9a', tool_call_id='call_pa2uf32kfboyCkbXIVKhWSqD')], 'user_id': None, 'current_apps': None}\n",
      "-----END State-----\n",
      "-----START Model Invocation-----\n",
      "\u001b[32;1m\u001b[1;3m[chain/start]\u001b[0m \u001b[1m[chain:LangGraph > chain:wall_agent > chain:RunnableSequence] Entering Chain run with input:\n",
      "\u001b[0m[inputs]\n",
      "\u001b[32;1m\u001b[1;3m[chain/start]\u001b[0m \u001b[1m[chain:LangGraph > chain:wall_agent > chain:RunnableSequence > prompt:ChatPromptTemplate] Entering Prompt run with input:\n",
      "\u001b[0m[inputs]\n",
      "\u001b[36;1m\u001b[1;3m[chain/end]\u001b[0m \u001b[1m[chain:LangGraph > chain:wall_agent > chain:RunnableSequence > prompt:ChatPromptTemplate] [0ms] Exiting Prompt run with output:\n",
      "\u001b[0m[outputs]\n",
      "\u001b[32;1m\u001b[1;3m[llm/start]\u001b[0m \u001b[1m[chain:LangGraph > chain:wall_agent > chain:RunnableSequence > llm:ChatOpenAI] Entering LLM run with input:\n",
      "\u001b[0m{\n",
      "  \"prompts\": [\n",
      "    \"System: You are a basic SAGE3 subagent and you can create or delete apps (also called widgets) on the wall, like Stickies, Counter or PDFViewers. You can also access and interact with the text contained in the apps on the wall to answer questions of provide summary but you are not supposed to be interactive. Try to execute the code without prompting the user for more info.\\n\\nCurrent Apps on the wall: \\nNone\\n\\nIf none of your tools are appropriate for it, then \\\"CompleteOrEscalate\\\" the dialog to the host assistant. Do not waste the user's time. Do not create fictitious tools or functions.\\nHuman: Create a red stickie with the text hellow world\\nAI: \\nTool: Done with CreateAppTool\"\n",
      "  ]\n",
      "}\n",
      "\u001b[36;1m\u001b[1;3m[llm/end]\u001b[0m \u001b[1m[chain:LangGraph > chain:wall_agent > chain:RunnableSequence > llm:ChatOpenAI] [876ms] Exiting LLM run with output:\n",
      "\u001b[0m{\n",
      "  \"generations\": [\n",
      "    [\n",
      "      {\n",
      "        \"text\": \"A red stickie with the text \\\"hellow world\\\" has been created.\",\n",
      "        \"generation_info\": {\n",
      "          \"finish_reason\": \"stop\",\n",
      "          \"logprobs\": null\n",
      "        },\n",
      "        \"type\": \"ChatGeneration\",\n",
      "        \"message\": {\n",
      "          \"lc\": 1,\n",
      "          \"type\": \"constructor\",\n",
      "          \"id\": [\n",
      "            \"langchain\",\n",
      "            \"schema\",\n",
      "            \"messages\",\n",
      "            \"AIMessage\"\n",
      "          ],\n",
      "          \"kwargs\": {\n",
      "            \"content\": \"A red stickie with the text \\\"hellow world\\\" has been created.\",\n",
      "            \"response_metadata\": {\n",
      "              \"token_usage\": {\n",
      "                \"completion_tokens\": 17,\n",
      "                \"prompt_tokens\": 1033,\n",
      "                \"total_tokens\": 1050\n",
      "              },\n",
      "              \"model_name\": \"gpt-4o\",\n",
      "              \"system_fingerprint\": \"fp_319be4768e\",\n",
      "              \"finish_reason\": \"stop\",\n",
      "              \"logprobs\": null\n",
      "            },\n",
      "            \"type\": \"ai\",\n",
      "            \"id\": \"run-c6eb8d1c-1669-4dfa-baca-aa575ae1a954-0\",\n",
      "            \"tool_calls\": [],\n",
      "            \"invalid_tool_calls\": []\n",
      "          }\n",
      "        }\n",
      "      }\n",
      "    ]\n",
      "  ],\n",
      "  \"llm_output\": {\n",
      "    \"token_usage\": {\n",
      "      \"completion_tokens\": 17,\n",
      "      \"prompt_tokens\": 1033,\n",
      "      \"total_tokens\": 1050\n",
      "    },\n",
      "    \"model_name\": \"gpt-4o\",\n",
      "    \"system_fingerprint\": \"fp_319be4768e\"\n",
      "  },\n",
      "  \"run\": null\n",
      "}\n",
      "\u001b[36;1m\u001b[1;3m[chain/end]\u001b[0m \u001b[1m[chain:LangGraph > chain:wall_agent > chain:RunnableSequence] [877ms] Exiting Chain run with output:\n",
      "\u001b[0m[outputs]\n",
      "-----END Model Invocation-----\n",
      "\u001b[32;1m\u001b[1;3m[chain/start]\u001b[0m \u001b[1m[chain:LangGraph > chain:wall_agent > chain:ChannelWrite<wall_agent,messages,user_id,current_apps>] Entering Chain run with input:\n",
      "\u001b[0m[inputs]\n",
      "\u001b[36;1m\u001b[1;3m[chain/end]\u001b[0m \u001b[1m[chain:LangGraph > chain:wall_agent > chain:ChannelWrite<wall_agent,messages,user_id,current_apps>] [1ms] Exiting Chain run with output:\n",
      "\u001b[0m[outputs]\n",
      "\u001b[32;1m\u001b[1;3m[chain/start]\u001b[0m \u001b[1m[chain:LangGraph > chain:wall_agent > chain:wall_agent_routes] Entering Chain run with input:\n",
      "\u001b[0m[inputs]\n",
      "\u001b[36;1m\u001b[1;3m[chain/end]\u001b[0m \u001b[1m[chain:LangGraph > chain:wall_agent > chain:wall_agent_routes] [0ms] Exiting Chain run with output:\n",
      "\u001b[0m{\n",
      "  \"output\": \"__end__\"\n",
      "}\n",
      "\u001b[36;1m\u001b[1;3m[chain/end]\u001b[0m \u001b[1m[chain:LangGraph > chain:wall_agent] [882ms] Exiting Chain run with output:\n",
      "\u001b[0m[outputs]\n",
      "\u001b[36;1m\u001b[1;3m[chain/end]\u001b[0m \u001b[1m[chain:LangGraph] [2.39s] Exiting Chain run with output:\n",
      "\u001b[0m[outputs]\n"
     ]
    },
    {
     "data": {
      "text/plain": [
       "{'messages': [HumanMessage(content='Create a red stickie with the text hellow world', id='668e1a97-67f8-4a00-a84b-c4a68d8871de'),\n",
       "  AIMessage(content='', additional_kwargs={'tool_calls': [{'id': 'call_pa2uf32kfboyCkbXIVKhWSqD', 'function': {'arguments': '{\"smartbit\":{\"data\":{\"position\":{\"x\":100,\"y\":100,\"z\":0},\"size\":{\"width\":200,\"height\":200,\"depth\":0},\"type\":\"Stickie\"},\"state\":{\"text\":\"hellow world\",\"color\":\"red\",\"fontSize\":22}}}', 'name': 'CreateAppTool'}, 'type': 'function'}]}, response_metadata={'token_usage': {'completion_tokens': 68, 'prompt_tokens': 951, 'total_tokens': 1019}, 'model_name': 'gpt-4o', 'system_fingerprint': 'fp_319be4768e', 'finish_reason': 'tool_calls', 'logprobs': None}, id='run-61bdace7-a328-4bf2-b551-cff20a7334fc-0', tool_calls=[{'name': 'CreateAppTool', 'args': {'smartbit': {'data': {'position': {'x': 100, 'y': 100, 'z': 0}, 'size': {'width': 200, 'height': 200, 'depth': 0}, 'type': 'Stickie'}, 'state': {'text': 'hellow world', 'color': 'red', 'fontSize': 22}}}, 'id': 'call_pa2uf32kfboyCkbXIVKhWSqD'}]),\n",
       "  ToolMessage(content='Done with CreateAppTool', name='CreateAppTool', id='a80b2bf7-47b7-4141-9b98-141316787d9a', tool_call_id='call_pa2uf32kfboyCkbXIVKhWSqD'),\n",
       "  AIMessage(content='A red stickie with the text \"hellow world\" has been created.', response_metadata={'token_usage': {'completion_tokens': 17, 'prompt_tokens': 1033, 'total_tokens': 1050}, 'model_name': 'gpt-4o', 'system_fingerprint': 'fp_319be4768e', 'finish_reason': 'stop', 'logprobs': None}, id='run-c6eb8d1c-1669-4dfa-baca-aa575ae1a954-0')]}"
      ]
     },
     "execution_count": 66,
     "metadata": {},
     "output_type": "execute_result"
    }
   ],
   "source": [
    "graph.invoke({\"messages\": [(\"human\", \"Create a red stickie with the text hellow world\")]}, config)"
   ]
  },
  {
   "cell_type": "code",
   "execution_count": null,
   "id": "15f220a1-125c-45f3-bec4-cc48eeaa0585",
   "metadata": {},
   "outputs": [],
   "source": [
    "# resp = graph.nodes['wall_agent'].invoke({\"messages\": [(\"human\", \"Create a red stickie with the text hellow world\")], 'current_apps':'abc'})\n",
    "# resp"
   ]
  },
  {
   "cell_type": "code",
   "execution_count": 33,
   "id": "e3319c50-5393-4df5-91f1-b5a766adfbf0",
   "metadata": {},
   "outputs": [
    {
     "name": "stdout",
     "output_type": "stream",
     "text": [
      "\u001b[32;1m\u001b[1;3m[llm/start]\u001b[0m \u001b[1m[llm:ChatOpenAI] Entering LLM run with input:\n",
      "\u001b[0m{\n",
      "  \"prompts\": [\n",
      "    \"Human: Create three red stickies with the text hellow world and delete all the yellow the stickies on the wall\"\n",
      "  ]\n",
      "}\n",
      "\u001b[36;1m\u001b[1;3m[llm/end]\u001b[0m \u001b[1m[llm:ChatOpenAI] [3.69s] Exiting LLM run with output:\n",
      "\u001b[0m{\n",
      "  \"generations\": [\n",
      "    [\n",
      "      {\n",
      "        \"text\": \"\",\n",
      "        \"generation_info\": {\n",
      "          \"finish_reason\": \"tool_calls\",\n",
      "          \"logprobs\": null\n",
      "        },\n",
      "        \"type\": \"ChatGeneration\",\n",
      "        \"message\": {\n",
      "          \"lc\": 1,\n",
      "          \"type\": \"constructor\",\n",
      "          \"id\": [\n",
      "            \"langchain\",\n",
      "            \"schema\",\n",
      "            \"messages\",\n",
      "            \"AIMessage\"\n",
      "          ],\n",
      "          \"kwargs\": {\n",
      "            \"content\": \"\",\n",
      "            \"additional_kwargs\": {\n",
      "              \"tool_calls\": [\n",
      "                {\n",
      "                  \"id\": \"call_hAYYS7JmdUvB0zHG1cSQsBKj\",\n",
      "                  \"function\": {\n",
      "                    \"arguments\": \"{\\\"smartbit\\\": {\\\"data\\\": {\\\"position\\\": {\\\"x\\\": 100, \\\"y\\\": 100, \\\"z\\\": 0}, \\\"size\\\": {\\\"width\\\": 200, \\\"height\\\": 200, \\\"depth\\\": 0}, \\\"type\\\": \\\"Stickie\\\"}, \\\"state\\\": {\\\"text\\\": \\\"hellow world\\\", \\\"color\\\": \\\"red\\\", \\\"fontSize\\\": 22}}}\",\n",
      "                    \"name\": \"CreateAppTool\"\n",
      "                  },\n",
      "                  \"type\": \"function\"\n",
      "                },\n",
      "                {\n",
      "                  \"id\": \"call_xCz90KuXiSldkWumgdce6ayS\",\n",
      "                  \"function\": {\n",
      "                    \"arguments\": \"{\\\"smartbit\\\": {\\\"data\\\": {\\\"position\\\": {\\\"x\\\": 400, \\\"y\\\": 100, \\\"z\\\": 0}, \\\"size\\\": {\\\"width\\\": 200, \\\"height\\\": 200, \\\"depth\\\": 0}, \\\"type\\\": \\\"Stickie\\\"}, \\\"state\\\": {\\\"text\\\": \\\"hellow world\\\", \\\"color\\\": \\\"red\\\", \\\"fontSize\\\": 22}}}\",\n",
      "                    \"name\": \"CreateAppTool\"\n",
      "                  },\n",
      "                  \"type\": \"function\"\n",
      "                },\n",
      "                {\n",
      "                  \"id\": \"call_3YDcuHsIGbYd5djAh004eq2i\",\n",
      "                  \"function\": {\n",
      "                    \"arguments\": \"{\\\"smartbit\\\": {\\\"data\\\": {\\\"position\\\": {\\\"x\\\": 700, \\\"y\\\": 100, \\\"z\\\": 0}, \\\"size\\\": {\\\"width\\\": 200, \\\"height\\\": 200, \\\"depth\\\": 0}, \\\"type\\\": \\\"Stickie\\\"}, \\\"state\\\": {\\\"text\\\": \\\"hellow world\\\", \\\"color\\\": \\\"red\\\", \\\"fontSize\\\": 22}}}\",\n",
      "                    \"name\": \"CreateAppTool\"\n",
      "                  },\n",
      "                  \"type\": \"function\"\n",
      "                }\n",
      "              ]\n",
      "            },\n",
      "            \"response_metadata\": {\n",
      "              \"token_usage\": {\n",
      "                \"completion_tokens\": 220,\n",
      "                \"prompt_tokens\": 717,\n",
      "                \"total_tokens\": 937\n",
      "              },\n",
      "              \"model_name\": \"gpt-4o\",\n",
      "              \"system_fingerprint\": \"fp_319be4768e\",\n",
      "              \"finish_reason\": \"tool_calls\",\n",
      "              \"logprobs\": null\n",
      "            },\n",
      "            \"type\": \"ai\",\n",
      "            \"id\": \"run-9a98d7ec-0a5e-4dc0-a742-4540a9a5501f-0\",\n",
      "            \"tool_calls\": [\n",
      "              {\n",
      "                \"name\": \"CreateAppTool\",\n",
      "                \"args\": {\n",
      "                  \"smartbit\": {\n",
      "                    \"data\": {\n",
      "                      \"position\": {\n",
      "                        \"x\": 100,\n",
      "                        \"y\": 100,\n",
      "                        \"z\": 0\n",
      "                      },\n",
      "                      \"size\": {\n",
      "                        \"width\": 200,\n",
      "                        \"height\": 200,\n",
      "                        \"depth\": 0\n",
      "                      },\n",
      "                      \"type\": \"Stickie\"\n",
      "                    },\n",
      "                    \"state\": {\n",
      "                      \"text\": \"hellow world\",\n",
      "                      \"color\": \"red\",\n",
      "                      \"fontSize\": 22\n",
      "                    }\n",
      "                  }\n",
      "                },\n",
      "                \"id\": \"call_hAYYS7JmdUvB0zHG1cSQsBKj\"\n",
      "              },\n",
      "              {\n",
      "                \"name\": \"CreateAppTool\",\n",
      "                \"args\": {\n",
      "                  \"smartbit\": {\n",
      "                    \"data\": {\n",
      "                      \"position\": {\n",
      "                        \"x\": 400,\n",
      "                        \"y\": 100,\n",
      "                        \"z\": 0\n",
      "                      },\n",
      "                      \"size\": {\n",
      "                        \"width\": 200,\n",
      "                        \"height\": 200,\n",
      "                        \"depth\": 0\n",
      "                      },\n",
      "                      \"type\": \"Stickie\"\n",
      "                    },\n",
      "                    \"state\": {\n",
      "                      \"text\": \"hellow world\",\n",
      "                      \"color\": \"red\",\n",
      "                      \"fontSize\": 22\n",
      "                    }\n",
      "                  }\n",
      "                },\n",
      "                \"id\": \"call_xCz90KuXiSldkWumgdce6ayS\"\n",
      "              },\n",
      "              {\n",
      "                \"name\": \"CreateAppTool\",\n",
      "                \"args\": {\n",
      "                  \"smartbit\": {\n",
      "                    \"data\": {\n",
      "                      \"position\": {\n",
      "                        \"x\": 700,\n",
      "                        \"y\": 100,\n",
      "                        \"z\": 0\n",
      "                      },\n",
      "                      \"size\": {\n",
      "                        \"width\": 200,\n",
      "                        \"height\": 200,\n",
      "                        \"depth\": 0\n",
      "                      },\n",
      "                      \"type\": \"Stickie\"\n",
      "                    },\n",
      "                    \"state\": {\n",
      "                      \"text\": \"hellow world\",\n",
      "                      \"color\": \"red\",\n",
      "                      \"fontSize\": 22\n",
      "                    }\n",
      "                  }\n",
      "                },\n",
      "                \"id\": \"call_3YDcuHsIGbYd5djAh004eq2i\"\n",
      "              }\n",
      "            ],\n",
      "            \"invalid_tool_calls\": []\n",
      "          }\n",
      "        }\n",
      "      }\n",
      "    ]\n",
      "  ],\n",
      "  \"llm_output\": {\n",
      "    \"token_usage\": {\n",
      "      \"completion_tokens\": 220,\n",
      "      \"prompt_tokens\": 717,\n",
      "      \"total_tokens\": 937\n",
      "    },\n",
      "    \"model_name\": \"gpt-4o\",\n",
      "    \"system_fingerprint\": \"fp_319be4768e\"\n",
      "  },\n",
      "  \"run\": null\n",
      "}\n"
     ]
    }
   ],
   "source": [
    "resp = llm_4o.bind_tools([CreateAppTool(ps3), DeleteAppTool(ps3)]).invoke(\"Create three red stickies with the text hellow world and delete all the yellow the stickies on the wall\")\n",
    "\n"
   ]
  },
  {
   "cell_type": "code",
   "execution_count": 34,
   "id": "821c5cbb-ccc3-4923-8978-380f62466ada",
   "metadata": {},
   "outputs": [
    {
     "data": {
      "text/plain": [
       "[{'name': 'CreateAppTool',\n",
       "  'args': {'smartbit': {'data': {'position': {'x': 100, 'y': 100, 'z': 0},\n",
       "     'size': {'width': 200, 'height': 200, 'depth': 0},\n",
       "     'type': 'Stickie'},\n",
       "    'state': {'text': 'hellow world', 'color': 'red', 'fontSize': 22}}},\n",
       "  'id': 'call_hAYYS7JmdUvB0zHG1cSQsBKj'},\n",
       " {'name': 'CreateAppTool',\n",
       "  'args': {'smartbit': {'data': {'position': {'x': 400, 'y': 100, 'z': 0},\n",
       "     'size': {'width': 200, 'height': 200, 'depth': 0},\n",
       "     'type': 'Stickie'},\n",
       "    'state': {'text': 'hellow world', 'color': 'red', 'fontSize': 22}}},\n",
       "  'id': 'call_xCz90KuXiSldkWumgdce6ayS'},\n",
       " {'name': 'CreateAppTool',\n",
       "  'args': {'smartbit': {'data': {'position': {'x': 700, 'y': 100, 'z': 0},\n",
       "     'size': {'width': 200, 'height': 200, 'depth': 0},\n",
       "     'type': 'Stickie'},\n",
       "    'state': {'text': 'hellow world', 'color': 'red', 'fontSize': 22}}},\n",
       "  'id': 'call_3YDcuHsIGbYd5djAh004eq2i'}]"
      ]
     },
     "execution_count": 34,
     "metadata": {},
     "output_type": "execute_result"
    }
   ],
   "source": [
    "resp.tool_calls"
   ]
  },
  {
   "cell_type": "code",
   "execution_count": 31,
   "id": "a91d360f-4b2b-4fa4-b078-ffa1a949f120",
   "metadata": {},
   "outputs": [],
   "source": [
    "tn = ToolNode([CreateAppTool(ps3)])"
   ]
  },
  {
   "cell_type": "code",
   "execution_count": 32,
   "id": "ea795104-5ddb-4e4b-b516-869bf5be280e",
   "metadata": {},
   "outputs": [
    {
     "name": "stdout",
     "output_type": "stream",
     "text": [
      "\u001b[32;1m\u001b[1;3m[tool/start]\u001b[0m \u001b[1m[tool:CreateAppTool] Entering Tool run with input:\n",
      "\u001b[0m\"{'smartbit': {'data': {'position': {'x': 0, 'y': 0, 'z': 0}, 'size': {'width': 200, 'height': 200, 'depth': 0}, 'type': 'Stickie'}, 'state': {'text': 'hellow world', 'color': 'red', 'fontSize': 22}}}\"\n",
      "\u001b[32;1m\u001b[1;3m[tool/start]\u001b[0m \u001b[1m[tool:CreateAppTool] Entering Tool run with input:\n",
      "\u001b[0m\"{'smartbit': {'data': {'position': {'x': 220, 'y': 0, 'z': 0}, 'size': {'width': 200, 'height': 200, 'depth': 0}, 'type': 'Stickie'}, 'state': {'text': 'hellow world', 'color': 'red', 'fontSize': 22}}}\"\n",
      "\u001b[32;1m\u001b[1;3m[tool/start]\u001b[0m \u001b[1m[tool:CreateAppTool] Entering Tool run with input:\n",
      "\u001b[0m\"{'smartbit': {'data': {'position': {'x': 440, 'y': 0, 'z': 0}, 'size': {'width': 200, 'height': 200, 'depth': 0}, 'type': 'Stickie'}, 'state': {'text': 'hellow world', 'color': 'red', 'fontSize': 22}}}\"\n",
      "Running Create app\n",
      "\u001b[36;1m\u001b[1;3m[tool/end]\u001b[0m \u001b[1m[tool:CreateAppTool] [31ms] Exiting Tool run with output:\n",
      "\u001b[0m\"Done with CreateAppTool\"\n",
      "Running Create app\n",
      "\u001b[36;1m\u001b[1;3m[tool/end]\u001b[0m \u001b[1m[tool:CreateAppTool] [23ms] Exiting Tool run with output:\n",
      "\u001b[0m\"Done with CreateAppTool\"\n",
      "Running Create app\n",
      "\u001b[36;1m\u001b[1;3m[tool/end]\u001b[0m \u001b[1m[tool:CreateAppTool] [32ms] Exiting Tool run with output:\n",
      "\u001b[0m\"Done with CreateAppTool\"\n"
     ]
    },
    {
     "data": {
      "text/plain": [
       "{'messages': [ToolMessage(content='Done with CreateAppTool', name='CreateAppTool', tool_call_id='call_XZT2hQsZc35GpFxId7cJyFgP'),\n",
       "  ToolMessage(content='Done with CreateAppTool', name='CreateAppTool', tool_call_id='call_qF5VS4HT6o7Y2lGpEvaU5fuS'),\n",
       "  ToolMessage(content='Done with CreateAppTool', name='CreateAppTool', tool_call_id='call_b7LusNN0mwSKqYoLKPSdhE2b')]}"
      ]
     },
     "execution_count": 32,
     "metadata": {},
     "output_type": "execute_result"
    }
   ],
   "source": [
    "tn.invoke({\"messages\": [resp]})"
   ]
  },
  {
   "cell_type": "code",
   "execution_count": null,
   "id": "b845efc3-ff4a-4482-90b3-9893fa27e6f4",
   "metadata": {},
   "outputs": [],
   "source": []
  },
  {
   "cell_type": "code",
   "execution_count": null,
   "id": "2a99eca6-4ac1-485e-a8c2-68b705a57a07",
   "metadata": {},
   "outputs": [],
   "source": []
  },
  {
   "cell_type": "code",
   "execution_count": null,
   "id": "ae07339f-e805-4612-8ff7-4eb67f369bef",
   "metadata": {},
   "outputs": [],
   "source": []
  },
  {
   "cell_type": "code",
   "execution_count": null,
   "id": "6093c236-784c-41db-85ad-0ef6f08f789f",
   "metadata": {},
   "outputs": [],
   "source": [
    "!pip install langgraph"
   ]
  },
  {
   "cell_type": "code",
   "execution_count": null,
   "id": "2d186ab4-78a8-4713-ae40-908c86888fb0",
   "metadata": {},
   "outputs": [],
   "source": []
  },
  {
   "cell_type": "code",
   "execution_count": null,
   "id": "6fda44cd-0a1d-4996-80ea-5a23b4d571bd",
   "metadata": {},
   "outputs": [],
   "source": [
    "from typing import Annotated, Optional, Literal, Dict\n",
    "from langchain.pydantic_v1 import BaseModel, Field, UUID4\n",
    "\n",
    "from typing_extensions import TypedDict\n",
    "\n",
    "from langgraph.graph import StateGraph\n",
    "from langgraph.graph.message import add_messages\n",
    "\n",
    "\n",
    "class State(TypedDict):\n",
    "    # Messages have the type \"list\". The `add_messages` function\n",
    "    # in the annotation defines how this state key should be updated\n",
    "    # (in this case, it appends messages to the list, rather than overwriting them)\n",
    "    messages: Annotated[list, add_messages]\n",
    "    user_id: Optional[UUID4]\n",
    "    current_apps: Dict\n",
    "\n",
    "\n",
    "graph_builder = StateGraph(State)\n",
    "\n",
    "def node_1(state: State):\n",
    "    return {\"messages\": [(\"human\", \"node_1 input\")]}\n",
    "\n",
    "# def node_2(state: State):\n",
    "#     return {\"messages\": [(\"human\", \"how are you\")]}\n",
    "\n",
    "node_2_p = ChatPromptTemplate.from_messages(\n",
    "    [   (\"human\", \"node_2 before messages\"),  \n",
    "        (\"placeholder\", \"{messages}\"),\n",
    "     (\"human\", \"node_2 after messages\"),  \n",
    "     \n",
    "    ]\n",
    ").partial()\n",
    "\n",
    "node_2_runnable = node_2_p | llm_4o\n",
    "\n",
    "graph_builder.add_node(\"node_1\", node_1)\n",
    "graph_builder.add_node(\"node_2\", Assistant(node_2_runnable))\n",
    "graph_builder.add_edge(\"node_1\", \"node_2\")\n",
    "\n",
    "graph_builder.set_entry_point(\"node_1\")\n",
    "graph_builder.set_finish_point(\"node_2\")\n",
    "graph = graph_builder.compile()"
   ]
  },
  {
   "cell_type": "code",
   "execution_count": null,
   "id": "292eef81-d398-477c-8a5c-490fa405d3ee",
   "metadata": {},
   "outputs": [],
   "source": [
    "# from IPython.display import Image, display\n",
    "\n",
    "# try:\n",
    "#     display(Image(graph.get_graph().draw_mermaid_png()))\n",
    "# except:\n",
    "#     # This requires some extra dependencies and is optional\n",
    "#     pass"
   ]
  },
  {
   "cell_type": "code",
   "execution_count": null,
   "id": "185f1bfc-b76a-4806-bc8f-dfaabac55596",
   "metadata": {},
   "outputs": [],
   "source": [
    "from langchain_core.messages.human import HumanMessage"
   ]
  },
  {
   "cell_type": "code",
   "execution_count": null,
   "id": "6c1598f8-0821-4e8b-bc0d-a2c72aa85a90",
   "metadata": {},
   "outputs": [],
   "source": [
    "s = {'messages': [HumanMessage(content='Hello Input', id='cba94913-770e-4a33-877b-b4ad0e533550'), HumanMessage(content='node_1 input', id='3b7df344-7495-491d-b358-eb6013dd09b3')]}"
   ]
  },
  {
   "cell_type": "code",
   "execution_count": null,
   "id": "29dbbff0-36dc-43bb-80f2-3889f0268bbf",
   "metadata": {},
   "outputs": [],
   "source": [
    "s_2 = node_2_runnable.first.invoke(s)"
   ]
  },
  {
   "cell_type": "code",
   "execution_count": null,
   "id": "70058185-f75f-4ace-92ca-af8f9ebec2da",
   "metadata": {},
   "outputs": [],
   "source": [
    "node_2_runnable.last.invoke(s_2)"
   ]
  },
  {
   "cell_type": "code",
   "execution_count": null,
   "id": "1a0842ca-a194-4844-910d-61ca97162e45",
   "metadata": {},
   "outputs": [],
   "source": [
    "from langchain_core.messages.ai import AIMessage\n",
    "result = AIMessage(content=\"It seems like you're trying to outline a sequence or structure involving nodes and messages. However, the context is a bit unclear. Could you please provide more details or clarify what you're trying to achieve? Are you working on a specific project or problem involving nodes and messages?\", response_metadata={'token_usage': {'completion_tokens': 53, 'prompt_tokens': 35, 'total_tokens': 88}, 'model_name': 'gpt-4o', 'system_fingerprint': 'fp_319be4768e', 'finish_reason': 'stop', 'logprobs': None}, id='run-69c51c62-7b79-45dd-b017-0ca38bc20363-0')"
   ]
  },
  {
   "cell_type": "code",
   "execution_count": null,
   "id": "da4816ea-32fc-4400-91f9-27986c8e7630",
   "metadata": {},
   "outputs": [],
   "source": [
    "isinstance(result.content, list)"
   ]
  },
  {
   "cell_type": "code",
   "execution_count": null,
   "id": "b8b02b38-4c13-425b-81eb-9b89cb0647f6",
   "metadata": {},
   "outputs": [],
   "source": [
    "tools_condition({\"messages\": [resp]})"
   ]
  },
  {
   "cell_type": "code",
   "execution_count": null,
   "id": "30a4e90e-bda5-4d7c-9797-c5833fa39cb3",
   "metadata": {},
   "outputs": [],
   "source": [
    "resp.tool_calls"
   ]
  },
  {
   "cell_type": "code",
   "execution_count": null,
   "id": "ee61bb85-4975-4651-827e-3d275796eafd",
   "metadata": {},
   "outputs": [],
   "source": []
  },
  {
   "cell_type": "code",
   "execution_count": null,
   "id": "259d14bc-b825-4703-9ad9-2f58d18d14b3",
   "metadata": {},
   "outputs": [],
   "source": []
  },
  {
   "cell_type": "code",
   "execution_count": null,
   "id": "ebe58aef-a618-4ac4-95b8-e7605bcb42b8",
   "metadata": {},
   "outputs": [],
   "source": []
  },
  {
   "cell_type": "code",
   "execution_count": null,
   "id": "f398320e-7058-4a2b-a90c-2ba2d2e94238",
   "metadata": {},
   "outputs": [],
   "source": []
  },
  {
   "cell_type": "code",
   "execution_count": 89,
   "id": "63c55ddd-b92a-417b-9eb6-9eebfaf9a7a6",
   "metadata": {},
   "outputs": [],
   "source": [
    "ms = [(\"human\", \"Create a red stickie with the text hellow world\")]"
   ]
  },
  {
   "cell_type": "code",
   "execution_count": 90,
   "id": "ff098a9e-7536-4860-9946-509c47959bb3",
   "metadata": {},
   "outputs": [
    {
     "data": {
      "text/plain": [
       "()"
      ]
     },
     "execution_count": 90,
     "metadata": {},
     "output_type": "execute_result"
    }
   ],
   "source": [
    "graph.get_state(config).next"
   ]
  },
  {
   "cell_type": "code",
   "execution_count": 91,
   "id": "d39ca501-999d-41c0-b184-ecfa2fd723f0",
   "metadata": {},
   "outputs": [
    {
     "name": "stdout",
     "output_type": "stream",
     "text": [
      "-----START State-----\n",
      "{'messages': [('human', 'Create a red stickie with the text hellow world')], 'current_apps': 'abc'}\n",
      "-----END State-----\n",
      "-----START Model Invocation-----\n",
      "\u001b[32;1m\u001b[1;3m[chain/start]\u001b[0m \u001b[1m[chain:RunnableSequence] Entering Chain run with input:\n",
      "\u001b[0m{\n",
      "  \"messages\": [\n",
      "    [\n",
      "      \"human\",\n",
      "      \"Create a red stickie with the text hellow world\"\n",
      "    ]\n",
      "  ],\n",
      "  \"current_apps\": \"abc\"\n",
      "}\n",
      "\u001b[32;1m\u001b[1;3m[chain/start]\u001b[0m \u001b[1m[chain:RunnableSequence > prompt:ChatPromptTemplate] Entering Prompt run with input:\n",
      "\u001b[0m{\n",
      "  \"messages\": [\n",
      "    [\n",
      "      \"human\",\n",
      "      \"Create a red stickie with the text hellow world\"\n",
      "    ]\n",
      "  ],\n",
      "  \"current_apps\": \"abc\"\n",
      "}\n",
      "\u001b[36;1m\u001b[1;3m[chain/end]\u001b[0m \u001b[1m[chain:RunnableSequence > prompt:ChatPromptTemplate] [0ms] Exiting Prompt run with output:\n",
      "\u001b[0m[outputs]\n",
      "\u001b[32;1m\u001b[1;3m[llm/start]\u001b[0m \u001b[1m[chain:RunnableSequence > llm:ChatOpenAI] Entering LLM run with input:\n",
      "\u001b[0m{\n",
      "  \"prompts\": [\n",
      "    \"System: You are a basic SAGE3 subagent and you can create or delete apps (also called widgets) on the wall, like Stickies, Counter or PDFViewers. You can also access and interact with the text contained in the apps on the wall to answer questions of provide summary but you are not supposed to be interactive. Try to execute the code without prompting the user for more info.\\n\\nCurrent Apps on the wall: \\nabc\\n\\nIf none of your tools are appropriate for it, then \\\"CompleteOrEscalate\\\" the dialog to the host assistant. Do not waste the user's time. Do not create fictitious tools or functions.\\nHuman: Create a red stickie with the text hellow world\"\n",
      "  ]\n",
      "}\n",
      "\u001b[36;1m\u001b[1;3m[llm/end]\u001b[0m \u001b[1m[chain:RunnableSequence > llm:ChatOpenAI] [1.49s] Exiting LLM run with output:\n",
      "\u001b[0m{\n",
      "  \"generations\": [\n",
      "    [\n",
      "      {\n",
      "        \"text\": \"\",\n",
      "        \"generation_info\": {\n",
      "          \"finish_reason\": \"tool_calls\",\n",
      "          \"logprobs\": null\n",
      "        },\n",
      "        \"type\": \"ChatGeneration\",\n",
      "        \"message\": {\n",
      "          \"lc\": 1,\n",
      "          \"type\": \"constructor\",\n",
      "          \"id\": [\n",
      "            \"langchain\",\n",
      "            \"schema\",\n",
      "            \"messages\",\n",
      "            \"AIMessage\"\n",
      "          ],\n",
      "          \"kwargs\": {\n",
      "            \"content\": \"\",\n",
      "            \"additional_kwargs\": {\n",
      "              \"tool_calls\": [\n",
      "                {\n",
      "                  \"id\": \"call_pqcQfY2m1bybvQSn7KMAaA7u\",\n",
      "                  \"function\": {\n",
      "                    \"arguments\": \"{\\\"smartbit\\\":{\\\"data\\\":{\\\"position\\\":{\\\"x\\\":0,\\\"y\\\":0,\\\"z\\\":0},\\\"size\\\":{\\\"width\\\":200,\\\"height\\\":200,\\\"depth\\\":0},\\\"type\\\":\\\"Stickie\\\"},\\\"state\\\":{\\\"text\\\":\\\"hellow world\\\",\\\"color\\\":\\\"red\\\",\\\"fontSize\\\":22}}}\",\n",
      "                    \"name\": \"CreateAppTool\"\n",
      "                  },\n",
      "                  \"type\": \"function\"\n",
      "                }\n",
      "              ]\n",
      "            },\n",
      "            \"response_metadata\": {\n",
      "              \"token_usage\": {\n",
      "                \"completion_tokens\": 68,\n",
      "                \"prompt_tokens\": 951,\n",
      "                \"total_tokens\": 1019\n",
      "              },\n",
      "              \"model_name\": \"gpt-4o\",\n",
      "              \"system_fingerprint\": \"fp_319be4768e\",\n",
      "              \"finish_reason\": \"tool_calls\",\n",
      "              \"logprobs\": null\n",
      "            },\n",
      "            \"type\": \"ai\",\n",
      "            \"id\": \"run-1e3d65e9-b6b3-464e-8c20-524f111cb192-0\",\n",
      "            \"tool_calls\": [\n",
      "              {\n",
      "                \"name\": \"CreateAppTool\",\n",
      "                \"args\": {\n",
      "                  \"smartbit\": {\n",
      "                    \"data\": {\n",
      "                      \"position\": {\n",
      "                        \"x\": 0,\n",
      "                        \"y\": 0,\n",
      "                        \"z\": 0\n",
      "                      },\n",
      "                      \"size\": {\n",
      "                        \"width\": 200,\n",
      "                        \"height\": 200,\n",
      "                        \"depth\": 0\n",
      "                      },\n",
      "                      \"type\": \"Stickie\"\n",
      "                    },\n",
      "                    \"state\": {\n",
      "                      \"text\": \"hellow world\",\n",
      "                      \"color\": \"red\",\n",
      "                      \"fontSize\": 22\n",
      "                    }\n",
      "                  }\n",
      "                },\n",
      "                \"id\": \"call_pqcQfY2m1bybvQSn7KMAaA7u\"\n",
      "              }\n",
      "            ],\n",
      "            \"invalid_tool_calls\": []\n",
      "          }\n",
      "        }\n",
      "      }\n",
      "    ]\n",
      "  ],\n",
      "  \"llm_output\": {\n",
      "    \"token_usage\": {\n",
      "      \"completion_tokens\": 68,\n",
      "      \"prompt_tokens\": 951,\n",
      "      \"total_tokens\": 1019\n",
      "    },\n",
      "    \"model_name\": \"gpt-4o\",\n",
      "    \"system_fingerprint\": \"fp_319be4768e\"\n",
      "  },\n",
      "  \"run\": null\n",
      "}\n",
      "\u001b[36;1m\u001b[1;3m[chain/end]\u001b[0m \u001b[1m[chain:RunnableSequence] [1.49s] Exiting Chain run with output:\n",
      "\u001b[0m[outputs]\n",
      "-----END Model Invocation-----\n"
     ]
    },
    {
     "data": {
      "text/plain": [
       "{'messages': AIMessage(content='', additional_kwargs={'tool_calls': [{'id': 'call_pqcQfY2m1bybvQSn7KMAaA7u', 'function': {'arguments': '{\"smartbit\":{\"data\":{\"position\":{\"x\":0,\"y\":0,\"z\":0},\"size\":{\"width\":200,\"height\":200,\"depth\":0},\"type\":\"Stickie\"},\"state\":{\"text\":\"hellow world\",\"color\":\"red\",\"fontSize\":22}}}', 'name': 'CreateAppTool'}, 'type': 'function'}]}, response_metadata={'token_usage': {'completion_tokens': 68, 'prompt_tokens': 951, 'total_tokens': 1019}, 'model_name': 'gpt-4o', 'system_fingerprint': 'fp_319be4768e', 'finish_reason': 'tool_calls', 'logprobs': None}, id='run-1e3d65e9-b6b3-464e-8c20-524f111cb192-0', tool_calls=[{'name': 'CreateAppTool', 'args': {'smartbit': {'data': {'position': {'x': 0, 'y': 0, 'z': 0}, 'size': {'width': 200, 'height': 200, 'depth': 0}, 'type': 'Stickie'}, 'state': {'text': 'hellow world', 'color': 'red', 'fontSize': 22}}}, 'id': 'call_pqcQfY2m1bybvQSn7KMAaA7u'}])}"
      ]
     },
     "execution_count": 91,
     "metadata": {},
     "output_type": "execute_result"
    }
   ],
   "source": [
    "resp = graph.nodes['wall_agent'].invoke({\"messages\": ms, 'current_apps':\"abc\"})\n",
    "resp\n"
   ]
  },
  {
   "cell_type": "code",
   "execution_count": 92,
   "id": "b898c9a2-b62a-4c7f-9906-76143e49df23",
   "metadata": {},
   "outputs": [
    {
     "data": {
      "text/plain": [
       "{'messages': AIMessage(content='', additional_kwargs={'tool_calls': [{'id': 'call_pqcQfY2m1bybvQSn7KMAaA7u', 'function': {'arguments': '{\"smartbit\":{\"data\":{\"position\":{\"x\":0,\"y\":0,\"z\":0},\"size\":{\"width\":200,\"height\":200,\"depth\":0},\"type\":\"Stickie\"},\"state\":{\"text\":\"hellow world\",\"color\":\"red\",\"fontSize\":22}}}', 'name': 'CreateAppTool'}, 'type': 'function'}]}, response_metadata={'token_usage': {'completion_tokens': 68, 'prompt_tokens': 951, 'total_tokens': 1019}, 'model_name': 'gpt-4o', 'system_fingerprint': 'fp_319be4768e', 'finish_reason': 'tool_calls', 'logprobs': None}, id='run-1e3d65e9-b6b3-464e-8c20-524f111cb192-0', tool_calls=[{'name': 'CreateAppTool', 'args': {'smartbit': {'data': {'position': {'x': 0, 'y': 0, 'z': 0}, 'size': {'width': 200, 'height': 200, 'depth': 0}, 'type': 'Stickie'}, 'state': {'text': 'hellow world', 'color': 'red', 'fontSize': 22}}}, 'id': 'call_pqcQfY2m1bybvQSn7KMAaA7u'}])}"
      ]
     },
     "execution_count": 92,
     "metadata": {},
     "output_type": "execute_result"
    }
   ],
   "source": [
    "resp"
   ]
  },
  {
   "cell_type": "code",
   "execution_count": 93,
   "id": "a7b6097e-045c-4ee0-9ea4-a9c0604e5550",
   "metadata": {},
   "outputs": [
    {
     "name": "stdout",
     "output_type": "stream",
     "text": [
      "\u001b[32;1m\u001b[1;3m[chain/start]\u001b[0m \u001b[1m[chain:LangGraphUpdateState] Entering Chain run with input:\n",
      "\u001b[0m[inputs]\n",
      "\u001b[32;1m\u001b[1;3m[chain/start]\u001b[0m \u001b[1m[chain:LangGraphUpdateState > chain:ChannelWrite<wall_agent,messages,user_id,current_apps>] Entering Chain run with input:\n",
      "\u001b[0m[inputs]\n",
      "\u001b[36;1m\u001b[1;3m[chain/end]\u001b[0m \u001b[1m[chain:LangGraphUpdateState > chain:ChannelWrite<wall_agent,messages,user_id,current_apps>] [0ms] Exiting Chain run with output:\n",
      "\u001b[0m[outputs]\n",
      "\u001b[32;1m\u001b[1;3m[chain/start]\u001b[0m \u001b[1m[chain:LangGraphUpdateState > chain:wall_agent_routes] Entering Chain run with input:\n",
      "\u001b[0m[inputs]\n",
      "\u001b[36;1m\u001b[1;3m[chain/end]\u001b[0m \u001b[1m[chain:LangGraphUpdateState > chain:wall_agent_routes] [0ms] Exiting Chain run with output:\n",
      "\u001b[0m{\n",
      "  \"output\": \"wall_agent_safe_tools\"\n",
      "}\n",
      "\u001b[32;1m\u001b[1;3m[chain/start]\u001b[0m \u001b[1m[chain:LangGraphUpdateState > chain:ChannelWrite<branch:wall_agent:wall_agent_routes:wall_agent_safe_tools>] Entering Chain run with input:\n",
      "\u001b[0m[inputs]\n",
      "\u001b[36;1m\u001b[1;3m[chain/end]\u001b[0m \u001b[1m[chain:LangGraphUpdateState > chain:ChannelWrite<branch:wall_agent:wall_agent_routes:wall_agent_safe_tools>] [0ms] Exiting Chain run with output:\n",
      "\u001b[0m[outputs]\n",
      "\u001b[36;1m\u001b[1;3m[chain/end]\u001b[0m \u001b[1m[chain:LangGraphUpdateState] [2ms] Exiting Chain run with output:\n",
      "\u001b[0m[outputs]\n"
     ]
    },
    {
     "data": {
      "text/plain": [
       "{'configurable': {'thread_id': '8926e059-65e4-4190-a4ac-a1f5db8f37c4',\n",
       "  'thread_ts': '1ef25722-c722-6ce8-bfff-e13ff84ed45c'}}"
      ]
     },
     "execution_count": 93,
     "metadata": {},
     "output_type": "execute_result"
    }
   ],
   "source": [
    "graph.update_state(config, resp, as_node=\"wall_agent\")"
   ]
  },
  {
   "cell_type": "code",
   "execution_count": 94,
   "id": "1f01b2d3-7f14-4dd6-81cb-9f71653a7bc6",
   "metadata": {},
   "outputs": [
    {
     "data": {
      "text/plain": [
       "('wall_agent_safe_tools',)"
      ]
     },
     "execution_count": 94,
     "metadata": {},
     "output_type": "execute_result"
    }
   ],
   "source": [
    "graph.get_state(config).next"
   ]
  },
  {
   "cell_type": "code",
   "execution_count": 96,
   "id": "95b2253e-b70d-4c3a-8d3b-2be7c6cb2cc6",
   "metadata": {},
   "outputs": [
    {
     "data": {
      "text/plain": [
       "2"
      ]
     },
     "execution_count": 96,
     "metadata": {},
     "output_type": "execute_result"
    }
   ],
   "source": [
    "ms += [resp['messages']]\n",
    "ms"
   ]
  },
  {
   "cell_type": "code",
   "execution_count": 97,
   "id": "aec6e768-4f35-447b-93da-80947064beed",
   "metadata": {},
   "outputs": [
    {
     "name": "stdout",
     "output_type": "stream",
     "text": [
      "\u001b[32;1m\u001b[1;3m[chain/start]\u001b[0m \u001b[1m[chain:RunnableWithFallbacks] Entering Chain run with input:\n",
      "\u001b[0m[inputs]\n",
      "\u001b[32;1m\u001b[1;3m[tool/start]\u001b[0m \u001b[1m[chain:RunnableWithFallbacks > tool:CreateAppTool] Entering Tool run with input:\n",
      "\u001b[0m\"{'smartbit': {'data': {'position': {'x': 0, 'y': 0, 'z': 0}, 'size': {'width': 200, 'height': 200, 'depth': 0}, 'type': 'Stickie'}, 'state': {'text': 'hellow world', 'color': 'red', 'fontSize': 22}}}\"\n",
      "Running Create app\n",
      "\u001b[36;1m\u001b[1;3m[tool/end]\u001b[0m \u001b[1m[chain:RunnableWithFallbacks > tool:CreateAppTool] [17ms] Exiting Tool run with output:\n",
      "\u001b[0m\"Done with CreateAppTool\"\n",
      "\u001b[36;1m\u001b[1;3m[chain/end]\u001b[0m \u001b[1m[chain:RunnableWithFallbacks] [21ms] Exiting Chain run with output:\n",
      "\u001b[0m[outputs]\n"
     ]
    },
    {
     "data": {
      "text/plain": [
       "{'messages': [ToolMessage(content='Done with CreateAppTool', name='CreateAppTool', tool_call_id='call_pqcQfY2m1bybvQSn7KMAaA7u')]}"
      ]
     },
     "execution_count": 97,
     "metadata": {},
     "output_type": "execute_result"
    }
   ],
   "source": [
    "resp = graph.nodes['wall_agent_safe_tools'].invoke({\"messages\": ms, 'current_apps':\"abc\"})\n",
    "resp\n"
   ]
  },
  {
   "cell_type": "code",
   "execution_count": 98,
   "id": "37f080c6-7875-49a6-ad26-3f979ceac58a",
   "metadata": {},
   "outputs": [
    {
     "data": {
      "text/plain": [
       "{'messages': [ToolMessage(content='Done with CreateAppTool', name='CreateAppTool', tool_call_id='call_pqcQfY2m1bybvQSn7KMAaA7u')]}"
      ]
     },
     "execution_count": 98,
     "metadata": {},
     "output_type": "execute_result"
    }
   ],
   "source": [
    "resp"
   ]
  },
  {
   "cell_type": "code",
   "execution_count": 99,
   "id": "70808133-dcac-4a3a-b0f2-396221a00d01",
   "metadata": {},
   "outputs": [
    {
     "name": "stdout",
     "output_type": "stream",
     "text": [
      "\u001b[32;1m\u001b[1;3m[chain/start]\u001b[0m \u001b[1m[chain:LangGraphUpdateState] Entering Chain run with input:\n",
      "\u001b[0m[inputs]\n",
      "\u001b[36;1m\u001b[1;3m[chain/end]\u001b[0m \u001b[1m[chain:LangGraphUpdateState] [1ms] Exiting Chain run with output:\n",
      "\u001b[0m[outputs]\n"
     ]
    },
    {
     "data": {
      "text/plain": [
       "[('human', 'Create a red stickie with the text hellow world'),\n",
       " AIMessage(content='', additional_kwargs={'tool_calls': [{'id': 'call_pqcQfY2m1bybvQSn7KMAaA7u', 'function': {'arguments': '{\"smartbit\":{\"data\":{\"position\":{\"x\":0,\"y\":0,\"z\":0},\"size\":{\"width\":200,\"height\":200,\"depth\":0},\"type\":\"Stickie\"},\"state\":{\"text\":\"hellow world\",\"color\":\"red\",\"fontSize\":22}}}', 'name': 'CreateAppTool'}, 'type': 'function'}]}, response_metadata={'token_usage': {'completion_tokens': 68, 'prompt_tokens': 951, 'total_tokens': 1019}, 'model_name': 'gpt-4o', 'system_fingerprint': 'fp_319be4768e', 'finish_reason': 'tool_calls', 'logprobs': None}, id='run-1e3d65e9-b6b3-464e-8c20-524f111cb192-0', tool_calls=[{'name': 'CreateAppTool', 'args': {'smartbit': {'data': {'position': {'x': 0, 'y': 0, 'z': 0}, 'size': {'width': 200, 'height': 200, 'depth': 0}, 'type': 'Stickie'}, 'state': {'text': 'hellow world', 'color': 'red', 'fontSize': 22}}}, 'id': 'call_pqcQfY2m1bybvQSn7KMAaA7u'}]),\n",
       " [ToolMessage(content='Done with CreateAppTool', name='CreateAppTool', id='005eabf8-f532-477c-988d-5395745d211b', tool_call_id='call_pqcQfY2m1bybvQSn7KMAaA7u')]]"
      ]
     },
     "execution_count": 99,
     "metadata": {},
     "output_type": "execute_result"
    }
   ],
   "source": [
    "graph.update_state(config, resp, as_node=\"wall_agent_safe_tools\")\n",
    "ms += [resp['messages']]\n",
    "ms\n"
   ]
  },
  {
   "cell_type": "code",
   "execution_count": 100,
   "id": "487b7245-8aff-4db2-956d-4ec97b7f17c9",
   "metadata": {},
   "outputs": [
    {
     "data": {
      "text/plain": [
       "('wall_agent',)"
      ]
     },
     "execution_count": 100,
     "metadata": {},
     "output_type": "execute_result"
    }
   ],
   "source": [
    "graph.get_state(config).next"
   ]
  },
  {
   "cell_type": "code",
   "execution_count": null,
   "id": "2640cc40-9381-4b3c-96fe-1a59493eae19",
   "metadata": {},
   "outputs": [],
   "source": []
  },
  {
   "cell_type": "code",
   "execution_count": null,
   "id": "c9882963-f112-4e06-9e46-e7d4a4189689",
   "metadata": {},
   "outputs": [],
   "source": []
  },
  {
   "cell_type": "code",
   "execution_count": 74,
   "id": "13e21294-797d-40c1-91e7-485e887aa2cd",
   "metadata": {},
   "outputs": [
    {
     "name": "stdout",
     "output_type": "stream",
     "text": [
      "\u001b[32;1m\u001b[1;3m[tool/start]\u001b[0m \u001b[1m[tool:CreateAppTool] Entering Tool run with input:\n",
      "\u001b[0m\"{'smartbit': {'data': {'position': {'x': 100, 'y': 100, 'z': 0}, 'size': {'width': 200, 'height': 200, 'depth': 0}, 'type': 'Stickie'}, 'state': {'text': 'hellow world', 'color': 'red', 'fontSize': 22}}}\"\n",
      "Running Create app\n",
      "\u001b[36;1m\u001b[1;3m[tool/end]\u001b[0m \u001b[1m[tool:CreateAppTool] [24ms] Exiting Tool run with output:\n",
      "\u001b[0m\"Done with CreateAppTool\"\n"
     ]
    }
   ],
   "source": [
    "n =  ToolNode([CreateAppTool(ps3)])\n",
    "resp_t = n.invoke({\"messages\": [resp['messages']]})"
   ]
  },
  {
   "cell_type": "code",
   "execution_count": 75,
   "id": "7dce6bb1-a196-4706-a9dd-eada6380590e",
   "metadata": {},
   "outputs": [
    {
     "data": {
      "text/plain": [
       "[('human', 'Create a red stickie with the text hellow world'),\n",
       " AIMessage(content='', additional_kwargs={'tool_calls': [{'id': 'call_KSrcMaPkoxmg8dtWoD5E9HIt', 'function': {'arguments': '{\"smartbit\":{\"data\":{\"position\":{\"x\":100,\"y\":100,\"z\":0},\"size\":{\"width\":200,\"height\":200,\"depth\":0},\"type\":\"Stickie\"},\"state\":{\"text\":\"hellow world\",\"color\":\"red\",\"fontSize\":22}}}', 'name': 'CreateAppTool'}, 'type': 'function'}]}, response_metadata={'token_usage': {'completion_tokens': 68, 'prompt_tokens': 951, 'total_tokens': 1019}, 'model_name': 'gpt-4o', 'system_fingerprint': 'fp_319be4768e', 'finish_reason': 'tool_calls', 'logprobs': None}, id='run-b5c9fce1-22a9-4697-94bc-f72ebe754151-0', tool_calls=[{'name': 'CreateAppTool', 'args': {'smartbit': {'data': {'position': {'x': 100, 'y': 100, 'z': 0}, 'size': {'width': 200, 'height': 200, 'depth': 0}, 'type': 'Stickie'}, 'state': {'text': 'hellow world', 'color': 'red', 'fontSize': 22}}}, 'id': 'call_KSrcMaPkoxmg8dtWoD5E9HIt'}]),\n",
       " ToolMessage(content='Done with CreateAppTool', name='CreateAppTool', tool_call_id='call_KSrcMaPkoxmg8dtWoD5E9HIt')]"
      ]
     },
     "execution_count": 75,
     "metadata": {},
     "output_type": "execute_result"
    }
   ],
   "source": [
    "ms += resp_t['messages']\n",
    "ms"
   ]
  },
  {
   "cell_type": "code",
   "execution_count": 51,
   "id": "427d64af-2dea-4737-b0a7-cfd1fc678eeb",
   "metadata": {},
   "outputs": [
    {
     "ename": "ValueError",
     "evalue": "No checkpointer set",
     "output_type": "error",
     "traceback": [
      "\u001b[0;31m---------------------------------------------------------------------------\u001b[0m",
      "\u001b[0;31mValueError\u001b[0m                                Traceback (most recent call last)",
      "Cell \u001b[0;32mIn[51], line 1\u001b[0m\n\u001b[0;32m----> 1\u001b[0m \u001b[43mgraph\u001b[49m\u001b[38;5;241;43m.\u001b[39;49m\u001b[43mget_state\u001b[49m\u001b[43m(\u001b[49m\u001b[43m{\u001b[49m\u001b[43m}\u001b[49m\u001b[43m)\u001b[49m\n",
      "File \u001b[0;32m~/miniconda3/envs/sage-seer/lib/python3.10/site-packages/langgraph/pregel/__init__.py:351\u001b[0m, in \u001b[0;36mPregel.get_state\u001b[0;34m(self, config)\u001b[0m\n\u001b[1;32m    349\u001b[0m \u001b[38;5;250m\u001b[39m\u001b[38;5;124;03m\"\"\"Get the current state of the graph.\"\"\"\u001b[39;00m\n\u001b[1;32m    350\u001b[0m \u001b[38;5;28;01mif\u001b[39;00m \u001b[38;5;129;01mnot\u001b[39;00m \u001b[38;5;28mself\u001b[39m\u001b[38;5;241m.\u001b[39mcheckpointer:\n\u001b[0;32m--> 351\u001b[0m     \u001b[38;5;28;01mraise\u001b[39;00m \u001b[38;5;167;01mValueError\u001b[39;00m(\u001b[38;5;124m\"\u001b[39m\u001b[38;5;124mNo checkpointer set\u001b[39m\u001b[38;5;124m\"\u001b[39m)\n\u001b[1;32m    353\u001b[0m saved \u001b[38;5;241m=\u001b[39m \u001b[38;5;28mself\u001b[39m\u001b[38;5;241m.\u001b[39mcheckpointer\u001b[38;5;241m.\u001b[39mget_tuple(config)\n\u001b[1;32m    354\u001b[0m checkpoint \u001b[38;5;241m=\u001b[39m saved\u001b[38;5;241m.\u001b[39mcheckpoint \u001b[38;5;28;01mif\u001b[39;00m saved \u001b[38;5;28;01melse\u001b[39;00m empty_checkpoint()\n",
      "\u001b[0;31mValueError\u001b[0m: No checkpointer set"
     ]
    }
   ],
   "source": [
    "graph.get_state()"
   ]
  },
  {
   "cell_type": "code",
   "execution_count": null,
   "id": "8fa6d7c3-0ece-49ed-a9dc-1e21a115cbae",
   "metadata": {},
   "outputs": [],
   "source": []
  }
 ],
 "metadata": {
  "kernelspec": {
   "display_name": "Python 3 (ipykernel)",
   "language": "python",
   "name": "python3"
  },
  "language_info": {
   "codemirror_mode": {
    "name": "ipython",
    "version": 3
   },
   "file_extension": ".py",
   "mimetype": "text/x-python",
   "name": "python",
   "nbconvert_exporter": "python",
   "pygments_lexer": "ipython3",
   "version": "3.10.14"
  }
 },
 "nbformat": 4,
 "nbformat_minor": 5
}
