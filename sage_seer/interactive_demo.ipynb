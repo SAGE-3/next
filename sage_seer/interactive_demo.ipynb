{
 "cells": [
  {
   "cell_type": "code",
   "execution_count": null,
   "id": "a8b99c2b-dad1-43e8-835a-36a1700bbeb0",
   "metadata": {},
   "outputs": [],
   "source": [
    "# !pip uninstall -y foresight\n",
    "#!pip install git+https://github.com/SAGE-3/next.git@dev#subdirectory=foresight"
   ]
  },
  {
   "cell_type": "code",
   "execution_count": null,
   "id": "9e9cbbcd-1b29-45a1-b02f-6991fc15a094",
   "metadata": {},
   "outputs": [],
   "source": [
    "# !pip install langchain_openai\n",
    "# !pip install langchain"
   ]
  },
  {
   "cell_type": "code",
   "execution_count": 1,
   "id": "06c1f2c4-f930-4b1a-a721-0d02f9cb295f",
   "metadata": {},
   "outputs": [],
   "source": [
    "import sys\n",
    "sys.path.append(\"/Users/mahdi/Documents/GitHub/next/foresight/\")\n",
    "# from src.config import config as conf, prod_type\n",
    "from foresight.Sage3Sugar.pysage3 import PySage3\n",
    "from langchain_openai import ChatOpenAI"
   ]
  },
  {
   "cell_type": "code",
   "execution_count": 2,
   "id": "0f3e7926-eeba-4698-88e8-20203d3c2556",
   "metadata": {},
   "outputs": [],
   "source": [
    "prod_type= 'local'\n",
    "conf = {'local': {'seer_server': 'http://127.0.0.1:5002',\n",
    "  'jupyter_server': 'http://localhost:8888',\n",
    "  'redis_server': 'localhost',\n",
    "  'web_server': 'http://localhost:3333',\n",
    "  'ws_server': 'ws://localhost:3333'}}\n",
    "# room_id = '09073d6d-6d79-4c98-bbea-4dd82106c098'\n",
    "# board_id = '68993aeb-0ee6-4f95-b461-0f918fc7d969'\n",
    "# app_id = '4a29b8bf-9e72-4366-8946-d808e2e3d465'"
   ]
  },
  {
   "cell_type": "code",
   "execution_count": 4,
   "id": "36ebeed7-3d20-4453-aade-d2e15e6fe9d8",
   "metadata": {},
   "outputs": [
    {
     "name": "stdout",
     "output_type": "stream",
     "text": [
      "Configuring ps3 client ... \n",
      "Completed configuring Sage3 Client\n"
     ]
    },
    {
     "data": {
      "text/plain": [
       "[]"
      ]
     },
     "execution_count": 4,
     "metadata": {},
     "output_type": "execute_result"
    }
   ],
   "source": [
    "ps3 = PySage3(conf, prod_type)\n",
    "cb = ps3.rooms['e3233abf-a47b-4c16-81ec-c6e985c67a5a'].boards['479d5114-a017-4b6e-973d-8933c46b8837']\n",
    "list(cb.smartbits)"
   ]
  },
  {
   "cell_type": "code",
   "execution_count": null,
   "id": "f892ecda-54e8-4930-8f26-53b68ecdcbd4",
   "metadata": {},
   "outputs": [],
   "source": []
  },
  {
   "cell_type": "code",
   "execution_count": null,
   "id": "9ec0e54f-a23d-48aa-977a-d7f168a72b2a",
   "metadata": {},
   "outputs": [],
   "source": []
  },
  {
   "cell_type": "code",
   "execution_count": null,
   "id": "49a30f64-aecb-40b9-8030-7fee910df57d",
   "metadata": {},
   "outputs": [],
   "source": []
  },
  {
   "cell_type": "code",
   "execution_count": null,
   "id": "9d9e9f02-4258-4627-ba1c-9f3569e4010f",
   "metadata": {},
   "outputs": [],
   "source": []
  },
  {
   "cell_type": "code",
   "execution_count": null,
   "id": "c1977f6f-0d24-4f31-bee2-d5fa001e30c6",
   "metadata": {},
   "outputs": [],
   "source": [
    "llm_4o = ChatOpenAI(temperature=0.1, model=\"gpt-4o\")\n",
    "llm_4o.invoke(\"hello\")"
   ]
  },
  {
   "cell_type": "code",
   "execution_count": null,
   "id": "11d6c7d9-6e6c-4c5a-8b0f-abb5ef4b4aa5",
   "metadata": {},
   "outputs": [],
   "source": []
  },
  {
   "cell_type": "code",
   "execution_count": null,
   "id": "2a5f5179-f37a-49de-b8e5-ad60a9de0eb5",
   "metadata": {},
   "outputs": [],
   "source": []
  }
 ],
 "metadata": {
  "kernelspec": {
   "display_name": "Python 3 (ipykernel)",
   "language": "python",
   "name": "python3"
  },
  "language_info": {
   "codemirror_mode": {
    "name": "ipython",
    "version": 3
   },
   "file_extension": ".py",
   "mimetype": "text/x-python",
   "name": "python",
   "nbconvert_exporter": "python",
   "pygments_lexer": "ipython3",
   "version": "3.8.11"
  }
 },
 "nbformat": 4,
 "nbformat_minor": 5
}
