{
 "cells": [
  {
   "cell_type": "code",
   "execution_count": 2,
   "id": "60da5ec1",
   "metadata": {},
   "outputs": [
    {
     "name": "stdout",
     "output_type": "stream",
     "text": [
      "Found existing installation: foresight 0.3.2\n",
      "Uninstalling foresight-0.3.2:\n",
      "  Successfully uninstalled foresight-0.3.2\n",
      "Note: you may need to restart the kernel to use updated packages.\n"
     ]
    }
   ],
   "source": [
    "pip uninstall -y foresight "
   ]
  },
  {
   "cell_type": "code",
   "execution_count": 2,
   "id": "317c540d",
   "metadata": {},
   "outputs": [],
   "source": [
    "# !pip install -U git+https://github.com/SAGE-3/next.git@dev#subdirectory=foresight"
   ]
  },
  {
   "cell_type": "code",
   "execution_count": 3,
   "id": "65e0154d",
   "metadata": {},
   "outputs": [],
   "source": [
    "# # from foresight.config import config as conf, prod_type\n",
    "# import json\n",
    "# import copy\n",
    "# import httpx\n",
    "# from uuid import UUID\n",
    "# from langchain.prompts import (\n",
    "#     PromptTemplate,\n",
    "#     ChatPromptTemplate,\n",
    "#     HumanMessagePromptTemplate,\n",
    "# )\n",
    "# from langchain.output_parsers import PydanticOutputParser\n",
    "# from langchain.prompts.few_shot import FewShotPromptTemplate\n",
    "# from langchain_openai import ChatOpenAI\n",
    "# from typing import TypedDict, Annotated, Sequence\n",
    "# import operator\n",
    "# from langchain_core.messages import BaseMessage\n",
    "\n",
    "from foresight.Sage3Sugar.pysage3 import PySage3\n",
    "import getpass\n",
    "import os\n",
    "\n",
    "from pydantic import BaseModel, Field, UUID4\n",
    "from typing import Optional, Union, Literal, List\n",
    "\n",
    "\n",
    "from langchain.pydantic_v1 import BaseModel, Field, UUID4\n",
    "# from uuid import uuid4\n",
    "\n",
    "# httpx_client = httpx.Client(timeout=None)\n"
   ]
  },
  {
   "cell_type": "code",
   "execution_count": 4,
   "id": "913117d9",
   "metadata": {},
   "outputs": [],
   "source": [
    "keys_to_remove = [\n",
    "    'touched', 'executeInfo', 'path', 'raised', \n",
    "    'title', 'roomId', 'boardId', 'lock', 'dragging', 'pinned', 'rotation'\n",
    "]"
   ]
  },
  {
   "cell_type": "markdown",
   "id": "3bb1da76",
   "metadata": {},
   "source": [
    "# Classes"
   ]
  },
  {
   "cell_type": "code",
   "execution_count": 5,
   "id": "22cf36a5",
   "metadata": {},
   "outputs": [],
   "source": [
    "\n",
    "class Size(BaseModel):\n",
    "    \"\"\"\n",
    "    The dimensions of the app\n",
    "    \"\"\"\n",
    "    width: int = Field(description=\"The width of the app\")\n",
    "    height: int = Field(description=\"The height of the app\")\n",
    "    depth: int = Field(description=\"The depth of the app\")\n",
    "\n",
    "class Position(BaseModel):\n",
    "    \"\"\"\n",
    "    The position of the app on the board\n",
    "    \"\"\"\n",
    "    x: int = Field(description=\"The x position of the app\")\n",
    "    y: int = Field(description=\"The y position of the app\")\n",
    "    z: int = Field(description=\"The z position of the app\")\n",
    "\n",
    "class Data(BaseModel):\n",
    "    position: Position = Field(description=\"The position of the stickie note on the board\")\n",
    "    size: Size = Field(description=\"The dimensions of the stickie note on the board\")\n",
    "    type: Literal['Stickie', 'PDFViewer', 'Counter', 'Slider', 'VegaViewer'] = Field(description=\"The type of the app represented. For example, Stickie for stickie note, PDFViewer, etc.\")\n",
    "\n",
    "class StickieState(BaseModel):\n",
    "    text: str = Field(description=\"The text to display on the stickie note\")\n",
    "    color: str = Field(description=\"The background color of the stickie note, use yellow if a color is not provided\")\n",
    "    fontSize: int = Field(description=\"The font size to use for the text\")\n",
    "\n",
    "class CounterState(BaseModel):\n",
    "    count: int = Field(description=\"The count to display on the counter\")\n",
    "\n",
    "class PDFViewerState(BaseModel):\n",
    "    currentPage: int = Field(description=\"The page number currently showing\")\n",
    "    numPages: int = Field(description=\"The total number of pages in the pdf document\")\n",
    "    displayPages: int = Field(description=\"The number of pages to display at a time\")\n",
    "    analyzed: str = Field(description=\"Whether the pdf was converted to text\")\n",
    "    client: str = Field(description=\"The client used. This is currently set to empty\")\n",
    "\n",
    "class SmartBit(BaseModel):\n",
    "    app_id: str = Field(description=\"The UUID4 of this asset\")\n",
    "    data: Data = Field(description=\"Generic app data like position, width and height\")\n",
    "    state: Union[StickieState, CounterState, PDFViewerState] = Field(description=\"Data specific to the app type like color of a stickie or page currently being viewed for a PDF viewer\")\n",
    "    tags: List[str] = Field(default_factory=list, description= \"List of tag assigned to this app\")\n",
    "\n",
    "# Update forward references to resolve ForwardRef issues\n",
    "SmartBit.update_forward_refs()\n",
    "\n",
    "\n",
    "\n"
   ]
  },
  {
   "cell_type": "markdown",
   "id": "bae85c7a",
   "metadata": {},
   "source": [
    "# Helper Functions & Objects"
   ]
  },
  {
   "cell_type": "code",
   "execution_count": 6,
   "id": "d49bb4c9",
   "metadata": {
    "slideshow": {
     "slide_type": "subslide"
    }
   },
   "outputs": [],
   "source": [
    "import copy\n",
    "\n",
    "def remove_keys_from_dict(app_dict, keys_to_remove):\n",
    "    def _remove_keys_from_dict(d, keys_to_remove):\n",
    "        if isinstance(d, dict):\n",
    "            for key in list(d.keys()):  # Use list() to avoid 'dictionary changed size during iteration' error\n",
    "                if key in keys_to_remove:\n",
    "                    del d[key]\n",
    "                else:\n",
    "                    _remove_keys_from_dict(d[key], keys_to_remove)\n",
    "        elif isinstance(d, list):\n",
    "            for item in d:\n",
    "                _remove_keys_from_dict(item, keys_to_remove)\n",
    "\n",
    "    # Create a deep copy of the input dictionary\n",
    "    app_dict_copy = copy.deepcopy(app_dict)\n",
    "    # Remove keys from the copied dictionary\n",
    "    _remove_keys_from_dict(app_dict_copy, keys_to_remove)\n",
    "    return app_dict_copy\n"
   ]
  },
  {
   "cell_type": "code",
   "execution_count": 7,
   "id": "ec5845f5",
   "metadata": {},
   "outputs": [],
   "source": [
    "import os\n",
    "def _set_env(var: str):\n",
    "    if not os.environ.get(var):\n",
    "        os.environ[var] = getpass.getpass(f\"{var}: \")\n",
    "\n",
    "_set_env(\"OPENAI_API_KEY\")"
   ]
  },
  {
   "cell_type": "code",
   "execution_count": 7,
   "id": "ca435c68",
   "metadata": {},
   "outputs": [],
   "source": [
    "\n",
    "# llm_4o = ChatOpenAI(temperature=0.1, model=\"gpt-4o\")\n",
    "# llm_4o.invoke(\"hello\")"
   ]
  },
  {
   "cell_type": "code",
   "execution_count": 8,
   "id": "a34ac2f1",
   "metadata": {},
   "outputs": [
    {
     "name": "stdout",
     "output_type": "stream",
     "text": [
      "Configuring ps3 client ... \n",
      "Completed configuring Sage3 Client\n"
     ]
    }
   ],
   "source": [
    "conf = {'local': {'seer_server': 'http://127.0.0.1:5002',\n",
    "  'jupyter_server': 'http://localhost:8888',\n",
    "  'redis_server': 'localhost',\n",
    "  'web_server': 'http://localhost:3333',\n",
    "  'ws_server': 'ws://localhost:3333'}}\n",
    "prod_type= 'local'\n",
    "room_id = '09073d6d-6d79-4c98-bbea-4dd82106c098'\n",
    "board_id = '68993aeb-0ee6-4f95-b461-0f918fc7d969'\n",
    "app_id = '4a29b8bf-9e72-4366-8946-d808e2e3d465'\n",
    "\n",
    "ps3 = PySage3(conf, prod_type)"
   ]
  },
  {
   "cell_type": "code",
   "execution_count": 12,
   "id": "6e08a3d7",
   "metadata": {},
   "outputs": [],
   "source": [
    "# # text-containing fields\n",
    "# {\n",
    "#     \"stickie\": \"state.text\"    \n",
    "# }\n",
    "\n",
    "# # assetid-containing field\n",
    "# {\n",
    "#     \"pdf\": \"state.assetid\"    \n",
    "# }"
   ]
  },
  {
   "cell_type": "code",
   "execution_count": null,
   "id": "14e0627d",
   "metadata": {},
   "outputs": [],
   "source": [
    "# def get_alltags():\n",
    "#     \"\"\"Return all the tags associated with a room\"\"\"\n",
    "#     res = httpx_client.get(\n",
    "#         conf[prod_type][\"web_server\"] + \"/api/insight/\",\n",
    "#         headers={\"Authorization\": f\"Bearer {os.getenv('TOKEN')}\"},\n",
    "#     )\n",
    "#     if res.is_success:\n",
    "#         d = res.json()['data']\n",
    "#     d = [x['data'] for x in d if x['data']['labels']]    \n",
    "#     result = {}\n",
    "#     for item in d:\n",
    "#         app_id = item.pop('app_id')\n",
    "#         result[app_id] = item\n",
    "#     return result\n"
   ]
  },
  {
   "cell_type": "code",
   "execution_count": null,
   "id": "a4833027",
   "metadata": {},
   "outputs": [],
   "source": [
    "# def get_all_assets(asset_id=None):\n",
    "#     \"\"\"Return all assets in a room or only that with asset_id if not None\"\"\"\n",
    "#     res = httpx_client.get(\n",
    "#         conf[prod_type][\"web_server\"] + \"/api/assets/\",\n",
    "#         headers={\"Authorization\": f\"Bearer {os.getenv('TOKEN')}\"},\n",
    "#     )\n",
    "#     if res.is_success:\n",
    "#         d = res.json()['data']\n",
    "#         d = {x[\"_id\"]:x for x in d}\n",
    "#         if asset_id is not None and asset_id in d:\n",
    "#             d = {asset_id: d[asset_id]}\n",
    "#         return d\n",
    "#     else:\n",
    "#         return None"
   ]
  },
  {
   "cell_type": "code",
   "execution_count": null,
   "id": "15346173",
   "metadata": {},
   "outputs": [],
   "source": [
    "# len(get_all_assets())\n",
    "# len(get_all_assets('ba45e317-e3f7-49c6-ad80-55893500ba0d'))"
   ]
  },
  {
   "cell_type": "code",
   "execution_count": null,
   "id": "d52a5c93",
   "metadata": {},
   "outputs": [],
   "source": [
    "# class AgentState(TypedDict):\n",
    "#     _input: str\n",
    "#     messages: Annotated[Sequence[BaseMessage], operator.add]"
   ]
  },
  {
   "cell_type": "code",
   "execution_count": null,
   "id": "5dd04f9d",
   "metadata": {},
   "outputs": [],
   "source": [
    "# def get_pdf_text(asset_url):\n",
    "#     \"\"\"Get one page for now\"\"\"\n",
    "#     file_name = asset_url.split(\"/\")[-1].split(\".\")[0]+\"-text.json\"\n",
    "#     file_url = conf[prod_type][\"web_server\"] + '/api/assets/static/' + file_name\n",
    "#     res = httpx_client.get(\n",
    "#         file_url,\n",
    "#         headers={\"Authorization\": f\"Bearer {os.getenv('TOKEN')}\"},\n",
    "#     )\n",
    "#     if res.is_success:\n",
    "#         return res.json()['pages'][0]\n",
    "#     return None\n",
    "\n",
    "def get_apps_text(apps):\n",
    "    text = \"\"\n",
    "    for app in apps.values():\n",
    "        app_type = app.get('data', {}).get('type', None)\n",
    "        \n",
    "        if app_type is None:            \n",
    "            return \"AppType Not Valid\"\n",
    "        elif app_type == 'Stickie':\n",
    "            text += app.get('state', {}).get('text', \"\")+\"\\n\"\n",
    "        elif app_type == 'PDFViewer':\n",
    "            asset_id = app.get('state', {}).get('assetid')\n",
    "            asset_info = get_all_assets(asset_id)\n",
    "            asset_url = asset_info[asset_id]['data'][\"path\"]\n",
    "            text += get_pdf_text(asset_url)\n",
    "\n",
    "        else:\n",
    "            return \"Cannot yet summarize {app_type}\"\n",
    "    return text\n",
    "\n"
   ]
  },
  {
   "cell_type": "markdown",
   "id": "6d2be3c9",
   "metadata": {},
   "source": [
    "# Tools Section"
   ]
  },
  {
   "cell_type": "code",
   "execution_count": 26,
   "id": "b7172002-e5f8-428c-9d86-cd367d80ef7a",
   "metadata": {},
   "outputs": [],
   "source": [
    "example_1 = \"\"\"[{{'app_id': 'ba88e0df-d885-4ce3-ad74-006fbba69b43',\n",
    "  'data': {{'position': {{'x': 1502426, 'y': 1500697, 'z': 0}},\n",
    "   'size': {{'width': 400, 'height': 517, 'depth': 0}},\n",
    "   'rotation': {{'x': 0, 'y': 0, 'z': 0}},\n",
    "   'type': 'PDFViewer'}},\n",
    "  'state': {{'assetid': '4d2acd83-8fa2-4c7d-8e91-8e2e8cf45179',\n",
    "   'currentPage': 0,\n",
    "   'numPages': 8,\n",
    "   'displayPages': 1,\n",
    "   'analyzed': '',\n",
    "   'client': ''}},\n",
    " {{'app_id': '0fbbc02b-6f62-4bbe-8bfb-b6698b7da401',\n",
    "  'data': {{'position': {{'x': 1502778, 'y': 1500423, 'z': 0}},\n",
    "   'size': {{'width': 400, 'height': 420, 'depth': 0}},\n",
    "   'rotation': {{'x': 0, 'y': 0, 'z': 0}},\n",
    "   'type': 'Stickie'}},\n",
    "  'state': {{'text': 'Philosophy', 'fontSize': 36, 'color': 'yellow'}},\n",
    " {{'app_id': '9ae9a2eb-d901-44c8-83e3-5b447043fd67',\n",
    "  'data': {{'position': {{'x': 1503749, 'y': 1500342, 'z': 0}},\n",
    "   'size': {{'width': 400, 'height': 420, 'depth': 0}},\n",
    "   'rotation': {{'x': 0, 'y': 0, 'z': 0}},\n",
    "   'type': 'Stickie'}},\n",
    "  'state': {{'text': 'Tech and AI', 'fontSize': 36, 'color': 'red'}}\n",
    "]\n",
    "\"\"\"\n",
    "\n"
   ]
  },
  {
   "cell_type": "code",
   "execution_count": 27,
   "id": "794cd2ca-9d84-41cb-b4b2-7cb50b30cfcd",
   "metadata": {},
   "outputs": [
    {
     "data": {
      "text/plain": [
       "\"[{{'app_id': 'ba88e0df-d885-4ce3-ad74-006fbba69b43',\\n  'data': {{'position': {{'x': 1502426, 'y': 1500697, 'z': 0}},\\n   'size': {{'width': 400, 'height': 517, 'depth': 0}},\\n   'rotation': {{'x': 0, 'y': 0, 'z': 0}},\\n   'type': 'PDFViewer'}},\\n  'state': {{'assetid': '4d2acd83-8fa2-4c7d-8e91-8e2e8cf45179',\\n   'currentPage': 0,\\n   'numPages': 8,\\n   'displayPages': 1,\\n   'analyzed': '',\\n   'client': ''}},\\n {{'app_id': '0fbbc02b-6f62-4bbe-8bfb-b6698b7da401',\\n  'data': {{'position': {{'x': 1502778, 'y': 1500423, 'z': 0}},\\n   'size': {{'width': 400, 'height': 420, 'depth': 0}},\\n   'rotation': {{'x': 0, 'y': 0, 'z': 0}},\\n   'type': 'Stickie'}},\\n  'state': {{'text': 'Philosophy', 'fontSize': 36, 'color': 'yellow'}},\\n {{'app_id': '9ae9a2eb-d901-44c8-83e3-5b447043fd67',\\n  'data': {{'position': {{'x': 1503749, 'y': 1500342, 'z': 0}},\\n   'size': {{'width': 400, 'height': 420, 'depth': 0}},\\n   'rotation': {{'x': 0, 'y': 0, 'z': 0}},\\n   'type': 'Stickie'}},\\n  'state': {{'text': 'Tech and AI', 'fontSize': 36, 'color': 'red'}}\\n]\\n\""
      ]
     },
     "execution_count": 27,
     "metadata": {},
     "output_type": "execute_result"
    }
   ],
   "source": [
    "example_1"
   ]
  },
  {
   "cell_type": "code",
   "execution_count": null,
   "id": "56bcc9df",
   "metadata": {},
   "outputs": [],
   "source": [
    "\n",
    "# select_apps_fewshot_prompt = 'my example'"
   ]
  },
  {
   "cell_type": "code",
   "execution_count": null,
   "id": "89976293",
   "metadata": {},
   "outputs": [],
   "source": [
    "# # from typing import List, Union\n",
    "# # from uuid import UUID, uuid4\n",
    "# # from langchain.prompts import PromptTemplate, FewShotPromptTemplate\n",
    "# # from langchain.pydantic_v1 import BaseModel, Field\n",
    "# # from langchain.output_parsers import PydanticOutputParser\n",
    "\n",
    "# # # Example data\n",
    "\n",
    "\n",
    "# # # Prefix for the few-shot prompt\n",
    "# # select_apps_prefix = \"\"\"\n",
    "# # Given the list of items below, identify the app_ids (UUID4) of the items that match the user's query defined below. \n",
    "# # If none of the items match the query, return an empty list.\n",
    "\n",
    "\n",
    "# # {format_instructions}\n",
    "\n",
    "# # Example:\n",
    "# # \"\"\"\n",
    "\n",
    "# # # Template for examples\n",
    "# # select_apps_examples_template = \"\"\"\n",
    "# # originalItems: {originalItems}\n",
    "\n",
    "# # query: {query}\n",
    "\n",
    "# # ```\n",
    "# # json\n",
    "# # {{{{ \n",
    "# #   \"uuids\": {matchedItems}\n",
    "# # }}}}\n",
    "# # ```\n",
    "# # \"\"\"\n",
    "\n",
    "# # # Example data for the few-shot prompt\n",
    "# # select_apps_examples_data = [\n",
    "# #     {\n",
    "# #         \"originalItems\": example_1,\n",
    "# #         \"query\": \"Which stickies are red\",\n",
    "# #         \"matchedItems\": \"['9ae9a2eb-d901-44c8-83e3-5b447043fd67']\"\n",
    "# #     }\n",
    "# # ]\n",
    "\n",
    "# # Example prompt template\n",
    "# select_apps_examples_prompt = PromptTemplate(\n",
    "#     input_variables=[\"originalItems\", \"query\", \"matchedItems\"],\n",
    "#     template=select_apps_examples_template,\n",
    "# )\n",
    "\n",
    "# # Define output model\n",
    "# class SelectAppsOutput(BaseModel):\n",
    "#     uuids: List[UUID] = Field(description=\"A valid Python list of UUIDs selected\")\n",
    "\n",
    "# # Create an output parser\n",
    "# select_apps_output_parser = PydanticOutputParser(pydantic_object=SelectAppsOutput)\n",
    "\n",
    "# # Few-shot prompt template\n",
    "# select_apps_fewshot_prompt = FewShotPromptTemplate(\n",
    "#     input_variables=[\"originalItems\", \"query\"],\n",
    "#     partial_variables={\n",
    "#         \"format_instructions\": select_apps_output_parser.get_format_instructions(),\n",
    "#         \"open_curly\": \"{{\",\n",
    "#         \"close_curly\": \"}}\"\n",
    "#     },\n",
    "#     examples=select_apps_examples_data,\n",
    "#     example_prompt=select_apps_examples_prompt,\n",
    "#     prefix=select_apps_prefix,\n",
    "#     suffix=\"originalItems: {originalItems}\\n\\nquery: {query}\\n\\n```json\",\n",
    "#     example_separator=\"\\n\"\n",
    "# )\n",
    "\n",
    "# # Print the formatted few-shot prompt\n",
    "# formatted_prompt = select_apps_fewshot_prompt.format(\n",
    "#     originalItems=example_1,\n",
    "#     query=\"Which stickies talk about science\"\n",
    "# )\n",
    "# print(formatted_prompt)\n"
   ]
  },
  {
   "cell_type": "code",
   "execution_count": null,
   "id": "feb6c5ce",
   "metadata": {},
   "outputs": [],
   "source": [
    "# class ReframeSelectOutput(BaseModel):\n",
    "#     updated_query: str = Field(description=\"The new reframed query str describing the items referenced in this query\")\n",
    "\n",
    "# reframeSelectOutput = PydanticOutputParser(pydantic_object=ReframeSelectOutput)\n",
    "# reframe_select_prompt = \"\"\"You are a meta-agent that needs to instruct a specialized agent to select the items to which a \n",
    "# query applies in a new updated_query. The new_updated query serves to identify the items which are first loaded.\n",
    "# A second agent then completes the desired action.\n",
    "\n",
    "# {format_instructions}\n",
    "\n",
    "# Example: \n",
    "# query: Can you summarize all the red stickies.\n",
    "# updated_query: Select the red stickies.\n",
    "\n",
    "# query: can you delete all the pdf files.\n",
    "# updated_query: select the pdf files.\n",
    "\n",
    "# query: Can you change the color of purple stickies to reda\n",
    "# updated_query: select purple stickies\n",
    "\n",
    "# query: {query}\n",
    "# \"\"\" \n",
    "\n",
    "\n",
    "# reframe_select_prompt_template = PromptTemplate(\n",
    "#     template= reframe_select_prompt,\n",
    "#     input_variables=[\"query\"],\n",
    "#     partial_variables={\n",
    "#         \"format_instructions\": reframeSelectOutput.get_format_instructions(),\n",
    "#     },\n",
    "#     suffix=\"```json\",\n",
    "# )\n",
    "\n",
    "\n",
    "# select_items_chain = reframe_select_prompt_template | llm_4o | reframeSelectOutput\n",
    "# x = select_items_chain.invoke({\"query\": \"Can you move the red stickies to the left of the screen?\"})\n"
   ]
  },
  {
   "cell_type": "markdown",
   "id": "d934c873",
   "metadata": {},
   "source": [
    "# Temp Tests"
   ]
  },
  {
   "cell_type": "code",
   "execution_count": null,
   "id": "a087ac81",
   "metadata": {},
   "outputs": [],
   "source": [
    "all_tags = get_alltags()\n",
    "all_tags\n"
   ]
  },
  {
   "cell_type": "code",
   "execution_count": null,
   "id": "376d3941",
   "metadata": {},
   "outputs": [],
   "source": [
    "def format_smartbits_with_tags():\n",
    "    all_tags = get_alltags()\n",
    "    all_apps = [remove_keys_from_dict(x[1].dict(), keys_to_remove) for x in list(cb.smartbits)]\n",
    "    for app in all_apps:\n",
    "        if app['app_id'] in all_tags:\n",
    "            app['tags'] = all_tags[app['app_id']]['labels']\n",
    "        else:\n",
    "            app['tags'] = []\n",
    "            \n",
    "    all_apps  = {x['app_id']: x for x in all_apps}    \n",
    "    return all_apps"
   ]
  },
  {
   "cell_type": "code",
   "execution_count": null,
   "id": "dde1f172-6ff5-4140-b99c-134553b8b935",
   "metadata": {},
   "outputs": [],
   "source": [
    "format_smartbits_with_tags()"
   ]
  },
  {
   "cell_type": "code",
   "execution_count": null,
   "id": "7aacadd6",
   "metadata": {},
   "outputs": [],
   "source": [
    "formatted_prompt = select_apps_fewshot_prompt.format(\n",
    "    originalItems=all_apps,\n",
    "    query=\"The apps representing stickies\"\n",
    ")\n",
    "print(formatted_prompt)"
   ]
  },
  {
   "cell_type": "code",
   "execution_count": null,
   "id": "0b499737",
   "metadata": {},
   "outputs": [],
   "source": [
    "all_apps "
   ]
  },
  {
   "cell_type": "code",
   "execution_count": null,
   "id": "0f148a37",
   "metadata": {},
   "outputs": [],
   "source": [
    "q = \"Select all stickies\"\n",
    "filter_app_chain = select_apps_fewshot_prompt | llm_4o | select_apps_output_parser\n",
    "selected_uuids = filter_app_chain.invoke({\"originalItems\": all_apps, \"query\": q})\n",
    "selected_uuids"
   ]
  },
  {
   "cell_type": "code",
   "execution_count": null,
   "id": "039aa174",
   "metadata": {},
   "outputs": [],
   "source": [
    "selected_uuids.uuids"
   ]
  },
  {
   "cell_type": "code",
   "execution_count": null,
   "id": "79f4275f",
   "metadata": {},
   "outputs": [],
   "source": [
    "selected_uuids.uuids[0] == UUID('0fbbc02b-6f62-4bbe-8bfb-b6698b7da401')"
   ]
  },
  {
   "cell_type": "code",
   "execution_count": null,
   "id": "85210095",
   "metadata": {},
   "outputs": [],
   "source": [
    "selected_apps = {k:v for k,v in all_apps.items() if UUID(k) in  selected_uuids.uuids}\n",
    "selected_apps"
   ]
  },
  {
   "cell_type": "code",
   "execution_count": null,
   "id": "b9a291ae",
   "metadata": {},
   "outputs": [],
   "source": []
  },
  {
   "cell_type": "code",
   "execution_count": null,
   "id": "ee260ae9",
   "metadata": {},
   "outputs": [],
   "source": [
    "\n",
    "x = get_all_assets(asset_id)\n",
    "get_pdf_text(x[asset_id]['data'][\"path\"])[0:40]"
   ]
  },
  {
   "cell_type": "code",
   "execution_count": null,
   "id": "f3bdb994",
   "metadata": {},
   "outputs": [],
   "source": []
  },
  {
   "cell_type": "code",
   "execution_count": null,
   "id": "ecd6d937",
   "metadata": {},
   "outputs": [],
   "source": [
    "print(get_apps_text(selected_apps))"
   ]
  },
  {
   "cell_type": "markdown",
   "id": "3889cd21",
   "metadata": {},
   "source": [
    "#  Ranom Data Used For tests"
   ]
  },
  {
   "cell_type": "code",
   "execution_count": null,
   "id": "c193bd25",
   "metadata": {},
   "outputs": [],
   "source": [
    "asset_id = '4d2acd83-8fa2-4c7d-8e91-8e2e8cf45179'"
   ]
  },
  {
   "cell_type": "code",
   "execution_count": null,
   "id": "95de215e",
   "metadata": {},
   "outputs": [],
   "source": [
    "x = get_all_assets(asset_id)\n",
    "x[asset_id]['data'][\"path\"].split(\"/\")[-1].split(\".\")[0]+\"-text.json\""
   ]
  },
  {
   "cell_type": "markdown",
   "id": "b2e6e2c9",
   "metadata": {},
   "source": [
    "# Complete Example"
   ]
  },
  {
   "cell_type": "code",
   "execution_count": null,
   "id": "068e323c",
   "metadata": {},
   "outputs": [],
   "source": [
    "all_tags = get_alltags()\n",
    "all_tags"
   ]
  },
  {
   "cell_type": "code",
   "execution_count": null,
   "id": "d049aa42",
   "metadata": {},
   "outputs": [],
   "source": [
    "cb = ps3.rooms['09073d6d-6d79-4c98-bbea-4dd82106c098'].boards['68993aeb-0ee6-4f95-b461-0f918fc7d969']\n",
    "\n",
    "all_tags = get_alltags()\n",
    "all_apps = [remove_keys_from_dict(x[1].dict(), keys_to_remove) for x in list(cb.smartbits)]\n",
    "\n",
    "for app in all_apps:\n",
    "    if app['app_id'] in all_tags:\n",
    "        app['tags'] = all_tags[app['app_id']]['labels']\n",
    "    else:\n",
    "        app['tags'] = []\n",
    "        \n",
    "all_apps  = {x['app_id']: x for x in all_apps}    \n",
    "all_apps"
   ]
  },
  {
   "cell_type": "code",
   "execution_count": null,
   "id": "01a79fbc",
   "metadata": {},
   "outputs": [],
   "source": [
    "q = \"Select the pdf\"\n",
    "filter_app_chain = select_apps_fewshot_prompt | llm_4o | select_apps_output_parser\n",
    "selected_uuids = filter_app_chain.invoke({\"originalItems\": all_apps, \"query\": q})\n",
    "selected_uuids"
   ]
  },
  {
   "cell_type": "code",
   "execution_count": null,
   "id": "2f64c8b3",
   "metadata": {},
   "outputs": [],
   "source": [
    "selected_apps = {k:v for k,v in all_apps.items() if UUID(k) in  selected_uuids.uuids}\n",
    "selected_apps"
   ]
  },
  {
   "cell_type": "code",
   "execution_count": null,
   "id": "e549d413",
   "metadata": {},
   "outputs": [],
   "source": [
    "# ps3.create_app()"
   ]
  },
  {
   "cell_type": "code",
   "execution_count": null,
   "id": "d7db20f0",
   "metadata": {},
   "outputs": [],
   "source": [
    "cell = list(ps3.get_smartbits(room_id, board_id))[1][1]\n",
    "pad = 20\n",
    "psize = [cell.data.position.x, cell.data.position.y, cell.data.size.width, cell.data.size.height]\n",
    "right = {'x': psize[0] + psize[2] + pad, 'y': psize[1], 'z': 0}\n",
    "psize, right\n"
   ]
  },
  {
   "cell_type": "code",
   "execution_count": null,
   "id": "a76d0e90",
   "metadata": {},
   "outputs": [],
   "source": [
    "ps3.create_app('09073d6d-6d79-4c98-bbea-4dd82106c098', \n",
    "               '68993aeb-0ee6-4f95-b461-0f918fc7d969', \n",
    "               'Stickie', \n",
    "                {'text': 'hello', 'color': 'red', 'fontSize':36}, \n",
    "                {\n",
    "                    'position': {\"x\":1504150,\"y\":1501300,\"z\":0}\n",
    "                }\n",
    ")"
   ]
  },
  {
   "cell_type": "code",
   "execution_count": null,
   "id": "7ed85fbe",
   "metadata": {},
   "outputs": [],
   "source": [
    "# (room_id, board_id, app_type, state, app=None)"
   ]
  },
  {
   "cell_type": "code",
   "execution_count": null,
   "id": "8e371564-f26d-44ca-8441-6bc29918a29c",
   "metadata": {},
   "outputs": [],
   "source": [
    "SmartBit("
   ]
  },
  {
   "cell_type": "code",
   "execution_count": 22,
   "id": "fbbad6ff-9733-40b3-98db-ca87e01e063e",
   "metadata": {},
   "outputs": [
    {
     "name": "stdout",
     "output_type": "stream",
     "text": [
      "{\n",
      "    \"app_id\": \"9a06038d-5503-46a0-900a-01965afe922a\",\n",
      "    \"data\": {\n",
      "        \"position\": {\n",
      "            \"x\": 1504200,\n",
      "            \"y\": 1501350,\n",
      "            \"z\": 0\n",
      "        },\n",
      "        \"size\": {\n",
      "            \"width\": 400,\n",
      "            \"height\": 420,\n",
      "            \"depth\": 0\n",
      "        },\n",
      "        \"type\": \"Stickie\"\n",
      "    },\n",
      "    \"state\": {\n",
      "        \"text\": \"This is a sample stickie note\",\n",
      "        \"color\": \"yellow\",\n",
      "        \"fontSize\": 24\n",
      "    },\n",
      "    \"tags\": [\n",
      "        \"example\",\n",
      "        \"stickie\"\n",
      "    ]\n",
      "}\n"
     ]
    }
   ],
   "source": [
    "from uuid import uuid4\n",
    "\n",
    "# Example of creating a SmartBit of type Stickie\n",
    "stickie_smartbit = SmartBit(\n",
    "    app_id=str(uuid4()),\n",
    "    data=Data(\n",
    "        position=Position(x=1504200, y=1501350, z=0),\n",
    "        size=Size(width=400, height=420, depth=0),\n",
    "        type=\"Stickie\"\n",
    "    ),\n",
    "    state=StickieState(\n",
    "        text=\"This is a sample stickie note\",\n",
    "        color=\"yellow\",\n",
    "        fontSize=24\n",
    "    ),\n",
    "    tags=[\"example\", \"stickie\"]\n",
    ")\n",
    "\n",
    "print(stickie_smartbit.json(indent=4))"
   ]
  },
  {
   "cell_type": "code",
   "execution_count": null,
   "id": "c2b15055-8ab7-4fd2-94f4-3ba3f813ff68",
   "metadata": {},
   "outputs": [],
   "source": [
    "stickie_smartbit.dict()"
   ]
  },
  {
   "cell_type": "code",
   "execution_count": null,
   "id": "49afa35e-7bce-4330-a1c0-feefc5df937a",
   "metadata": {},
   "outputs": [],
   "source": [
    "x = stickie_smartbit.dict()\n",
    "\n",
    "\n",
    "# x['_id'] = x['app_id']\n",
    "del x['tags']\n",
    "del x['app_id']\n",
    "x"
   ]
  },
  {
   "cell_type": "code",
   "execution_count": null,
   "id": "75174612-30bd-44af-bc0f-07e8ca87e881",
   "metadata": {},
   "outputs": [],
   "source": [
    "x = x['data']['type']\n",
    "x"
   ]
  },
  {
   "cell_type": "code",
   "execution_count": null,
   "id": "05cc9d6c-7094-46e2-96bc-6a4cf30b35e3",
   "metadata": {},
   "outputs": [],
   "source": [
    "x = {\n",
    " 'data': {'title': 'Mahdi Bel-caid',\n",
    "  'position': {'x': 1503627, 'y': 1500957, 'z': 0},\n",
    "  'size': {'width': 400, 'height': 420, 'depth': 0},\n",
    "  'rotation': {'x': 0, 'y': 0, 'z': 0},\n",
    "  'type': 'Stickie',\n",
    "  'state': {'text': 'My third stickie is about politics',\n",
    "   'fontSize': 36,\n",
    "   'color': 'blue',\n",
    "   'lock': False,\n",
    "   'executeInfo': {'executeFunc': '', 'params': {}}},\n",
    "  'raised': True,\n",
    "  'dragging': False,\n",
    "  'pinned': False}}\n",
    "\n",
    "x, x['data']['type']\n"
   ]
  },
  {
   "cell_type": "code",
   "execution_count": null,
   "id": "ce2921f1-c04c-4ca3-8a34-e17b1dbb5ad5",
   "metadata": {},
   "outputs": [],
   "source": [
    "data = {key: x['data'][key] for key in ['position', 'size', 'rotation']}\n",
    "\n",
    "ps3.create_app(room_id, board_id, x['data']['type'], x['data']['state'], data)"
   ]
  },
  {
   "cell_type": "code",
   "execution_count": null,
   "id": "7f5b0466-263c-4dd1-a4fc-42ee2c515db2",
   "metadata": {},
   "outputs": [],
   "source": [
    "smartbit_output_parser.get_format_instructions()"
   ]
  },
  {
   "cell_type": "code",
   "execution_count": null,
   "id": "d8689797-d2b4-4f03-bf31-a6fe30a01bc7",
   "metadata": {},
   "outputs": [],
   "source": [
    "all_apps = format_smartbits_with_tags()\n",
    "all_apps"
   ]
  },
  {
   "cell_type": "code",
   "execution_count": null,
   "id": "13cf6579-4a14-4cbf-a584-eca1404ed2d3",
   "metadata": {},
   "outputs": [],
   "source": [
    "smartbit_output_parser = PydanticOutputParser(pydantic_object=SmartBit)\n",
    "\n",
    "wall_assistant_prompt = ChatPromptTemplate.from_messages(\n",
    "    [\n",
    "        (\n",
    "            \"system\",\n",
    "            \"You are an expert operator that know how to create, delete and query apps on the large display operating system \"\n",
    "            \"referred to as the Wall or SAGE or SAGE3. Given the user query, you need to identify all  \"\n",
    "            \"the necessary fields and format the call to provide the appropriate information. Also, if not position is provided, you need to \"\n",
    "            \"find a good position to create the new app without overlapping existing items but without leaving a lot of unused space.\"\n",
    "            \"\\n\"\n",
    "             \"{format_instructions}\" \n",
    "            \"\\n\"\n",
    "            \"The list of other application currently being displayed is\"\n",
    "            \"{all_apps}\",\n",
    "        \n",
    "        ),\n",
    "        (\"placeholder\", \"{messages}\"),\n",
    "    ]\n",
    ").partial(format_instructions= smartbit_output_parser.get_format_instructions())\n",
    "\n",
    "print(wall_assistant_prompt.invoke({\"messages\": [\"HI\", (\"system\", \"There\")], \"all_apps\": all_apps}))\n"
   ]
  },
  {
   "cell_type": "code",
   "execution_count": null,
   "id": "eb0ca037-5e74-4a26-a7f6-11db2104febe",
   "metadata": {},
   "outputs": [],
   "source": [
    "sb.dict()"
   ]
  },
  {
   "cell_type": "code",
   "execution_count": 4,
   "id": "3f7eb9a8-58ff-4976-93e8-6e9ffff415ef",
   "metadata": {},
   "outputs": [],
   "source": [
    "from langchain_core.tools import tool\n",
    "\n",
    "# def get_request_info():\n",
    "#     return \n",
    "#     {\n",
    "#         \"room_id\": '09073d6d-6d79-4c98-bbea-4dd82106c098',\n",
    "#         \"board_id\": '68993aeb-0ee6-4f95-b461-0f918fc7d969',\n",
    "#         \"user_name\": \"mahdi\"\n",
    "#     }\n",
    "\n",
    "config = {\"configurable\": {\n",
    "        \"room_id\": room_id,\n",
    "        \"wall_id\": wall_id\n",
    "    }\n",
    "}\n",
    "\n",
    "@tool\n",
    "def execute_create_app(sb: SmartBit) -> Literal[\"Success\", \"Failure\"]:\n",
    "    \"\"\" Takes a input consisting in a list of valid smartbit JSON object and creates it on the wall\"\"\"\n",
    "    print(\"I am in the create_app function\")\n",
    "    print(\"The value of sb is {sb}\")\n",
    "\n",
    "    config = ensure_config()  # Fetch from the context\n",
    "    configuration = config.get(\"configurable\", {})\n",
    "    room_id = configuration.get(room_id, None)\n",
    "    wall_id = configuration.get(wall_id, None)\n",
    "    \n",
    "    if room_id is None or wall_id is None:\n",
    "        raise Exception('Wall or Room Ids not found in config')\n",
    "\n",
    "    app_type = sb.data.type\n",
    "    data= sb.data.dict()\n",
    "    del data['type']\n",
    "    \n",
    "    del sb.data.dict()['type']\n",
    "    ps3.create_app(room_id, wall_id,  app_type, sb.state.dict(), data)\n",
    "\n",
    "    \n",
    " #    {'name': 'create_app',\n",
    " # 'args': {'sb': {'app_id': 'a7f7bcd6-2065-4eeb-823f-d6e2d837743c',\n",
    " #   'data': {'position': {'x': 1504550, 'y': 1501300, 'z': 0},\n",
    " #    'size': {'width': 400, 'height': 400, 'depth': 0},\n",
    " #    'type': 'Stickie'},\n",
    " #   'state': {'text': 'hello', 'color': 'yellow', 'fontSize': 36},\n",
    " #   'tags': []}},\n",
    " # 'id': 'call_iDCWPqeyRsljq4xQTWusbEaH'}\n",
    "\n",
    "\n",
    "\n",
    "@tool\n",
    "def execute_delete_apps(uuids: UUID) -> Literal[\"Success\", \"Failure\"]:\n",
    "    \"\"\" Takes one of more UUIDs and deletes them form the wall\"\"\"\n",
    "    print(\"I am in the delete_app function\")\n",
    "    print(f\"The value of sb is {sb}\")\n",
    "\n",
    "@tool\n",
    "def execute_query_apps(uuids: UUID) -> Literal[\"Success\", \"Failure\"]:\n",
    "    \"\"\" Takes one of more UUIDs and deletes them form the wall\"\"\"\n",
    "    print(\"I am in the delete_app function\")\n",
    "    print(\"The value of sb is {sb}\")\n",
    "\n",
    "\n",
    "llm_4o = ChatOpenAI(model=\"gpt-4o\", temperature=1)\n",
    "wall_assistant_runnable = wall_assistant_prompt | llm_4o.bind_tools([create_app])    "
   ]
  },
  {
   "cell_type": "code",
   "execution_count": null,
   "id": "b95f9615-f827-4801-aa4e-073744852418",
   "metadata": {},
   "outputs": [],
   "source": [
    "all_apps"
   ]
  },
  {
   "cell_type": "code",
   "execution_count": null,
   "id": "5e35252b-cb62-4caa-9163-6e0b6e938e02",
   "metadata": {},
   "outputs": [],
   "source": [
    "all_apps = {}"
   ]
  },
  {
   "cell_type": "code",
   "execution_count": null,
   "id": "f0813c23-0c63-4611-9211-82221824ec70",
   "metadata": {},
   "outputs": [],
   "source": [
    "q = \"Please create Stickies with the names of the 8 wealthiest countries in the world based on GDP (Gross Domestic Product). Arrange the stickies spatially (x and y coordiantes) in positions they would appear geographically on a world map, starting from the westernmost country and moving eastward. Don't prompt me for other info. Proceed with subjective decisions as needed without asking me.\" \n",
    "x = wall_assistant_runnable.invoke({\"messages\":[q], \"all_apps\": all_apps})"
   ]
  },
  {
   "cell_type": "code",
   "execution_count": null,
   "id": "2a49e837-1366-4c98-94c0-3035429f3a56",
   "metadata": {},
   "outputs": [],
   "source": [
    "x"
   ]
  },
  {
   "cell_type": "code",
   "execution_count": null,
   "id": "acf06f01-ac7e-4131-8c74-b03cf14a30f8",
   "metadata": {},
   "outputs": [],
   "source": [
    "x.tool_calls"
   ]
  },
  {
   "cell_type": "code",
   "execution_count": null,
   "id": "37d31626-115b-4024-b91d-b261188536a1",
   "metadata": {},
   "outputs": [],
   "source": [
    "len(x.tool_calls)"
   ]
  },
  {
   "cell_type": "code",
   "execution_count": null,
   "id": "b7777ba8-305b-4309-845b-160d4c0454a3",
   "metadata": {},
   "outputs": [],
   "source": [
    "for tool_call in x.tool_calls:\n",
    "    sb = SmartBit(**tool_call['args']['sb'])\n",
    "    locals()['execute_create_app'].invoke({\"sb\":sb})"
   ]
  },
  {
   "cell_type": "code",
   "execution_count": null,
   "id": "a06aebe1-d375-4e31-b2bb-42c5e7607ce6",
   "metadata": {},
   "outputs": [],
   "source": []
  },
  {
   "cell_type": "code",
   "execution_count": null,
   "id": "7c329abc-fd7d-45dc-add9-ba18c3a0e27e",
   "metadata": {},
   "outputs": [],
   "source": []
  },
  {
   "cell_type": "code",
   "execution_count": null,
   "id": "77deb82f",
   "metadata": {},
   "outputs": [],
   "source": []
  },
  {
   "cell_type": "code",
   "execution_count": 13,
   "id": "34f11047",
   "metadata": {},
   "outputs": [],
   "source": [
    "from datetime import datetime\n",
    "from datetime import date, datetime\n",
    "from typing import Optional\n",
    "from typing import Callable\n",
    "\n",
    "from langchain_core.messages import ToolMessage\n",
    "from typing import Literal\n",
    "\n",
    "# from langgraph.checkpoint.sqlite import SqliteSaver\n",
    "# from langgraph.graph import END, StateGraph\n",
    "# from langgraph.prebuilt import tools_condition\n",
    "# from langgraph.prebuilt import ToolNode\n",
    "# from langchain_core.runnables import RunnableLambda\n",
    "# from langchain_core.messages import ToolMessage\n",
    "\n",
    "# import pytz\n",
    "from langchain_core.runnables import ensure_config\n",
    "import getpass\n",
    "import os\n",
    "import shutil\n",
    "import sqlite3\n",
    "from typing import Annotated, Literal, Optional\n",
    "from typing_extensions import TypedDict\n",
    "# from langgraph.graph.message import AnyMessage, add_messages\n",
    "\n",
    "# import pandas as pd\n",
    "import requests\n",
    "from langchain_core.pydantic_v1 import BaseModel, Field"
   ]
  },
  {
   "cell_type": "code",
   "execution_count": 14,
   "id": "ac657a28",
   "metadata": {},
   "outputs": [],
   "source": [
    "from langchain_openai import ChatOpenAI\n",
    "from langchain_community.tools.tavily_search import TavilySearchResults\n",
    "from langchain_core.prompts import ChatPromptTemplate\n",
    "from langchain_core.pydantic_v1 import BaseModel, Field\n",
    "from langchain_core.runnables import Runnable, RunnableConfig\n",
    "\n",
    "\n",
    "llm = ChatOpenAI(model=\"gpt-4o\", temperature=0)\n"
   ]
  },
  {
   "cell_type": "code",
   "execution_count": 15,
   "id": "d84d0d78",
   "metadata": {},
   "outputs": [],
   "source": [
    "from typing import Literal, Dict\n",
    "from langchain_core.tools import BaseTool\n",
    "from typing import Optional, Type\n",
    "from langchain.callbacks.manager import (\n",
    "    AsyncCallbackManagerForToolRun,\n",
    "    CallbackManagerForToolRun,\n",
    ")\n",
    "\n",
    "WidgetType = Literal['Stickie', 'PDFViewer', 'Counter', 'Slider', 'VegaViewer']\n",
    "smartbit_dict_example = {\n",
    "    \"app_id\": \"9a06038d-5503-46a0-900a-01965afe922a\",\n",
    "    \"data\": {\n",
    "        \"position\": {\n",
    "            \"x\": 1504200,\n",
    "            \"y\": 1501350,\n",
    "            \"z\": 0\n",
    "        },\n",
    "        \"size\": {\n",
    "            \"width\": 400,\n",
    "            \"height\": 420,\n",
    "            \"depth\": 0\n",
    "        },\n",
    "        \"type\": \"Stickie\"\n",
    "    },\n",
    "    \"state\": {\n",
    "        \"text\": \"This is a sample stickie note\",\n",
    "        \"color\": \"yellow\",\n",
    "        \"fontSize\": 24\n",
    "    },\n",
    "    \"tags\": [\n",
    "        \"example\",\n",
    "        \"stickie\"\n",
    "    ]\n",
    "}\n",
    "\n",
    "\n",
    "class CreateAppToolInput(BaseModel):\n",
    "        app_type: WidgetType =   Field(description=\"The type of the app to create\")\n",
    "        smart_bit: SmartBit  =   Field(description=\"The smart bit data used to instantiate the app\")\n",
    "        class Config:\n",
    "            json_schema_extra = {\n",
    "            \"example\": {\n",
    "                \"app_type\": \"Stickie\",\n",
    "                \"data\": smartbit_dict_example\n",
    "            }\n",
    "        }\n",
    "\n",
    "        \n",
    "class CreateAppTool(BaseTool):\n",
    "    args_schema: Type[BaseModel] = CreateAppToolInput\n",
    "        \n",
    "    name: str = \"CreateAppTool\"\n",
    "    description: str = \"Create an app on the wall given an app type and the data that defines the app\"\n",
    "\n",
    "\n",
    "    def _run(\n",
    "        self, origin: str, destination: str, departure_date: str, return_date: str, request: str, run_manager: Optional[CallbackManagerForToolRun] = None\n",
    "    ) -> str:\n",
    "        print(\"Running Create app\")\n",
    "        return \"Done with CreateAppTool\"\n"
   ]
  },
  {
   "cell_type": "code",
   "execution_count": 16,
   "id": "b6f0f277",
   "metadata": {},
   "outputs": [
    {
     "data": {
      "text/plain": [
       "AIMessage(content='', additional_kwargs={'tool_calls': [{'id': 'call_h5VjNNjs7js5L2Lla1keNUWL', 'function': {'arguments': '{\"app_type\":\"Stickie\",\"smart_bit\":{\"app_id\":\"1\",\"data\":{\"position\":{\"x\":100,\"y\":100,\"z\":0},\"size\":{\"width\":200,\"height\":200,\"depth\":1},\"type\":\"Stickie\"},\"state\":{\"text\":\"Hello World\\\\nBonjour le monde\\\\nCiao mondo\",\"color\":\"red\",\"fontSize\":36}}}', 'name': 'CreateAppTool'}, 'type': 'function'}]}, response_metadata={'token_usage': {'completion_tokens': 86, 'prompt_tokens': 584, 'total_tokens': 670}, 'model_name': 'gpt-4o', 'system_fingerprint': 'fp_319be4768e', 'finish_reason': 'tool_calls', 'logprobs': None}, id='run-6d501291-882f-47ef-9ba2-80aa355d72c9-0', tool_calls=[{'name': 'CreateAppTool', 'args': {'app_type': 'Stickie', 'smart_bit': {'app_id': '1', 'data': {'position': {'x': 100, 'y': 100, 'z': 0}, 'size': {'width': 200, 'height': 200, 'depth': 1}, 'type': 'Stickie'}, 'state': {'text': 'Hello World\\nBonjour le monde\\nCiao mondo', 'color': 'red', 'fontSize': 36}}}, 'id': 'call_h5VjNNjs7js5L2Lla1keNUWL'}])"
      ]
     },
     "execution_count": 16,
     "metadata": {},
     "output_type": "execute_result"
    }
   ],
   "source": [
    "llm_with_create = llm.bind_tools([CreateAppTool()])\n",
    "resp = llm_with_create.invoke(\"create a stickie with text hello world in english french and italian and color red and font size 36\")\n",
    "resp"
   ]
  },
  {
   "cell_type": "code",
   "execution_count": 17,
   "id": "e16322be",
   "metadata": {},
   "outputs": [
    {
     "data": {
      "text/plain": [
       "[{'name': 'CreateAppTool',\n",
       "  'args': {'app_type': 'Stickie',\n",
       "   'smart_bit': {'app_id': '1',\n",
       "    'data': {'position': {'x': 100, 'y': 100, 'z': 0},\n",
       "     'size': {'width': 200, 'height': 200, 'depth': 1},\n",
       "     'type': 'Stickie'},\n",
       "    'state': {'text': 'Hello World\\nBonjour le monde\\nCiao mondo',\n",
       "     'color': 'red',\n",
       "     'fontSize': 36}}},\n",
       "  'id': 'call_h5VjNNjs7js5L2Lla1keNUWL'}]"
      ]
     },
     "execution_count": 17,
     "metadata": {},
     "output_type": "execute_result"
    }
   ],
   "source": [
    "resp.tool_calls"
   ]
  },
  {
   "cell_type": "code",
   "execution_count": 18,
   "id": "d587584e",
   "metadata": {},
   "outputs": [],
   "source": [
    "room_id = \"d6640933-7b9f-4536-a263-02a514ff092a\"\n",
    "wall_id = \"02fc98df-b4f1-470c-8516-7221c3095de7\"\n",
    "config = {\"configurable\": {\n",
    "        \"room_id\": room_id,\n",
    "        \"wall_id\": wall_id\n",
    "    }\n",
    "}"
   ]
  },
  {
   "cell_type": "code",
   "execution_count": 11,
   "id": "9321f051",
   "metadata": {},
   "outputs": [],
   "source": [
    "# ps3.create_app(room_id, wall_id,  app_type, sb.state.dict(), data)"
   ]
  },
  {
   "cell_type": "code",
   "execution_count": 19,
   "id": "7ac51313",
   "metadata": {},
   "outputs": [],
   "source": [
    "def execute_create_app(sb: SmartBit) -> Literal[\"Success\", \"Failure\"]:\n",
    "    \"\"\" Takes a input consisting in a list of valid smartbit JSON object and creates it on the wall\"\"\"\n",
    "    print(\"I am in the create_app function\")\n",
    "    print(\"The value of sb is {sb}\")\n",
    "\n",
    "#     config = ensure_config()  # Fetch from the context\n",
    "    global config\n",
    "    print(config)\n",
    "    configuration = config.get(\"configurable\", {})\n",
    "    room_id = configuration.get(\"room_id\", None)\n",
    "    wall_id = configuration.get(\"wall_id\", None)\n",
    "    \n",
    "    if room_id is None or wall_id is None:\n",
    "        raise Exception('Wall or Room Ids not found in config')\n",
    "\n",
    "    app_type = sb.data.type\n",
    "    data= sb.data.dict()\n",
    "    del data['type']\n",
    "    \n",
    "    del sb.data.dict()['type']\n",
    "    ps3.create_app(room_id, wall_id,  app_type, sb.state.dict(), data)\n"
   ]
  },
  {
   "cell_type": "code",
   "execution_count": 20,
   "id": "c3d1fbe4",
   "metadata": {},
   "outputs": [
    {
     "name": "stdout",
     "output_type": "stream",
     "text": [
      "I am in the create_app function\n",
      "The value of sb is {sb}\n",
      "{'configurable': {'room_id': 'd6640933-7b9f-4536-a263-02a514ff092a', 'wall_id': '02fc98df-b4f1-470c-8516-7221c3095de7'}}\n"
     ]
    }
   ],
   "source": [
    "sb_dict = resp.tool_calls[0]['args']['smart_bit']\n",
    "sb = SmartBit(**sb_dict)\n",
    "execute_create_app(sb)"
   ]
  },
  {
   "cell_type": "code",
   "execution_count": null,
   "id": "99479b80",
   "metadata": {},
   "outputs": [],
   "source": [
    "from langchain_core.tools import tool\n",
    "from langchain_core.tools import BaseTool\n",
    "\n",
    "\n",
    "# def get_request_info():\n",
    "#     return \n",
    "#     {\n",
    "#         \"room_id\": '09073d6d-6d79-4c98-bbea-4dd82106c098',\n",
    "#         \"board_id\": '68993aeb-0ee6-4f95-b461-0f918fc7d969',\n",
    "#         \"user_name\": \"mahdi\"\n",
    "#     }\n",
    "\n",
    "config = {\"configurable\": {\n",
    "        \"room_id\": room_id,\n",
    "        \"wall_id\": wall_id\n",
    "    }\n",
    "}\n",
    "    \n",
    "    \n",
    "    \n",
    "    \n",
    "    \n",
    "\n",
    "        \n",
    "        \n",
    "\n",
    "def execute_create_app(sb: SmartBit) -> Literal[\"Success\", \"Failure\"]:\n",
    "    \"\"\" Takes a input consisting in a list of valid smartbit JSON object and creates it on the wall\"\"\"\n",
    "    print(\"I am in the create_app function\")\n",
    "    print(\"The value of sb is {sb}\")\n",
    "\n",
    "    config = ensure_config()  # Fetch from the context\n",
    "    configuration = config.get(\"configurable\", {})\n",
    "    room_id = configuration.get(room_id, None)\n",
    "    wall_id = configuration.get(wall_id, None)\n",
    "    \n",
    "    if room_id is None or wall_id is None:\n",
    "        raise Exception('Wall or Room Ids not found in config')\n",
    "\n",
    "    app_type = sb.data.type\n",
    "    data= sb.data.dict()\n",
    "    del data['type']\n",
    "    \n",
    "    del sb.data.dict()['type']\n",
    "    ps3.create_app(room_id, wall_id,  app_type, sb.state.dict(), data)\n",
    "\n",
    "    \n",
    " #    {'name': 'create_app',\n",
    " # 'args': {'sb': {'app_id': 'a7f7bcd6-2065-4eeb-823f-d6e2d837743c',\n",
    " #   'data': {'position': {'x': 1504550, 'y': 1501300, 'z': 0},\n",
    " #    'size': {'width': 400, 'height': 400, 'depth': 0},\n",
    " #    'type': 'Stickie'},\n",
    " #   'state': {'text': 'hello', 'color': 'yellow', 'fontSize': 36},\n",
    " #   'tags': []}},\n",
    " # 'id': 'call_iDCWPqeyRsljq4xQTWusbEaH'}\n",
    "\n",
    "\n",
    "\n",
    "@tool\n",
    "def execute_delete_apps(uuids: UUID) -> Literal[\"Success\", \"Failure\"]:\n",
    "    \"\"\" Takes one of more UUIDs and deletes them form the wall\"\"\"\n",
    "    print(\"I am in the delete_app function\")\n",
    "    print(f\"The value of sb is {sb}\")\n",
    "\n",
    "@tool\n",
    "def execute_query_apps(uuids: UUID) -> Literal[\"Success\", \"Failure\"]:\n",
    "    \"\"\" Takes one of more UUIDs and deletes them form the wall\"\"\"\n",
    "    print(\"I am in the delete_app function\")\n",
    "    print(\"The value of sb is {sb}\")\n",
    "\n",
    "\n",
    "llm_4o = ChatOpenAI(model=\"gpt-4o\", temperature=1)\n",
    "wall_assistant_runnable = wall_assistant_prompt | llm_4o.bind_tools([create_app])    "
   ]
  }
 ],
 "metadata": {
  "kernelspec": {
   "display_name": "Python 3 (ipykernel)",
   "language": "python",
   "name": "python3"
  },
  "language_info": {
   "codemirror_mode": {
    "name": "ipython",
    "version": 3
   },
   "file_extension": ".py",
   "mimetype": "text/x-python",
   "name": "python",
   "nbconvert_exporter": "python",
   "pygments_lexer": "ipython3",
   "version": "3.10.14"
  }
 },
 "nbformat": 4,
 "nbformat_minor": 5
}
