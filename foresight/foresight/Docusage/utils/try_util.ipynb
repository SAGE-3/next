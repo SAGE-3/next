{
 "cells": [
  {
   "cell_type": "code",
   "execution_count": 1,
   "metadata": {},
   "outputs": [],
   "source": [
    "import sys\n",
    "sys.path.append('../..')\n",
    "from config import config as conf, prod_type\n",
    "from Sage3Sugar.pysage3 import PySage3\n",
    "import uuid"
   ]
  },
  {
   "cell_type": "markdown",
   "metadata": {},
   "source": [
    "# Load board"
   ]
  },
  {
   "cell_type": "code",
   "execution_count": 52,
   "metadata": {},
   "outputs": [
    {
     "name": "stdout",
     "output_type": "stream",
     "text": [
      "Configuring ps3 client ... \n",
      "Completed configuring Sage3 Client\n"
     ]
    },
    {
     "name": "stderr",
     "output_type": "stream",
     "text": [
      "error in webserver websocket connection string indices must be integers\n",
      "error in webserver websocket connection string indices must be integers\n"
     ]
    }
   ],
   "source": [
    "ps3 = PySage3(conf, prod_type)\n",
    "room_id = '741d4862-0cc9-403c-bc22-e2531eb3b316'\n",
    "board_id = '56aef657-cd2d-44f0-84dc-d81d2ebbf41d'"
   ]
  },
  {
   "cell_type": "markdown",
   "metadata": {},
   "source": [
    "# View apps and assets"
   ]
  },
  {
   "cell_type": "code",
   "execution_count": 53,
   "metadata": {},
   "outputs": [
    {
     "data": {
      "text/plain": [
       "[(UUID('36e11bba-0e62-429d-9a2f-ae0962da24ee'),\n",
       "  Stickie(path='', touched=set(), app_id=UUID('36e11bba-0e62-429d-9a2f-ae0962da24ee'), data=Data(path='.data', touched=set(), position=Position(path='.data.position', touched=set(), x=1500000.0, y=1500000.0, z=0.0), size=Size(path='.data.size', touched=set(), width=400.0, height=200.0, depth=0.0), rotation=Rotation(path='.data.rotation', touched=set(), x=0.0, y=0.0, z=0.0), raised=True, type='Stickie'), tags=[], state=StickieState(path='.state', touched=set(), text='Pyhton said Yolo', color='orange', fontSize=45, lock=False)))]"
      ]
     },
     "execution_count": 53,
     "metadata": {},
     "output_type": "execute_result"
    }
   ],
   "source": [
    "board = ps3.rooms[room_id].boards[board_id]\n",
    "list(board.smartbits)"
   ]
  },
  {
   "cell_type": "code",
   "execution_count": 73,
   "metadata": {},
   "outputs": [
    {
     "name": "stderr",
     "output_type": "stream",
     "text": [
      "/var/folders/gd/x8dsk6qd5clbq_scyxl8j7jr0000gn/T/ipykernel_9901/2606845305.py:2: PydanticDeprecatedSince20: The `dict` method is deprecated; use `model_dump` instead. Deprecated in Pydantic V2.0 to be removed in V3.0. See Pydantic V2 Migration Guide at https://errors.pydantic.dev/2.10/migration/\n",
      "  stickie.dict()\n"
     ]
    },
    {
     "data": {
      "text/plain": [
       "{'path': '',\n",
       " 'touched': set(),\n",
       " 'app_id': UUID('36e11bba-0e62-429d-9a2f-ae0962da24ee'),\n",
       " 'data': {'path': '.data',\n",
       "  'touched': set(),\n",
       "  'position': {'path': '.data.position',\n",
       "   'touched': set(),\n",
       "   'x': 1500000.0,\n",
       "   'y': 1500000.0,\n",
       "   'z': 0.0},\n",
       "  'size': {'path': '.data.size',\n",
       "   'touched': set(),\n",
       "   'width': 400.0,\n",
       "   'height': 200.0,\n",
       "   'depth': 0.0},\n",
       "  'rotation': {'path': '.data.rotation',\n",
       "   'touched': set(),\n",
       "   'x': 0.0,\n",
       "   'y': 0.0,\n",
       "   'z': 0.0},\n",
       "  'raised': True,\n",
       "  'type': 'Stickie'},\n",
       " 'tags': [],\n",
       " 'state': {'path': '.state',\n",
       "  'touched': set(),\n",
       "  'text': 'Hola',\n",
       "  'color': 'green',\n",
       "  'fontSize': '40',\n",
       "  'lock': False}}"
      ]
     },
     "execution_count": 73,
     "metadata": {},
     "output_type": "execute_result"
    }
   ],
   "source": [
    "stickie = board.smartbits[uuid.UUID('36e11bba-0e62-429d-9a2f-ae0962da24ee')]\n",
    "stickie.dict()"
   ]
  },
  {
   "cell_type": "code",
   "execution_count": 21,
   "metadata": {},
   "outputs": [
    {
     "name": "stderr",
     "output_type": "stream",
     "text": [
      "/var/folders/gd/x8dsk6qd5clbq_scyxl8j7jr0000gn/T/ipykernel_9901/3311892972.py:2: PydanticDeprecatedSince20: The `dict` method is deprecated; use `model_dump` instead. Deprecated in Pydantic V2.0 to be removed in V3.0. See Pydantic V2 Migration Guide at https://errors.pydantic.dev/2.10/migration/\n",
      "  web.dict()\n"
     ]
    },
    {
     "data": {
      "text/plain": [
       "{'path': '',\n",
       " 'touched': set(),\n",
       " 'app_id': UUID('b4edc441-bd3f-49ff-91bd-ea2c138261ec'),\n",
       " 'data': {'path': '.data',\n",
       "  'touched': set(),\n",
       "  'position': {'path': '.data.position',\n",
       "   'touched': set(),\n",
       "   'x': 1500543.0,\n",
       "   'y': 1499878.0,\n",
       "   'z': 0.0},\n",
       "  'size': {'path': '.data.size',\n",
       "   'touched': set(),\n",
       "   'width': 400.0,\n",
       "   'height': 420.0,\n",
       "   'depth': 0.0},\n",
       "  'rotation': {'path': '.data.rotation',\n",
       "   'touched': set(),\n",
       "   'x': 0.0,\n",
       "   'y': 0.0,\n",
       "   'z': 0.0},\n",
       "  'raised': True,\n",
       "  'type': 'Webview'},\n",
       " 'tags': [],\n",
       " 'state': {'path': '.state',\n",
       "  'touched': set(),\n",
       "  'webviewurl': 'https://www.google.com/',\n",
       "  'zoom': 1}}"
      ]
     },
     "execution_count": 21,
     "metadata": {},
     "output_type": "execute_result"
    }
   ],
   "source": [
    "web = board.smartbits[uuid.UUID('b4edc441-bd3f-49ff-91bd-ea2c138261ec')]\n",
    "web.dict()"
   ]
  },
  {
   "cell_type": "markdown",
   "metadata": {},
   "source": [
    "# Create"
   ]
  },
  {
   "cell_type": "code",
   "execution_count": 30,
   "metadata": {},
   "outputs": [],
   "source": [
    "state = {\"text\": \"Python said Yolo\", 'color': 'orange', 'fontSize': '45'}\n",
    "data = {'size': {'width': 400, 'height': 200, 'depth': 0}}\n",
    "res = ps3.create_app(room_id, board_id, 'Stickie', state, data)\n",
    "info = res.json()"
   ]
  },
  {
   "cell_type": "code",
   "execution_count": 22,
   "metadata": {},
   "outputs": [],
   "source": [
    "state = {\"webviewurl\": \"https://sage-3.github.io/\"}\n",
    "res = ps3.create_app(room_id, board_id, 'Webview', state, {})"
   ]
  },
  {
   "cell_type": "markdown",
   "metadata": {},
   "source": [
    "# Delete"
   ]
  },
  {
   "cell_type": "code",
   "execution_count": 29,
   "metadata": {},
   "outputs": [
    {
     "data": {
      "text/plain": [
       "<Response [200 OK]>"
      ]
     },
     "execution_count": 29,
     "metadata": {},
     "output_type": "execute_result"
    }
   ],
   "source": [
    "ps3.delete_app('f4cc359f-6cea-4338-b581-f2d76e18be9c')"
   ]
  },
  {
   "cell_type": "markdown",
   "metadata": {},
   "source": [
    "# Add tag"
   ]
  },
  {
   "cell_type": "code",
   "execution_count": 48,
   "metadata": {},
   "outputs": [
    {
     "data": {
      "text/plain": [
       "{'36e11bba-0e62-429d-9a2f-ae0962da24ee': ['tag1', 'tag2']}"
      ]
     },
     "execution_count": 48,
     "metadata": {},
     "output_type": "execute_result"
    }
   ],
   "source": [
    "ps3.get_alltags()"
   ]
  },
  {
   "cell_type": "code",
   "execution_count": 50,
   "metadata": {},
   "outputs": [
    {
     "data": {
      "text/plain": [
       "<Response [200 OK]>"
      ]
     },
     "execution_count": 50,
     "metadata": {},
     "output_type": "execute_result"
    }
   ],
   "source": [
    "ps3.update_tags('36e11bba-0e62-429d-9a2f-ae0962da24ee', ['tag3', 'tag4'])"
   ]
  },
  {
   "cell_type": "code",
   "execution_count": 51,
   "metadata": {},
   "outputs": [
    {
     "data": {
      "text/plain": [
       "['tag3', 'tag4']"
      ]
     },
     "execution_count": 51,
     "metadata": {},
     "output_type": "execute_result"
    }
   ],
   "source": [
    "ps3.get_tags('36e11bba-0e62-429d-9a2f-ae0962da24ee')"
   ]
  },
  {
   "cell_type": "markdown",
   "metadata": {},
   "source": [
    "# Update state"
   ]
  },
  {
   "cell_type": "markdown",
   "metadata": {},
   "source": [
    "Text update does not work. The page needs to be refreshed. Talked with Ryan. He said it was intentional. "
   ]
  },
  {
   "cell_type": "code",
   "execution_count": 74,
   "metadata": {},
   "outputs": [],
   "source": [
    "ps3.update_state_attrs(stickie, **{'color': 'green', 'fontSize': '40', 'text': 'Ponchy'})"
   ]
  },
  {
   "cell_type": "code",
   "execution_count": 85,
   "metadata": {},
   "outputs": [
    {
     "data": {
      "text/plain": [
       "<bound method PySage3.list_assets of <Sage3Sugar.pysage3.PySage3 object at 0x116114490>>"
      ]
     },
     "execution_count": 85,
     "metadata": {},
     "output_type": "execute_result"
    }
   ],
   "source": [
    "ps3.list_assets"
   ]
  },
  {
   "cell_type": "code",
   "execution_count": 76,
   "metadata": {},
   "outputs": [
    {
     "data": {
      "text/plain": [
       "['_PySage3__MSG_METHODS',\n",
       " '_PySage3__handle_create',\n",
       " '_PySage3__handle_delete',\n",
       " '_PySage3__handle_update',\n",
       " '_PySage3__populate_existing',\n",
       " '_PySage3__process_messages',\n",
       " '__class__',\n",
       " '__delattr__',\n",
       " '__dict__',\n",
       " '__dir__',\n",
       " '__doc__',\n",
       " '__eq__',\n",
       " '__format__',\n",
       " '__ge__',\n",
       " '__getattribute__',\n",
       " '__gt__',\n",
       " '__hash__',\n",
       " '__init__',\n",
       " '__init_subclass__',\n",
       " '__le__',\n",
       " '__lt__',\n",
       " '__module__',\n",
       " '__ne__',\n",
       " '__new__',\n",
       " '__reduce__',\n",
       " '__reduce_ex__',\n",
       " '__remove_keys_from_dict__',\n",
       " '__repr__',\n",
       " '__setattr__',\n",
       " '__sizeof__',\n",
       " '__str__',\n",
       " '__subclasshook__',\n",
       " '__weakref__',\n",
       " 'align_selected_apps',\n",
       " 'assets',\n",
       " 'board',\n",
       " 'clean_up',\n",
       " 'conf',\n",
       " 'create_app',\n",
       " 'delete_app',\n",
       " 'done_init',\n",
       " 'get_alltags',\n",
       " 'get_app',\n",
       " 'get_apps',\n",
       " 'get_apps_by_board',\n",
       " 'get_apps_by_room',\n",
       " 'get_apps_text',\n",
       " 'get_asset_id',\n",
       " 'get_public_url',\n",
       " 'get_smartbits',\n",
       " 'get_smartbits_by_type',\n",
       " 'get_tags',\n",
       " 'get_types_count',\n",
       " 'get_url_by_filename',\n",
       " 'list_assets',\n",
       " 'prod_type',\n",
       " 'room',\n",
       " 'rooms',\n",
       " 's3_comm',\n",
       " 'socket',\n",
       " 'update_position',\n",
       " 'update_rotation',\n",
       " 'update_size',\n",
       " 'update_state_attrs',\n",
       " 'update_tags',\n",
       " 'upload_file']"
      ]
     },
     "execution_count": 76,
     "metadata": {},
     "output_type": "execute_result"
    }
   ],
   "source": [
    "dir(ps3)"
   ]
  },
  {
   "cell_type": "code",
   "execution_count": 84,
   "metadata": {},
   "outputs": [
    {
     "data": {
      "text/plain": [
       "['__class__',\n",
       " '__delattr__',\n",
       " '__dict__',\n",
       " '__dir__',\n",
       " '__doc__',\n",
       " '__eq__',\n",
       " '__format__',\n",
       " '__ge__',\n",
       " '__getattribute__',\n",
       " '__gt__',\n",
       " '__hash__',\n",
       " '__init__',\n",
       " '__init_subclass__',\n",
       " '__le__',\n",
       " '__lt__',\n",
       " '__module__',\n",
       " '__ne__',\n",
       " '__new__',\n",
       " '__reduce__',\n",
       " '__reduce_ex__',\n",
       " '__repr__',\n",
       " '__setattr__',\n",
       " '__sizeof__',\n",
       " '__str__',\n",
       " '__subclasshook__',\n",
       " '__weakref__',\n",
       " 'boards',\n",
       " 'color',\n",
       " 'description',\n",
       " 'handleUpdate',\n",
       " 'id',\n",
       " 'isListed',\n",
       " 'isPrivate',\n",
       " 'name',\n",
       " 'ownerId']"
      ]
     },
     "execution_count": 84,
     "metadata": {},
     "output_type": "execute_result"
    }
   ],
   "source": [
    "dir(ps3.rooms['741d4862-0cc9-403c-bc22-e2531eb3b316'])"
   ]
  },
  {
   "cell_type": "code",
   "execution_count": 75,
   "metadata": {},
   "outputs": [
    {
     "name": "stdout",
     "output_type": "stream",
     "text": [
      "\u001b[0;31mSignature:\u001b[0m\n",
      "\u001b[0mps3\u001b[0m\u001b[0;34m.\u001b[0m\u001b[0mget_smartbits_by_type\u001b[0m\u001b[0;34m(\u001b[0m\u001b[0;34m\u001b[0m\n",
      "\u001b[0;34m\u001b[0m    \u001b[0mapp_type\u001b[0m\u001b[0;34m:\u001b[0m \u001b[0mstr\u001b[0m\u001b[0;34m,\u001b[0m\u001b[0;34m\u001b[0m\n",
      "\u001b[0;34m\u001b[0m    \u001b[0mroom_id\u001b[0m\u001b[0;34m:\u001b[0m \u001b[0mstr\u001b[0m \u001b[0;34m=\u001b[0m \u001b[0;32mNone\u001b[0m\u001b[0;34m,\u001b[0m\u001b[0;34m\u001b[0m\n",
      "\u001b[0;34m\u001b[0m    \u001b[0mboard_id\u001b[0m\u001b[0;34m:\u001b[0m \u001b[0mstr\u001b[0m \u001b[0;34m=\u001b[0m \u001b[0;32mNone\u001b[0m\u001b[0;34m,\u001b[0m\u001b[0;34m\u001b[0m\n",
      "\u001b[0;34m\u001b[0m\u001b[0;34m)\u001b[0m \u001b[0;34m->\u001b[0m \u001b[0mlist\u001b[0m\u001b[0;34m\u001b[0m\u001b[0;34m\u001b[0m\u001b[0m\n",
      "\u001b[0;31mDocstring:\u001b[0m <no docstring>\n",
      "\u001b[0;31mFile:\u001b[0m      ~/Codes/next/foresight/foresight/Sage3Sugar/pysage3.py\n",
      "\u001b[0;31mType:\u001b[0m      method"
     ]
    }
   ],
   "source": [
    "ps3.get_smartbits_by_type?"
   ]
  },
  {
   "cell_type": "code",
   "execution_count": 71,
   "metadata": {},
   "outputs": [
    {
     "ename": "AttributeError",
     "evalue": "'SmartBitsCollection' object has no attribute 'items'",
     "output_type": "error",
     "traceback": [
      "\u001b[0;31m---------------------------------------------------------------------------\u001b[0m",
      "\u001b[0;31mAttributeError\u001b[0m                            Traceback (most recent call last)",
      "Cell \u001b[0;32mIn[71], line 1\u001b[0m\n\u001b[0;32m----> 1\u001b[0m \u001b[43mps3\u001b[49m\u001b[38;5;241;43m.\u001b[39;49m\u001b[43mget_smartbits_by_type\u001b[49m\u001b[43m(\u001b[49m\u001b[38;5;124;43m'\u001b[39;49m\u001b[38;5;124;43mStickie\u001b[39;49m\u001b[38;5;124;43m'\u001b[39;49m\u001b[43m,\u001b[49m\u001b[43m \u001b[49m\u001b[43mroom_id\u001b[49m\u001b[43m,\u001b[49m\u001b[43m \u001b[49m\u001b[43mboard_id\u001b[49m\u001b[43m)\u001b[49m\n",
      "File \u001b[0;32m~/Codes/next/foresight/foresight/Docusage/utils/../../Sage3Sugar/pysage3.py:500\u001b[0m, in \u001b[0;36mPySage3.get_smartbits_by_type\u001b[0;34m(self, app_type, room_id, board_id)\u001b[0m\n\u001b[1;32m    498\u001b[0m     \u001b[38;5;28mprint\u001b[39m(\u001b[38;5;124m\"\u001b[39m\u001b[38;5;124mPlease provide an app type to filter by\u001b[39m\u001b[38;5;124m\"\u001b[39m)\n\u001b[1;32m    499\u001b[0m smartbits \u001b[38;5;241m=\u001b[39m \u001b[38;5;28mself\u001b[39m\u001b[38;5;241m.\u001b[39mget_smartbits(room_id, board_id)\n\u001b[0;32m--> 500\u001b[0m \u001b[38;5;28;01mreturn\u001b[39;00m [v \u001b[38;5;28;01mfor\u001b[39;00m k, v \u001b[38;5;129;01min\u001b[39;00m \u001b[43msmartbits\u001b[49m\u001b[38;5;241;43m.\u001b[39;49m\u001b[43mitems\u001b[49m() \u001b[38;5;28;01mif\u001b[39;00m v\u001b[38;5;241m.\u001b[39mdata\u001b[38;5;241m.\u001b[39mtype \u001b[38;5;241m==\u001b[39m \u001b[38;5;124m\"\u001b[39m\u001b[38;5;124mStickie\u001b[39m\u001b[38;5;124m\"\u001b[39m]\n",
      "\u001b[0;31mAttributeError\u001b[0m: 'SmartBitsCollection' object has no attribute 'items'"
     ]
    }
   ],
   "source": [
    "ps3.get_smartbits_by_type('Stickie', room_id, board_id)"
   ]
  }
 ],
 "metadata": {
  "kernelspec": {
   "display_name": "sage",
   "language": "python",
   "name": "python3"
  },
  "language_info": {
   "codemirror_mode": {
    "name": "ipython",
    "version": 3
   },
   "file_extension": ".py",
   "mimetype": "text/x-python",
   "name": "python",
   "nbconvert_exporter": "python",
   "pygments_lexer": "ipython3",
   "version": "3.10.16"
  }
 },
 "nbformat": 4,
 "nbformat_minor": 2
}
