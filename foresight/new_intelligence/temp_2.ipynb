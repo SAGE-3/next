{
 "cells": [
  {
   "cell_type": "code",
   "execution_count": null,
   "id": "faa9dd06-ca4e-4946-807d-9b157df7dfce",
   "metadata": {},
   "outputs": [],
   "source": [
    "!python --version\n"
   ]
  },
  {
   "cell_type": "code",
   "execution_count": null,
   "id": "933794ed-35fc-4655-bd74-981ef0337b18",
   "metadata": {},
   "outputs": [],
   "source": [
    "# TODO: make sure the ps3 is is in my global memeory.\n",
    "# TODO:  make sure room_id and baord_id are in the global params\n",
    "# TODO: Make sure the viewport is also passed and in the global memory\n",
    "# TODO: Ask Luc why this works when creating a stickie (state = {'col': 'red', 'font': '45', 'tex': 'yo'})\n",
    "# TODO: Tell Luc about no owner when stickies are created programmatically\n",
    "\n"
   ]
  },
  {
   "cell_type": "code",
   "execution_count": null,
   "id": "515870cd-203a-4463-98ce-cb6b995d7171",
   "metadata": {},
   "outputs": [],
   "source": [
    "from pydantic_ai import Agent, RunContext\n"
   ]
  },
  {
   "cell_type": "code",
   "execution_count": null,
   "id": "1b77fb7b",
   "metadata": {},
   "outputs": [],
   "source": [
    "import json\n",
    "from uuid import UUID\n",
    "import nest_asyncio\n",
    "nest_asyncio.apply()"
   ]
  },
  {
   "cell_type": "code",
   "execution_count": null,
   "id": "a4bcf986",
   "metadata": {},
   "outputs": [],
   "source": [
    "room_id, board_id = \"e07aa346-37dd-4bf5-90bf-fc59a1c3b2e9/d12ec467-6f82-49e0-873a-e15df43e52c4\".split(\"/\")\n",
    "room_id, board_id"
   ]
  },
  {
   "cell_type": "code",
   "execution_count": null,
   "id": "325f480f",
   "metadata": {},
   "outputs": [],
   "source": [
    "cd ../\n"
   ]
  },
  {
   "cell_type": "code",
   "execution_count": null,
   "id": "8f929337-9f91-4e1d-939c-58ced43c8bf9",
   "metadata": {},
   "outputs": [],
   "source": [
    "\n",
    "import uuid\n",
    "\n",
    "from foresight.config import config as conf, prod_type\n",
    "\n",
    "from foresight.Sage3Sugar.pysage3 import PySage3\n",
    "ps3 = PySage3(conf, prod_type)"
   ]
  },
  {
   "cell_type": "code",
   "execution_count": null,
   "id": "1d9eb931",
   "metadata": {},
   "outputs": [],
   "source": [
    "ps3.s3_comm.get_users()"
   ]
  },
  {
   "cell_type": "code",
   "execution_count": null,
   "id": "235ecfd6",
   "metadata": {},
   "outputs": [],
   "source": [
    "b = ps3.rooms[room_id].boards[board_id]\n",
    "list(b.smartbits)\n"
   ]
  },
  {
   "cell_type": "code",
   "execution_count": null,
   "id": "72f6b033",
   "metadata": {},
   "outputs": [],
   "source": [
    "sb = list(b.smartbits)\n",
    "sb"
   ]
  },
  {
   "cell_type": "code",
   "execution_count": null,
   "id": "074dda14-4e1c-47f4-b56b-1998f6e36823",
   "metadata": {},
   "outputs": [],
   "source": [
    "# sb = b.smartbits[UUID('58c42c91-2a70-426d-a43f-0285901358b7')]\n",
    "# sb.state.text = \"Hi There\"\n",
    "# sb.send_updates()"
   ]
  },
  {
   "cell_type": "code",
   "execution_count": null,
   "id": "b8111f3f",
   "metadata": {},
   "outputs": [],
   "source": [
    "ps3.get_smartbits_by_type(\"stickie\", room_id, board_id)"
   ]
  },
  {
   "cell_type": "code",
   "execution_count": null,
   "id": "92142719",
   "metadata": {},
   "outputs": [],
   "source": [
    "### Creating Stuff\n",
    "\n",
    "state = {\"text\": \"Python said Yolo\", 'color': 'orange', 'fontSize': '45'}\n",
    "data = {'size': {'width': 400, 'height': 200, 'depth': 0}, 'position': {'x':1501140.0, \"y\":1500150.0+100, 'z':0.0}}\n",
    "response = ps3.create_app(room_id, board_id, 'Stickie', state, data)\n"
   ]
  },
  {
   "cell_type": "code",
   "execution_count": null,
   "id": "73783d48-2ab2-4d36-a195-72c44aa1f0e4",
   "metadata": {},
   "outputs": [],
   "source": [
    "ps3.get_smartbits_by_type(\"stickie\", room_id, board_id)"
   ]
  },
  {
   "cell_type": "code",
   "execution_count": null,
   "id": "b9d7f663",
   "metadata": {},
   "outputs": [],
   "source": [
    "state = {\"webviewurl\": \"https://sage-3.github.io/\"}\n",
    "data = {'size': {'width': 500, 'height': 500, 'depth': 0}, 'position': {'x':1501618.0491539645, 'y':1500355.010865956, 'z':0.0}}\n",
    "res = ps3.create_app(room_id, board_id, 'Webview', state, data)"
   ]
  },
  {
   "cell_type": "code",
   "execution_count": null,
   "id": "6791d0d9-ca8b-4e9e-9775-b2babe5e734f",
   "metadata": {},
   "outputs": [],
   "source": [
    "res"
   ]
  },
  {
   "cell_type": "code",
   "execution_count": null,
   "id": "b423eb5f",
   "metadata": {},
   "outputs": [],
   "source": [
    "from pydantic import BaseModel, Field\n",
    "from typing import Literal, List, Union\n",
    "from enum import Enum\n",
    "\n",
    "from typing import List\n",
    "from pydantic import BaseModel, HttpUrl, Field\n",
    "from typing import Dict\n",
    "import time\n",
    "from typing import Dict, List\n",
    "\n",
    "\n",
    "from enum import Enum\n",
    "\n",
    "class StickieColor(str, Enum):\n",
    "    \"\"\"\n",
    "    Predefined stickie colors\n",
    "    \"\"\"\n",
    "    RED = \"red\"\n",
    "    GREEN = \"green\"\n",
    "    BLUE = \"blue\"\n",
    "    YELLOW = \"yellow\"\n",
    "\n",
    "class StickieState(BaseModel):\n",
    "    \"The data that makes up a stickie\"\n",
    "    text: str = Field(..., description=\"The text that stick contains\")\n",
    "    color: StickieColor = Field(default=StickieColor.YELLOW, description=\"The color of the stickie to create\")\n",
    "    fontsize: str = Field(..., description=\"str representation of text size. Use 45 if not provided\")\n",
    "\n",
    "# class WebViewState(BaseModel):\n",
    "#     \"\"\"The data that is required to create a webview, this is what is used ot open\n",
    "#     webview, browser or  a webpage\"\"\"\n",
    "#     webviewurl: HttpUrl = Field(default=\"https://google.com\")\n",
    "\n",
    "class Position(BaseModel):\n",
    "    \"\"\"\n",
    "    The position of the app on the board\n",
    "    \"\"\"\n",
    "\n",
    "    x: float = Field(..., description=\"The x position of the app\")\n",
    "    y: float = Field(..., description=\"The y position of the app\")\n",
    "    z: float = Field(default=0.0, description=\"The z position of the app\")\n",
    "\n",
    "\n",
    "class Size(BaseModel):\n",
    "    \"\"\"\n",
    "    The dimensions of the app to create\n",
    "    \"\"\"\n",
    "\n",
    "    width: float = Field(default=200, description=\"The width of the app\")\n",
    "    height: float = Field(default=200, description=\"The height of the app\")\n",
    "    depth: float = Field(default=0, description=\"The depth of the app\")        \n",
    "        \n",
    "class Data(BaseModel):\n",
    "    size: Size\n",
    "    position: Position    \n",
    "        \n",
    "\n",
    "class SmarbitType(str, Enum):\n",
    "    \"\"\"\n",
    "    Available smartbit types in SAGE3\n",
    "    \"\"\"\n",
    "    STICKIE = \"Stickie\"\n",
    "    # WEBVIEW = \"Webview\" \n",
    "        \n",
    "class SmarbitApp(BaseModel):\n",
    "    \"Defines the SmartbitApp type, which is software application that exists on specialized desktop\"\n",
    "\n",
    "    smartbit_type: SmarbitType\n",
    "    state: Union[StickieState]\n",
    "    data: Data\n",
    "\n",
    "\n",
    "\n",
    "class AppId(BaseModel):\n",
    "    \"\"\"The app_id serving as the unique identified of an app on the wall\"\"\"\n",
    "    app_id: UUID\n",
    "    \n",
    "\n",
    "sage_smarbits_description = \"\"\"You are an AI assistant that open application (we sometime also refer to them as \"smartbits\" or apps) for the SAGE3 operating system. \n",
    "Users interact with SAGE3 through a display wall or board; this is similar to a desktop for an OS.\"\"\"\n",
    "\n",
    "\n",
    "# class WallAIMessage(BaseModel):\n",
    "#     \"The message for the AI regarding a query\"\n",
    "#     message: str\n",
    "\n",
    "        \n",
    "# class WallAIMessage(BaseModel):\n",
    "#     reponse: Union[WallAIMessage, SmarbitApp]                \n",
    "        "
   ]
  },
  {
   "cell_type": "code",
   "execution_count": 3,
   "id": "03ba88e1",
   "metadata": {},
   "outputs": [],
   "source": [
    "import os\n",
    "from getpass import getpass\n",
    "\n",
    "if \"ANTHROPIC_API_KEY\" not in os.environ:\n",
    "    os.environ[\"ANTHROPIC_API_KEY\"] = getpass(\"Enter your Anthropic API key: \")\n",
    "\n"
   ]
  },
  {
   "cell_type": "code",
   "execution_count": 4,
   "id": "dbfa6f9e-0624-41a6-ab17-d6fd5d1bec00",
   "metadata": {},
   "outputs": [
    {
     "name": "stdin",
     "output_type": "stream",
     "text": [
      "Enter your openAI API key:  ········\n"
     ]
    }
   ],
   "source": [
    "if \"OPENAI_API_KEY\" not in os.environ:\n",
    "    os.environ[\"OPENAI_API_KEY\"] = getpass(\"Enter your openAI API key: \")\n"
   ]
  },
  {
   "cell_type": "code",
   "execution_count": null,
   "id": "fcb757f3-11e8-4df5-b771-7e72b558e752",
   "metadata": {},
   "outputs": [],
   "source": [
    "if \"GROQ_API_KEY\" not in os.environ:\n",
    "    os.environ[\"GROQ_API_KEY\"] = getpass(\"Enter your openAI API key: \")\n"
   ]
  },
  {
   "cell_type": "code",
   "execution_count": null,
   "id": "0e961ec7-f9d9-4627-90c3-4abbf42fa296",
   "metadata": {},
   "outputs": [],
   "source": [
    "#!pip install pydantic-ai"
   ]
  },
  {
   "cell_type": "code",
   "execution_count": null,
   "id": "a101bcc1-5816-46c5-b599-cb78053b0eca",
   "metadata": {},
   "outputs": [],
   "source": [
    "\n",
    "# from pydantic_ai.messages import ()"
   ]
  },
  {
   "cell_type": "code",
   "execution_count": null,
   "id": "9a2fab7c",
   "metadata": {},
   "outputs": [],
   "source": [
    "\n",
    "\n",
    "\n",
    "\n",
    "prompt_create_app = f\"\"\"{sage_smarbits_description}\n",
    "Your job is to listen to users' natural language requests and translate them into the precise JSON parameters needed to \n",
    "create (may refer to it as opne) or remove(may refer to it as delete or close) apps  on the SAGE3 wall. \n",
    "When users describe what they want to create, you'll convert their request into the proper technical format that SAGE3 requires to call the app. \n",
    "You understand all SAGE3 smartbit capabilities and will recommend the best app type for each user's needs.\n",
    "\n",
    "To find a suitable location to create an app, please use the get_available_space function.\n",
    "To create an app, use create_apps function, passing it the list of apps that need ot be created. \n",
    "\n",
    "\n",
    "\n",
    "\n",
    "\"\"\"\n",
    "\n",
    "create_delete_app_agent = Agent(  \n",
    "    \"claude-3-5-haiku-latest\",\n",
    "    result_type=SmarbitApp,    \n",
    "    system_prompt=prompt_create_app,\n",
    "     model_settings={'temperature': 0.0}    \n",
    ")\n",
    "@create_delete_app_agent.tool_plain \n",
    "def get_available_space(nb_apps: int) -> Position:\n",
    "    \"\"\"  Returns a suitable X, Y, Z location where each app can be created.\n",
    "    \n",
    "    This position should be used in the Data object of the SmarbitApp being created.\n",
    "    nb_apps: int is the number of apps we need to get space for. be positioned\n",
    "    \"\"\"\n",
    "    \n",
    "    return [Position(**{'x': 1501973.615403275, 'y': 1500349.2037941106, 'z': 0})] * nb_apps\n",
    "\n",
    "\n",
    "@create_delete_app_agent.tool_plain \n",
    "def create_apps(sb_list: List[SmarbitApp]) -> str:\n",
    "    \"\"\" \n",
    "        This function creates one or more smartbit application given a list of SmarbitApp data to initialize the Apps. \n",
    "        sb_list: List[SmarbitApp] list of object of type SmarbitApp, where each object provides the type of the smartbit, it's data and it's state (what it holds)\n",
    "    \n",
    "    \"\"\"\n",
    "    print(f\"function create_apps called withg {sb_list}\")\n",
    "    returned_messages = []\n",
    "    for sb in sb_list:\n",
    "        sb_type = sb.smartbit_type\n",
    "        state = json.loads(sb.state.model_dump_json())\n",
    "        data = json.loads(sb.data.model_dump_json())\n",
    "    \n",
    "        response = ps3.create_app(room_id, board_id, sb_type, state, data)\n",
    "        if response and type(response.json()) is dict and response.json().get('success', None):\n",
    "            returned_messages.append(f\"App of type {sb_type} with  state:{state} created successfully\")\n",
    "        else:\n",
    "            # TODO:fix in ps3.create_app \n",
    "            returned_messages.append(f\"Couldn not create app of type {sb_type} with state:{state}. Error: {response.json()['error']}\")\n",
    "    return returned_messages\n",
    "\n"
   ]
  },
  {
   "cell_type": "code",
   "execution_count": null,
   "id": "a3bc05d2",
   "metadata": {},
   "outputs": [],
   "source": [
    "result = await create_delete_app_agent.run(\"create Two stickies, with popular pizza sauce names\")"
   ]
  },
  {
   "cell_type": "code",
   "execution_count": null,
   "id": "d7c82fec-5fae-4b52-befa-b47e867914a3",
   "metadata": {},
   "outputs": [],
   "source": [
    "users= ps3.s3_comm.get_users()\n",
    "users"
   ]
  },
  {
   "cell_type": "code",
   "execution_count": null,
   "id": "a38b5e54",
   "metadata": {},
   "outputs": [],
   "source": [
    "\n",
    "sage_smarbits_description =  \"\"\"The SAGE3 operating system lets users interact with applications (called \"smartbits\") through a display wall or board.\"\"\"\n",
    "\n",
    "prompt_select_apps = f\"\"\"\n",
    "{sage_smarbits_description} As an AI assistant, your role is to help users find the exact application(s) they need by intepreting their natural language requests and returning only the app_ids that precisely match their requirements.\n",
    "\n",
    "When users describe what they're looking for, you need to ensure each suggested application id retured meets their specific criteria.\n",
    "\n",
    "You can use any of the aviable tools to interact with the wall, include to list currently available apps.\n",
    "\n",
    "Some selection operations may require multiple steps, so you need to think step by step. \n",
    "\n",
    "If none of the apps matches the exact requirements specified in the user query, then return an empty list.\n",
    "\"\"\"\n",
    "\n",
    "\n",
    "select_app_agent = Agent(  \n",
    "    \"openai:gpt-4o\",\n",
    "    result_type=List[AppId],    \n",
    "    system_prompt=prompt_select_apps,\n",
    "     model_settings={'temperature': 0.6}    \n",
    ")\n",
    "\n",
    "@select_app_agent.tool_plain\n",
    "def get_apps_for_context() -> Dict:\n",
    "    \"\"\"Returns a dictionary of apps currently on the SAGE3 wall.\n",
    "    \n",
    "    Returns a dictionary where keys are app_ids and values are app details.\n",
    "    App details include information such as position, color, creator, and other\n",
    "    relevant metadata.\n",
    "    \"\"\"\n",
    "    \n",
    "    users= ps3.s3_comm.get_users()\n",
    "    apps = ps3.get_apps(room_id, board_id)\n",
    "    new_fromatted_apps = {}\n",
    "    for k, v in apps.items():\n",
    "        try:\n",
    "            SmarbitType(v['data']['type'])\n",
    "            del v['_id']\n",
    "            del v['_updatedBy']\n",
    "            del v['_updatedAt']\n",
    "            del v['data'][\"rotation\"]\n",
    "            del v['data'][\"raised\"]\n",
    "            del v['data'][\"pinned\"]\n",
    "            del v['data'][\"dragging\"]\n",
    "\n",
    "            if \"sources\" in v['data']['state']:\n",
    "                del v['data']['state'][\"sources\"]\n",
    "\n",
    "            if \"lock\" in v['data']['state']:\n",
    "                del v['data']['state'][\"lock\"]\n",
    "            \n",
    "            if \"executeInfo\"  in v['data']['state']:\n",
    "                del v['data']['state'][\"executeInfo\"]        \n",
    "        \n",
    "            user = users.get(v['_createdBy'], (\"Unknown\", ))\n",
    "            v['_createdBy'] = user[0]        \n",
    "            v['_createdAt'] = time.strftime(\"%Y-%m-%d %H:%M:%S\", time.localtime(v['_createdAt']// 1000))                \n",
    "            new_fromatted_apps[k] = v\n",
    "        except Exception as e:\n",
    "            print(f\"Ommitted {v['data']['type']}\")\n",
    "        \n",
    "    return new_fromatted_apps\n",
    "\n",
    "\n"
   ]
  },
  {
   "cell_type": "code",
   "execution_count": null,
   "id": "763ac79b-fd52-4fc1-9e90-5fdd90f6cb04",
   "metadata": {},
   "outputs": [],
   "source": [
    " get_apps_for_context()"
   ]
  },
  {
   "cell_type": "code",
   "execution_count": null,
   "id": "f87b3b8c",
   "metadata": {},
   "outputs": [],
   "source": [
    "results = await select_app_agent.run(\"What stickies are relevant to Moroccan food\")\n",
    "results.data"
   ]
  },
  {
   "cell_type": "code",
   "execution_count": null,
   "id": "49aba987-f259-461b-abc0-94163f17c6e6",
   "metadata": {},
   "outputs": [],
   "source": [
    "b.smartbits[UUID('2a8cbd8e-9905-435f-ac78-8aa0d876093d')]"
   ]
  },
  {
   "cell_type": "code",
   "execution_count": null,
   "id": "f1ded1f6",
   "metadata": {},
   "outputs": [],
   "source": [
    "results = await select_app_agent.run(\"Which apps were created by Mahdi\")\n",
    "results.data"
   ]
  },
  {
   "cell_type": "code",
   "execution_count": null,
   "id": "355636dc-4ce8-4d67-b93a-c3a91a0ebc46",
   "metadata": {},
   "outputs": [],
   "source": []
  },
  {
   "cell_type": "code",
   "execution_count": null,
   "id": "d5c3f503",
   "metadata": {},
   "outputs": [],
   "source": [
    "type(ps3.get_apps(room_id, board_id))"
   ]
  },
  {
   "cell_type": "code",
   "execution_count": null,
   "id": "4732d941-35e6-4341-a97b-a352372ef2ee",
   "metadata": {},
   "outputs": [],
   "source": [
    "get_app_details([UUID('00592a68-2700-4b69-abb4-340f631fa295'), UUID('e907cca5-e928-441f-8dc6-1343d27e3a44')])"
   ]
  },
  {
   "cell_type": "code",
   "execution_count": null,
   "id": "68d62ce5-2c32-4176-b09b-44ad5e66080a",
   "metadata": {},
   "outputs": [],
   "source": [
    "AppId(app_id = UUID('00592a68-2700-4b69-abb4-340f631fa295'))  == AppId(app_id = UUID('00592a68-2700-4b69-abb4-340f631fa295'))"
   ]
  },
  {
   "cell_type": "code",
   "execution_count": null,
   "id": "7bc52741-8bcb-43b3-b6a6-175d81c5dec6",
   "metadata": {},
   "outputs": [],
   "source": [
    "#results  = await select_app_agent.run(\"What stickies are PURPLE\")\n",
    "results.data"
   ]
  },
  {
   "cell_type": "code",
   "execution_count": null,
   "id": "d4a010ed-ad5c-4298-b3f1-fd59a5ca238d",
   "metadata": {},
   "outputs": [],
   "source": [
    "a = []\n",
    "type(a) is list"
   ]
  },
  {
   "cell_type": "code",
   "execution_count": null,
   "id": "9f133817",
   "metadata": {},
   "outputs": [],
   "source": [
    "\n",
    "# Assuming sage_smarbits_description is defined somewhere\n",
    "destructive_operations_prompt = f\"\"\"\n",
    "{sage_smarbits_description}.  \n",
    "\n",
    "When deleting or moving SAGE3 wall applications (smartbits), first display their app_ids and identifying details. Only proceed after receiving explicit user confirmation. If confirmation is not given, cancel the operation and notify the user that no changes will occur. Use available wall interaction tools to retrieve application details as needed.\n",
    "If user cancels, be VERY brief and concise and do NOT offer to help the user with something else after.\n",
    "Use select_apps_to_delete to rreturn the list of AppId to remve\n",
    "You can use get_app_details to get the details of an app, which you need to show the user for confirmation\n",
    "\n",
    "Use delete_apps to delete the app once use has confirmed  deletion\n",
    "\n",
    "\"\"\"\n",
    "\n",
    "destructive_operations_agent = Agent(  \n",
    "    \"claude-3-5-haiku-latest\",\n",
    "    result_type=str,    \n",
    "    system_prompt=destructive_operations_prompt,\n",
    "    model_settings={'temperature': 0.5}    \n",
    ")\n",
    "\n",
    "@destructive_operations_agent.tool_plain\n",
    "async def select_apps_to_delete(query_filter: str) -> List[AppId]:\n",
    "    \"\"\"\n",
    "    select the apps to delete based on the condition of the filter that is passed by the user\n",
    "    query_filter: user query string provided by the  user defining the condition to use to grab the apps the user wants to delete     \n",
    "    \"\"\"\n",
    "    print(f\"query_filter is {query_filter}\")\n",
    "    result = await select_app_agent.run(query_filter)\n",
    "    if result and type(result.data) is not list:\n",
    "        print(f\"Error executing query to select apps to delete {result.data}\")\n",
    "        return None\n",
    "    elif len(result.data) > 0 and type(result.data[0]) is not AppId:\n",
    "        print(f\"Error returning the select app as an AppId\")\n",
    "        return None\n",
    "    return result.data\n",
    "        \n",
    "@destructive_operations_agent.tool_plain\n",
    "def get_app_details(app_ids: List[AppId]) -> Dict:\n",
    "    \"\"\"\n",
    "    Returns The detials spefic to the apps whose ids are provided in app_ids\n",
    "    app_ids: List[AppId] is a list of UUIDs representing the id of each app for which we need to extract the informaiton\n",
    "    \"\"\"\n",
    "    print(f\"get_app_details called with {app_ids}\")\n",
    "    all__apps = ps3.get_apps(room_id, board_id)\n",
    "    return   {k:v for k,v in ps3.get_apps(room_id, board_id).items() if AppId(app_id = UUID(k)) in app_ids}\n",
    "    \n",
    "@destructive_operations_agent.tool_plain\n",
    "def delete_apps(app_ids_to_remove: List[AppId]) -> bool:\n",
    "    \"\"\"\n",
    "    This function takes a list of ids to remove and returns True if they were all removed and False otherwise. \n",
    "    \"\"\"\n",
    "    print(f\"removing apps {app_ids_to_remove}\")\n",
    "    return True\n",
    "   \n",
    "    \n"
   ]
  },
  {
   "cell_type": "code",
   "execution_count": null,
   "id": "97b1bed3",
   "metadata": {},
   "outputs": [],
   "source": [
    "# %%capture ouput\n",
    "# result = await destructive_operations_agent.run(\"can you delete apps with ids [UUID('00592a68-2700-4b69-abb4-340f631fa295'), UUID('e907cca5-e928-441f-8dc6-1343d27e3a44')]\")\n",
    "# print(result.data)"
   ]
  },
  {
   "cell_type": "code",
   "execution_count": null,
   "id": "c4e1530e-b3ff-4008-9868-6c347deb44f0",
   "metadata": {},
   "outputs": [],
   "source": [
    "result = await destructive_operations_agent.run(\"delete all red Stickies\")\n",
    "result.data"
   ]
  },
  {
   "cell_type": "code",
   "execution_count": null,
   "id": "736c709d-5d5f-4e15-94df-ce42a0e091c8",
   "metadata": {},
   "outputs": [],
   "source": [
    "%%capture output\n",
    "result_2 = await destructive_operations_agent.run(\"Yes, please delete them\", message_history=result.new_messages())\n",
    "result_2.data"
   ]
  },
  {
   "cell_type": "code",
   "execution_count": null,
   "id": "e1c9b828-7eda-46f3-b713-6c8a6bb98e24",
   "metadata": {},
   "outputs": [],
   "source": [
    "output.stdout"
   ]
  },
  {
   "cell_type": "code",
   "execution_count": null,
   "id": "16e6b191-f273-4287-a6c7-b5fef9bd1832",
   "metadata": {},
   "outputs": [],
   "source": []
  },
  {
   "cell_type": "code",
   "execution_count": null,
   "id": "fdd64fc4-6a21-4907-945f-7c15c64cbfb2",
   "metadata": {},
   "outputs": [],
   "source": []
  },
  {
   "cell_type": "code",
   "execution_count": null,
   "id": "27d762f8-c65c-4cc1-8103-a7290586280f",
   "metadata": {},
   "outputs": [],
   "source": []
  },
  {
   "cell_type": "code",
   "execution_count": null,
   "id": "74b3c69c-34fd-47a7-af93-c8f784fe7605",
   "metadata": {},
   "outputs": [],
   "source": []
  },
  {
   "cell_type": "code",
   "execution_count": null,
   "id": "b1ae5f3c-1225-4b16-8773-7ec778941132",
   "metadata": {},
   "outputs": [],
   "source": []
  },
  {
   "cell_type": "code",
   "execution_count": null,
   "id": "53dd0f42-1d1c-46c9-bfb0-7d1c6272beb0",
   "metadata": {},
   "outputs": [],
   "source": [
    "pip install fabric2"
   ]
  },
  {
   "cell_type": "code",
   "execution_count": null,
   "id": "7f4f6aab-819e-449b-9efa-6f543cc2831e",
   "metadata": {},
   "outputs": [],
   "source": [
    "from fabric import Connection"
   ]
  },
  {
   "cell_type": "code",
   "execution_count": null,
   "id": "2546de2c-4e22-4756-a318-083d5169c87f",
   "metadata": {},
   "outputs": [],
   "source": [
    "result = Connection('banane').run('uname', hide=True)\n",
    "result.stdout"
   ]
  },
  {
   "cell_type": "code",
   "execution_count": null,
   "id": "add31bdf-aeca-4261-8e15-16b51548e6e0",
   "metadata": {},
   "outputs": [],
   "source": [
    "ps3.s3_comm.format_public_url('asset_id')"
   ]
  },
  {
   "cell_type": "code",
   "execution_count": null,
   "id": "53416176-8422-4011-86f8-1dffc3364987",
   "metadata": {},
   "outputs": [],
   "source": [
    "app_id =     UUID('e12be20a-b1c2-4dfa-ae69-7bd2bf02c508')\n",
    "asset_id = sb.state.assetid\n",
    "ps3.s3_comm.format_public_url(str(asset_id))\n"
   ]
  },
  {
   "cell_type": "code",
   "execution_count": null,
   "id": "40126245-1eeb-45d3-95a2-0097afd5137a",
   "metadata": {},
   "outputs": [],
   "source": [
    "\n",
    "\n",
    "server_name = 'banane'\n",
    "import requests\n",
    "from fabric import Connection\n",
    "import re\n",
    "\n",
    "\n",
    "def get_chunks(app_id):\n",
    "    if sb.__class__.__name__ != \"PDFViewer\":\n",
    "        return None\n",
    "    sb = b.smartbits[UUID(app_id)]\n",
    "    asset_id = sb.state.assetid\n",
    "    asset_public_url = ps3.s3_comm.format_public_url(asset_id)\n",
    "    response = requests.get(asset_public_url)\n",
    "    with open(f\"/tmp/{asset_id}.pdf\", 'wb') as f:\n",
    "        f.write(response.content)\n",
    "\n",
    "    conn = Connection(server_name)\n",
    "    conn.put(f\"/tmp/{asset_id}.pdf\", f'/tmp/{asset_id}.pdf')\n",
    "    print(\"converting to md\")\n",
    "    conn.run(f'source /home/mahdi/miniconda3/etc/profile.d/conda.sh && conda activate /home/mahdi/mambaforge/envs/new_env && marker_single /tmp/{asset_id}.pdf /tmp/{asset_id}', shell='/bin/bash -l')\n",
    "    print(\"Done converting... transferring data\")\n",
    "    conn.get(f\"/tmp/{asset_id}/{asset_id}.md\", f\"/tmp/{asset_id}.md\")\n",
    "\n",
    "    text = open(f\"/tmp/{asset_id}.md\").read()\n",
    "    sections = re.split(r'^\\s*#{1,6}\\s+', text, flags=re.MULTILINE)\n",
    "    sections = [s.strip() for s in sections if s.strip()]\n",
    "    return sections        \n"
   ]
  },
  {
   "cell_type": "code",
   "execution_count": null,
   "id": "f90646f0-27ce-4f83-904b-fc1c9fe84b8e",
   "metadata": {},
   "outputs": [],
   "source": [
    "import re\n",
    "from groq import Groq\n",
    "\n",
    "client = Groq()\n",
    "system_prompt = \"\"\"Split the text provided into a Python list that structures the input text so it can be processed by Python. If the input is a text paragraph, return a Python list where each element contains a string combining consecutive, semantically related sentences. Please make sure you don't just split over sentences -- combine those that are relevant or related to eachother. Also, include headers as part of the first sentence (seperated from the sentence by a colon), rather than giving them their own entry in the list.\n",
    "For metadata, i.e., if the provided text contains title, authors, keywords, etc., only return a list where each element is a string that groups similar things, e.g., a string of authors, string of affiliations, and string of keywords. Return an empty list if the text provided consists of only references. To avoid any issues, return only a single Python list and no additional text. It's okay to add/remove spaces or remove new lines as needed to normalize the data. Please return the list in a ```python ``` block.\"\"\"\n",
    "def split_sections(section):\n",
    "    completion = client.chat.completions.create(\n",
    "        model=\"deepseek-r1-distill-llama-70b\",\n",
    "        messages=[\n",
    "            {\n",
    "                \"role\": \"system\",\n",
    "                \"content\": system_prompt\n",
    "            },\n",
    "            {\n",
    "                \"role\": \"user\",\n",
    "                \"content\": section\n",
    "            }\n",
    "        ],\n",
    "        temperature=0.4,\n",
    "        max_completion_tokens=4096,\n",
    "        top_p=0.95,\n",
    "        stream=False,\n",
    "        stop=None,\n",
    "    )\n",
    "\n",
    "    pattern = re.compile(r\"```python\\n(.*?)```\", re.DOTALL)\n",
    "    match = pattern.search(completion.choices[0].message.content)\n",
    "    \n",
    "    if match:\n",
    "        return eval(match.groups()[0])\n",
    "    else:\n",
    "        print(\"No Python code block found.\")\n",
    "        return none\n",
    "    "
   ]
  },
  {
   "cell_type": "code",
   "execution_count": null,
   "id": "ca12cfa8-2467-4bc9-a63d-cf54cbff9e4d",
   "metadata": {},
   "outputs": [],
   "source": [
    "import time\n",
    "def get_all_sentence(sections):\n",
    "    i = 0\n",
    "    sentences = []\n",
    "    time.sleep(1)\n",
    "    for section in sections:\n",
    "        sentences += split_sections(section)\n",
    "        i+=1\n",
    "        print(f\"Completed {i}\", end=\"\\t\")        \n",
    "    return sentences      \n",
    "    "
   ]
  },
  {
   "cell_type": "code",
   "execution_count": null,
   "id": "2a449be6-fb94-404e-a6c0-10b3a1fb1254",
   "metadata": {},
   "outputs": [],
   "source": [
    "sentences = get_all_sentence(sections[0:5])"
   ]
  },
  {
   "cell_type": "code",
   "execution_count": null,
   "id": "62aea209-469d-4604-8b3f-cce4e22b12d5",
   "metadata": {},
   "outputs": [],
   "source": [
    "sentences"
   ]
  },
  {
   "cell_type": "code",
   "execution_count": null,
   "id": "24e3ac38-a7dd-4e36-bc0e-a17b638c9c6f",
   "metadata": {},
   "outputs": [],
   "source": []
  },
  {
   "cell_type": "code",
   "execution_count": null,
   "id": "54410dda-ed79-4d58-8c9a-5dd95cdda6b8",
   "metadata": {},
   "outputs": [],
   "source": []
  },
  {
   "cell_type": "code",
   "execution_count": null,
   "id": "1f8d8e0e-a3c5-4d4f-97aa-7954a4b8fa19",
   "metadata": {},
   "outputs": [],
   "source": []
  },
  {
   "cell_type": "code",
   "execution_count": null,
   "id": "ad9c4976-e0f5-428a-9de0-596c68713c4a",
   "metadata": {},
   "outputs": [],
   "source": []
  },
  {
   "cell_type": "code",
   "execution_count": null,
   "id": "2bb97874-0f0e-48c1-8ef7-8e96073f7ed9",
   "metadata": {},
   "outputs": [],
   "source": []
  },
  {
   "cell_type": "code",
   "execution_count": null,
   "id": "8619c026-4f4b-4347-9179-534566e9ef7e",
   "metadata": {},
   "outputs": [],
   "source": []
  },
  {
   "cell_type": "code",
   "execution_count": null,
   "id": "5ef0c03c-355e-4909-a4dd-1760b384a4f4",
   "metadata": {},
   "outputs": [],
   "source": []
  },
  {
   "cell_type": "code",
   "execution_count": null,
   "id": "2c7a407f-4c58-4ee7-8b63-71977790337d",
   "metadata": {},
   "outputs": [],
   "source": []
  },
  {
   "cell_type": "code",
   "execution_count": null,
   "id": "cadcfe5c-3a07-48f1-845d-d00dafe6e48c",
   "metadata": {},
   "outputs": [],
   "source": []
  },
  {
   "cell_type": "code",
   "execution_count": null,
   "id": "1e687981-7d0e-4b0f-a5ab-48f51ed0094d",
   "metadata": {},
   "outputs": [],
   "source": []
  },
  {
   "cell_type": "code",
   "execution_count": null,
   "id": "6f5b0bfa-7758-484a-b7ed-a8edae2c4b6c",
   "metadata": {},
   "outputs": [],
   "source": []
  },
  {
   "cell_type": "code",
   "execution_count": null,
   "id": "bcaf1e17-5520-4288-bcdc-b0036fad1b1b",
   "metadata": {},
   "outputs": [],
   "source": []
  },
  {
   "cell_type": "code",
   "execution_count": null,
   "id": "28b4743a-1be8-4ee0-ad53-3051172e8b18",
   "metadata": {},
   "outputs": [],
   "source": [
    "#!pip install chromadb"
   ]
  },
  {
   "cell_type": "code",
   "execution_count": 1,
   "id": "864db638-b8f0-429e-9472-07984e1da62f",
   "metadata": {},
   "outputs": [],
   "source": [
    "import os\n",
    "from openai import OpenAI\n",
    "import chromadb\n",
    "from chromadb.utils import embedding_functions\n",
    "from typing import List, Dict\n",
    "\n",
    "class DocumentEmbedder:\n",
    "    def __init__(self, persist_directory: str = \"./chroma_db\"):\n",
    "        # Remove the comma after OpenAI()\n",
    "        self.client = OpenAI()  # Fixed: removed trailing comma\n",
    "        self.chroma_client = chromadb.PersistentClient(path=persist_directory)\n",
    "        \n",
    "        # Make sure you have a valid OpenAI API key\n",
    "        self.embedding_function = embedding_functions.OpenAIEmbeddingFunction(\n",
    "            api_key=os.environ[\"OPENAI_API_KEY\"],\n",
    "            model_name=\"text-embedding-3-small\"\n",
    "        )\n",
    "\n",
    "    def get_or_create_collection(self, collection_name: str):\n",
    "        \"\"\"Get existing collection or create a new one with the OpenAI embedding function.\"\"\"\n",
    "        try:\n",
    "            # Try to get existing collection\n",
    "            return self.chroma_client.get_collection(\n",
    "                name=collection_name,\n",
    "                embedding_function=self.embedding_function\n",
    "            )\n",
    "        except Exception as e:\n",
    "            if \"does not exist\" in str(e):\n",
    "                # Collection doesn't exist, create new one\n",
    "                return self.chroma_client.create_collection(\n",
    "                    name=collection_name,\n",
    "                    embedding_function=self.embedding_function\n",
    "                )\n",
    "            else:\n",
    "                # If it's some other error, raise it\n",
    "                raise e\n",
    "\n",
    "    def get_asset_ids(self, collection_name: str) -> List[str]:\n",
    "        \"\"\"Get all unique asset_ids in the collection.\"\"\"\n",
    "        collection = self.get_or_create_collection(collection_name)\n",
    "        \n",
    "        # Get all metadata from the collection\n",
    "        result = collection.get()\n",
    "        \n",
    "        # Extract unique asset_ids from metadata\n",
    "        asset_ids = set()\n",
    "        if result['metadatas']:  # Check if there are any metadatas\n",
    "            for metadata in result['metadatas']:\n",
    "                asset_ids.add(metadata['asset_id'])\n",
    "        \n",
    "        return list(asset_ids)\n",
    "    \n",
    "    def process_documents(\n",
    "        self,\n",
    "        sentences: List[str],\n",
    "        sections: List[str],\n",
    "        document_title: str,\n",
    "        asset_id: str,\n",
    "        collection_name: str\n",
    "    ): \n",
    "        \"\"\"\n",
    "        Process a list of sentences and store them in Chroma with metadata.\n",
    "        \n",
    "        Args:\n",
    "            sentences: List of sentences to embed\n",
    "            sections: List of section names corresponding to each sentence\n",
    "            document_title: Title of the document\n",
    "            asset_id: Unique identifier for the document\n",
    "            collection_name: Name of the Chroma collection to use\n",
    "        \"\"\"\n",
    "        # Validate input lengths\n",
    "        if len(sentences) != len(sections):\n",
    "            raise ValueError(\"Number of sentences must match number of sections\")\n",
    "\n",
    "        # Get or create collection\n",
    "        collection = self.get_or_create_collection(collection_name)\n",
    "\n",
    "        # Generate unique IDs for each sentence\n",
    "        ids = [f\"{asset_id}_sent_{i}\" for i in range(len(sentences))]\n",
    "\n",
    "        # Create metadata for each sentence\n",
    "        metadatas = [\n",
    "            {\n",
    "                \"section\": section,\n",
    "                \"document_title\": document_title,\n",
    "                \"asset_id\": asset_id\n",
    "            }\n",
    "            for section in sections\n",
    "        ]\n",
    "\n",
    "        # Add documents to collection\n",
    "        collection.add(\n",
    "            documents=sentences,\n",
    "            metadatas=metadatas,\n",
    "            ids=ids\n",
    "        )\n",
    "\n",
    "        return collection"
   ]
  },
  {
   "cell_type": "code",
   "execution_count": null,
   "id": "47b8082a-d8ed-4ea7-86ff-5aabb2987888",
   "metadata": {},
   "outputs": [],
   "source": [
    "embedder = DocumentEmbedder()\n",
    "\n",
    "# Example data\n",
    "sentences = [\n",
    "    \"This is the first sentence from the introduction.\",\n",
    "    \"This is a sentence from the methodology section.\",\n",
    "    \"This is a conclusion sentence.\"\n",
    "]\n",
    "\n",
    "sections = [\n",
    "    \"Introduction\",\n",
    "    \"Methodology\",\n",
    "    \"Conclusion\"\n",
    "]\n",
    "\n",
    "# Process documents\n",
    "collection = embedder.process_documents(\n",
    "    sentences=sentences,\n",
    "    sections=sections,\n",
    "    document_title=\"Test Document 2\",\n",
    "    asset_id=\"doc_001\",\n",
    "    collection_name=\"my_documents\"\n",
    ")"
   ]
  },
  {
   "cell_type": "code",
   "execution_count": null,
   "id": "9ffda559-8607-4457-b63e-a13a1975dae2",
   "metadata": {},
   "outputs": [],
   "source": []
  },
  {
   "cell_type": "code",
   "execution_count": 5,
   "id": "53c6b892-89b2-4bf3-9f89-f56fd858b4cc",
   "metadata": {},
   "outputs": [],
   "source": [
    "embedder = DocumentEmbedder()"
   ]
  },
  {
   "cell_type": "code",
   "execution_count": 6,
   "id": "be175967-eace-4868-abed-4e3cd84c2809",
   "metadata": {},
   "outputs": [
    {
     "data": {
      "text/plain": [
       "['doc_002', 'doc_001']"
      ]
     },
     "execution_count": 6,
     "metadata": {},
     "output_type": "execute_result"
    }
   ],
   "source": [
    "embedder.get_asset_ids(\"my_documents\")"
   ]
  },
  {
   "cell_type": "code",
   "execution_count": null,
   "id": "3e96297d-f3af-4d64-b167-1ed74f7a09cd",
   "metadata": {},
   "outputs": [],
   "source": []
  }
 ],
 "metadata": {
  "kernelspec": {
   "display_name": "Python 3 (ipykernel)",
   "language": "python",
   "name": "python3"
  },
  "language_info": {
   "codemirror_mode": {
    "name": "ipython",
    "version": 3
   },
   "file_extension": ".py",
   "mimetype": "text/x-python",
   "name": "python",
   "nbconvert_exporter": "python",
   "pygments_lexer": "ipython3",
   "version": "3.9.15"
  }
 },
 "nbformat": 4,
 "nbformat_minor": 5
}
