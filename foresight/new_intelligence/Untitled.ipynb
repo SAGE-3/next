{
 "cells": [
  {
   "cell_type": "code",
   "execution_count": null,
   "id": "933794ed-35fc-4655-bd74-981ef0337b18",
   "metadata": {},
   "outputs": [],
   "source": [
    "# TODO: make sure the ps3 is is in my global memeory.\n",
    "# TODO:  make sure room_id and baord_id are in the global params\n",
    "# TODO: Make sure the viewport is also passed and in the global memory\n",
    "# TODO: Ask Luc why this works when creating a stickie (state = {'col': 'red', 'font': '45', 'tex': 'yo'})\n",
    "# TODO: Tell Luc about no owner when stickies are created programmatically\n",
    "\n"
   ]
  },
  {
   "cell_type": "code",
   "execution_count": 8,
   "id": "515870cd-203a-4463-98ce-cb6b995d7171",
   "metadata": {},
   "outputs": [],
   "source": [
    "from pydantic_ai import Agent, RunContext\n"
   ]
  },
  {
   "cell_type": "code",
   "execution_count": 1,
   "id": "1b77fb7b",
   "metadata": {},
   "outputs": [],
   "source": [
    "import json\n",
    "from uuid import UUID\n",
    "import nest_asyncio\n",
    "nest_asyncio.apply()"
   ]
  },
  {
   "cell_type": "code",
   "execution_count": 2,
   "id": "a4bcf986",
   "metadata": {},
   "outputs": [
    {
     "data": {
      "text/plain": [
       "('e07aa346-37dd-4bf5-90bf-fc59a1c3b2e9',\n",
       " 'd12ec467-6f82-49e0-873a-e15df43e52c4')"
      ]
     },
     "execution_count": 2,
     "metadata": {},
     "output_type": "execute_result"
    }
   ],
   "source": [
    "room_id, board_id = \"e07aa346-37dd-4bf5-90bf-fc59a1c3b2e9/d12ec467-6f82-49e0-873a-e15df43e52c4\".split(\"/\")\n",
    "room_id, board_id"
   ]
  },
  {
   "cell_type": "code",
   "execution_count": 3,
   "id": "325f480f",
   "metadata": {},
   "outputs": [
    {
     "name": "stdout",
     "output_type": "stream",
     "text": [
      "/Users/mahdi/Documents/GitHub/next/foresight\n"
     ]
    }
   ],
   "source": [
    "cd ../\n"
   ]
  },
  {
   "cell_type": "code",
   "execution_count": 4,
   "id": "8f929337-9f91-4e1d-939c-58ced43c8bf9",
   "metadata": {},
   "outputs": [
    {
     "name": "stdout",
     "output_type": "stream",
     "text": [
      "Configuring ps3 client ... \n",
      "Completed configuring Sage3 Client\n"
     ]
    }
   ],
   "source": [
    "\n",
    "import uuid\n",
    "\n",
    "from foresight.config import config as conf, prod_type\n",
    "\n",
    "from foresight.Sage3Sugar.pysage3 import PySage3\n",
    "ps3 = PySage3(conf, prod_type)"
   ]
  },
  {
   "cell_type": "code",
   "execution_count": null,
   "id": "1d9eb931",
   "metadata": {},
   "outputs": [],
   "source": [
    "# ps3.s3_comm.get_users()"
   ]
  },
  {
   "cell_type": "code",
   "execution_count": 5,
   "id": "235ecfd6",
   "metadata": {},
   "outputs": [
    {
     "data": {
      "text/plain": [
       "[(UUID('6050dcb0-3d75-4688-9bb7-5ba7e5b65c3d'),\n",
       "  Stickie(path='', touched=set(), app_id=UUID('6050dcb0-3d75-4688-9bb7-5ba7e5b65c3d'), data=Data(path='.data', touched=set(), position=Position(path='.data.position', touched=set(), x=1501610.3777184172, y=1500330.5077368016, z=0.0), size=Size(path='.data.size', touched=set(), width=200.0, height=200.0, depth=0.0), rotation=Rotation(path='.data.rotation', touched=set(), x=0.0, y=0.0, z=0.0), raised=True, type='Stickie'), tags=[], state=StickieState(path='.state', touched=set(), text='Sushi', color='yellow', fontSize=36, lock=False))),\n",
       " (UUID('e80db8dd-305c-4e84-80ad-27e82ba98706'),\n",
       "  Webview(path='', touched=set(), app_id=UUID('e80db8dd-305c-4e84-80ad-27e82ba98706'), data=Data(path='.data', touched=set(), position=Position(path='.data.position', touched=set(), x=1501088.1685693709, y=1500671.5616962556, z=0.0), size=Size(path='.data.size', touched=set(), width=435.0, height=420.0, depth=0.0), rotation=Rotation(path='.data.rotation', touched=set(), x=0.0, y=0.0, z=0.0), raised=False, type='Webview'), tags=[], state=WebviewState(path='.state', touched=set(), webviewurl='https://www.google.com/', zoom=1))),\n",
       " (UUID('2a8cbd8e-9905-435f-ac78-8aa0d876093d'),\n",
       "  Stickie(path='', touched=set(), app_id=UUID('2a8cbd8e-9905-435f-ac78-8aa0d876093d'), data=Data(path='.data', touched=set(), position=Position(path='.data.position', touched=set(), x=1501973.615403275, y=1500349.2037941106, z=0.0), size=Size(path='.data.size', touched=set(), width=200.0, height=200.0, depth=0.0), rotation=Rotation(path='.data.rotation', touched=set(), x=0.0, y=0.0, z=0.0), raised=False, type='Stickie'), tags=[], state=StickieState(path='.state', touched=set(), text='Marinara Sauce', color='red', fontSize=36, lock=False))),\n",
       " (UUID('61e9c037-6c0b-48fe-b47c-9f18140de7b3'),\n",
       "  Stickie(path='', touched=set(), app_id=UUID('61e9c037-6c0b-48fe-b47c-9f18140de7b3'), data=Data(path='.data', touched=set(), position=Position(path='.data.position', touched=set(), x=1502205.9806869712, y=1500700.4225849842, z=0.0), size=Size(path='.data.size', touched=set(), width=278.0, height=333.0, depth=0.0), rotation=Rotation(path='.data.rotation', touched=set(), x=0.0, y=0.0, z=0.0), raised=False, type='Stickie'), tags=[], state=StickieState(path='.state', touched=set(), text='Japan', color='red', fontSize=36, lock=False))),\n",
       " (UUID('e907cca5-e928-441f-8dc6-1343d27e3a44'),\n",
       "  Stickie(path='', touched=set(), app_id=UUID('e907cca5-e928-441f-8dc6-1343d27e3a44'), data=Data(path='.data', touched=set(), position=Position(path='.data.position', touched=set(), x=1502187.2846296616, y=1500363.8935534246, z=0.0), size=Size(path='.data.size', touched=set(), width=333.0, height=278.0, depth=0.0), rotation=Rotation(path='.data.rotation', touched=set(), x=0.0, y=0.0, z=0.0), raised=False, type='Stickie'), tags=[], state=StickieState(path='.state', touched=set(), text='Italy', color='green', fontSize=36, lock=False))),\n",
       " (UUID('c63ae3c2-1530-4fcc-a3c7-a484ba3b79fc'),\n",
       "  Stickie(path='', touched=set(), app_id=UUID('c63ae3c2-1530-4fcc-a3c7-a484ba3b79fc'), data=Data(path='.data', touched=set(), position=Position(path='.data.position', touched=set(), x=1501638.0772136988, y=1500640.1594648496, z=0.0), size=Size(path='.data.size', touched=set(), width=400.0, height=420.0, depth=0.0), rotation=Rotation(path='.data.rotation', touched=set(), x=0.0, y=0.0, z=0.0), raised=False, type='Stickie'), tags=[], state=StickieState(path='.state', touched=set(), text='Mahdi', color='yellow', fontSize=24, lock=False)))]"
      ]
     },
     "execution_count": 5,
     "metadata": {},
     "output_type": "execute_result"
    }
   ],
   "source": [
    "b = ps3.rooms[room_id].boards[board_id]\n",
    "sb = list(b.smartbits)\n",
    "sb\n"
   ]
  },
  {
   "cell_type": "code",
   "execution_count": null,
   "id": "074dda14-4e1c-47f4-b56b-1998f6e36823",
   "metadata": {},
   "outputs": [],
   "source": [
    "# sb = b.smartbits[UUID('58c42c91-2a70-426d-a43f-0285901358b7')]\n",
    "# sb.state.text = \"Hi There\"\n",
    "# sb.send_updates()"
   ]
  },
  {
   "cell_type": "code",
   "execution_count": null,
   "id": "b8111f3f",
   "metadata": {},
   "outputs": [],
   "source": [
    "ps3.get_smartbits_by_type(\"stickie\", room_id, board_id)"
   ]
  },
  {
   "cell_type": "code",
   "execution_count": null,
   "id": "92142719",
   "metadata": {},
   "outputs": [],
   "source": [
    "### Creating Stuff\n",
    "\n",
    "state = {\"text\": \"Python said Yolo\", 'color': 'orange', 'fontSize': '45'}\n",
    "data = {'size': {'width': 400, 'height': 200, 'depth': 0}, 'position': {'x':1501140.0, \"y\":1500150.0+100, 'z':0.0}}\n",
    "response = ps3.create_app(room_id, board_id, 'Stickie', state, data)\n"
   ]
  },
  {
   "cell_type": "code",
   "execution_count": null,
   "id": "73783d48-2ab2-4d36-a195-72c44aa1f0e4",
   "metadata": {},
   "outputs": [],
   "source": [
    "ps3.get_smartbits_by_type(\"stickie\", room_id, board_id)"
   ]
  },
  {
   "cell_type": "code",
   "execution_count": null,
   "id": "b9d7f663",
   "metadata": {},
   "outputs": [],
   "source": [
    "state = {\"webviewurl\": \"https://sage-3.github.io/\"}\n",
    "data = {'size': {'width': 500, 'height': 500, 'depth': 0}, 'position': {'x':1501618.0491539645, 'y':1500355.010865956, 'z':0.0}}\n",
    "res = ps3.create_app(room_id, board_id, 'Webview', state, data)"
   ]
  },
  {
   "cell_type": "code",
   "execution_count": null,
   "id": "6791d0d9-ca8b-4e9e-9775-b2babe5e734f",
   "metadata": {},
   "outputs": [],
   "source": [
    "res"
   ]
  },
  {
   "cell_type": "code",
   "execution_count": 12,
   "id": "b423eb5f",
   "metadata": {},
   "outputs": [],
   "source": [
    "from pydantic import BaseModel, Field\n",
    "from typing import Literal, List, Union\n",
    "from enum import Enum\n",
    "\n",
    "from typing import List\n",
    "from pydantic import BaseModel, HttpUrl, Field\n",
    "from typing import Dict\n",
    "import time\n",
    "from typing import Dict, List\n",
    "\n",
    "\n",
    "from enum import Enum"
   ]
  },
  {
   "cell_type": "code",
   "execution_count": null,
   "id": "a58df61a",
   "metadata": {},
   "outputs": [],
   "source": [
    "class StickieColor(str, Enum):\n",
    "    \"\"\"\n",
    "    Enumeration of predefined stickie colors.\n",
    "    \"\"\"\n",
    "    RED = \"red\"\n",
    "    GREEN = \"green\"\n",
    "    BLUE = \"blue\"\n",
    "    YELLOW = \"yellow\"\n",
    "\n",
    "class StickieState(BaseModel):\n",
    "    \"\"\"\n",
    "    Model representing the state of a stickie note that encapsulates the content and appearance details of a stickie note.\n",
    "    \"\"\"\n",
    "    text: str = Field(..., description=\"The text that stick contains\")\n",
    "    color: StickieColor = Field(default=StickieColor.YELLOW, description=\"The color of the stickie to create\")\n",
    "    fontsize: str = Field(..., description=\"str representation of text size. Use 45 if not provided\")\n",
    "\n",
    "\n",
    "class Position(BaseModel):\n",
    "    \"\"\"\n",
    "    Model representing the position of a Smartbit application on the board.\n",
    "    \"\"\"\n",
    "\n",
    "    x: float = Field(..., description=\"The x position of the app\")\n",
    "    y: float = Field(..., description=\"The y position of the app\")\n",
    "    z: float = Field(default=0.0, description=\"The z position of the app\")\n",
    "\n",
    "\n",
    "class Size(BaseModel):\n",
    "    \"\"\"\n",
    "    Model representing the dimensions of a Smartbit application.\n",
    "    \"\"\"\n",
    "\n",
    "    width: float = Field(default=200, description=\"The width of the app\")\n",
    "    height: float = Field(default=200, description=\"The height of the app\")\n",
    "    depth: float = Field(default=0, description=\"The depth of the app\")        \n",
    "        \n",
    "class Data(BaseModel):\n",
    "    \"\"\"\n",
    "    Model encapsulating additional Smartbit application data including size and position.\n",
    "\n",
    "    Attributes:\n",
    "        size (Size): The dimensions of the application.\n",
    "        position (Position): The position of the application on the board.\n",
    "    \"\"\"\n",
    "    size: Size\n",
    "    position: Position    \n",
    "        \n",
    "\n",
    "class SmarbitType(str, Enum):\n",
    "    \"\"\"\n",
    "    Enumeration of available Smartbit application types in SAGE3.\n",
    "    \"\"\"\n",
    "    STICKIE = \"Stickie\"\n",
    "    # WEBVIEW = \"Webview\" \n",
    "        \n",
    "class SmarbitApp(BaseModel):\n",
    "    \"\"\"\n",
    "    Model defining a Smartbit application.\n",
    "    This model represents a software Smartbit application that resides on a specialized desktop interface - Sage3 wall.\n",
    "\n",
    "    Attributes:\n",
    "        smartbit_type (SmarbitType): The type of smartbit application.\n",
    "        state (Union[StickieState]): The state of the application. Typically, a StickieState.\n",
    "        data (Data): Additional data for the application, including its size and position.\n",
    "    \"\"\"\n",
    "\n",
    "    smartbit_type: SmarbitType\n",
    "    state: Union[StickieState]\n",
    "    data: Data\n",
    "\n",
    "\n",
    "\n",
    "class AppId(BaseModel):\n",
    "    \"\"\"\n",
    "    Model representing the unique identifier for a Smartbit application.\n",
    "    \"\"\"\n",
    "    app_id: UUID\n",
    "    \n",
    "\n",
    "# class WebViewState(BaseModel):\n",
    "#     \"\"\"The data that is required to create a webview, this is what is used ot open\n",
    "#     webview, browser or  a webpage\"\"\"\n",
    "#     webviewurl: HttpUrl = Field(default=\"https://google.com\")\n",
    "\n",
    "# class WallAIMessage(BaseModel):\n",
    "#     \"The message for the AI regarding a query\"\n",
    "#     message: str\n",
    "\n",
    "        \n",
    "# class WallAIMessage(BaseModel):\n",
    "#     reponse: Union[WallAIMessage, SmarbitApp]                "
   ]
  },
  {
   "cell_type": "code",
   "execution_count": 7,
   "id": "03ba88e1",
   "metadata": {},
   "outputs": [
    {
     "name": "stdout",
     "output_type": "stream",
     "text": [
      "Enter your openAI API key:  ········\n"
     ]
    }
   ],
   "source": [
    "import os\n",
    "from getpass import getpass\n",
    "\n",
    "if \"ANTHROPIC_API_KEY\" not in os.environ:\n",
    "    os.environ[\"ANTHROPIC_API_KEY\"] = getpass(\"Enter your Anthropic API key: \")\n",
    "if \"OPENAI_API_KEY\" not in os.environ:\n",
    "    os.environ[\"OPENAI_API_KEY\"] = getpass(\"Enter your openAI API key: \")\n",
    "\n"
   ]
  },
  {
   "cell_type": "code",
   "execution_count": null,
   "id": "861440d0",
   "metadata": {},
   "outputs": [],
   "source": [
    "# sage_smarbits_description = \"\"\"You are an AI assistant that open application (we sometime also refer to them as \"smartbits\" or apps) for the SAGE3 operating system. Users interact with SAGE3 through a display wall or board; this is similar to a desktop for an OS.\"\"\"\n",
    "\n",
    "# prompt_create_app = f\"\"\"{sage_smarbits_description}\n",
    "# Your job is to listen to users' natural language requests and translate them into the precise JSON parameters needed to \n",
    "# create (may refer to it as opne) or remove(may refer to it as delete or close) apps  on the SAGE3 wall. \n",
    "# When users describe what they want to create, you'll convert their request into the proper technical format that SAGE3 requires to call the app. \n",
    "# You understand all SAGE3 smartbit capabilities and will recommend the best app type for each user's needs.\n",
    "\n",
    "# To find a suitable location to create an app, please use the get_available_space function.\n",
    "# To create an app, use create_apps function, passing it the list of apps that need ot be created. \n",
    "\n",
    "\n",
    "# \"\"\""
   ]
  },
  {
   "cell_type": "code",
   "execution_count": null,
   "id": "9a2fab7c",
   "metadata": {},
   "outputs": [
    {
     "ename": "NameError",
     "evalue": "name 'Agent' is not defined",
     "output_type": "error",
     "traceback": [
      "\u001b[0;31m---------------------------------------------------------------------------\u001b[0m",
      "\u001b[0;31mNameError\u001b[0m                                 Traceback (most recent call last)",
      "Cell \u001b[0;32mIn[2], line 9\u001b[0m\n\u001b[1;32m      1\u001b[0m prompt_create_app \u001b[38;5;241m=\u001b[39m \u001b[38;5;124m\"\"\"\u001b[39m\u001b[38;5;124mYou are an AI assistant for the SAGE3 operating system, responsible for opening and closing apps (also called \u001b[39m\u001b[38;5;124m\"\u001b[39m\u001b[38;5;124msmartbits\u001b[39m\u001b[38;5;124m\"\u001b[39m\u001b[38;5;124m) in the Sage3 operating system. \u001b[39m\n\u001b[1;32m      2\u001b[0m \u001b[38;5;124mListen to users\u001b[39m\u001b[38;5;124m'\u001b[39m\u001b[38;5;124m natural language requests and translate them into precise JSON parameters for creating or removing apps. \u001b[39m\n\u001b[1;32m      3\u001b[0m \u001b[38;5;124mWhen a user describes an app to be created, convert their request into the technical format required by SAGE3 and recommend the best app type based on the user\u001b[39m\u001b[38;5;124m'\u001b[39m\u001b[38;5;124ms needs. \u001b[39m\n\u001b[0;32m   (...)\u001b[0m\n\u001b[1;32m      6\u001b[0m \u001b[38;5;124mUse the create_apps function to create the app by passing a list of apps.\u001b[39m\n\u001b[1;32m      7\u001b[0m \u001b[38;5;124m\"\"\"\u001b[39m\n\u001b[0;32m----> 9\u001b[0m create_delete_app_agent \u001b[38;5;241m=\u001b[39m \u001b[43mAgent\u001b[49m(  \n\u001b[1;32m     10\u001b[0m     \u001b[38;5;124m\"\u001b[39m\u001b[38;5;124mclaude-3-5-haiku-latest\u001b[39m\u001b[38;5;124m\"\u001b[39m,\n\u001b[1;32m     11\u001b[0m     result_type\u001b[38;5;241m=\u001b[39mSmarbitApp,    \n\u001b[1;32m     12\u001b[0m     system_prompt\u001b[38;5;241m=\u001b[39mprompt_create_app,\n\u001b[1;32m     13\u001b[0m      model_settings\u001b[38;5;241m=\u001b[39m{\u001b[38;5;124m'\u001b[39m\u001b[38;5;124mtemperature\u001b[39m\u001b[38;5;124m'\u001b[39m: \u001b[38;5;241m0.0\u001b[39m}    \n\u001b[1;32m     14\u001b[0m )\n\u001b[1;32m     15\u001b[0m \u001b[38;5;129m@create_delete_app_agent\u001b[39m\u001b[38;5;241m.\u001b[39mtool_plain \n\u001b[1;32m     16\u001b[0m \u001b[38;5;28;01mdef\u001b[39;00m \u001b[38;5;21mget_available_space\u001b[39m(nb_apps: \u001b[38;5;28mint\u001b[39m) \u001b[38;5;241m-\u001b[39m\u001b[38;5;241m>\u001b[39m Position:\n\u001b[1;32m     17\u001b[0m \u001b[38;5;250m    \u001b[39m\u001b[38;5;124;03m\"\"\"\u001b[39;00m\n\u001b[1;32m     18\u001b[0m \u001b[38;5;124;03m    Return positions for placing Smartbit apps on the board.\u001b[39;00m\n\u001b[1;32m     19\u001b[0m \n\u001b[0;32m   (...)\u001b[0m\n\u001b[1;32m     26\u001b[0m \u001b[38;5;124;03m        List[Position]: A list of position objects.\u001b[39;00m\n\u001b[1;32m     27\u001b[0m \u001b[38;5;124;03m    \"\"\"\u001b[39;00m\n",
      "\u001b[0;31mNameError\u001b[0m: name 'Agent' is not defined"
     ]
    }
   ],
   "source": [
    "prompt_create_app = \"\"\"You are an AI assistant for the SAGE3 operating system, responsible for opening (or creating) and closing (or removing) integrated applications (also called \"smartbits\") in the Sage3 operating system.\n",
    "Users interact with SAGE3 through a display wall or board; this is similar to a desktop for an OS. \n",
    "Listen to users' natural language requests and translate them into precise JSON parameters for opening (or creating) or closing (or removing) apps.\n",
    "When a user describes an app to be created, convert their request into the technical format required by SAGE3 and recommend the best app type based on the user's needs. \n",
    "\n",
    "Use the get_available_space function to determine a suitable location for the app.\n",
    "Use the create_apps function to create the app by passing a list of apps.\n",
    "\"\"\"\n",
    "\n",
    "create_delete_app_agent = Agent(  \n",
    "    \"claude-3-5-haiku-latest\",\n",
    "    result_type=SmarbitApp,    \n",
    "    system_prompt=prompt_create_app,\n",
    "     model_settings={'temperature': 0.0}    \n",
    ")\n",
    "@create_delete_app_agent.tool_plain \n",
    "def get_available_space(nb_apps: int) -> Position:\n",
    "    \"\"\"\n",
    "    Return positions for placing Smartbit apps on the board.\n",
    "\n",
    "    Generates a list of Position objects to be used in a Smartbit app's data.\n",
    "\n",
    "    Args:\n",
    "        nb_apps (int): Number of positions required.\n",
    "\n",
    "    Returns:\n",
    "        List[Position]: A list of position objects.\n",
    "    \"\"\"\n",
    "    \n",
    "    return [Position(**{'x': 1501973.615403275, 'y': 1500349.2037941106, 'z': 0})] * nb_apps\n",
    "\n",
    "\n",
    "@create_delete_app_agent.tool_plain \n",
    "def create_apps(sb_list: List[SmarbitApp]) -> str:\n",
    "    \"\"\"\n",
    "    Create Smartbit apps from the provided initialization data.\n",
    "\n",
    "    Iterates over each SmarbitApp object, creates an app via ps3.create_app, and returns a message \n",
    "    indicating success or failure for each creation.\n",
    "\n",
    "    Args:\n",
    "        sb_list (List[SmarbitApp]): List of SmartbitApp objects.\n",
    "\n",
    "    Returns:\n",
    "        List[str]: Messages for each app creation attempt.\n",
    "    \"\"\"\n",
    "    returned_messages = []\n",
    "    for sb in sb_list:\n",
    "        sb_type = sb.smartbit_type\n",
    "        state = json.loads(sb.state.model_dump_json())\n",
    "        data = json.loads(sb.data.model_dump_json())\n",
    "    \n",
    "        response = ps3.create_app(room_id, board_id, sb_type, state, data)\n",
    "        if response and type(response.json()) is dict and response.json().get('success', None):\n",
    "            returned_messages.append(f\"App of type {sb_type} with  state:{state} created successfully\")\n",
    "        else:\n",
    "            # TODO:fix in ps3.create_app \n",
    "            returned_messages.append(f\"Couldn not create app of type {sb_type} with state:{state}. Error: {response.json()['error']}\")\n",
    "    return returned_messages\n",
    "\n"
   ]
  },
  {
   "cell_type": "code",
   "execution_count": null,
   "id": "a3bc05d2",
   "metadata": {},
   "outputs": [],
   "source": [
    "result = await create_delete_app_agent.run(\"create Two stickies, with popular pizza sauce names\")"
   ]
  },
  {
   "cell_type": "code",
   "execution_count": null,
   "id": "d7c82fec-5fae-4b52-befa-b47e867914a3",
   "metadata": {},
   "outputs": [],
   "source": [
    "users= ps3.s3_comm.get_users()\n",
    "users"
   ]
  },
  {
   "cell_type": "code",
   "execution_count": null,
   "id": "0c68c5f8",
   "metadata": {},
   "outputs": [],
   "source": [
    "# sage_smarbits_description =  \"\"\"The SAGE3 operating system lets users interact with applications (called \"smartbits\") through a display wall or board.\"\"\"\n",
    "\n",
    "# prompt_select_apps = f\"\"\"\n",
    "# {sage_smarbits_description} As an AI assistant, your role is to help users find the exact application(s) they need by intepreting their natural language requests and returning only the app_ids that precisely match their requirements.\n",
    "\n",
    "# When users describe what they're looking for, you need to ensure each suggested application id retured meets their specific criteria.\n",
    "\n",
    "# You can use any of the aviable tools to interact with the wall, include to list currently available apps.\n",
    "\n",
    "# Some selection operations may require multiple steps, so you need to think step by step. \n",
    "\n",
    "# If none of the apps matches the exact requirements specified in the user query, then return an empty list.\n",
    "# \"\"\""
   ]
  },
  {
   "cell_type": "code",
   "execution_count": 3,
   "id": "a38b5e54",
   "metadata": {},
   "outputs": [
    {
     "ename": "NameError",
     "evalue": "name 'Agent' is not defined",
     "output_type": "error",
     "traceback": [
      "\u001b[0;31m---------------------------------------------------------------------------\u001b[0m",
      "\u001b[0;31mNameError\u001b[0m                                 Traceback (most recent call last)",
      "Cell \u001b[0;32mIn[3], line 7\u001b[0m\n\u001b[1;32m      1\u001b[0m prompt_select_apps \u001b[38;5;241m=\u001b[39m \u001b[38;5;124m\"\"\"\u001b[39m\u001b[38;5;124mYou are an AI assistant for the SAGE3 operating system. \u001b[39m\n\u001b[1;32m      2\u001b[0m \u001b[38;5;124mThe SAGE3 operating system lets users interact with applications (called \u001b[39m\u001b[38;5;124m\"\u001b[39m\u001b[38;5;124msmartbits\u001b[39m\u001b[38;5;124m\"\u001b[39m\u001b[38;5;124m) through a display wall or board. Your task is to interpret natural language requests and return only the app_ids of applications that exactly meet the specified criteria. Use all available tools, including those for listing current apps, and approach complex selections step by step. If no app precisely matches the request, return an empty list.\u001b[39m\n\u001b[1;32m      3\u001b[0m \n\u001b[1;32m      4\u001b[0m \u001b[38;5;124m\"\"\"\u001b[39m\n\u001b[0;32m----> 7\u001b[0m select_app_agent \u001b[38;5;241m=\u001b[39m \u001b[43mAgent\u001b[49m(  \n\u001b[1;32m      8\u001b[0m     \u001b[38;5;124m\"\u001b[39m\u001b[38;5;124mopenai:gpt-4o\u001b[39m\u001b[38;5;124m\"\u001b[39m,\n\u001b[1;32m      9\u001b[0m     result_type\u001b[38;5;241m=\u001b[39mList[AppId],    \n\u001b[1;32m     10\u001b[0m     system_prompt\u001b[38;5;241m=\u001b[39mprompt_select_apps,\n\u001b[1;32m     11\u001b[0m      model_settings\u001b[38;5;241m=\u001b[39m{\u001b[38;5;124m'\u001b[39m\u001b[38;5;124mtemperature\u001b[39m\u001b[38;5;124m'\u001b[39m: \u001b[38;5;241m0.6\u001b[39m}    \n\u001b[1;32m     12\u001b[0m )\n\u001b[1;32m     14\u001b[0m \u001b[38;5;129m@select_app_agent\u001b[39m\u001b[38;5;241m.\u001b[39mtool_plain\n\u001b[1;32m     15\u001b[0m \u001b[38;5;28;01mdef\u001b[39;00m \u001b[38;5;21mget_apps_for_context\u001b[39m() \u001b[38;5;241m-\u001b[39m\u001b[38;5;241m>\u001b[39m Dict:\n\u001b[1;32m     16\u001b[0m \u001b[38;5;250m    \u001b[39m\u001b[38;5;124;03m\"\"\"\u001b[39;00m\n\u001b[1;32m     17\u001b[0m \u001b[38;5;124;03m    Get sanitized details for Smartbit applications on the SAGE3 wall.\u001b[39;00m\n\u001b[1;32m     18\u001b[0m \n\u001b[0;32m   (...)\u001b[0m\n\u001b[1;32m     23\u001b[0m \u001b[38;5;124;03m        Dict: A mapping of app IDs to their sanitized details.\u001b[39;00m\n\u001b[1;32m     24\u001b[0m \u001b[38;5;124;03m    \"\"\"\u001b[39;00m\n",
      "\u001b[0;31mNameError\u001b[0m: name 'Agent' is not defined"
     ]
    }
   ],
   "source": [
    "prompt_select_apps = \"\"\"You are an AI assistant for the SAGE3 operating system. \n",
    "The SAGE3 operating system lets users interact with applications (called \"smartbits\") through a display wall or board. \n",
    "Your task is to interpret natural language requests and return only the app_ids of applications that exactly meet the specified criteria. \n",
    "\n",
    "Use all available tools, including those for listing currently available apps.\n",
    "Some complex selection operations may require multiple steps. So you need break down the operations into step by step process.\n",
    "If no app precisely matches the request, return an empty list.\n",
    "\"\"\"\n",
    "\n",
    "\n",
    "select_app_agent = Agent(  \n",
    "    \"openai:gpt-4o\",\n",
    "    result_type=List[AppId],    \n",
    "    system_prompt=prompt_select_apps,\n",
    "     model_settings={'temperature': 0.6}    \n",
    ")\n",
    "\n",
    "@select_app_agent.tool_plain\n",
    "def get_apps_for_context() -> Dict:\n",
    "    \"\"\"\n",
    "    Get sanitized details for Smartbit applications on the SAGE3 wall.\n",
    "\n",
    "    Fetches raw app data from PySage3, removes internal fields (e.g., _id, _updatedBy, rotation),\n",
    "    formats selected fields (e.g., creation timestamp, creator name), and omits apps with unrecognized types.\n",
    "\n",
    "    Returns:\n",
    "        Dict: A mapping of app IDs to their sanitized details.\n",
    "    \"\"\"\n",
    "    \n",
    "    users= ps3.s3_comm.get_users()\n",
    "    apps = ps3.get_apps(room_id, board_id)\n",
    "    new_fromatted_apps = {}\n",
    "    for k, v in apps.items():\n",
    "        try:\n",
    "            SmarbitType(v['data']['type'])\n",
    "            del v['_id']\n",
    "            del v['_updatedBy']\n",
    "            del v['_updatedAt']\n",
    "            del v['data'][\"rotation\"]\n",
    "            del v['data'][\"raised\"]\n",
    "            del v['data'][\"pinned\"]\n",
    "            del v['data'][\"dragging\"]\n",
    "\n",
    "            if \"sources\" in v['data']['state']:\n",
    "                del v['data']['state'][\"sources\"]\n",
    "\n",
    "            if \"lock\" in v['data']['state']:\n",
    "                del v['data']['state'][\"lock\"]\n",
    "            \n",
    "            if \"executeInfo\"  in v['data']['state']:\n",
    "                del v['data']['state'][\"executeInfo\"]        \n",
    "        \n",
    "            user = users.get(v['_createdBy'], (\"Unknown\", ))\n",
    "            v['_createdBy'] = user[0]        \n",
    "            v['_createdAt'] = time.strftime(\"%Y-%m-%d %H:%M:%S\", time.localtime(v['_createdAt']// 1000))                \n",
    "            new_fromatted_apps[k] = v\n",
    "        except Exception as e:\n",
    "            print(f\"Ommitted {v['data']['type']}\")\n",
    "        \n",
    "    return new_fromatted_apps\n",
    "\n",
    "\n"
   ]
  },
  {
   "cell_type": "code",
   "execution_count": null,
   "id": "763ac79b-fd52-4fc1-9e90-5fdd90f6cb04",
   "metadata": {},
   "outputs": [],
   "source": [
    "get_apps_for_context()"
   ]
  },
  {
   "cell_type": "code",
   "execution_count": null,
   "id": "f87b3b8c",
   "metadata": {},
   "outputs": [],
   "source": [
    "results = await select_app_agent.run(\"What stickies are relevant to Moroccan food\")\n",
    "results.data"
   ]
  },
  {
   "cell_type": "code",
   "execution_count": null,
   "id": "49aba987-f259-461b-abc0-94163f17c6e6",
   "metadata": {},
   "outputs": [],
   "source": [
    "b.smartbits[UUID('2a8cbd8e-9905-435f-ac78-8aa0d876093d')]"
   ]
  },
  {
   "cell_type": "code",
   "execution_count": null,
   "id": "f1ded1f6",
   "metadata": {},
   "outputs": [],
   "source": [
    "results = await select_app_agent.run(\"Which apps were created by Mahdi\")\n",
    "results.data"
   ]
  },
  {
   "cell_type": "code",
   "execution_count": null,
   "id": "355636dc-4ce8-4d67-b93a-c3a91a0ebc46",
   "metadata": {},
   "outputs": [],
   "source": []
  },
  {
   "cell_type": "code",
   "execution_count": null,
   "id": "d5c3f503",
   "metadata": {},
   "outputs": [],
   "source": [
    "type(ps3.get_apps(room_id, board_id))"
   ]
  },
  {
   "cell_type": "code",
   "execution_count": null,
   "id": "4732d941-35e6-4341-a97b-a352372ef2ee",
   "metadata": {},
   "outputs": [],
   "source": [
    "get_app_details([UUID('00592a68-2700-4b69-abb4-340f631fa295'), UUID('e907cca5-e928-441f-8dc6-1343d27e3a44')])"
   ]
  },
  {
   "cell_type": "code",
   "execution_count": null,
   "id": "68d62ce5-2c32-4176-b09b-44ad5e66080a",
   "metadata": {},
   "outputs": [],
   "source": [
    "AppId(app_id = UUID('00592a68-2700-4b69-abb4-340f631fa295'))  == AppId(app_id = UUID('00592a68-2700-4b69-abb4-340f631fa295'))"
   ]
  },
  {
   "cell_type": "code",
   "execution_count": null,
   "id": "7bc52741-8bcb-43b3-b6a6-175d81c5dec6",
   "metadata": {},
   "outputs": [],
   "source": [
    "#results  = await select_app_agent.run(\"What stickies are PURPLE\")\n",
    "results.data"
   ]
  },
  {
   "cell_type": "code",
   "execution_count": null,
   "id": "d4a010ed-ad5c-4298-b3f1-fd59a5ca238d",
   "metadata": {},
   "outputs": [],
   "source": [
    "a = []\n",
    "type(a) is list"
   ]
  },
  {
   "cell_type": "code",
   "execution_count": null,
   "id": "3fecaaa7",
   "metadata": {},
   "outputs": [],
   "source": [
    "# # Assuming sage_smarbits_description is defined somewhere\n",
    "# destructive_operations_prompt = f\"\"\"\n",
    "# {sage_smarbits_description}.  \n",
    "\n",
    "# When deleting or moving SAGE3 wall applications (smartbits), first display their app_ids and identifying details. Only proceed after receiving explicit user confirmation. If confirmation is not given, cancel the operation and notify the user that no changes will occur. Use available wall interaction tools to retrieve application details as needed.\n",
    "# If user cancels, be VERY brief and concise and do NOT offer to help the user with something else after.\n",
    "# Use select_apps_to_delete to rreturn the list of AppId to remve\n",
    "# You can use get_app_details to get the details of an app, which you need to show the user for confirmation\n",
    "\n",
    "# Use delete_apps to delete the app once use has confirmed  deletion\n",
    "\n",
    "# \"\"\""
   ]
  },
  {
   "cell_type": "code",
   "execution_count": 17,
   "id": "9f133817",
   "metadata": {},
   "outputs": [],
   "source": [
    "destructive_operations_prompt = \"\"\"You are an AI assistant for the SAGE3 operating system. \n",
    "The SAGE3 operating system lets users interact with applications (called \"smartbits\") through a display wall or board. \n",
    "When the user requests to delete or move applications (smartbits) using natural language requests, use the following 4 sequential steps to ensure a smooth process:\n",
    "step 1: Use the select_apps_to_delete tool to return the list of app_ids carefully selected for removal and get_app_details tool get their details.\n",
    "step 2: Display the selected app_ids and their details to the user and ask for confirmation.\n",
    "step 3: Wait for explicit user approval before proceeding with any deletion or movement.\n",
    "step 4: If the user confirms, proceed with the operation using the delete_apps tool. Otherwise, notify the user briefly that no changes will occur.\n",
    "\"\"\"\n",
    "\n",
    "destructive_operations_agent = Agent(  \n",
    "    \"claude-3-5-haiku-latest\",\n",
    "    result_type=str,    \n",
    "    system_prompt=destructive_operations_prompt,\n",
    "    model_settings={'temperature': 0.5}    \n",
    ")\n",
    "\n",
    "@destructive_operations_agent.tool_plain\n",
    "async def select_apps_to_delete(query_filter: str) -> List[AppId]:\n",
    "    \"\"\"\n",
    "    Select Smartbit apps for deletion using the provided filter.\n",
    "\n",
    "    Queries the SAGE3 wall for apps matching the filter and returns their AppId objects.\n",
    "    Returns None if the result format is unexpected.\n",
    "\n",
    "    Parameters:\n",
    "        query_filter (str): Filter condition for selecting apps.\n",
    "\n",
    "    Returns:\n",
    "        List[AppId] or None: IDs of the selected apps, or None on error.\n",
    "    \"\"\"\n",
    "    print(f\"query_filter is {query_filter}\")\n",
    "    result = await select_app_agent.run(query_filter)\n",
    "    if result and type(result.data) is not list:\n",
    "        print(f\"Error executing query to select apps to delete {result.data}\")\n",
    "        return None\n",
    "    elif len(result.data) > 0 and type(result.data[0]) is not AppId:\n",
    "        print(f\"Error returning the select app as an AppId\")\n",
    "        return None\n",
    "    return result.data\n",
    "        \n",
    "@destructive_operations_agent.tool_plain\n",
    "def get_app_details(app_ids: List[AppId]) -> Dict:\n",
    "    \"\"\"\n",
    "    Retrieve details for the specified Smartbit apps.\n",
    "\n",
    "    Returns a dictionary mapping app IDs (as strings) to their details.\n",
    "\n",
    "    Parameters:\n",
    "        app_ids (List[AppId]): List of app IDs.\n",
    "\n",
    "    Returns:\n",
    "        Dict: Mapping of app IDs to their details.\n",
    "    \"\"\"\n",
    "    print(f\"get_app_details called with {app_ids}\")\n",
    "    all__apps = ps3.get_apps(room_id, board_id)\n",
    "    return   {k:v for k,v in ps3.get_apps(room_id, board_id).items() if AppId(app_id = UUID(k)) in app_ids}\n",
    "    \n",
    "@destructive_operations_agent.tool_plain\n",
    "def delete_apps(app_ids_to_remove: List[AppId]) -> bool:\n",
    "    \"\"\"\n",
    "    Delete the specified Smartbit apps.\n",
    "\n",
    "    Parameters:\n",
    "        app_ids_to_remove (List[AppId]): IDs of apps to delete.\n",
    "\n",
    "    Returns:\n",
    "        bool: True if all apps were deleted successfully, False otherwise.\n",
    "    \"\"\"\n",
    "    print(f\"removing apps {app_ids_to_remove}\")\n",
    "    return True\n",
    "   \n",
    "    \n"
   ]
  },
  {
   "cell_type": "code",
   "execution_count": null,
   "id": "97b1bed3",
   "metadata": {},
   "outputs": [],
   "source": [
    "# %%capture ouput\n",
    "# result = await destructive_operations_agent.run(\"can you delete apps with ids [UUID('00592a68-2700-4b69-abb4-340f631fa295'), UUID('e907cca5-e928-441f-8dc6-1343d27e3a44')]\")\n",
    "# print(result.data)"
   ]
  },
  {
   "cell_type": "code",
   "execution_count": 24,
   "id": "c4e1530e-b3ff-4008-9868-6c347deb44f0",
   "metadata": {},
   "outputs": [
    {
     "name": "stdout",
     "output_type": "stream",
     "text": [
      "query_filter is type:Sticky color:red\n"
     ]
    },
    {
     "data": {
      "text/plain": [
       "'I found 2 red Stickies:\\n1. A Sticky with text \"Marinara Sauce\"\\n2. A Sticky with text \"Japan\"\\n\\nWould you like me to proceed with deleting these red Stickies? Please confirm (yes/no).'"
      ]
     },
     "execution_count": 24,
     "metadata": {},
     "output_type": "execute_result"
    }
   ],
   "source": [
    "result = await destructive_operations_agent.run(\"delete all red Stickies\")\n",
    "result.data"
   ]
  },
  {
   "cell_type": "code",
   "execution_count": 23,
   "id": "736c709d-5d5f-4e15-94df-ce42a0e091c8",
   "metadata": {},
   "outputs": [],
   "source": [
    "%%capture output\n",
    "result_2 = await destructive_operations_agent.run(\"Yes, please delete them\", message_history=result.new_messages())\n",
    "result_2.data"
   ]
  },
  {
   "cell_type": "code",
   "execution_count": 22,
   "id": "e1c9b828-7eda-46f3-b713-6c8a6bb98e24",
   "metadata": {},
   "outputs": [
    {
     "data": {
      "text/plain": [
       "\"removing apps [AppId(app_id=UUID('2a8cbd8e-9905-435f-ac78-8aa0d876093d')), AppId(app_id=UUID('61e9c037-6c0b-48fe-b47c-9f18140de7b3'))]\\n\""
      ]
     },
     "execution_count": 22,
     "metadata": {},
     "output_type": "execute_result"
    }
   ],
   "source": [
    "output.stdout"
   ]
  }
 ],
 "metadata": {
  "kernelspec": {
   "display_name": "sage",
   "language": "python",
   "name": "python3"
  },
  "language_info": {
   "codemirror_mode": {
    "name": "ipython",
    "version": 3
   },
   "file_extension": ".py",
   "mimetype": "text/x-python",
   "name": "python",
   "nbconvert_exporter": "python",
   "pygments_lexer": "ipython3",
   "version": "3.10.16"
  }
 },
 "nbformat": 4,
 "nbformat_minor": 5
}
