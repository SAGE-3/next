{
 "cells": [
  {
   "cell_type": "code",
   "execution_count": null,
   "id": "933794ed-35fc-4655-bd74-981ef0337b18",
   "metadata": {},
   "outputs": [],
   "source": [
    "# TODO: make sure the ps3 is is in my global memeory.\n",
    "# TODO:  make sure room_id and baord_id are in the global params\n",
    "# TODO: Make sure the viewport is also passed and in the global memory\n",
    "# TODO: Ask Luc why this works when creating a stickie (state = {'col': 'red', 'font': '45', 'tex': 'yo'})\n",
    "# TODO: Tell Luc about no owner when stickies are created programmatically\n",
    "\n"
   ]
  },
  {
   "cell_type": "code",
   "execution_count": 1,
   "id": "515870cd-203a-4463-98ce-cb6b995d7171",
   "metadata": {},
   "outputs": [],
   "source": []
  },
  {
   "cell_type": "code",
   "execution_count": 1,
   "id": "1b77fb7b",
   "metadata": {},
   "outputs": [],
   "source": [
    "import json\n",
    "from uuid import UUID\n",
    "import nest_asyncio\n",
    "nest_asyncio.apply()"
   ]
  },
  {
   "cell_type": "code",
   "execution_count": 2,
   "id": "a4bcf986",
   "metadata": {},
   "outputs": [
    {
     "data": {
      "text/plain": [
       "('d86898ab-b3d3-4eee-94c5-95308e2ab6b3',\n",
       " '80293a9e-ccbc-4ab1-9a06-1392db7fcc42')"
      ]
     },
     "execution_count": 2,
     "metadata": {},
     "output_type": "execute_result"
    }
   ],
   "source": [
    "room_id, board_id = \"d86898ab-b3d3-4eee-94c5-95308e2ab6b3/80293a9e-ccbc-4ab1-9a06-1392db7fcc42\".split(\"/\")\n",
    "room_id, board_id"
   ]
  },
  {
   "cell_type": "code",
   "execution_count": 3,
   "id": "325f480f",
   "metadata": {},
   "outputs": [
    {
     "name": "stdout",
     "output_type": "stream",
     "text": [
      "/Users/akib/Codes/next/foresight\n"
     ]
    },
    {
     "name": "stderr",
     "output_type": "stream",
     "text": [
      "/Users/akib/miniconda3/envs/sage/lib/python3.10/site-packages/IPython/core/magics/osm.py:417: UserWarning: This is now an optional IPython functionality, setting dhist requires you to install the `pickleshare` library.\n",
      "  self.shell.db['dhist'] = compress_dhist(dhist)[-100:]\n"
     ]
    }
   ],
   "source": [
    "cd ../\n"
   ]
  },
  {
   "cell_type": "code",
   "execution_count": null,
   "id": "8f929337-9f91-4e1d-939c-58ced43c8bf9",
   "metadata": {},
   "outputs": [
    {
     "name": "stdout",
     "output_type": "stream",
     "text": [
      "Configuring ps3 client ... \n",
      "Completed configuring Sage3 Client\n"
     ]
    }
   ],
   "source": [
    "from foresight.config import config as conf, prod_type\n",
    "\n",
    "from foresight.Sage3Sugar.pysage3 import PySage3\n",
    "\n",
    "\n",
    "ps3 = PySage3(conf, prod_type)\n",
    "b = ps3.rooms[room_id].boards[board_id]\n",
    "sb = list(b.smartbits)"
   ]
  },
  {
   "cell_type": "code",
   "execution_count": 5,
   "id": "f7d8d686",
   "metadata": {},
   "outputs": [
    {
     "data": {
      "text/plain": [
       "[(UUID('747d452e-fb02-46ed-b9a6-61a50eef9006'),\n",
       "  Stickie(path='', touched=set(), app_id=UUID('747d452e-fb02-46ed-b9a6-61a50eef9006'), data=Data(path='.data', touched=set(), position=Position(path='.data.position', touched=set(), x=1500627.0284814076, y=1500133.83040003, z=0.0), size=Size(path='.data.size', touched=set(), width=500.0, height=300.0, depth=0.0), rotation=Rotation(path='.data.rotation', touched=set(), x=0.0, y=0.0, z=0.0), raised=False, type='Stickie'), tags=[], state=StickieState(path='.state', touched=set(), text='Cons of Data Science:\\n1. Requires continuous learning\\n2. Can be stressful with tight deadlines\\n3. Complex technical skills needed\\n4. Potential for data privacy concerns\\n5. Risk of bias in algorithms', color='red', fontSize=36, lock=False))),\n",
       " (UUID('5e578a95-1894-4817-acdf-9fd82ea111d3'),\n",
       "  Stickie(path='', touched=set(), app_id=UUID('5e578a95-1894-4817-acdf-9fd82ea111d3'), data=Data(path='.data', touched=set(), position=Position(path='.data.position', touched=set(), x=1501538.8429441964, y=1500578.667036402, z=0.0), size=Size(path='.data.size', touched=set(), width=200.0, height=200.0, depth=0.0), rotation=Rotation(path='.data.rotation', touched=set(), x=0.0, y=0.0, z=0.0), raised=False, type='Stickie'), tags=[], state=StickieState(path='.state', touched=set(), text='Dinner: Baked salmon with roasted vegetables', color='yellow', fontSize=36, lock=False))),\n",
       " (UUID('281a1b76-9a70-4297-bb0e-1c5e2bc18b88'),\n",
       "  Stickie(path='', touched=set(), app_id=UUID('281a1b76-9a70-4297-bb0e-1c5e2bc18b88'), data=Data(path='.data', touched=set(), position=Position(path='.data.position', touched=set(), x=1500627.0284814057, y=1500451.8584025025, z=0.0), size=Size(path='.data.size', touched=set(), width=500.0, height=300.0, depth=0.0), rotation=Rotation(path='.data.rotation', touched=set(), x=0.0, y=0.0, z=0.0), raised=False, type='Stickie'), tags=[], state=StickieState(path='.state', touched=set(), text='Cons of AI:\\n1. Job displacement\\n2. Ethical concerns\\n3. Potential bias in algorithms\\n4. Privacy risks\\n5. Lack of human empathy', color='red', fontSize=36, lock=False))),\n",
       " (UUID('e2d71802-55a8-40f7-9f8c-d4d2d2ad6a5a'),\n",
       "  Stickie(path='', touched=set(), app_id=UUID('e2d71802-55a8-40f7-9f8c-d4d2d2ad6a5a'), data=Data(path='.data', touched=set(), position=Position(path='.data.position', touched=set(), x=1502009.8464415316, y=1500574.6413654848, z=0.0), size=Size(path='.data.size', touched=set(), width=200.0, height=200.0, depth=0.0), rotation=Rotation(path='.data.rotation', touched=set(), x=0.0, y=0.0, z=0.0), raised=True, type='Stickie'), tags=[], state=StickieState(path='.state', touched=set(), text='Breakfast: Overnight oats with berries and honey', color='yellow', fontSize=36, lock=False))),\n",
       " (UUID('56fee3e1-1ad5-4347-892c-6990c6f287c3'),\n",
       "  Stickie(path='', touched=set(), app_id=UUID('56fee3e1-1ad5-4347-892c-6990c6f287c3'), data=Data(path='.data', touched=set(), position=Position(path='.data.position', touched=set(), x=1501754.216338277, y=1500570.6156945666, z=0.0), size=Size(path='.data.size', touched=set(), width=200.0, height=200.0, depth=0.0), rotation=Rotation(path='.data.rotation', touched=set(), x=0.0, y=0.0, z=0.0), raised=False, type='Stickie'), tags=[], state=StickieState(path='.state', touched=set(), text='Lunch: Grilled chicken salad with mixed greens', color='yellow', fontSize=36, lock=False))),\n",
       " (UUID('551fbf5c-db29-4ccd-9de2-b08f1c0bd898'),\n",
       "  Stickie(path='', touched=set(), app_id=UUID('551fbf5c-db29-4ccd-9de2-b08f1c0bd898'), data=Data(path='.data', touched=set(), position=Position(path='.data.position', touched=set(), x=1502025.9491252, y=1499920.4698414078, z=0.0), size=Size(path='.data.size', touched=set(), width=300.0, height=500.0, depth=0.0), rotation=Rotation(path='.data.rotation', touched=set(), x=0.0, y=0.0, z=0.0), raised=False, type='Stickie'), tags=[], state=StickieState(path='.state', touched=set(), text='Pros of AI:\\n1. Increased efficiency\\n2. Advanced problem-solving\\n3. 24/7 availability\\n4. Data processing at scale\\n5. Potential for medical breakthroughs', color='green', fontSize=36, lock=False))),\n",
       " (UUID('063782be-7346-496d-b3cc-3d69c433f644'),\n",
       "  Stickie(path='', touched=set(), app_id=UUID('063782be-7346-496d-b3cc-3d69c433f644'), data=Data(path='.data', touched=set(), position=Position(path='.data.position', touched=set(), x=1501701.882616351, y=1499920.4698414083, z=0.0), size=Size(path='.data.size', touched=set(), width=300.0, height=500.0, depth=0.0), rotation=Rotation(path='.data.rotation', touched=set(), x=0.0, y=0.0, z=0.0), raised=False, type='Stickie'), tags=[], state=StickieState(path='.state', touched=set(), text='Pros of Data Science:\\n1. High demand in job market\\n2. Competitive salaries\\n3. Opportunity to solve complex problems\\n4. Drives innovation across industries\\n5. Enables data-driven decision making', color='green', fontSize=36, lock=False)))]"
      ]
     },
     "execution_count": 5,
     "metadata": {},
     "output_type": "execute_result"
    }
   ],
   "source": [
    "sb"
   ]
  },
  {
   "cell_type": "code",
   "execution_count": 6,
   "id": "1d9eb931",
   "metadata": {},
   "outputs": [],
   "source": [
    "# ps3.s3_comm.get_users()"
   ]
  },
  {
   "cell_type": "code",
   "execution_count": 7,
   "id": "074dda14-4e1c-47f4-b56b-1998f6e36823",
   "metadata": {},
   "outputs": [],
   "source": [
    "# sb = b.smartbits[UUID('58c42c91-2a70-426d-a43f-0285901358b7')]\n",
    "# sb.state.text = \"Hi There\"\n",
    "# sb.send_updates()"
   ]
  },
  {
   "cell_type": "code",
   "execution_count": 10,
   "id": "b8111f3f",
   "metadata": {},
   "outputs": [],
   "source": [
    "# ps3.get_smartbits_by_type(\"stickie\", room_id, board_id)"
   ]
  },
  {
   "cell_type": "code",
   "execution_count": 11,
   "id": "92142719",
   "metadata": {},
   "outputs": [],
   "source": [
    "# ### Creating Stuff\n",
    "\n",
    "# state = {\"text\": \"Python said Yolo\", 'color': 'orange', 'fontSize': '45'}\n",
    "# data = {'size': {'width': 400, 'height': 200, 'depth': 0}, 'position': {'x':1501140.0, \"y\":1500150.0+100, 'z':0.0}}\n",
    "# response = ps3.create_app(room_id, board_id, 'Stickie', state, data)\n"
   ]
  },
  {
   "cell_type": "code",
   "execution_count": 12,
   "id": "73783d48-2ab2-4d36-a195-72c44aa1f0e4",
   "metadata": {},
   "outputs": [],
   "source": [
    "# ps3.get_smartbits_by_type(\"stickie\", room_id, board_id)"
   ]
  },
  {
   "cell_type": "code",
   "execution_count": 13,
   "id": "b9d7f663",
   "metadata": {},
   "outputs": [],
   "source": [
    "# state = {\"webviewurl\": \"https://sage-3.github.io/\"}\n",
    "# data = {'size': {'width': 500, 'height': 500, 'depth': 0}, 'position': {'x':1501618.0491539645, 'y':1500355.010865956, 'z':0.0}}\n",
    "# res = ps3.create_app(room_id, board_id, 'Webview', state, data)\n",
    "# res"
   ]
  },
  {
   "cell_type": "markdown",
   "id": "7e7a87d8",
   "metadata": {},
   "source": [
    "# Pydantic AI"
   ]
  },
  {
   "cell_type": "code",
   "execution_count": 5,
   "id": "b423eb5f",
   "metadata": {},
   "outputs": [],
   "source": [
    "from pydantic import BaseModel, Field, HttpUrl\n",
    "from pydantic_ai import Agent, RunContext\n",
    "from typing import Literal, List, Union, Dict\n",
    "from enum import Enum\n",
    "import time"
   ]
  },
  {
   "cell_type": "code",
   "execution_count": 6,
   "id": "a58df61a",
   "metadata": {},
   "outputs": [],
   "source": [
    "class StickieColor(str, Enum):\n",
    "    \"\"\"\n",
    "    Enumeration of predefined stickie colors.\n",
    "    \"\"\"\n",
    "    RED = \"red\"\n",
    "    GREEN = \"green\"\n",
    "    BLUE = \"blue\"\n",
    "    YELLOW = \"yellow\"\n",
    "\n",
    "class StickieState(BaseModel):\n",
    "    \"\"\"\n",
    "    Model representing the state of a stickie note that encapsulates the content and appearance details of a stickie note.\n",
    "    \"\"\"\n",
    "    text: str = Field(..., description=\"The text that stick contains\")\n",
    "    color: StickieColor = Field(default=StickieColor.YELLOW, description=\"The color of the stickie to create\")\n",
    "    fontsize: str = Field(..., description=\"str representation of text size. Use 45 if not provided\")\n",
    "\n",
    "\n",
    "class Position(BaseModel):\n",
    "    \"\"\"\n",
    "    Model representing the position of a Smartbit application on the board.\n",
    "    \"\"\"\n",
    "\n",
    "    x: float = Field(..., description=\"The x position of the app\")\n",
    "    y: float = Field(..., description=\"The y position of the app\")\n",
    "    z: float = Field(default=0.0, description=\"The z position of the app\")\n",
    "\n",
    "\n",
    "class Size(BaseModel):\n",
    "    \"\"\"\n",
    "    Model representing the dimensions of a Smartbit application.\n",
    "    \"\"\"\n",
    "\n",
    "    width: float = Field(default=200, description=\"The width of the app\")\n",
    "    height: float = Field(default=200, description=\"The height of the app\")\n",
    "    depth: float = Field(default=0, description=\"The depth of the app\")        \n",
    "        \n",
    "class Data(BaseModel):\n",
    "    \"\"\"\n",
    "    Model encapsulating additional Smartbit application data including size and position.\n",
    "\n",
    "    Attributes:\n",
    "        size (Size): The dimensions of the application.\n",
    "        position (Position): The position of the application on the board.\n",
    "    \"\"\"\n",
    "    size: Size\n",
    "    position: Position    \n",
    "        \n",
    "\n",
    "class SmarbitType(str, Enum):\n",
    "    \"\"\"\n",
    "    Enumeration of available Smartbit application types in SAGE3.\n",
    "    \"\"\"\n",
    "    STICKIE = \"Stickie\"\n",
    "    # WEBVIEW = \"Webview\" \n",
    "        \n",
    "class SmarbitApp(BaseModel):\n",
    "    \"\"\"\n",
    "    Model defining a Smartbit application.\n",
    "    This model represents a software Smartbit application that resides on a specialized desktop interface - Sage3 wall.\n",
    "\n",
    "    Attributes:\n",
    "        smartbit_type (SmarbitType): The type of smartbit application.\n",
    "        state (Union[StickieState]): The state of the application. Typically, a StickieState.\n",
    "        data (Data): Additional data for the application, including its size and position.\n",
    "    \"\"\"\n",
    "\n",
    "    smartbit_type: SmarbitType\n",
    "    state: Union[StickieState]\n",
    "    data: Data\n",
    "\n",
    "\n",
    "\n",
    "class AppId(BaseModel):\n",
    "    \"\"\"\n",
    "    Model representing the unique identifier for a Smartbit application.\n",
    "    \"\"\"\n",
    "    app_id: UUID\n",
    "    \n",
    "\n",
    "# class WebViewState(BaseModel):\n",
    "#     \"\"\"The data that is required to create a webview, this is what is used ot open\n",
    "#     webview, browser or  a webpage\"\"\"\n",
    "#     webviewurl: HttpUrl = Field(default=\"https://google.com\")\n",
    "\n",
    "# class WallAIMessage(BaseModel):\n",
    "#     \"The message for the AI regarding a query\"\n",
    "#     message: str\n",
    "\n",
    "        \n",
    "# class WallAIMessage(BaseModel):\n",
    "#     reponse: Union[WallAIMessage, SmarbitApp]                "
   ]
  },
  {
   "cell_type": "code",
   "execution_count": 7,
   "id": "03ba88e1",
   "metadata": {},
   "outputs": [],
   "source": [
    "import os\n",
    "from getpass import getpass\n",
    "\n",
    "if \"ANTHROPIC_API_KEY\" not in os.environ:\n",
    "    os.environ[\"ANTHROPIC_API_KEY\"] = getpass(\"Enter your Anthropic API key: \")\n",
    "# if \"OPENAI_API_KEY\" not in os.environ:\n",
    "#     os.environ[\"OPENAI_API_KEY\"] = getpass(\"Enter your openAI API key: \")\n",
    "\n"
   ]
  },
  {
   "cell_type": "code",
   "execution_count": null,
   "id": "861440d0",
   "metadata": {},
   "outputs": [],
   "source": [
    "# sage_smarbits_description = \"\"\"You are an AI assistant that open application (we sometime also refer to them as \"smartbits\" or apps) for the SAGE3 operating system. Users interact with SAGE3 through a display wall or board; this is similar to a desktop for an OS.\"\"\"\n",
    "\n",
    "# prompt_create_app = f\"\"\"{sage_smarbits_description}\n",
    "# Your job is to listen to users' natural language requests and translate them into the precise JSON parameters needed to \n",
    "# create (may refer to it as opne) or remove(may refer to it as delete or close) apps  on the SAGE3 wall. \n",
    "# When users describe what they want to create, you'll convert their request into the proper technical format that SAGE3 requires to call the app. \n",
    "# You understand all SAGE3 smartbit capabilities and will recommend the best app type for each user's needs.\n",
    "\n",
    "# To find a suitable location to create an app, please use the get_available_space function.\n",
    "# To create an app, use create_apps function, passing it the list of apps that need ot be created. \n",
    "\n",
    "\n",
    "# \"\"\""
   ]
  },
  {
   "cell_type": "markdown",
   "id": "e952a8b0",
   "metadata": {},
   "source": [
    "# Create (Open) App"
   ]
  },
  {
   "cell_type": "code",
   "execution_count": 10,
   "id": "9a2fab7c",
   "metadata": {},
   "outputs": [],
   "source": [
    "prompt_create_app = \"\"\"You are an AI assistant for the SAGE3 operating system, responsible for opening (or creating) and closing (or removing) integrated applications (also called \"smartbits\") in the Sage3 operating system.\n",
    "Users interact with SAGE3 through a display wall or board; this is similar to a desktop for an OS. \n",
    "Listen to users' natural language requests and translate them into precise JSON parameters for opening (or creating) or closing (or removing) apps.\n",
    "When a user describes an app to be created, convert their request into the technical format required by SAGE3 and recommend the best app type based on the user's needs. \n",
    "\n",
    "Use the get_available_space function to determine a suitable location for the app.\n",
    "Use the create_apps function to create the app by passing a list of apps.\n",
    "\"\"\"\n",
    "\n",
    "create_app_agent = Agent(  \n",
    "    \"claude-3-5-haiku-latest\",\n",
    "    result_type=SmarbitApp,    \n",
    "    system_prompt=prompt_create_app,\n",
    "     model_settings={'temperature': 0.0}    \n",
    ")\n",
    "@create_app_agent.tool_plain \n",
    "def get_available_space(nb_apps: int) -> Position:\n",
    "    \"\"\"\n",
    "    Return positions for placing Smartbit apps on the board.\n",
    "\n",
    "    Generates a list of Position objects to be used in a Smartbit app's data.\n",
    "\n",
    "    Args:\n",
    "        nb_apps (int): Number of positions required.\n",
    "\n",
    "    Returns:\n",
    "        List[Position]: A list of position objects.\n",
    "    \"\"\"\n",
    "    \n",
    "    return [Position(**{'x': 1501973.615403275, 'y': 1500349.2037941106, 'z': 0})] * nb_apps\n",
    "\n",
    "\n",
    "@create_app_agent.tool_plain \n",
    "def create_apps(sb_list: List[SmarbitApp]) -> str:\n",
    "    \"\"\"\n",
    "    Create Smartbit apps from the provided initialization data.\n",
    "\n",
    "    Iterates over each SmarbitApp object, creates an app via ps3.create_app, and returns a message \n",
    "    indicating success or failure for each creation.\n",
    "\n",
    "    Args:\n",
    "        sb_list (List[SmarbitApp]): List of SmartbitApp objects.\n",
    "\n",
    "    Returns:\n",
    "        List[str]: Messages for each app creation attempt.\n",
    "    \"\"\"\n",
    "    returned_messages = []\n",
    "    for sb in sb_list:\n",
    "        sb_type = sb.smartbit_type\n",
    "        state = json.loads(sb.state.model_dump_json())\n",
    "        data = json.loads(sb.data.model_dump_json())\n",
    "    \n",
    "        response = ps3.create_app(room_id, board_id, sb_type, state, data)\n",
    "        if response and type(response.json()) is dict and response.json().get('success', None):\n",
    "            returned_messages.append(f\"App of type {sb_type} with  state:{state} created successfully\")\n",
    "        else:\n",
    "            # TODO:fix in ps3.create_app \n",
    "            returned_messages.append(f\"Couldn not create app of type {sb_type} with state:{state}. Error: {response.json()['error']}\")\n",
    "    return returned_messages"
   ]
  },
  {
   "cell_type": "code",
   "execution_count": 12,
   "id": "a3bc05d2",
   "metadata": {},
   "outputs": [],
   "source": [
    "result = await create_app_agent.run(\"open 3 yellow square sized stickies with meal ideas for each time of the day.\")"
   ]
  },
  {
   "cell_type": "code",
   "execution_count": null,
   "id": "d7c82fec-5fae-4b52-befa-b47e867914a3",
   "metadata": {},
   "outputs": [],
   "source": [
    "users= ps3.s3_comm.get_users()\n",
    "users"
   ]
  },
  {
   "cell_type": "code",
   "execution_count": null,
   "id": "0c68c5f8",
   "metadata": {},
   "outputs": [],
   "source": [
    "# sage_smarbits_description =  \"\"\"The SAGE3 operating system lets users interact with applications (called \"smartbits\") through a display wall or board.\"\"\"\n",
    "\n",
    "# prompt_select_apps = f\"\"\"\n",
    "# {sage_smarbits_description} As an AI assistant, your role is to help users find the exact application(s) they need by intepreting their natural language requests and returning only the app_ids that precisely match their requirements.\n",
    "\n",
    "# When users describe what they're looking for, you need to ensure each suggested application id retured meets their specific criteria.\n",
    "\n",
    "# You can use any of the aviable tools to interact with the wall, include to list currently available apps.\n",
    "\n",
    "# Some selection operations may require multiple steps, so you need to think step by step. \n",
    "\n",
    "# If none of the apps matches the exact requirements specified in the user query, then return an empty list.\n",
    "# \"\"\""
   ]
  },
  {
   "cell_type": "markdown",
   "id": "296dfe90",
   "metadata": {},
   "source": [
    "# Selection"
   ]
  },
  {
   "cell_type": "code",
   "execution_count": 16,
   "id": "a38b5e54",
   "metadata": {},
   "outputs": [],
   "source": [
    "prompt_select_apps = \"\"\"You are an AI assistant for the SAGE3 operating system. \n",
    "The SAGE3 operating system lets users interact with applications (called \"smartbits\") through a display wall or board. \n",
    "Your task is to interpret natural language requests and return only the app_ids of applications that exactly meet the specified criteria.\n",
    "\n",
    "Use all available tools, including those for listing currently available apps.\n",
    "Some complex selection operations may require multiple steps. So you need break down the operations into step by step process.\n",
    "If no app precisely matches the request, return an empty list.\n",
    "\"\"\"\n",
    "\n",
    "\n",
    "select_app_agent = Agent(  \n",
    "    \"claude-3-5-haiku-latest\",\n",
    "    result_type=List[AppId],    \n",
    "    system_prompt=prompt_select_apps,\n",
    "    model_settings={'temperature': 0.0}    \n",
    ")\n",
    "\n",
    "@select_app_agent.tool_plain\n",
    "def get_apps_for_context() -> Dict:\n",
    "    \"\"\"\n",
    "    Get sanitized details for Smartbit applications on the SAGE3 wall.\n",
    "\n",
    "    Fetches raw app data from PySage3, removes internal fields (e.g., _id, _updatedBy, rotation),\n",
    "    formats selected fields (e.g., creation timestamp, creator name), and omits apps with unrecognized types.\n",
    "\n",
    "    Returns:\n",
    "        Dict: A mapping of app IDs to their sanitized details.\n",
    "    \"\"\"\n",
    "    \n",
    "    users= ps3.s3_comm.get_users()\n",
    "    apps = ps3.get_apps(room_id, board_id)\n",
    "    new_fromatted_apps = {}\n",
    "    for k, v in apps.items():\n",
    "        try:\n",
    "            SmarbitType(v['data']['type'])\n",
    "            del v['_id']\n",
    "            del v['_updatedBy']\n",
    "            del v['_updatedAt']\n",
    "            del v['data'][\"rotation\"]\n",
    "            del v['data'][\"raised\"]\n",
    "            del v['data'][\"pinned\"]\n",
    "            del v['data'][\"dragging\"]\n",
    "\n",
    "            if \"sources\" in v['data']['state']:\n",
    "                del v['data']['state'][\"sources\"]\n",
    "\n",
    "            if \"lock\" in v['data']['state']:\n",
    "                del v['data']['state'][\"lock\"]\n",
    "            \n",
    "            if \"executeInfo\"  in v['data']['state']:\n",
    "                del v['data']['state'][\"executeInfo\"]        \n",
    "        \n",
    "            user = users.get(v['_createdBy'], (\"Unknown\", ))\n",
    "            v['_createdBy'] = user[0]        \n",
    "            v['_createdAt'] = time.strftime(\"%Y-%m-%d %H:%M:%S\", time.localtime(v['_createdAt']// 1000))                \n",
    "            new_fromatted_apps[k] = v\n",
    "        except Exception as e:\n",
    "            print(f\"Ommitted {v['data']['type']}\")\n",
    "        \n",
    "    return new_fromatted_apps"
   ]
  },
  {
   "cell_type": "code",
   "execution_count": 17,
   "id": "f87b3b8c",
   "metadata": {},
   "outputs": [
    {
     "data": {
      "text/plain": [
       "[AppId(app_id=UUID('5227a6b5-398e-4fcd-9b4c-287db218e5bc'))]"
      ]
     },
     "execution_count": 17,
     "metadata": {},
     "output_type": "execute_result"
    }
   ],
   "source": [
    "results = await select_app_agent.run(\"Find apps that mention the word \\\"vegetable\\\"\")\n",
    "results.data"
   ]
  },
  {
   "cell_type": "code",
   "execution_count": 17,
   "id": "b158f507",
   "metadata": {},
   "outputs": [
    {
     "data": {
      "text/plain": [
       "UUID('80c8dca0-029c-4feb-a206-b04fe4b8b6eb')"
      ]
     },
     "execution_count": 17,
     "metadata": {},
     "output_type": "execute_result"
    }
   ],
   "source": [
    "results.data[0].app_id"
   ]
  },
  {
   "cell_type": "code",
   "execution_count": 18,
   "id": "49aba987-f259-461b-abc0-94163f17c6e6",
   "metadata": {},
   "outputs": [
    {
     "name": "stdout",
     "output_type": "stream",
     "text": [
      "path='.state' touched=set() text='Dinner: Baked salmon with roasted vegetables' color='yellow' fontSize=36 lock=False \n",
      "\n",
      "\n"
     ]
    }
   ],
   "source": [
    "print(b.smartbits[results.data[0].app_id].state, \"\\n\\n\")"
   ]
  },
  {
   "cell_type": "code",
   "execution_count": 19,
   "id": "f1ded1f6",
   "metadata": {},
   "outputs": [
    {
     "data": {
      "text/plain": [
       "[]"
      ]
     },
     "execution_count": 19,
     "metadata": {},
     "output_type": "execute_result"
    }
   ],
   "source": [
    "results = await select_app_agent.run(\"Which apps were created by Mahdi\")\n",
    "results.data"
   ]
  },
  {
   "cell_type": "code",
   "execution_count": 20,
   "id": "7bc52741-8bcb-43b3-b6a6-175d81c5dec6",
   "metadata": {},
   "outputs": [
    {
     "data": {
      "text/plain": [
       "[]"
      ]
     },
     "execution_count": 20,
     "metadata": {},
     "output_type": "execute_result"
    }
   ],
   "source": [
    "results  = await select_app_agent.run(\"What stickies are PURPLE\")\n",
    "results.data"
   ]
  },
  {
   "cell_type": "code",
   "execution_count": null,
   "id": "3fecaaa7",
   "metadata": {},
   "outputs": [],
   "source": [
    "# # Assuming sage_smarbits_description is defined somewhere\n",
    "# destructive_operations_prompt = f\"\"\"\n",
    "# {sage_smarbits_description}.  \n",
    "\n",
    "# When deleting or moving SAGE3 wall applications (smartbits), first display their app_ids and identifying details. Only proceed after receiving explicit user confirmation. If confirmation is not given, cancel the operation and notify the user that no changes will occur. Use available wall interaction tools to retrieve application details as needed.\n",
    "# If user cancels, be VERY brief and concise and do NOT offer to help the user with something else after.\n",
    "# Use select_apps_to_delete to rreturn the list of AppId to remve\n",
    "# You can use get_app_details to get the details of an app, which you need to show the user for confirmation\n",
    "\n",
    "# Use delete_apps to delete the app once use has confirmed  deletion\n",
    "\n",
    "# \"\"\""
   ]
  },
  {
   "cell_type": "code",
   "execution_count": 21,
   "id": "9f133817",
   "metadata": {},
   "outputs": [],
   "source": [
    "destructive_operations_prompt = \"\"\"You are an AI assistant for the SAGE3 operating system. \n",
    "The SAGE3 operating system lets users interact with applications (called \"smartbits\") through a display wall or board. \n",
    "When the user requests to delete or move applications (smartbits) using natural language requests, use the following 4 sequential steps to ensure a smooth process:\n",
    "\n",
    "Use the select_apps_to_delete tool to return the list of app_ids carefully selected for removal and get_app_details tool get their details.\n",
    "Display the selected app_ids and their details to the user and ask the user for confirmation. If no apps are selected, inform the user with a single concise closing sentence and end the process.\n",
    "Wait for explicit user approval before proceeding with any deletion or movement.\n",
    "If the user confirms, proceed with the operation using the delete_apps tool. Otherwise, notify the user briefly that no changes will occur.\n",
    "\n",
    "All your sentences need to be closing statements. Never offer further assistance to the user.\n",
    "\"\"\"\n",
    "\n",
    "destructive_operations_agent = Agent(  \n",
    "    \"claude-3-5-haiku-latest\",\n",
    "    result_type=str,    \n",
    "    system_prompt=destructive_operations_prompt,\n",
    "    model_settings={'temperature': 0.0}    \n",
    ")\n",
    "\n",
    "@destructive_operations_agent.tool_plain\n",
    "async def select_apps_to_delete(query_filter: str) -> List[AppId]:\n",
    "    \"\"\"\n",
    "    Select Smartbit apps for deletion using the provided filter.\n",
    "\n",
    "    Queries the SAGE3 wall for apps matching the filter and returns their AppId objects.\n",
    "    Returns None if the result format is unexpected.\n",
    "\n",
    "    Parameters:\n",
    "        query_filter (str): Filter condition for selecting apps.\n",
    "\n",
    "    Returns:\n",
    "        List[AppId] or None: IDs of the selected apps, or None on error.\n",
    "    \"\"\"\n",
    "    result = await select_app_agent.run(query_filter)\n",
    "    if result and type(result.data) is not list:\n",
    "        print(f\"Error executing query to select apps to delete {result.data}\")\n",
    "        return None\n",
    "    elif len(result.data) > 0 and type(result.data[0]) is not AppId:\n",
    "        print(f\"Error returning the select app as an AppId\")\n",
    "        return None\n",
    "    return result.data\n",
    "        \n",
    "@destructive_operations_agent.tool_plain\n",
    "def get_app_details(app_ids: List[AppId]) -> Dict:\n",
    "    \"\"\"\n",
    "    Retrieve details for the specified Smartbit apps.\n",
    "\n",
    "    Returns a dictionary mapping app IDs (as strings) to their details.\n",
    "\n",
    "    Parameters:\n",
    "        app_ids (List[AppId]): List of app IDs.\n",
    "\n",
    "    Returns:\n",
    "        Dict: Mapping of app IDs to their details.\n",
    "    \"\"\"\n",
    "    print(f\"get_app_details called with {app_ids}\")\n",
    "    all__apps = ps3.get_apps(room_id, board_id)\n",
    "    return   {k:v for k,v in ps3.get_apps(room_id, board_id).items() if AppId(app_id = UUID(k)) in app_ids}\n",
    "    \n",
    "@destructive_operations_agent.tool_plain\n",
    "def delete_apps(app_ids_to_remove: List[AppId]) -> bool:\n",
    "    \"\"\"\n",
    "    Delete the specified Smartbit apps.\n",
    "\n",
    "    Parameters:\n",
    "        app_ids_to_remove (List[AppId]): IDs of apps to delete.\n",
    "\n",
    "    Returns:\n",
    "        bool: True if all apps were deleted successfully, False otherwise.\n",
    "    \"\"\"\n",
    "    print(f\"removing apps {app_ids_to_remove}\")\n",
    "    return True\n",
    "   \n",
    "    \n"
   ]
  },
  {
   "cell_type": "code",
   "execution_count": 22,
   "id": "97b1bed3",
   "metadata": {},
   "outputs": [],
   "source": [
    "# %%capture ouput\n",
    "# result = await destructive_operations_agent.run(\"can you delete apps with ids [UUID('00592a68-2700-4b69-abb4-340f631fa295'), UUID('e907cca5-e928-441f-8dc6-1343d27e3a44')]\")\n",
    "# print(result.data)"
   ]
  },
  {
   "cell_type": "code",
   "execution_count": 23,
   "id": "c4e1530e-b3ff-4008-9868-6c347deb44f0",
   "metadata": {},
   "outputs": [
    {
     "name": "stdout",
     "output_type": "stream",
     "text": [
      "I apologize, but no image apps were found to delete on the current SAGE3 wall. No further action will be taken.\n"
     ]
    }
   ],
   "source": [
    "result = await destructive_operations_agent.run(\"delete all images\")\n",
    "print(result.data)"
   ]
  },
  {
   "cell_type": "code",
   "execution_count": 24,
   "id": "29af5388",
   "metadata": {},
   "outputs": [
    {
     "name": "stdout",
     "output_type": "stream",
     "text": [
      "I apologize, but no purple sticky notes were found on the wall to delete.\n"
     ]
    }
   ],
   "source": [
    "result = await destructive_operations_agent.run(\"delete all purple stickies\")\n",
    "print(result.data)"
   ]
  },
  {
   "cell_type": "code",
   "execution_count": 25,
   "id": "d55018aa",
   "metadata": {},
   "outputs": [
    {
     "name": "stdout",
     "output_type": "stream",
     "text": [
      "I found 3 yellow sticky notes with the following contents:\n",
      "1. \"Dinner: Baked salmon with roasted vegetables\"\n",
      "2. \"Lunch: Grilled chicken salad with mixed greens\"\n",
      "3. \"Breakfast: Overnight oats with berries and honey\"\n",
      "\n",
      "Would you like me to proceed with deleting these yellow sticky notes?\n"
     ]
    }
   ],
   "source": [
    "result = await destructive_operations_agent.run(\"delete all yellow stickies\")\n",
    "print(result.data)"
   ]
  },
  {
   "cell_type": "code",
   "execution_count": 26,
   "id": "736c709d-5d5f-4e15-94df-ce42a0e091c8",
   "metadata": {},
   "outputs": [
    {
     "data": {
      "text/plain": [
       "'Understood. No yellow sticky notes will be deleted. The apps will remain on the SAGE3 wall as they were.'"
      ]
     },
     "execution_count": 26,
     "metadata": {},
     "output_type": "execute_result"
    }
   ],
   "source": [
    "# %%capture output\n",
    "result_2 = await destructive_operations_agent.run(\"Nope.\", message_history=result.new_messages())\n",
    "result_2.data"
   ]
  },
  {
   "cell_type": "code",
   "execution_count": 27,
   "id": "bd907360",
   "metadata": {},
   "outputs": [
    {
     "data": {
      "text/plain": [
       "'The sticky note with the text \"Breakfast: Overnight oats with berries and honey\" has been deleted. The other two yellow sticky notes remain unchanged.'"
      ]
     },
     "execution_count": 27,
     "metadata": {},
     "output_type": "execute_result"
    }
   ],
   "source": [
    "# %%capture output\n",
    "result_2 = await destructive_operations_agent.run(\"No for the first 2 and yes for the last one.\", message_history=result.new_messages())\n",
    "result_2.data"
   ]
  },
  {
   "cell_type": "code",
   "execution_count": 40,
   "id": "2b69f3ef",
   "metadata": {},
   "outputs": [
    {
     "data": {
      "text/plain": [
       "'The red Sticky has been successfully deleted from the SAGE3 wall.'"
      ]
     },
     "execution_count": 40,
     "metadata": {},
     "output_type": "execute_result"
    }
   ],
   "source": [
    "# %%capture output\n",
    "result_2 = await destructive_operations_agent.run(\"Yee\", message_history=result.new_messages())\n",
    "result_2.data"
   ]
  },
  {
   "cell_type": "code",
   "execution_count": 41,
   "id": "e1c9b828-7eda-46f3-b713-6c8a6bb98e24",
   "metadata": {},
   "outputs": [],
   "source": [
    "# output.stdout"
   ]
  },
  {
   "cell_type": "code",
   "execution_count": 93,
   "id": "be3df7f4",
   "metadata": {},
   "outputs": [],
   "source": []
  }
 ],
 "metadata": {
  "kernelspec": {
   "display_name": "sage",
   "language": "python",
   "name": "python3"
  },
  "language_info": {
   "codemirror_mode": {
    "name": "ipython",
    "version": 3
   },
   "file_extension": ".py",
   "mimetype": "text/x-python",
   "name": "python",
   "nbconvert_exporter": "python",
   "pygments_lexer": "ipython3",
   "version": "3.10.16"
  }
 },
 "nbformat": 4,
 "nbformat_minor": 5
}
